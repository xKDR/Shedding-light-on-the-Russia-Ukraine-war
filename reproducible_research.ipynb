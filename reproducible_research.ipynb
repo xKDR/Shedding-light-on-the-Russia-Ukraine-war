{
  "nbformat": 4,
  "nbformat_minor": 0,
  "metadata": {
    "colab": {
      "provenance": [],
      "authorship_tag": "ABX9TyOnENcmt29qvMSlebudWPZj",
      "include_colab_link": true
    },
    "kernelspec": {
      "name": "julia",
      "display_name": "Julia"
    },
    "language_info": {
      "name": "julia"
    }
  },
  "cells": [
    {
      "cell_type": "markdown",
      "metadata": {
        "id": "view-in-github",
        "colab_type": "text"
      },
      "source": [
        "<a href=\"https://colab.research.google.com/github/xKDR/Shedding-light-on-the-Russia-Ukraine-war/blob/main/reproducible_research.ipynb\" target=\"_parent\"><img src=\"https://colab.research.google.com/assets/colab-badge.svg\" alt=\"Open In Colab\"/></a>"
      ]
    },
    {
      "cell_type": "markdown",
      "source": [
        "# WORK IN PROGRESS"
      ],
      "metadata": {
        "id": "tZb_-dtt1bgN"
      }
    },
    {
      "cell_type": "code",
      "source": [
        "using Pkg\n",
        "Pkg.add([\"GeoJSON\", \"NighttimeLights\", \"Rasters\", \"CSV\", \"Dates\", \"DataFrames\"])"
      ],
      "metadata": {
        "colab": {
          "base_uri": "https://localhost:8080/"
        },
        "id": "RKt6qxnCnyrM",
        "outputId": "34ecc9ff-bf21-46f3-b145-e33345259da4"
      },
      "execution_count": 20,
      "outputs": [
        {
          "output_type": "stream",
          "name": "stderr",
          "text": [
            "\u001b[32m\u001b[1m   Resolving\u001b[22m\u001b[39m package versions...\n",
            "\u001b[32m\u001b[1m  No Changes\u001b[22m\u001b[39m to `~/.julia/environments/v1.11/Project.toml`\n",
            "\u001b[32m\u001b[1m  No Changes\u001b[22m\u001b[39m to `~/.julia/environments/v1.11/Manifest.toml`\n",
            "\u001b[92m\u001b[1mPrecompiling\u001b[22m\u001b[39m project...\n",
            "  17718.1 ms\u001b[33m  ? \u001b[39mNighttimeLights\n",
            "  18654.4 ms\u001b[33m  ? \u001b[39mRasters → RastersMakieExt\n"
          ]
        }
      ]
    },
    {
      "cell_type": "code",
      "source": [
        ";git clone https://github.com/xKDR/Shedding-light-on-the-Russia-Ukraine-war.git"
      ],
      "metadata": {
        "colab": {
          "base_uri": "https://localhost:8080/"
        },
        "id": "6YZptoMMoZ4i",
        "outputId": "11b9a9fe-fefc-44d7-b98d-677ef6847013"
      },
      "execution_count": 66,
      "outputs": [
        {
          "output_type": "stream",
          "name": "stderr",
          "text": [
            "Cloning into 'Shedding-light-on-the-Russia-Ukraine-war'...\n",
            "Updating files: 100% (272/272), done.\n"
          ]
        }
      ]
    },
    {
      "cell_type": "code",
      "source": [
        "## Fetching the raster files\n",
        "## This will take around 5 mins\n",
        "\n",
        "run(`apt-get install git-lfs -y`)\n",
        "run(`git lfs install`)\n",
        "cd(\"Shedding-light-on-the-Russia-Ukraine-war\")\n",
        "run(`git lfs pull`)"
      ],
      "metadata": {
        "colab": {
          "base_uri": "https://localhost:8080/",
          "height": 275
        },
        "id": "w5Qth_eTaA5h",
        "outputId": "a14834b9-75c3-45ca-fd3e-c2f5a892a349"
      },
      "execution_count": 69,
      "outputs": [
        {
          "output_type": "stream",
          "name": "stdout",
          "text": [
            "Reading package lists..."
          ]
        },
        {
          "output_type": "error",
          "ename": "LoadError",
          "evalue": "failed process: Process(`\u001b[4mapt-get\u001b[24m \u001b[4minstall\u001b[24m \u001b[4mgit-lfs\u001b[24m \u001b[4m-y\u001b[24m`, ProcessSignaled(2)) [0]\n",
          "traceback": [
            "failed process: Process(`\u001b[4mapt-get\u001b[24m \u001b[4minstall\u001b[24m \u001b[4mgit-lfs\u001b[24m \u001b[4m-y\u001b[24m`, ProcessSignaled(2)) [0]\n",
            "",
            "Stacktrace:",
            " [1] \u001b[0m\u001b[1mpipeline_error\u001b[22m",
            "\u001b[90m   @\u001b[39m \u001b[90m./\u001b[39m\u001b[90m\u001b[4mprocess.jl:598\u001b[24m\u001b[39m\u001b[90m [inlined]\u001b[39m",
            " [2] \u001b[0m\u001b[1mrun\u001b[22m\u001b[0m\u001b[1m(\u001b[22m::\u001b[0mCmd; \u001b[90mwait\u001b[39m::\u001b[0mBool\u001b[0m\u001b[1m)\u001b[22m",
            "\u001b[90m   @\u001b[39m \u001b[90mBase\u001b[39m \u001b[90m./\u001b[39m\u001b[90m\u001b[4mprocess.jl:513\u001b[24m\u001b[39m",
            " [3] \u001b[0m\u001b[1mrun\u001b[22m\u001b[0m\u001b[1m(\u001b[22m::\u001b[0mCmd\u001b[0m\u001b[1m)\u001b[22m",
            "\u001b[90m   @\u001b[39m \u001b[90mBase\u001b[39m \u001b[90m./\u001b[39m\u001b[90m\u001b[4mprocess.jl:510\u001b[24m\u001b[39m",
            " [4] top-level scope",
            "\u001b[90m   @\u001b[39m \u001b[90m\u001b[4mIn[69]:4\u001b[24m\u001b[39m"
          ]
        }
      ]
    },
    {
      "cell_type": "code",
      "source": [
        "using GeoJSON\n",
        "using GeoDataFrames\n",
        "using DataFrames\n",
        "using NighttimeLights\n",
        "using Rasters\n",
        "using CSV\n",
        "using Dates"
      ],
      "metadata": {
        "id": "7xAps6hLTXE4"
      },
      "execution_count": 21,
      "outputs": []
    },
    {
      "cell_type": "code",
      "execution_count": 174,
      "metadata": {
        "id": "Om9EPhk7TF3a",
        "colab": {
          "base_uri": "https://localhost:8080/"
        },
        "outputId": "92b6177d-a50a-4ce2-c63e-d8c544769563"
      },
      "outputs": [
        {
          "output_type": "execute_result",
          "data": {
            "text/plain": [
              "\"/content/Shedding-light-on-the-Russia-Ukraine-war/data/raster/cf_cropped\""
            ]
          },
          "metadata": {},
          "execution_count": 174
        }
      ],
      "source": [
        "# Define path constants\n",
        "const FIGURES_DIRECTORY = \"figures\"\n",
        "const TABLES_DIRECTORY = \"tables\"\n",
        "const VECTOR_DIRECTORY = \"data/vector\"\n",
        "const TABULAR_DIRECTORY = \"data/tabular\"\n",
        "const RADIANCE_RASTER_DIRECTORY = \"/content/Shedding-light-on-the-Russia-Ukraine-war/data/raster/rad_cropped\"\n",
        "const CFOBS_RASTER_DIRECTORY = \"/content/Shedding-light-on-the-Russia-Ukraine-war/data/raster/cf_cropped\""
      ]
    },
    {
      "cell_type": "code",
      "source": [
        "const START_DATE = Date(2014, 1)\n",
        "const END_DATE = Date(2016, 1)"
      ],
      "metadata": {
        "colab": {
          "base_uri": "https://localhost:8080/"
        },
        "id": "VbY_ee1ip6Ev",
        "outputId": "320be225-003c-4a34-b46b-49c8def6dc77"
      },
      "execution_count": 100,
      "outputs": [
        {
          "output_type": "stream",
          "name": "stderr",
          "text": [
            "WARNING: redefinition of constant Main.END_DATE. This may fail, cause incorrect answers, or produce other errors.\n"
          ]
        },
        {
          "output_type": "execute_result",
          "data": {
            "text/plain": [
              "2016-01-01"
            ]
          },
          "metadata": {},
          "execution_count": 100
        }
      ]
    },
    {
      "cell_type": "code",
      "source": [
        "function read_vector(filename)\n",
        "# Use GeoJSON.read, which expects an IO\n",
        "    geo = open(filename) do f\n",
        "        GeoJSON.read(f)\n",
        "    end\n",
        "\n",
        "    # Now extract features\n",
        "    features = geo.features\n",
        "\n",
        "    # Build DataFrame with properties + geometry\n",
        "    return DataFrame([merge(Dict(f.properties), Dict(:geometry => f.geometry)) for f in features])\n",
        "end"
      ],
      "metadata": {
        "colab": {
          "base_uri": "https://localhost:8080/"
        },
        "id": "_PpsdO1cRZNS",
        "outputId": "e564cce1-f0b9-43ca-bfad-55b030a8030c"
      },
      "execution_count": 24,
      "outputs": [
        {
          "output_type": "execute_result",
          "data": {
            "text/plain": [
              "read_vector (generic function with 1 method)"
            ]
          },
          "metadata": {},
          "execution_count": 24
        }
      ]
    },
    {
      "cell_type": "code",
      "source": [
        "russia_state_split = read_vector(\"/content/Shedding-light-on-the-Russia-Ukraine-war/data/vector/russia_processing.geojson\")"
      ],
      "metadata": {
        "colab": {
          "base_uri": "https://localhost:8080/",
          "height": 1000
        },
        "collapsed": true,
        "id": "tyM2nBdeS3iZ",
        "outputId": "0d6b6e01-5f15-446e-f365-822b5cedd547"
      },
      "execution_count": 25,
      "outputs": [
        {
          "output_type": "execute_result",
          "data": {
            "text/plain": [
              "\u001b[1m101×14 DataFrame\n",
              "\u001b[1m Row │\u001b[1m geometry        \u001b[1m NAME_1        \u001b[1m NL_NAME_1             \u001b[1m GID_0  \u001b[1m VARNAME_ ⋯\n",
              "     │\u001b[90m Abstract…       \u001b[90m String        \u001b[90m String                \u001b[90m String \u001b[90m String   ⋯\n",
              "─────┼──────────────────────────────────────────────────────────────────────────\n",
              "   1 │ 2D Polygon       Chukot1        Чукотский АОк          RUS     Chukotka ⋯\n",
              "   2 │ 2D Polygon       Chukot2_cross  Чукотский АОк          RUS     Chukotka\n",
              "   3 │ 2D Polygon       Chukot3        Чукотский АОк          RUS     Chukotka\n",
              "   4 │ 2D Polygon       Chukot4        Чукотский АОк          RUS     Chukotka\n",
              "   5 │ 2D Polygon       Chukot5_cross  Чукотский АОк          RUS     Chukotka ⋯\n",
              "   6 │ 2D Polygon       Krasnoyarsk1   Красноярский край      RUS     Krasnoya\n",
              "   7 │ 2D Polygon       Krasnoyarsk2   Красноярский край      RUS     Krasnoya\n",
              "   8 │ 2D MultiPolygon  Krasnoyarsk3   Красноярский край      RUS     Krasnoya\n",
              "   9 │ 2D Polygon       Krasnoyarsk4   Красноярский край      RUS     Krasnoya ⋯\n",
              "  10 │ 2D Polygon       Krasnoyarsk5   Красноярский край      RUS     Krasnoya\n",
              "  11 │ 2D Polygon       Krasnoyarsk6   Красноярский край      RUS     Krasnoya\n",
              "  ⋮  │        ⋮               ⋮                  ⋮              ⋮              ⋱\n",
              "  92 │ 2D Polygon       Udmurt         Удмуртская Республика  RUS     Udmurtiy\n",
              "  93 │ 2D Polygon       Ul'yanovsk     Ульяновская область    RUS     Simbirsk ⋯\n",
              "  94 │ 2D Polygon       Vladimir       Владимирская область   RUS     Vladimir\n",
              "  95 │ 2D Polygon       Volgograd      Волгоградская область  RUS     Stalingr\n",
              "  96 │ 2D Polygon       Vologda        Вологодская область    RUS     Vologods\n",
              "  97 │ 2D Polygon       Voronezh       Воронежская область    RUS     Voronezh ⋯\n",
              "  98 │ 2D MultiPolygon  Yamal-Nenets   Ямало-Ненецкий АОк     RUS     Yamalo-N\n",
              "  99 │ 2D Polygon       Yaroslavl'     Ярославская область    RUS     Yaroslav\n",
              " 100 │ 2D Polygon       Yevrey         Eврейская АОб          RUS     Den jødi\n",
              " 101 │ 2D MultiPolygon  Zabaykal'ye    Забайкальский край     RUS     Zabaykal ⋯\n",
              "\u001b[36m                                                  10 columns and 80 rows omitted"
            ],
            "text/html": [
              "<div><div style = \"float: left;\"><span>101×14 DataFrame</span></div><div style = \"float: right;\"><span style = \"font-style: italic;\">76 rows omitted</span></div><div style = \"clear: both;\"></div></div><div class = \"data-frame\" style = \"overflow-x: scroll;\"><table class = \"data-frame\" style = \"margin-bottom: 6px;\"><thead><tr class = \"header\"><th class = \"rowNumber\" style = \"font-weight: bold; text-align: right;\">Row</th><th style = \"text-align: left;\">geometry</th><th style = \"text-align: left;\">NAME_1</th><th style = \"text-align: left;\">NL_NAME_1</th><th style = \"text-align: left;\">GID_0</th><th style = \"text-align: left;\">VARNAME_1</th><th style = \"text-align: left;\">HASC_1</th><th style = \"text-align: left;\">ISO_1</th><th style = \"text-align: left;\">path</th><th style = \"text-align: left;\">TYPE_1</th><th style = \"text-align: left;\">GID_1</th><th style = \"text-align: left;\">COUNTRY</th><th style = \"text-align: left;\">CC_1</th><th style = \"text-align: left;\">ENGTYPE_1</th><th style = \"text-align: left;\">layer</th></tr><tr class = \"subheader headerLastRow\"><th class = \"rowNumber\" style = \"font-weight: bold; text-align: right;\"></th><th title = \"GeoJSON.AbstractGeometry{2, Float32}\" style = \"text-align: left;\">Abstract…</th><th title = \"String\" style = \"text-align: left;\">String</th><th title = \"String\" style = \"text-align: left;\">String</th><th title = \"String\" style = \"text-align: left;\">String</th><th title = \"String\" style = \"text-align: left;\">String</th><th title = \"String\" style = \"text-align: left;\">String</th><th title = \"String\" style = \"text-align: left;\">String</th><th title = \"String\" style = \"text-align: left;\">String</th><th title = \"String\" style = \"text-align: left;\">String</th><th title = \"String\" style = \"text-align: left;\">String</th><th title = \"String\" style = \"text-align: left;\">String</th><th title = \"String\" style = \"text-align: left;\">String</th><th title = \"String\" style = \"text-align: left;\">String</th><th title = \"String\" style = \"text-align: left;\">String</th></tr></thead><tbody><tr><td class = \"rowNumber\" style = \"font-weight: bold; text-align: right;\">1</td><td style = \"text-align: left;\">2D Polygon</td><td style = \"text-align: left;\">Chukot1</td><td style = \"text-align: left;\">Чукотский АОк</td><td style = \"text-align: left;\">RUS</td><td style = \"text-align: left;\">Chukotka|Chukotskiy Aok</td><td style = \"text-align: left;\">RU.CK</td><td style = \"text-align: left;\">NA</td><td style = \"text-align: left;\">Polygon?crs=EPSG:4326&amp;field=GID_1:string(10,0)&amp;field=GID_0:string(10,0)&amp;field=COUNTRY:string(10,0)&amp;field=NAME_1:string(22,0)&amp;field=VARNAME_1:string(34,0)&amp;field=NL_NAME_1:string(61,0)&amp;field=TYPE_1:string(18,0)&amp;field=ENGTYPE_1:string(19,0)&amp;field=CC_1:strin</td><td style = \"text-align: left;\">Avtonomnyy Okrug</td><td style = \"text-align: left;\">RUS.12_1</td><td style = \"text-align: left;\">Russia</td><td style = \"text-align: left;\">7001</td><td style = \"text-align: left;\">Autonomous Province</td><td style = \"text-align: left;\">Single parts</td></tr><tr><td class = \"rowNumber\" style = \"font-weight: bold; text-align: right;\">2</td><td style = \"text-align: left;\">2D Polygon</td><td style = \"text-align: left;\">Chukot2_cross</td><td style = \"text-align: left;\">Чукотский АОк</td><td style = \"text-align: left;\">RUS</td><td style = \"text-align: left;\">Chukotka|Chukotskiy Aok</td><td style = \"text-align: left;\">RU.CK</td><td style = \"text-align: left;\">NA</td><td style = \"text-align: left;\">Polygon?crs=EPSG:4326&amp;field=GID_1:string(10,0)&amp;field=GID_0:string(10,0)&amp;field=COUNTRY:string(10,0)&amp;field=NAME_1:string(22,0)&amp;field=VARNAME_1:string(34,0)&amp;field=NL_NAME_1:string(61,0)&amp;field=TYPE_1:string(18,0)&amp;field=ENGTYPE_1:string(19,0)&amp;field=CC_1:strin</td><td style = \"text-align: left;\">Avtonomnyy Okrug</td><td style = \"text-align: left;\">RUS.12_1</td><td style = \"text-align: left;\">Russia</td><td style = \"text-align: left;\">7001</td><td style = \"text-align: left;\">Autonomous Province</td><td style = \"text-align: left;\">Single parts</td></tr><tr><td class = \"rowNumber\" style = \"font-weight: bold; text-align: right;\">3</td><td style = \"text-align: left;\">2D Polygon</td><td style = \"text-align: left;\">Chukot3</td><td style = \"text-align: left;\">Чукотский АОк</td><td style = \"text-align: left;\">RUS</td><td style = \"text-align: left;\">Chukotka|Chukotskiy Aok</td><td style = \"text-align: left;\">RU.CK</td><td style = \"text-align: left;\">NA</td><td style = \"text-align: left;\">Polygon?crs=EPSG:4326&amp;field=GID_1:string(10,0)&amp;field=GID_0:string(10,0)&amp;field=COUNTRY:string(10,0)&amp;field=NAME_1:string(22,0)&amp;field=VARNAME_1:string(34,0)&amp;field=NL_NAME_1:string(61,0)&amp;field=TYPE_1:string(18,0)&amp;field=ENGTYPE_1:string(19,0)&amp;field=CC_1:strin</td><td style = \"text-align: left;\">Avtonomnyy Okrug</td><td style = \"text-align: left;\">RUS.12_1</td><td style = \"text-align: left;\">Russia</td><td style = \"text-align: left;\">7001</td><td style = \"text-align: left;\">Autonomous Province</td><td style = \"text-align: left;\">Single parts</td></tr><tr><td class = \"rowNumber\" style = \"font-weight: bold; text-align: right;\">4</td><td style = \"text-align: left;\">2D Polygon</td><td style = \"text-align: left;\">Chukot4</td><td style = \"text-align: left;\">Чукотский АОк</td><td style = \"text-align: left;\">RUS</td><td style = \"text-align: left;\">Chukotka|Chukotskiy Aok</td><td style = \"text-align: left;\">RU.CK</td><td style = \"text-align: left;\">NA</td><td style = \"text-align: left;\">Polygon?crs=EPSG:4326&amp;field=GID_1:string(10,0)&amp;field=GID_0:string(10,0)&amp;field=COUNTRY:string(10,0)&amp;field=NAME_1:string(22,0)&amp;field=VARNAME_1:string(34,0)&amp;field=NL_NAME_1:string(61,0)&amp;field=TYPE_1:string(18,0)&amp;field=ENGTYPE_1:string(19,0)&amp;field=CC_1:strin</td><td style = \"text-align: left;\">Avtonomnyy Okrug</td><td style = \"text-align: left;\">RUS.12_1</td><td style = \"text-align: left;\">Russia</td><td style = \"text-align: left;\">7001</td><td style = \"text-align: left;\">Autonomous Province</td><td style = \"text-align: left;\">Single parts</td></tr><tr><td class = \"rowNumber\" style = \"font-weight: bold; text-align: right;\">5</td><td style = \"text-align: left;\">2D Polygon</td><td style = \"text-align: left;\">Chukot5_cross</td><td style = \"text-align: left;\">Чукотский АОк</td><td style = \"text-align: left;\">RUS</td><td style = \"text-align: left;\">Chukotka|Chukotskiy Aok</td><td style = \"text-align: left;\">RU.CK</td><td style = \"text-align: left;\">NA</td><td style = \"text-align: left;\">Polygon?crs=EPSG:4326&amp;field=GID_1:string(10,0)&amp;field=GID_0:string(10,0)&amp;field=COUNTRY:string(10,0)&amp;field=NAME_1:string(22,0)&amp;field=VARNAME_1:string(34,0)&amp;field=NL_NAME_1:string(61,0)&amp;field=TYPE_1:string(18,0)&amp;field=ENGTYPE_1:string(19,0)&amp;field=CC_1:strin</td><td style = \"text-align: left;\">Avtonomnyy Okrug</td><td style = \"text-align: left;\">RUS.12_1</td><td style = \"text-align: left;\">Russia</td><td style = \"text-align: left;\">7001</td><td style = \"text-align: left;\">Autonomous Province</td><td style = \"text-align: left;\">Single parts</td></tr><tr><td class = \"rowNumber\" style = \"font-weight: bold; text-align: right;\">6</td><td style = \"text-align: left;\">2D Polygon</td><td style = \"text-align: left;\">Krasnoyarsk1</td><td style = \"text-align: left;\">Красноярский край</td><td style = \"text-align: left;\">RUS</td><td style = \"text-align: left;\">Krasnoyarskiy Kray|Yeniseisk|Yen</td><td style = \"text-align: left;\">RU.KX</td><td style = \"text-align: left;\">NA</td><td style = \"text-align: left;\">/Users/ayushpatnaik/REPOSITORIES/nightlights/DATA/MAPS/RUSSIA_BOUNDARY/split_states.shp</td><td style = \"text-align: left;\">Kray</td><td style = \"text-align: left;\">RUS.35_1</td><td style = \"text-align: left;\">Russia</td><td style = \"text-align: left;\">6209</td><td style = \"text-align: left;\">Territory</td><td style = \"text-align: left;\">split_states</td></tr><tr><td class = \"rowNumber\" style = \"font-weight: bold; text-align: right;\">7</td><td style = \"text-align: left;\">2D Polygon</td><td style = \"text-align: left;\">Krasnoyarsk2</td><td style = \"text-align: left;\">Красноярский край</td><td style = \"text-align: left;\">RUS</td><td style = \"text-align: left;\">Krasnoyarskiy Kray|Yeniseisk|Yen</td><td style = \"text-align: left;\">RU.KX</td><td style = \"text-align: left;\">NA</td><td style = \"text-align: left;\">/Users/ayushpatnaik/REPOSITORIES/nightlights/DATA/MAPS/RUSSIA_BOUNDARY/split_states.shp</td><td style = \"text-align: left;\">Kray</td><td style = \"text-align: left;\">RUS.35_1</td><td style = \"text-align: left;\">Russia</td><td style = \"text-align: left;\">6209</td><td style = \"text-align: left;\">Territory</td><td style = \"text-align: left;\">split_states</td></tr><tr><td class = \"rowNumber\" style = \"font-weight: bold; text-align: right;\">8</td><td style = \"text-align: left;\">2D MultiPolygon</td><td style = \"text-align: left;\">Krasnoyarsk3</td><td style = \"text-align: left;\">Красноярский край</td><td style = \"text-align: left;\">RUS</td><td style = \"text-align: left;\">Krasnoyarskiy Kray|Yeniseisk|Yen</td><td style = \"text-align: left;\">RU.KX</td><td style = \"text-align: left;\">NA</td><td style = \"text-align: left;\">/Users/ayushpatnaik/REPOSITORIES/nightlights/DATA/MAPS/RUSSIA_BOUNDARY/split_states.shp</td><td style = \"text-align: left;\">Kray</td><td style = \"text-align: left;\">RUS.35_1</td><td style = \"text-align: left;\">Russia</td><td style = \"text-align: left;\">6209</td><td style = \"text-align: left;\">Territory</td><td style = \"text-align: left;\">split_states</td></tr><tr><td class = \"rowNumber\" style = \"font-weight: bold; text-align: right;\">9</td><td style = \"text-align: left;\">2D Polygon</td><td style = \"text-align: left;\">Krasnoyarsk4</td><td style = \"text-align: left;\">Красноярский край</td><td style = \"text-align: left;\">RUS</td><td style = \"text-align: left;\">Krasnoyarskiy Kray|Yeniseisk|Yen</td><td style = \"text-align: left;\">RU.KX</td><td style = \"text-align: left;\">NA</td><td style = \"text-align: left;\">/Users/ayushpatnaik/REPOSITORIES/nightlights/DATA/MAPS/RUSSIA_BOUNDARY/split_states.shp</td><td style = \"text-align: left;\">Kray</td><td style = \"text-align: left;\">RUS.35_1</td><td style = \"text-align: left;\">Russia</td><td style = \"text-align: left;\">6209</td><td style = \"text-align: left;\">Territory</td><td style = \"text-align: left;\">split_states</td></tr><tr><td class = \"rowNumber\" style = \"font-weight: bold; text-align: right;\">10</td><td style = \"text-align: left;\">2D Polygon</td><td style = \"text-align: left;\">Krasnoyarsk5</td><td style = \"text-align: left;\">Красноярский край</td><td style = \"text-align: left;\">RUS</td><td style = \"text-align: left;\">Krasnoyarskiy Kray|Yeniseisk|Yen</td><td style = \"text-align: left;\">RU.KX</td><td style = \"text-align: left;\">NA</td><td style = \"text-align: left;\">/Users/ayushpatnaik/REPOSITORIES/nightlights/DATA/MAPS/RUSSIA_BOUNDARY/split_states.shp</td><td style = \"text-align: left;\">Kray</td><td style = \"text-align: left;\">RUS.35_1</td><td style = \"text-align: left;\">Russia</td><td style = \"text-align: left;\">6209</td><td style = \"text-align: left;\">Territory</td><td style = \"text-align: left;\">split_states</td></tr><tr><td class = \"rowNumber\" style = \"font-weight: bold; text-align: right;\">11</td><td style = \"text-align: left;\">2D Polygon</td><td style = \"text-align: left;\">Krasnoyarsk6</td><td style = \"text-align: left;\">Красноярский край</td><td style = \"text-align: left;\">RUS</td><td style = \"text-align: left;\">Krasnoyarskiy Kray|Yeniseisk|Yen</td><td style = \"text-align: left;\">RU.KX</td><td style = \"text-align: left;\">NA</td><td style = \"text-align: left;\">/Users/ayushpatnaik/REPOSITORIES/nightlights/DATA/MAPS/RUSSIA_BOUNDARY/split_states.shp</td><td style = \"text-align: left;\">Kray</td><td style = \"text-align: left;\">RUS.35_1</td><td style = \"text-align: left;\">Russia</td><td style = \"text-align: left;\">6209</td><td style = \"text-align: left;\">Territory</td><td style = \"text-align: left;\">split_states</td></tr><tr><td class = \"rowNumber\" style = \"font-weight: bold; text-align: right;\">12</td><td style = \"text-align: left;\">2D Polygon</td><td style = \"text-align: left;\">Krasnoyarsk7</td><td style = \"text-align: left;\">Красноярский край</td><td style = \"text-align: left;\">RUS</td><td style = \"text-align: left;\">Krasnoyarskiy Kray|Yeniseisk|Yen</td><td style = \"text-align: left;\">RU.KX</td><td style = \"text-align: left;\">NA</td><td style = \"text-align: left;\">/Users/ayushpatnaik/REPOSITORIES/nightlights/DATA/MAPS/RUSSIA_BOUNDARY/split_states.shp</td><td style = \"text-align: left;\">Kray</td><td style = \"text-align: left;\">RUS.35_1</td><td style = \"text-align: left;\">Russia</td><td style = \"text-align: left;\">6209</td><td style = \"text-align: left;\">Territory</td><td style = \"text-align: left;\">split_states</td></tr><tr><td class = \"rowNumber\" style = \"font-weight: bold; text-align: right;\">13</td><td style = \"text-align: left;\">2D Polygon</td><td style = \"text-align: left;\">Sakha1</td><td style = \"text-align: left;\">Республика Саха</td><td style = \"text-align: left;\">RUS</td><td style = \"text-align: left;\">Republic of Sakha|Yakutia-Sakha|</td><td style = \"text-align: left;\">RU.SK</td><td style = \"text-align: left;\">NA</td><td style = \"text-align: left;\">/Users/ayushpatnaik/REPOSITORIES/nightlights/DATA/MAPS/RUSSIA_BOUNDARY/split_states.shp</td><td style = \"text-align: left;\">Respublika</td><td style = \"text-align: left;\">RUS.60_1</td><td style = \"text-align: left;\">Russia</td><td style = \"text-align: left;\">NA</td><td style = \"text-align: left;\">Republic</td><td style = \"text-align: left;\">split_states</td></tr><tr><td style = \"text-align: right;\">&vellip;</td><td style = \"text-align: right;\">&vellip;</td><td style = \"text-align: right;\">&vellip;</td><td style = \"text-align: right;\">&vellip;</td><td style = \"text-align: right;\">&vellip;</td><td style = \"text-align: right;\">&vellip;</td><td style = \"text-align: right;\">&vellip;</td><td style = \"text-align: right;\">&vellip;</td><td style = \"text-align: right;\">&vellip;</td><td style = \"text-align: right;\">&vellip;</td><td style = \"text-align: right;\">&vellip;</td><td style = \"text-align: right;\">&vellip;</td><td style = \"text-align: right;\">&vellip;</td><td style = \"text-align: right;\">&vellip;</td><td style = \"text-align: right;\">&vellip;</td></tr><tr><td class = \"rowNumber\" style = \"font-weight: bold; text-align: right;\">90</td><td style = \"text-align: left;\">2D Polygon</td><td style = \"text-align: left;\">Tver&apos;</td><td style = \"text-align: left;\">Тверская область</td><td style = \"text-align: left;\">RUS</td><td style = \"text-align: left;\">Kalinin|Kalininskaya|Tverskaya O</td><td style = \"text-align: left;\">RU.TV</td><td style = \"text-align: left;\">NA</td><td style = \"text-align: left;\">/Users/ayushpatnaik/REPOSITORIES/nightlights/DATA/MAPS/RUSSIA_BOUNDARY/split_states.shp</td><td style = \"text-align: left;\">Oblast</td><td style = \"text-align: left;\">RUS.72_1</td><td style = \"text-align: left;\">Russia</td><td style = \"text-align: left;\">NA</td><td style = \"text-align: left;\">Region</td><td style = \"text-align: left;\">split_states</td></tr><tr><td class = \"rowNumber\" style = \"font-weight: bold; text-align: right;\">91</td><td style = \"text-align: left;\">2D Polygon</td><td style = \"text-align: left;\">Tyumen&apos;</td><td style = \"text-align: left;\">Тюменская область</td><td style = \"text-align: left;\">RUS</td><td style = \"text-align: left;\">Tobol&apos;sk|Tobol&apos;skaya G.|Tyumensk</td><td style = \"text-align: left;\">RU.TY</td><td style = \"text-align: left;\">NA</td><td style = \"text-align: left;\">/Users/ayushpatnaik/REPOSITORIES/nightlights/DATA/MAPS/RUSSIA_BOUNDARY/split_states.shp</td><td style = \"text-align: left;\">Oblast</td><td style = \"text-align: left;\">RUS.73_1</td><td style = \"text-align: left;\">Russia</td><td style = \"text-align: left;\">NA</td><td style = \"text-align: left;\">Region</td><td style = \"text-align: left;\">split_states</td></tr><tr><td class = \"rowNumber\" style = \"font-weight: bold; text-align: right;\">92</td><td style = \"text-align: left;\">2D Polygon</td><td style = \"text-align: left;\">Udmurt</td><td style = \"text-align: left;\">Удмуртская Республика</td><td style = \"text-align: left;\">RUS</td><td style = \"text-align: left;\">Udmurtiya|Udmurt Republic|Udmurt</td><td style = \"text-align: left;\">RU.UD</td><td style = \"text-align: left;\">NA</td><td style = \"text-align: left;\">/Users/ayushpatnaik/REPOSITORIES/nightlights/DATA/MAPS/RUSSIA_BOUNDARY/split_states.shp</td><td style = \"text-align: left;\">Respublika</td><td style = \"text-align: left;\">RUS.74_1</td><td style = \"text-align: left;\">Russia</td><td style = \"text-align: left;\">NA</td><td style = \"text-align: left;\">Republic</td><td style = \"text-align: left;\">split_states</td></tr><tr><td class = \"rowNumber\" style = \"font-weight: bold; text-align: right;\">93</td><td style = \"text-align: left;\">2D Polygon</td><td style = \"text-align: left;\">Ul&apos;yanovsk</td><td style = \"text-align: left;\">Ульяновская область</td><td style = \"text-align: left;\">RUS</td><td style = \"text-align: left;\">Simbirsk|Simbirskaya G.|Ul&apos;yanov</td><td style = \"text-align: left;\">RU.UL</td><td style = \"text-align: left;\">NA</td><td style = \"text-align: left;\">/Users/ayushpatnaik/REPOSITORIES/nightlights/DATA/MAPS/RUSSIA_BOUNDARY/split_states.shp</td><td style = \"text-align: left;\">Oblast</td><td style = \"text-align: left;\">RUS.75_1</td><td style = \"text-align: left;\">Russia</td><td style = \"text-align: left;\">NA</td><td style = \"text-align: left;\">Region</td><td style = \"text-align: left;\">split_states</td></tr><tr><td class = \"rowNumber\" style = \"font-weight: bold; text-align: right;\">94</td><td style = \"text-align: left;\">2D Polygon</td><td style = \"text-align: left;\">Vladimir</td><td style = \"text-align: left;\">Владимирская область</td><td style = \"text-align: left;\">RUS</td><td style = \"text-align: left;\">Vladimirskaya Oblast</td><td style = \"text-align: left;\">RU.VL</td><td style = \"text-align: left;\">NA</td><td style = \"text-align: left;\">/Users/ayushpatnaik/REPOSITORIES/nightlights/DATA/MAPS/RUSSIA_BOUNDARY/split_states.shp</td><td style = \"text-align: left;\">Oblast</td><td style = \"text-align: left;\">RUS.76_1</td><td style = \"text-align: left;\">Russia</td><td style = \"text-align: left;\">NA</td><td style = \"text-align: left;\">Region</td><td style = \"text-align: left;\">split_states</td></tr><tr><td class = \"rowNumber\" style = \"font-weight: bold; text-align: right;\">95</td><td style = \"text-align: left;\">2D Polygon</td><td style = \"text-align: left;\">Volgograd</td><td style = \"text-align: left;\">Волгоградская область</td><td style = \"text-align: left;\">RUS</td><td style = \"text-align: left;\">Stalingrad|Volgogradskaya Oblast</td><td style = \"text-align: left;\">RU.VG</td><td style = \"text-align: left;\">NA</td><td style = \"text-align: left;\">/Users/ayushpatnaik/REPOSITORIES/nightlights/DATA/MAPS/RUSSIA_BOUNDARY/split_states.shp</td><td style = \"text-align: left;\">Oblast</td><td style = \"text-align: left;\">RUS.77_1</td><td style = \"text-align: left;\">Russia</td><td style = \"text-align: left;\">NA</td><td style = \"text-align: left;\">Region</td><td style = \"text-align: left;\">split_states</td></tr><tr><td class = \"rowNumber\" style = \"font-weight: bold; text-align: right;\">96</td><td style = \"text-align: left;\">2D Polygon</td><td style = \"text-align: left;\">Vologda</td><td style = \"text-align: left;\">Вологодская область</td><td style = \"text-align: left;\">RUS</td><td style = \"text-align: left;\">Vologodskaya Oblast</td><td style = \"text-align: left;\">RU.VO</td><td style = \"text-align: left;\">NA</td><td style = \"text-align: left;\">/Users/ayushpatnaik/REPOSITORIES/nightlights/DATA/MAPS/RUSSIA_BOUNDARY/split_states.shp</td><td style = \"text-align: left;\">Oblast</td><td style = \"text-align: left;\">RUS.78_1</td><td style = \"text-align: left;\">Russia</td><td style = \"text-align: left;\">NA</td><td style = \"text-align: left;\">Region</td><td style = \"text-align: left;\">split_states</td></tr><tr><td class = \"rowNumber\" style = \"font-weight: bold; text-align: right;\">97</td><td style = \"text-align: left;\">2D Polygon</td><td style = \"text-align: left;\">Voronezh</td><td style = \"text-align: left;\">Воронежская область</td><td style = \"text-align: left;\">RUS</td><td style = \"text-align: left;\">Voronezhskaya Oblast</td><td style = \"text-align: left;\">RU.VR</td><td style = \"text-align: left;\">NA</td><td style = \"text-align: left;\">/Users/ayushpatnaik/REPOSITORIES/nightlights/DATA/MAPS/RUSSIA_BOUNDARY/split_states.shp</td><td style = \"text-align: left;\">Oblast</td><td style = \"text-align: left;\">RUS.79_1</td><td style = \"text-align: left;\">Russia</td><td style = \"text-align: left;\">NA</td><td style = \"text-align: left;\">Region</td><td style = \"text-align: left;\">split_states</td></tr><tr><td class = \"rowNumber\" style = \"font-weight: bold; text-align: right;\">98</td><td style = \"text-align: left;\">2D MultiPolygon</td><td style = \"text-align: left;\">Yamal-Nenets</td><td style = \"text-align: left;\">Ямало-Ненецкий АОк</td><td style = \"text-align: left;\">RUS</td><td style = \"text-align: left;\">Yamalo-Nenetskiy A. Okrug</td><td style = \"text-align: left;\">RU.YN</td><td style = \"text-align: left;\">NA</td><td style = \"text-align: left;\">/Users/ayushpatnaik/REPOSITORIES/nightlights/DATA/MAPS/RUSSIA_BOUNDARY/split_states.shp</td><td style = \"text-align: left;\">Avtonomnyy Okrug</td><td style = \"text-align: left;\">RUS.80_1</td><td style = \"text-align: left;\">Russia</td><td style = \"text-align: left;\">NA</td><td style = \"text-align: left;\">Autonomous Province</td><td style = \"text-align: left;\">split_states</td></tr><tr><td class = \"rowNumber\" style = \"font-weight: bold; text-align: right;\">99</td><td style = \"text-align: left;\">2D Polygon</td><td style = \"text-align: left;\">Yaroslavl&apos;</td><td style = \"text-align: left;\">Ярославская область</td><td style = \"text-align: left;\">RUS</td><td style = \"text-align: left;\">Yaroslavskaya</td><td style = \"text-align: left;\">RU.YS</td><td style = \"text-align: left;\">NA</td><td style = \"text-align: left;\">/Users/ayushpatnaik/REPOSITORIES/nightlights/DATA/MAPS/RUSSIA_BOUNDARY/split_states.shp</td><td style = \"text-align: left;\">Oblast</td><td style = \"text-align: left;\">RUS.81_1</td><td style = \"text-align: left;\">Russia</td><td style = \"text-align: left;\">NA</td><td style = \"text-align: left;\">Region</td><td style = \"text-align: left;\">split_states</td></tr><tr><td class = \"rowNumber\" style = \"font-weight: bold; text-align: right;\">100</td><td style = \"text-align: left;\">2D Polygon</td><td style = \"text-align: left;\">Yevrey</td><td style = \"text-align: left;\">Eврейская АОб</td><td style = \"text-align: left;\">RUS</td><td style = \"text-align: left;\">Den jødiske autonome oblasten|Ev</td><td style = \"text-align: left;\">RU.YV</td><td style = \"text-align: left;\">NA</td><td style = \"text-align: left;\">/Users/ayushpatnaik/REPOSITORIES/nightlights/DATA/MAPS/RUSSIA_BOUNDARY/split_states.shp</td><td style = \"text-align: left;\">Avtonomnaya Oblast</td><td style = \"text-align: left;\">RUS.82_1</td><td style = \"text-align: left;\">Russia</td><td style = \"text-align: left;\">6701</td><td style = \"text-align: left;\">Autonomous Region</td><td style = \"text-align: left;\">split_states</td></tr><tr><td class = \"rowNumber\" style = \"font-weight: bold; text-align: right;\">101</td><td style = \"text-align: left;\">2D MultiPolygon</td><td style = \"text-align: left;\">Zabaykal&apos;ye</td><td style = \"text-align: left;\">Забайкальский край</td><td style = \"text-align: left;\">RUS</td><td style = \"text-align: left;\">Zabaykalsky</td><td style = \"text-align: left;\">RU.ZB</td><td style = \"text-align: left;\">NA</td><td style = \"text-align: left;\">/Users/ayushpatnaik/REPOSITORIES/nightlights/DATA/MAPS/RUSSIA_BOUNDARY/split_states.shp</td><td style = \"text-align: left;\">Kray</td><td style = \"text-align: left;\">RUS.83_1</td><td style = \"text-align: left;\">Russia</td><td style = \"text-align: left;\">NA</td><td style = \"text-align: left;\">Territory</td><td style = \"text-align: left;\">split_states</td></tr></tbody></table></div>"
            ],
            "text/latex": "\\begin{tabular}{r|cccccc}\n\t& geometry & NAME\\_1 & NL\\_NAME\\_1 & GID\\_0 & VARNAME\\_1 & \\\\\n\t\\hline\n\t& Abstract… & String & String & String & String & \\\\\n\t\\hline\n\t1 & 2D Polygon & Chukot1 & Чукотский АОк & RUS & Chukotka|Chukotskiy Aok & $\\dots$ \\\\\n\t2 & 2D Polygon & Chukot2\\_cross & Чукотский АОк & RUS & Chukotka|Chukotskiy Aok & $\\dots$ \\\\\n\t3 & 2D Polygon & Chukot3 & Чукотский АОк & RUS & Chukotka|Chukotskiy Aok & $\\dots$ \\\\\n\t4 & 2D Polygon & Chukot4 & Чукотский АОк & RUS & Chukotka|Chukotskiy Aok & $\\dots$ \\\\\n\t5 & 2D Polygon & Chukot5\\_cross & Чукотский АОк & RUS & Chukotka|Chukotskiy Aok & $\\dots$ \\\\\n\t6 & 2D Polygon & Krasnoyarsk1 & Красноярский край & RUS & Krasnoyarskiy Kray|Yeniseisk|Yen & $\\dots$ \\\\\n\t7 & 2D Polygon & Krasnoyarsk2 & Красноярский край & RUS & Krasnoyarskiy Kray|Yeniseisk|Yen & $\\dots$ \\\\\n\t8 & 2D MultiPolygon & Krasnoyarsk3 & Красноярский край & RUS & Krasnoyarskiy Kray|Yeniseisk|Yen & $\\dots$ \\\\\n\t9 & 2D Polygon & Krasnoyarsk4 & Красноярский край & RUS & Krasnoyarskiy Kray|Yeniseisk|Yen & $\\dots$ \\\\\n\t10 & 2D Polygon & Krasnoyarsk5 & Красноярский край & RUS & Krasnoyarskiy Kray|Yeniseisk|Yen & $\\dots$ \\\\\n\t11 & 2D Polygon & Krasnoyarsk6 & Красноярский край & RUS & Krasnoyarskiy Kray|Yeniseisk|Yen & $\\dots$ \\\\\n\t12 & 2D Polygon & Krasnoyarsk7 & Красноярский край & RUS & Krasnoyarskiy Kray|Yeniseisk|Yen & $\\dots$ \\\\\n\t13 & 2D Polygon & Sakha1 & Республика Саха & RUS & Republic of Sakha|Yakutia-Sakha| & $\\dots$ \\\\\n\t14 & 2D MultiPolygon & Sakha2 & Республика Саха & RUS & Republic of Sakha|Yakutia-Sakha| & $\\dots$ \\\\\n\t15 & 2D Polygon & Sakha3 & Республика Саха & RUS & Republic of Sakha|Yakutia-Sakha| & $\\dots$ \\\\\n\t16 & 2D Polygon & Sakha4 & Республика Саха & RUS & Republic of Sakha|Yakutia-Sakha| & $\\dots$ \\\\\n\t17 & 2D Polygon & Sakha5 & Республика Саха & RUS & Republic of Sakha|Yakutia-Sakha| & $\\dots$ \\\\\n\t18 & 2D Polygon & Sakha6 & Республика Саха & RUS & Republic of Sakha|Yakutia-Sakha| & $\\dots$ \\\\\n\t19 & 2D Polygon & Sakha7 & Республика Саха & RUS & Republic of Sakha|Yakutia-Sakha| & $\\dots$ \\\\\n\t20 & 2D Polygon & Adygey & Республика Адыгея & RUS & Adygea|Adygeya|Adygheya|Republic & $\\dots$ \\\\\n\t21 & 2D Polygon & Altay & Алтайский край & RUS & Altayskiy Kray & $\\dots$ \\\\\n\t22 & 2D Polygon & Amur & Амурская область & RUS & Amurskaya Oblast & $\\dots$ \\\\\n\t23 & 2D MultiPolygon & Arkhangel'sk & Архангельская область & RUS & Arcangelo|Archangel|Archangelsk| & $\\dots$ \\\\\n\t24 & 2D Polygon & Astrakhan' & Астраханская область & RUS & Astrachan|Astrakhanskaya Oblast & $\\dots$ \\\\\n\t25 & 2D Polygon & Bashkortostan & Республика Башкортостан & RUS & Bashkir|Bashkiriya|Bashkirskaya & $\\dots$ \\\\\n\t26 & 2D Polygon & Belgorod & Белгородская область & RUS & Belgorodskaya Oblast & $\\dots$ \\\\\n\t27 & 2D Polygon & Bryansk & Брянская область & RUS & Bryanskaya Oblast & $\\dots$ \\\\\n\t28 & 2D Polygon & Buryat & Республика Бурятия & RUS & Buryatiya|Buryat-Mongol A.S.S.R. & $\\dots$ \\\\\n\t29 & 2D Polygon & Chechnya & Республика Чечено-Ингушская & RUS & Cecenia|Chechenia|Chechênia|Tche & $\\dots$ \\\\\n\t30 & 2D Polygon & Chelyabinsk & Челябинская область & RUS & Chelyabinskaya Oblast & $\\dots$ \\\\\n\t$\\dots$ & $\\dots$ & $\\dots$ & $\\dots$ & $\\dots$ & $\\dots$ &  \\\\\n\\end{tabular}\n"
          },
          "metadata": {},
          "execution_count": 25
        }
      ]
    },
    {
      "cell_type": "code",
      "source": [
        "function safe_centre_of_mass(slice::AbstractArray, state_name::String)\n",
        "    s = sum(skipmissing(slice))\n",
        "    if ismissing(s) || isnan(s) || s == 0.0f0\n",
        "        return [NaN, NaN]\n",
        "    end\n",
        "    try\n",
        "        return NighttimeLights.centre_of_mass(slice)\n",
        "    catch e\n",
        "        if isa(e, InexactError)\n",
        "            println(\"Warning: CoM calculation failed for '$state_name'. Returning [NaN, NaN].\")\n",
        "            return [NaN, NaN]\n",
        "        else\n",
        "            rethrow(e)\n",
        "        end\n",
        "    end\n",
        "end"
      ],
      "metadata": {
        "colab": {
          "base_uri": "https://localhost:8080/"
        },
        "id": "a06mEQU2TUrw",
        "outputId": "a5086059-80ea-4550-ae20-941a8348483e"
      },
      "execution_count": 26,
      "outputs": [
        {
          "output_type": "execute_result",
          "data": {
            "text/plain": [
              "safe_centre_of_mass (generic function with 1 method)"
            ]
          },
          "metadata": {},
          "execution_count": 26
        }
      ]
    },
    {
      "cell_type": "code",
      "source": [
        "import Base.Filesystem: basename\n",
        "\n",
        "\"\"\"\n",
        "Extracts Date from filename.\n",
        "Matches either `YYYY-MM-DD` or `YYYY-MM-DDTHH:MM:SS`.\n",
        "\"\"\"\n",
        "function file_to_date(f::AbstractString)\n",
        "    b = basename(f)\n",
        "    m = match(r\"\\d{4}-\\d{2}-\\d{2}(?:T\\d{2}:\\d{2}:\\d{2})?\", b)\n",
        "    m === nothing && error(\"Cannot parse date from filename: $f\")\n",
        "    s = m.match\n",
        "    if occursin('T', s)\n",
        "        return Date(DateTime(s, dateformat\"yyyy-mm-ddTHH:MM:SS\"))\n",
        "    else\n",
        "        return Date(s, dateformat\"yyyy-mm-dd\")\n",
        "    end\n",
        "end\n",
        "\n",
        "\n",
        "\"\"\"\n",
        "Reads rasters between `start_date` and `end_date`\n",
        "and returns cropped datacubes for radiance and cloud-free observations.\n",
        "\"\"\"\n",
        "function read_region_as_datacubes(region; start_date::Date, end_date::Date,\n",
        "    radiance_path=RADIANCE_RASTER_DIRECTORY, cf_path=CFOBS_RASTER_DIRECTORY)\n",
        "\n",
        "    # all .tif files\n",
        "    rad_all = sort(joinpath.(radiance_path, filter(f -> endswith(f, \".tif\"), readdir(radiance_path))))\n",
        "    cf_all  = sort(joinpath.(cf_path, filter(f -> endswith(f, \".tif\"), readdir(cf_path))))\n",
        "\n",
        "\n",
        "    # restrict to date window\n",
        "    rad_inwin = filter(f -> (d = file_to_date(f); start_date <= d <= end_date), rad_all)\n",
        "    cf_inwin  = filter(f -> (d = file_to_date(f); start_date <= d <= end_date), cf_all)\n",
        "\n",
        "    # sort by extracted date\n",
        "    rad_inwin = rad_inwin[sortperm(file_to_date.(rad_inwin))]\n",
        "    cf_inwin  = cf_inwin[sortperm(file_to_date.(cf_inwin))]\n",
        "\n",
        "    # build raster lists\n",
        "# build raster lists, now fully in memory\n",
        "    rad_rasters = [Rasters.read(crop(Raster(f; lazy=true), to=region)) for f in rad_inwin]\n",
        "    cf_rasters  = [Rasters.read(crop(Raster(f; lazy=true), to=region)) for f in cf_inwin]\n",
        "\n",
        "\n",
        "    # raster series with actual dates\n",
        "    rad_series = RasterSeries(rad_rasters, Ti(file_to_date.(rad_inwin)))\n",
        "    cf_series  = RasterSeries(cf_rasters,  Ti(file_to_date.(cf_inwin)))\n",
        "\n",
        "    # convert to datacubes\n",
        "    rad_datacube = Rasters.combine(rad_series, Ti)\n",
        "    cf_datacube  = Rasters.combine(cf_series, Ti)\n",
        "    return rad_datacube, cf_datacube\n",
        "end\n"
      ],
      "metadata": {
        "colab": {
          "base_uri": "https://localhost:8080/"
        },
        "id": "IBYwssdDVXET",
        "outputId": "5e7e962c-40a3-4321-9986-f06890a92140"
      },
      "execution_count": 172,
      "outputs": [
        {
          "output_type": "execute_result",
          "data": {
            "text/plain": [
              "read_region_as_datacubes"
            ]
          },
          "metadata": {},
          "execution_count": 172
        }
      ]
    },
    {
      "cell_type": "code",
      "source": [
        "radiance, cfobs = read_region_as_datacubes(\n",
        "    russia_state_split.geometry[1];\n",
        "    start_date=START_DATE,\n",
        "    end_date=END_DATE,\n",
        "    radiance_path=RADIANCE_RASTER_DIRECTORY,\n",
        "    cf_path=CFOBS_RASTER_DIRECTORY\n",
        ")"
      ],
      "metadata": {
        "colab": {
          "base_uri": "https://localhost:8080/"
        },
        "id": "LHPcLSGaU2cj",
        "outputId": "6ecaa16e-457d-4cd9-e621-be027420add0"
      },
      "execution_count": 175,
      "outputs": [
        {
          "output_type": "execute_result",
          "data": {
            "text/plain": [
              "(Float32[1.61 1.63 … 0.51 0.54; 1.57 1.64 … 0.55 0.54; … ; 1.67 1.77 … 0.42 0.31; 1.75 1.74 … 0.41 0.38;;; 2.13 2.04 … 0.43 0.46; 2.09 2.09 … 0.44 0.45; … ; 1.66 1.53 … 0.45 0.49; 1.61 1.63 … 0.38 0.38;;; 1.11 0.93 … 0.13 0.11; 1.06 1.05 … 0.1 0.15; … ; 1.51 1.54 … 0.18 0.12; 1.52 1.54 … 0.19 0.21;;; … ;;; 2.46 2.45 … 0.39 0.43; 2.46 2.49 … 0.46 0.49; … ; 1.4 1.34 … 0.31 0.14; 1.29 1.41 … 0.22 0.21;;; 1.99 2.03 … 0.29 0.29; 2.03 2.1 … 0.28 0.33; … ; 2.42 2.45 … 0.02 0.08; 2.46 2.42 … 0.03 0.07;;; 2.01 1.96 … 0.45 0.43; 1.99 1.99 … 0.43 0.41; … ; 2.72 2.56 … 0.62 0.56; 2.83 2.67 … 0.48 0.63], UInt16[0x003e 0x003d … 0x001c 0x001a; 0x0040 0x003e … 0x001b 0x001c; … ; 0x003a 0x003a … 0x0005 0x0004; 0x003a 0x003b … 0x0004 0x0005;;; 0x0020 0x001f … 0x0018 0x0017; 0x0021 0x001f … 0x0018 0x0017; … ; 0x001e 0x0021 … 0x000b 0x000c; 0x001e 0x001f … 0x000a 0x000c;;; 0x001b 0x0019 … 0x001a 0x0018; 0x001b 0x001b … 0x001a 0x0019; … ; 0x001d 0x001d … 0x001a 0x001a; 0x001d 0x001d … 0x001a 0x001b;;; … ;;; 0x002c 0x002b … 0x0018 0x0018; 0x002c 0x002b … 0x001a 0x0019; … ; 0x0010 0x0015 … 0x0007 0x0008; 0x0013 0x0011 … 0x0008 0x0008;;; 0x0032 0x0030 … 0x001b 0x001b; 0x0030 0x0032 … 0x001c 0x001b; … ; 0x0027 0x0027 … 0x0005 0x0003; 0x0027 0x0026 … 0x0004 0x0004;;; 0x0022 0x0025 … 0x0014 0x0016; 0x0023 0x0026 … 0x0013 0x0016; … ; 0x0025 0x0026 … 0x000e 0x000f; 0x0024 0x0023 … 0x000a 0x000d])"
            ]
          },
          "metadata": {},
          "execution_count": 175
        }
      ]
    },
    {
      "cell_type": "code",
      "source": [
        "radiance, cfobs = read_region_as_datacubes(russia_state_split[1, :].geometry;\n",
        "    start_date=START_DATE, end_date=END_DATE,\n",
        "    radiance_path=RADIANCE_RASTER_DIRECTORY,\n",
        "    cf_path=CFOBS_RASTER_DIRECTORY)"
      ],
      "metadata": {
        "id": "dQ_jZ0wzxpdx",
        "outputId": "0d1061f2-374c-4c05-a5b8-c235af3a7b3d",
        "colab": {
          "base_uri": "https://localhost:8080/"
        }
      },
      "execution_count": 176,
      "outputs": [
        {
          "output_type": "execute_result",
          "data": {
            "text/plain": [
              "(Float32[1.61 1.63 … 0.51 0.54; 1.57 1.64 … 0.55 0.54; … ; 1.67 1.77 … 0.42 0.31; 1.75 1.74 … 0.41 0.38;;; 2.13 2.04 … 0.43 0.46; 2.09 2.09 … 0.44 0.45; … ; 1.66 1.53 … 0.45 0.49; 1.61 1.63 … 0.38 0.38;;; 1.11 0.93 … 0.13 0.11; 1.06 1.05 … 0.1 0.15; … ; 1.51 1.54 … 0.18 0.12; 1.52 1.54 … 0.19 0.21;;; … ;;; 2.46 2.45 … 0.39 0.43; 2.46 2.49 … 0.46 0.49; … ; 1.4 1.34 … 0.31 0.14; 1.29 1.41 … 0.22 0.21;;; 1.99 2.03 … 0.29 0.29; 2.03 2.1 … 0.28 0.33; … ; 2.42 2.45 … 0.02 0.08; 2.46 2.42 … 0.03 0.07;;; 2.01 1.96 … 0.45 0.43; 1.99 1.99 … 0.43 0.41; … ; 2.72 2.56 … 0.62 0.56; 2.83 2.67 … 0.48 0.63], UInt16[0x003e 0x003d … 0x001c 0x001a; 0x0040 0x003e … 0x001b 0x001c; … ; 0x003a 0x003a … 0x0005 0x0004; 0x003a 0x003b … 0x0004 0x0005;;; 0x0020 0x001f … 0x0018 0x0017; 0x0021 0x001f … 0x0018 0x0017; … ; 0x001e 0x0021 … 0x000b 0x000c; 0x001e 0x001f … 0x000a 0x000c;;; 0x001b 0x0019 … 0x001a 0x0018; 0x001b 0x001b … 0x001a 0x0019; … ; 0x001d 0x001d … 0x001a 0x001a; 0x001d 0x001d … 0x001a 0x001b;;; … ;;; 0x002c 0x002b … 0x0018 0x0018; 0x002c 0x002b … 0x001a 0x0019; … ; 0x0010 0x0015 … 0x0007 0x0008; 0x0013 0x0011 … 0x0008 0x0008;;; 0x0032 0x0030 … 0x001b 0x001b; 0x0030 0x0032 … 0x001c 0x001b; … ; 0x0027 0x0027 … 0x0005 0x0003; 0x0027 0x0026 … 0x0004 0x0004;;; 0x0022 0x0025 … 0x0014 0x0016; 0x0023 0x0026 … 0x0013 0x0016; … ; 0x0025 0x0026 … 0x000e 0x000f; 0x0024 0x0023 … 0x000a 0x000d])"
            ]
          },
          "metadata": {},
          "execution_count": 176
        }
      ]
    },
    {
      "cell_type": "code",
      "source": [
        "function process_state(state_row::DataFrameRow)\n",
        "    state_name = state_row.NAME_1\n",
        "    state_geometry = state_row.geometry\n",
        "    @show state_name\n",
        "    @show state_geometry\n",
        "    radiance, cfobs = read_region_as_datacubes(state_geometry;\n",
        "        start_date=START_DATE, end_date=END_DATE,\n",
        "        radiance_path=RADIANCE_RASTER_DIRECTORY,\n",
        "        cf_path=CFOBS_RASTER_DIRECTORY)\n",
        "\n",
        "\n",
        "    print(\"file read correctly\")\n",
        "\n",
        "    radiance = clean_complete(radiance, cfobs; bgthreshold=4)\n",
        "    cfobs = nothing # Release memory\n",
        "\n",
        "    radiance = Raster(Float32.(radiance); missingval=missing)\n",
        "    radiance[radiance .> 100.0f0] .= 0.0f0 # Cap high radiance values\n",
        "    radiance = mask(radiance; with=state_geometry)\n",
        "\n",
        "    dates = Date.(dims(radiance, Ti).val)\n",
        "    num_timesteps = length(dates)\n",
        "\n",
        "    if num_timesteps == 0\n",
        "        println(\"Warning: No valid data for '$state_name' after cleaning.\")\n",
        "        return DataFrame()\n",
        "    end\n",
        "\n",
        "    agg_radiance = [sum(skipmissing(view(radiance, Ti(i)))) for i in 1:num_timesteps]\n",
        "    com = [safe_centre_of_mass(view(radiance, Ti(i)), state_name) for i in 1:num_timesteps]\n",
        "\n",
        "    return DataFrame(; dates, aggregate_radiance=agg_radiance, com, state_name)\n",
        "end"
      ],
      "metadata": {
        "colab": {
          "base_uri": "https://localhost:8080/"
        },
        "id": "ihjD35bGTZrx",
        "outputId": "ad6ee1da-4a32-4bc4-c5aa-31effa89761e"
      },
      "execution_count": 177,
      "outputs": [
        {
          "output_type": "execute_result",
          "data": {
            "text/plain": [
              "process_state (generic function with 1 method)"
            ]
          },
          "metadata": {},
          "execution_count": 177
        }
      ]
    },
    {
      "cell_type": "code",
      "source": [
        "all_states_df = DataFrame()\n",
        "\n",
        "for i in 1:nrow(russia_state_split)\n",
        "    state_row = russia_state_split[i, :]\n",
        "    state_name = state_row.NAME_1\n",
        "    println(\"--- Processing state $i/$(nrow(russia_state_split)): $state_name ---\")\n",
        "\n",
        "    try\n",
        "        state_df = process_state(state_row)\n",
        "        if !isempty(state_df)\n",
        "            append!(all_states_df, state_df; cols=:union)\n",
        "        end\n",
        "    catch e\n",
        "        println(\"ERROR: Failed to process state '$state_name'. Skipping. Error: $e\")\n",
        "    end\n",
        "    GC.gc()\n",
        "end\n",
        "\n",
        "println(\"--- Processing Complete ---\")\n",
        "\n",
        "# Final aggregation\n",
        "if !isempty(all_states_df)\n",
        "    println(\"Aggregating results...\")\n",
        "    grouped = groupby(all_states_df, :dates)\n",
        "    aggregate_df = DataFrames.combine(grouped, :aggregate_radiance => sum => :AggregateRadiance)\n",
        "    sort!(aggregate_df, :dates)\n",
        "\n",
        "    # only write once if you want\n",
        "    # CSV.write(AGGREGATE_FILE, aggregate_df)\n",
        "    println(\"Aggregation complete, DataFrame in memory.\")\n",
        "else\n",
        "    println(\"No data processed, skipping aggregation.\")\n",
        "end\n",
        "\n",
        "println(\"Script finished.\")\n"
      ],
      "metadata": {
        "colab": {
          "base_uri": "https://localhost:8080/"
        },
        "id": "u6rQeQLjTwAK",
        "outputId": "1ebc55f9-e69c-41fe-d87e-3254138d2616"
      },
      "execution_count": null,
      "outputs": [
        {
          "output_type": "stream",
          "name": "stderr",
          "text": [
            "\u001b[33m\u001b[1m┌ \u001b[22m\u001b[39m\u001b[33m\u001b[1mWarning: \u001b[22m\u001b[39moutlier_variance failed, using all pixels as stable\n",
            "\u001b[33m\u001b[1m│ \u001b[22m\u001b[39m  exception =\n",
            "\u001b[33m\u001b[1m│ \u001b[22m\u001b[39m   ArgumentError: empty data vector\n",
            "\u001b[33m\u001b[1m│ \u001b[22m\u001b[39m   Stacktrace:\n",
            "\u001b[33m\u001b[1m│ \u001b[22m\u001b[39m     [1] \u001b[0m\u001b[1m_quantilesort!\u001b[22m\u001b[0m\u001b[1m(\u001b[22m\u001b[90mv\u001b[39m::\u001b[0mVector\u001b[90m{Union{}}\u001b[39m, \u001b[90msorted\u001b[39m::\u001b[0mBool, \u001b[90mminp\u001b[39m::\u001b[0mFloat64, \u001b[90mmaxp\u001b[39m::\u001b[0mFloat64\u001b[0m\u001b[1m)\u001b[22m\n",
            "\u001b[33m\u001b[1m│ \u001b[22m\u001b[39m   \u001b[90m    @\u001b[39m \u001b[35mStatistics\u001b[39m \u001b[90m~/.julia/packages/Statistics/gbcbG/src/\u001b[39m\u001b[90m\u001b[4mStatistics.jl:985\u001b[24m\u001b[39m\n",
            "\u001b[33m\u001b[1m│ \u001b[22m\u001b[39m     [2] \u001b[0m\u001b[1mquantile!\u001b[22m\u001b[0m\u001b[1m(\u001b[22m\u001b[90mv\u001b[39m::\u001b[0mVector\u001b[90m{Union{}}\u001b[39m, \u001b[90mp\u001b[39m::\u001b[0mFloat64; \u001b[90msorted\u001b[39m::\u001b[0mBool, \u001b[90malpha\u001b[39m::\u001b[0mFloat64, \u001b[90mbeta\u001b[39m::\u001b[0mFloat64\u001b[0m\u001b[1m)\u001b[22m\n",
            "\u001b[33m\u001b[1m│ \u001b[22m\u001b[39m   \u001b[90m    @\u001b[39m \u001b[35mStatistics\u001b[39m \u001b[90m~/.julia/packages/Statistics/gbcbG/src/\u001b[39m\u001b[90m\u001b[4mStatistics.jl:980\u001b[24m\u001b[39m\n",
            "\u001b[33m\u001b[1m│ \u001b[22m\u001b[39m     [3] \u001b[0m\u001b[1mquantile\u001b[22m\u001b[0m\u001b[1m(\u001b[22m\u001b[90mitr\u001b[39m::\u001b[0mBase.SkipMissing\u001b[90m{Vector{Missing}}\u001b[39m, \u001b[90mp\u001b[39m::\u001b[0mFloat64; \u001b[90msorted\u001b[39m::\u001b[0mBool, \u001b[90malpha\u001b[39m::\u001b[0mFloat64, \u001b[90mbeta\u001b[39m::\u001b[0mFloat64\u001b[0m\u001b[1m)\u001b[22m\n",
            "\u001b[33m\u001b[1m│ \u001b[22m\u001b[39m   \u001b[90m    @\u001b[39m \u001b[35mStatistics\u001b[39m \u001b[90m~/.julia/packages/Statistics/gbcbG/src/\u001b[39m\u001b[90m\u001b[4mStatistics.jl:1090\u001b[24m\u001b[39m\n",
            "\u001b[33m\u001b[1m│ \u001b[22m\u001b[39m     [4] \u001b[0m\u001b[1moutlier_variance\u001b[22m\u001b[0m\u001b[1m(\u001b[22m\u001b[90mradiance_datacube\u001b[39m::\u001b[0mRaster\u001b[90m{Missing, 3, Tuple{X{Projected{Float64, LinRange{Float64, Int64}, DimensionalData.Dimensions.Lookups.ForwardOrdered, DimensionalData.Dimensions.Lookups.Regular{Float64}, DimensionalData.Dimensions.Lookups.Intervals{DimensionalData.Dimensions.Lookups.Start}, DimensionalData.Dimensions.Lookups.NoMetadata, WellKnownText{GeoFormatTypes.CRS}, Nothing, X{Colon}}}, Y{Projected{Float64, LinRange{Float64, Int64}, DimensionalData.Dimensions.Lookups.ReverseOrdered, DimensionalData.Dimensions.Lookups.Regular{Float64}, DimensionalData.Dimensions.Lookups.Intervals{DimensionalData.Dimensions.Lookups.Start}, DimensionalData.Dimensions.Lookups.NoMetadata, WellKnownText{GeoFormatTypes.CRS}, Nothing, Y{Colon}}}, Ti{DimensionalData.Dimensions.Lookups.Sampled{Date, Vector{Date}, DimensionalData.Dimensions.Lookups.ForwardOrdered, DimensionalData.Dimensions.Lookups.Irregular{Tuple{Nothing, Nothing}}, DimensionalData.Dimensions.Lookups.Points, DimensionalData.Dimensions.Lookups.NoMetadata}}}, Tuple{}, Array{Missing, 3}, Symbol, DimensionalData.Dimensions.Lookups.NoMetadata, Missing}\u001b[39m, \u001b[90mmask\u001b[39m::\u001b[0mRaster\u001b[90m{Missing, 2, Tuple{X{Projected{Float64, LinRange{Float64, Int64}, DimensionalData.Dimensions.Lookups.ForwardOrdered, DimensionalData.Dimensions.Lookups.Regular{Float64}, DimensionalData.Dimensions.Lookups.Intervals{DimensionalData.Dimensions.Lookups.Start}, DimensionalData.Dimensions.Lookups.NoMetadata, WellKnownText{GeoFormatTypes.CRS}, Nothing, X{Colon}}}, Y{Projected{Float64, LinRange{Float64, Int64}, DimensionalData.Dimensions.Lookups.ReverseOrdered, DimensionalData.Dimensions.Lookups.Regular{Float64}, DimensionalData.Dimensions.Lookups.Intervals{DimensionalData.Dimensions.Lookups.Start}, DimensionalData.Dimensions.Lookups.NoMetadata, WellKnownText{GeoFormatTypes.CRS}, Nothing, Y{Colon}}}}, Tuple{}, Matrix{Missing}, Symbol, DimensionalData.Dimensions.Lookups.NoMetadata, Missing}\u001b[39m; \u001b[90mcutoff\u001b[39m::\u001b[0mFloat64\u001b[0m\u001b[1m)\u001b[22m\n",
            "\u001b[33m\u001b[1m│ \u001b[22m\u001b[39m   \u001b[90m    @\u001b[39m \u001b[36mNighttimeLights\u001b[39m \u001b[90m~/.julia/packages/NighttimeLights/PstBy/src/data_cleaning/\u001b[39m\u001b[90m\u001b[4moutlier_removal.jl:28\u001b[24m\u001b[39m\n",
            "\u001b[33m\u001b[1m│ \u001b[22m\u001b[39m     [5] \u001b[0m\u001b[1moutlier_variance\u001b[22m\u001b[0m\u001b[1m(\u001b[22m\u001b[90mradiance_datacube\u001b[39m::\u001b[0mRaster\u001b[90m{Missing, 3, Tuple{X{Projected{Float64, LinRange{Float64, Int64}, DimensionalData.Dimensions.Lookups.ForwardOrdered, DimensionalData.Dimensions.Lookups.Regular{Float64}, DimensionalData.Dimensions.Lookups.Intervals{DimensionalData.Dimensions.Lookups.Start}, DimensionalData.Dimensions.Lookups.NoMetadata, WellKnownText{GeoFormatTypes.CRS}, Nothing, X{Colon}}}, Y{Projected{Float64, LinRange{Float64, Int64}, DimensionalData.Dimensions.Lookups.ReverseOrdered, DimensionalData.Dimensions.Lookups.Regular{Float64}, DimensionalData.Dimensions.Lookups.Intervals{DimensionalData.Dimensions.Lookups.Start}, DimensionalData.Dimensions.Lookups.NoMetadata, WellKnownText{GeoFormatTypes.CRS}, Nothing, Y{Colon}}}, Ti{DimensionalData.Dimensions.Lookups.Sampled{Date, Vector{Date}, DimensionalData.Dimensions.Lookups.ForwardOrdered, DimensionalData.Dimensions.Lookups.Irregular{Tuple{Nothing, Nothing}}, DimensionalData.Dimensions.Lookups.Points, DimensionalData.Dimensions.Lookups.NoMetadata}}}, Tuple{}, Array{Missing, 3}, Symbol, DimensionalData.Dimensions.Lookups.NoMetadata, Missing}\u001b[39m, \u001b[90mmask\u001b[39m::\u001b[0mRaster\u001b[90m{Missing, 2, Tuple{X{Projected{Float64, LinRange{Float64, Int64}, DimensionalData.Dimensions.Lookups.ForwardOrdered, DimensionalData.Dimensions.Lookups.Regular{Float64}, DimensionalData.Dimensions.Lookups.Intervals{DimensionalData.Dimensions.Lookups.Start}, DimensionalData.Dimensions.Lookups.NoMetadata, WellKnownText{GeoFormatTypes.CRS}, Nothing, X{Colon}}}, Y{Projected{Float64, LinRange{Float64, Int64}, DimensionalData.Dimensions.Lookups.ReverseOrdered, DimensionalData.Dimensions.Lookups.Regular{Float64}, DimensionalData.Dimensions.Lookups.Intervals{DimensionalData.Dimensions.Lookups.Start}, DimensionalData.Dimensions.Lookups.NoMetadata, WellKnownText{GeoFormatTypes.CRS}, Nothing, Y{Colon}}}}, Tuple{}, Matrix{Missing}, Symbol, DimensionalData.Dimensions.Lookups.NoMetadata, Missing}\u001b[39m\u001b[0m\u001b[1m)\u001b[22m\n",
            "\u001b[33m\u001b[1m│ \u001b[22m\u001b[39m   \u001b[90m    @\u001b[39m \u001b[36mNighttimeLights\u001b[39m \u001b[90m~/.julia/packages/NighttimeLights/PstBy/src/data_cleaning/\u001b[39m\u001b[90m\u001b[4moutlier_removal.jl:8\u001b[24m\u001b[39m\n",
            "\u001b[33m\u001b[1m│ \u001b[22m\u001b[39m     [6] \u001b[0m\u001b[1mclean_complete\u001b[22m\u001b[0m\u001b[1m(\u001b[22m\u001b[90mradiance_datacube\u001b[39m::\u001b[0mRaster\u001b[90m{Float32, 3, Tuple{X{Projected{Float64, LinRange{Float64, Int64}, DimensionalData.Dimensions.Lookups.ForwardOrdered, DimensionalData.Dimensions.Lookups.Regular{Float64}, DimensionalData.Dimensions.Lookups.Intervals{DimensionalData.Dimensions.Lookups.Start}, DimensionalData.Dimensions.Lookups.NoMetadata, WellKnownText{GeoFormatTypes.CRS}, Nothing, X{Colon}}}, Y{Projected{Float64, LinRange{Float64, Int64}, DimensionalData.Dimensions.Lookups.ReverseOrdered, DimensionalData.Dimensions.Lookups.Regular{Float64}, DimensionalData.Dimensions.Lookups.Intervals{DimensionalData.Dimensions.Lookups.Start}, DimensionalData.Dimensions.Lookups.NoMetadata, WellKnownText{GeoFormatTypes.CRS}, Nothing, Y{Colon}}}, Ti{DimensionalData.Dimensions.Lookups.Sampled{Date, Vector{Date}, DimensionalData.Dimensions.Lookups.ForwardOrdered, DimensionalData.Dimensions.Lookups.Irregular{Tuple{Nothing, Nothing}}, DimensionalData.Dimensions.Lookups.Points, DimensionalData.Dimensions.Lookups.NoMetadata}}}, Tuple{X{Projected{Float64, LinRange{Float64, Int64}, DimensionalData.Dimensions.Lookups.ForwardOrdered, DimensionalData.Dimensions.Lookups.Regular{Float64}, DimensionalData.Dimensions.Lookups.Intervals{DimensionalData.Dimensions.Lookups.Start}, DimensionalData.Dimensions.Lookups.NoMetadata, WellKnownText{GeoFormatTypes.CRS}, Nothing, X{Colon}}}, Y{Projected{Float64, LinRange{Float64, Int64}, DimensionalData.Dimensions.Lookups.ReverseOrdered, DimensionalData.Dimensions.Lookups.Regular{Float64}, DimensionalData.Dimensions.Lookups.Intervals{DimensionalData.Dimensions.Lookups.Start}, DimensionalData.Dimensions.Lookups.NoMetadata, WellKnownText{GeoFormatTypes.CRS}, Nothing, Y{Colon}}}}, Array{Float32, 3}, Symbol, DimensionalData.Dimensions.Lookups.Metadata{Rasters.GDALsource, Dict{String, Any}}, Float32}\u001b[39m, \u001b[90mncfobs_datacube\u001b[39m::\u001b[0mRaster\u001b[90m{UInt16, 3, Tuple{X{Projected{Float64, LinRange{Float64, Int64}, DimensionalData.Dimensions.Lookups.ForwardOrdered, DimensionalData.Dimensions.Lookups.Regular{Float64}, DimensionalData.Dimensions.Lookups.Intervals{DimensionalData.Dimensions.Lookups.Start}, DimensionalData.Dimensions.Lookups.NoMetadata, WellKnownText{GeoFormatTypes.CRS}, Nothing, X{Colon}}}, Y{Projected{Float64, LinRange{Float64, Int64}, DimensionalData.Dimensions.Lookups.ReverseOrdered, DimensionalData.Dimensions.Lookups.Regular{Float64}, DimensionalData.Dimensions.Lookups.Intervals{DimensionalData.Dimensions.Lookups.Start}, DimensionalData.Dimensions.Lookups.NoMetadata, WellKnownText{GeoFormatTypes.CRS}, Nothing, Y{Colon}}}, Ti{DimensionalData.Dimensions.Lookups.Sampled{Date, Vector{Date}, DimensionalData.Dimensions.Lookups.ForwardOrdered, DimensionalData.Dimensions.Lookups.Irregular{Tuple{Nothing, Nothing}}, DimensionalData.Dimensions.Lookups.Points, DimensionalData.Dimensions.Lookups.NoMetadata}}}, Tuple{X{Projected{Float64, LinRange{Float64, Int64}, DimensionalData.Dimensions.Lookups.ForwardOrdered, DimensionalData.Dimensions.Lookups.Regular{Float64}, DimensionalData.Dimensions.Lookups.Intervals{DimensionalData.Dimensions.Lookups.Start}, DimensionalData.Dimensions.Lookups.NoMetadata, WellKnownText{GeoFormatTypes.CRS}, Nothing, X{Colon}}}, Y{Projected{Float64, LinRange{Float64, Int64}, DimensionalData.Dimensions.Lookups.ReverseOrdered, DimensionalData.Dimensions.Lookups.Regular{Float64}, DimensionalData.Dimensions.Lookups.Intervals{DimensionalData.Dimensions.Lookups.Start}, DimensionalData.Dimensions.Lookups.NoMetadata, WellKnownText{GeoFormatTypes.CRS}, Nothing, Y{Colon}}}}, Array{UInt16, 3}, Symbol, DimensionalData.Dimensions.Lookups.Metadata{Rasters.GDALsource, Dict{String, Any}}, Nothing}\u001b[39m; \u001b[90mnoise\u001b[39m::\u001b[0mNothing, \u001b[90mbgthreshold\u001b[39m::\u001b[0mInt64\u001b[0m\u001b[1m)\u001b[22m\n",
            "\u001b[33m\u001b[1m│ \u001b[22m\u001b[39m   \u001b[90m    @\u001b[39m \u001b[36mNighttimeLights\u001b[39m \u001b[90m~/.julia/packages/NighttimeLights/PstBy/src/data_cleaning/\u001b[39m\u001b[90m\u001b[4mfull_procedures.jl:105\u001b[24m\u001b[39m\n",
            "\u001b[33m\u001b[1m│ \u001b[22m\u001b[39m     [7] \u001b[0m\u001b[1mprocess_state\u001b[22m\u001b[0m\u001b[1m(\u001b[22m\u001b[90mstate_row\u001b[39m::\u001b[0mDataFrameRow\u001b[90m{DataFrame, DataFrames.Index}\u001b[39m\u001b[0m\u001b[1m)\u001b[22m\n",
            "\u001b[33m\u001b[1m│ \u001b[22m\u001b[39m   \u001b[90m    @\u001b[39m \u001b[36mMain\u001b[39m \u001b[90m./\u001b[39m\u001b[90m\u001b[4mIn[177]:14\u001b[24m\u001b[39m\n",
            "\u001b[33m\u001b[1m│ \u001b[22m\u001b[39m     [8] top-level scope\n",
            "\u001b[33m\u001b[1m│ \u001b[22m\u001b[39m   \u001b[90m    @\u001b[39m \u001b[90m./\u001b[39m\u001b[90m\u001b[4mIn[178]:9\u001b[24m\u001b[39m\n",
            "\u001b[33m\u001b[1m│ \u001b[22m\u001b[39m     [9] \u001b[0m\u001b[1meval\u001b[22m\n",
            "\u001b[33m\u001b[1m│ \u001b[22m\u001b[39m   \u001b[90m    @\u001b[39m \u001b[90m./\u001b[39m\u001b[90m\u001b[4mboot.jl:430\u001b[24m\u001b[39m\u001b[90m [inlined]\u001b[39m\n",
            "\u001b[33m\u001b[1m│ \u001b[22m\u001b[39m    [10] \u001b[0m\u001b[1minclude_string\u001b[22m\u001b[0m\u001b[1m(\u001b[22m\u001b[90mmapexpr\u001b[39m::\u001b[0mtypeof(REPL.softscope), \u001b[90mmod\u001b[39m::\u001b[0mModule, \u001b[90mcode\u001b[39m::\u001b[0mString, \u001b[90mfilename\u001b[39m::\u001b[0mString\u001b[0m\u001b[1m)\u001b[22m\n",
            "\u001b[33m\u001b[1m│ \u001b[22m\u001b[39m   \u001b[90m    @\u001b[39m \u001b[90mBase\u001b[39m \u001b[90m./\u001b[39m\u001b[90m\u001b[4mloading.jl:2734\u001b[24m\u001b[39m\n",
            "\u001b[33m\u001b[1m│ \u001b[22m\u001b[39m    [11] \u001b[0m\u001b[1msoftscope_include_string\u001b[22m\u001b[0m\u001b[1m(\u001b[22m\u001b[90mm\u001b[39m::\u001b[0mModule, \u001b[90mcode\u001b[39m::\u001b[0mString, \u001b[90mfilename\u001b[39m::\u001b[0mString\u001b[0m\u001b[1m)\u001b[22m\n",
            "\u001b[33m\u001b[1m│ \u001b[22m\u001b[39m   \u001b[90m    @\u001b[39m \u001b[36mSoftGlobalScope\u001b[39m \u001b[90m~/.julia/packages/SoftGlobalScope/u4UzH/src/\u001b[39m\u001b[90m\u001b[4mSoftGlobalScope.jl:65\u001b[24m\u001b[39m\n",
            "\u001b[33m\u001b[1m│ \u001b[22m\u001b[39m    [12] \u001b[0m\u001b[1mexecute_request\u001b[22m\u001b[0m\u001b[1m(\u001b[22m\u001b[90msocket\u001b[39m::\u001b[0mZMQ.Socket, \u001b[90mmsg\u001b[39m::\u001b[0mIJulia.Msg\u001b[0m\u001b[1m)\u001b[22m\n",
            "\u001b[33m\u001b[1m│ \u001b[22m\u001b[39m   \u001b[90m    @\u001b[39m \u001b[32mIJulia\u001b[39m \u001b[90m~/.julia/packages/IJulia/eenvU/src/\u001b[39m\u001b[90m\u001b[4mexecute_request.jl:81\u001b[24m\u001b[39m\n",
            "\u001b[33m\u001b[1m│ \u001b[22m\u001b[39m    [13] \u001b[0m\u001b[1m#invokelatest#2\u001b[22m\n",
            "\u001b[33m\u001b[1m│ \u001b[22m\u001b[39m   \u001b[90m    @\u001b[39m \u001b[90m./\u001b[39m\u001b[90m\u001b[4messentials.jl:1055\u001b[24m\u001b[39m\u001b[90m [inlined]\u001b[39m\n",
            "\u001b[33m\u001b[1m│ \u001b[22m\u001b[39m    [14] \u001b[0m\u001b[1minvokelatest\u001b[22m\n",
            "\u001b[33m\u001b[1m│ \u001b[22m\u001b[39m   \u001b[90m    @\u001b[39m \u001b[90m./\u001b[39m\u001b[90m\u001b[4messentials.jl:1052\u001b[24m\u001b[39m\u001b[90m [inlined]\u001b[39m\n",
            "\u001b[33m\u001b[1m│ \u001b[22m\u001b[39m    [15] \u001b[0m\u001b[1meventloop\u001b[22m\u001b[0m\u001b[1m(\u001b[22m\u001b[90msocket\u001b[39m::\u001b[0mZMQ.Socket\u001b[0m\u001b[1m)\u001b[22m\n",
            "\u001b[33m\u001b[1m│ \u001b[22m\u001b[39m   \u001b[90m    @\u001b[39m \u001b[32mIJulia\u001b[39m \u001b[90m~/.julia/packages/IJulia/eenvU/src/\u001b[39m\u001b[90m\u001b[4meventloop.jl:14\u001b[24m\u001b[39m\n",
            "\u001b[33m\u001b[1m│ \u001b[22m\u001b[39m    [16] \u001b[0m\u001b[1meventloop\u001b[22m\u001b[0m\u001b[1m(\u001b[22m\u001b[90msocket\u001b[39m::\u001b[0mZMQ.Socket\u001b[0m\u001b[1m)\u001b[22m\u001b[90m (repeats 2 times)\u001b[39m\n",
            "\u001b[33m\u001b[1m│ \u001b[22m\u001b[39m   \u001b[90m    @\u001b[39m \u001b[32mIJulia\u001b[39m \u001b[90m~/.julia/packages/IJulia/eenvU/src/\u001b[39m\u001b[90m\u001b[4meventloop.jl:41\u001b[24m\u001b[39m\n",
            "\u001b[33m\u001b[1m│ \u001b[22m\u001b[39m    [17] \u001b[0m\u001b[1m(::IJulia.var\"#13#16\")\u001b[22m\u001b[0m\u001b[1m(\u001b[22m\u001b[0m\u001b[1m)\u001b[22m\n",
            "\u001b[33m\u001b[1m│ \u001b[22m\u001b[39m   \u001b[90m    @\u001b[39m \u001b[32mIJulia\u001b[39m \u001b[90m~/.julia/packages/IJulia/eenvU/src/\u001b[39m\u001b[90m\u001b[4meventloop.jl:58\u001b[24m\u001b[39m\n",
            "\u001b[33m\u001b[1m└ \u001b[22m\u001b[39m\u001b[90m@ NighttimeLights ~/.julia/packages/NighttimeLights/PstBy/src/data_cleaning/full_procedures.jl:110\u001b[39m\n",
            "\u001b[33m\u001b[1m┌ \u001b[22m\u001b[39m\u001b[33m\u001b[1mWarning: \u001b[22m\u001b[39moutlier_variance failed, using all pixels as stable\n",
            "\u001b[33m\u001b[1m│ \u001b[22m\u001b[39m  exception =\n",
            "\u001b[33m\u001b[1m│ \u001b[22m\u001b[39m   ArgumentError: empty data vector\n",
            "\u001b[33m\u001b[1m│ \u001b[22m\u001b[39m   Stacktrace:\n",
            "\u001b[33m\u001b[1m│ \u001b[22m\u001b[39m     [1] \u001b[0m\u001b[1m_quantilesort!\u001b[22m\u001b[0m\u001b[1m(\u001b[22m\u001b[90mv\u001b[39m::\u001b[0mVector\u001b[90m{Union{}}\u001b[39m, \u001b[90msorted\u001b[39m::\u001b[0mBool, \u001b[90mminp\u001b[39m::\u001b[0mFloat64, \u001b[90mmaxp\u001b[39m::\u001b[0mFloat64\u001b[0m\u001b[1m)\u001b[22m\n",
            "\u001b[33m\u001b[1m│ \u001b[22m\u001b[39m   \u001b[90m    @\u001b[39m \u001b[35mStatistics\u001b[39m \u001b[90m~/.julia/packages/Statistics/gbcbG/src/\u001b[39m\u001b[90m\u001b[4mStatistics.jl:985\u001b[24m\u001b[39m\n",
            "\u001b[33m\u001b[1m│ \u001b[22m\u001b[39m     [2] \u001b[0m\u001b[1mquantile!\u001b[22m\u001b[0m\u001b[1m(\u001b[22m\u001b[90mv\u001b[39m::\u001b[0mVector\u001b[90m{Union{}}\u001b[39m, \u001b[90mp\u001b[39m::\u001b[0mFloat64; \u001b[90msorted\u001b[39m::\u001b[0mBool, \u001b[90malpha\u001b[39m::\u001b[0mFloat64, \u001b[90mbeta\u001b[39m::\u001b[0mFloat64\u001b[0m\u001b[1m)\u001b[22m\n",
            "\u001b[33m\u001b[1m│ \u001b[22m\u001b[39m   \u001b[90m    @\u001b[39m \u001b[35mStatistics\u001b[39m \u001b[90m~/.julia/packages/Statistics/gbcbG/src/\u001b[39m\u001b[90m\u001b[4mStatistics.jl:980\u001b[24m\u001b[39m\n",
            "\u001b[33m\u001b[1m│ \u001b[22m\u001b[39m     [3] \u001b[0m\u001b[1mquantile\u001b[22m\u001b[0m\u001b[1m(\u001b[22m\u001b[90mitr\u001b[39m::\u001b[0mBase.SkipMissing\u001b[90m{Vector{Missing}}\u001b[39m, \u001b[90mp\u001b[39m::\u001b[0mFloat64; \u001b[90msorted\u001b[39m::\u001b[0mBool, \u001b[90malpha\u001b[39m::\u001b[0mFloat64, \u001b[90mbeta\u001b[39m::\u001b[0mFloat64\u001b[0m\u001b[1m)\u001b[22m\n",
            "\u001b[33m\u001b[1m│ \u001b[22m\u001b[39m   \u001b[90m    @\u001b[39m \u001b[35mStatistics\u001b[39m \u001b[90m~/.julia/packages/Statistics/gbcbG/src/\u001b[39m\u001b[90m\u001b[4mStatistics.jl:1090\u001b[24m\u001b[39m\n",
            "\u001b[33m\u001b[1m│ \u001b[22m\u001b[39m     [4] \u001b[0m\u001b[1moutlier_variance\u001b[22m\u001b[0m\u001b[1m(\u001b[22m\u001b[90mradiance_datacube\u001b[39m::\u001b[0mRaster\u001b[90m{Missing, 3, Tuple{X{Projected{Float64, LinRange{Float64, Int64}, DimensionalData.Dimensions.Lookups.ForwardOrdered, DimensionalData.Dimensions.Lookups.Regular{Float64}, DimensionalData.Dimensions.Lookups.Intervals{DimensionalData.Dimensions.Lookups.Start}, DimensionalData.Dimensions.Lookups.NoMetadata, WellKnownText{GeoFormatTypes.CRS}, Nothing, X{Colon}}}, Y{Projected{Float64, LinRange{Float64, Int64}, DimensionalData.Dimensions.Lookups.ReverseOrdered, DimensionalData.Dimensions.Lookups.Regular{Float64}, DimensionalData.Dimensions.Lookups.Intervals{DimensionalData.Dimensions.Lookups.Start}, DimensionalData.Dimensions.Lookups.NoMetadata, WellKnownText{GeoFormatTypes.CRS}, Nothing, Y{Colon}}}, Ti{DimensionalData.Dimensions.Lookups.Sampled{Date, Vector{Date}, DimensionalData.Dimensions.Lookups.ForwardOrdered, DimensionalData.Dimensions.Lookups.Irregular{Tuple{Nothing, Nothing}}, DimensionalData.Dimensions.Lookups.Points, DimensionalData.Dimensions.Lookups.NoMetadata}}}, Tuple{}, Array{Missing, 3}, Symbol, DimensionalData.Dimensions.Lookups.NoMetadata, Missing}\u001b[39m, \u001b[90mmask\u001b[39m::\u001b[0mRaster\u001b[90m{Missing, 2, Tuple{X{Projected{Float64, LinRange{Float64, Int64}, DimensionalData.Dimensions.Lookups.ForwardOrdered, DimensionalData.Dimensions.Lookups.Regular{Float64}, DimensionalData.Dimensions.Lookups.Intervals{DimensionalData.Dimensions.Lookups.Start}, DimensionalData.Dimensions.Lookups.NoMetadata, WellKnownText{GeoFormatTypes.CRS}, Nothing, X{Colon}}}, Y{Projected{Float64, LinRange{Float64, Int64}, DimensionalData.Dimensions.Lookups.ReverseOrdered, DimensionalData.Dimensions.Lookups.Regular{Float64}, DimensionalData.Dimensions.Lookups.Intervals{DimensionalData.Dimensions.Lookups.Start}, DimensionalData.Dimensions.Lookups.NoMetadata, WellKnownText{GeoFormatTypes.CRS}, Nothing, Y{Colon}}}}, Tuple{}, Matrix{Missing}, Symbol, DimensionalData.Dimensions.Lookups.NoMetadata, Missing}\u001b[39m; \u001b[90mcutoff\u001b[39m::\u001b[0mFloat64\u001b[0m\u001b[1m)\u001b[22m\n",
            "\u001b[33m\u001b[1m│ \u001b[22m\u001b[39m   \u001b[90m    @\u001b[39m \u001b[36mNighttimeLights\u001b[39m \u001b[90m~/.julia/packages/NighttimeLights/PstBy/src/data_cleaning/\u001b[39m\u001b[90m\u001b[4moutlier_removal.jl:28\u001b[24m\u001b[39m\n",
            "\u001b[33m\u001b[1m│ \u001b[22m\u001b[39m     [5] \u001b[0m\u001b[1moutlier_variance\u001b[22m\u001b[0m\u001b[1m(\u001b[22m\u001b[90mradiance_datacube\u001b[39m::\u001b[0mRaster\u001b[90m{Missing, 3, Tuple{X{Projected{Float64, LinRange{Float64, Int64}, DimensionalData.Dimensions.Lookups.ForwardOrdered, DimensionalData.Dimensions.Lookups.Regular{Float64}, DimensionalData.Dimensions.Lookups.Intervals{DimensionalData.Dimensions.Lookups.Start}, DimensionalData.Dimensions.Lookups.NoMetadata, WellKnownText{GeoFormatTypes.CRS}, Nothing, X{Colon}}}, Y{Projected{Float64, LinRange{Float64, Int64}, DimensionalData.Dimensions.Lookups.ReverseOrdered, DimensionalData.Dimensions.Lookups.Regular{Float64}, DimensionalData.Dimensions.Lookups.Intervals{DimensionalData.Dimensions.Lookups.Start}, DimensionalData.Dimensions.Lookups.NoMetadata, WellKnownText{GeoFormatTypes.CRS}, Nothing, Y{Colon}}}, Ti{DimensionalData.Dimensions.Lookups.Sampled{Date, Vector{Date}, DimensionalData.Dimensions.Lookups.ForwardOrdered, DimensionalData.Dimensions.Lookups.Irregular{Tuple{Nothing, Nothing}}, DimensionalData.Dimensions.Lookups.Points, DimensionalData.Dimensions.Lookups.NoMetadata}}}, Tuple{}, Array{Missing, 3}, Symbol, DimensionalData.Dimensions.Lookups.NoMetadata, Missing}\u001b[39m, \u001b[90mmask\u001b[39m::\u001b[0mRaster\u001b[90m{Missing, 2, Tuple{X{Projected{Float64, LinRange{Float64, Int64}, DimensionalData.Dimensions.Lookups.ForwardOrdered, DimensionalData.Dimensions.Lookups.Regular{Float64}, DimensionalData.Dimensions.Lookups.Intervals{DimensionalData.Dimensions.Lookups.Start}, DimensionalData.Dimensions.Lookups.NoMetadata, WellKnownText{GeoFormatTypes.CRS}, Nothing, X{Colon}}}, Y{Projected{Float64, LinRange{Float64, Int64}, DimensionalData.Dimensions.Lookups.ReverseOrdered, DimensionalData.Dimensions.Lookups.Regular{Float64}, DimensionalData.Dimensions.Lookups.Intervals{DimensionalData.Dimensions.Lookups.Start}, DimensionalData.Dimensions.Lookups.NoMetadata, WellKnownText{GeoFormatTypes.CRS}, Nothing, Y{Colon}}}}, Tuple{}, Matrix{Missing}, Symbol, DimensionalData.Dimensions.Lookups.NoMetadata, Missing}\u001b[39m\u001b[0m\u001b[1m)\u001b[22m\n",
            "\u001b[33m\u001b[1m│ \u001b[22m\u001b[39m   \u001b[90m    @\u001b[39m \u001b[36mNighttimeLights\u001b[39m \u001b[90m~/.julia/packages/NighttimeLights/PstBy/src/data_cleaning/\u001b[39m\u001b[90m\u001b[4moutlier_removal.jl:8\u001b[24m\u001b[39m\n",
            "\u001b[33m\u001b[1m│ \u001b[22m\u001b[39m     [6] \u001b[0m\u001b[1mclean_complete\u001b[22m\u001b[0m\u001b[1m(\u001b[22m\u001b[90mradiance_datacube\u001b[39m::\u001b[0mRaster\u001b[90m{Float32, 3, Tuple{X{Projected{Float64, LinRange{Float64, Int64}, DimensionalData.Dimensions.Lookups.ForwardOrdered, DimensionalData.Dimensions.Lookups.Regular{Float64}, DimensionalData.Dimensions.Lookups.Intervals{DimensionalData.Dimensions.Lookups.Start}, DimensionalData.Dimensions.Lookups.NoMetadata, WellKnownText{GeoFormatTypes.CRS}, Nothing, X{Colon}}}, Y{Projected{Float64, LinRange{Float64, Int64}, DimensionalData.Dimensions.Lookups.ReverseOrdered, DimensionalData.Dimensions.Lookups.Regular{Float64}, DimensionalData.Dimensions.Lookups.Intervals{DimensionalData.Dimensions.Lookups.Start}, DimensionalData.Dimensions.Lookups.NoMetadata, WellKnownText{GeoFormatTypes.CRS}, Nothing, Y{Colon}}}, Ti{DimensionalData.Dimensions.Lookups.Sampled{Date, Vector{Date}, DimensionalData.Dimensions.Lookups.ForwardOrdered, DimensionalData.Dimensions.Lookups.Irregular{Tuple{Nothing, Nothing}}, DimensionalData.Dimensions.Lookups.Points, DimensionalData.Dimensions.Lookups.NoMetadata}}}, Tuple{X{Projected{Float64, LinRange{Float64, Int64}, DimensionalData.Dimensions.Lookups.ForwardOrdered, DimensionalData.Dimensions.Lookups.Regular{Float64}, DimensionalData.Dimensions.Lookups.Intervals{DimensionalData.Dimensions.Lookups.Start}, DimensionalData.Dimensions.Lookups.NoMetadata, WellKnownText{GeoFormatTypes.CRS}, Nothing, X{Colon}}}, Y{Projected{Float64, LinRange{Float64, Int64}, DimensionalData.Dimensions.Lookups.ReverseOrdered, DimensionalData.Dimensions.Lookups.Regular{Float64}, DimensionalData.Dimensions.Lookups.Intervals{DimensionalData.Dimensions.Lookups.Start}, DimensionalData.Dimensions.Lookups.NoMetadata, WellKnownText{GeoFormatTypes.CRS}, Nothing, Y{Colon}}}}, Array{Float32, 3}, Symbol, DimensionalData.Dimensions.Lookups.Metadata{Rasters.GDALsource, Dict{String, Any}}, Float32}\u001b[39m, \u001b[90mncfobs_datacube\u001b[39m::\u001b[0mRaster\u001b[90m{UInt16, 3, Tuple{X{Projected{Float64, LinRange{Float64, Int64}, DimensionalData.Dimensions.Lookups.ForwardOrdered, DimensionalData.Dimensions.Lookups.Regular{Float64}, DimensionalData.Dimensions.Lookups.Intervals{DimensionalData.Dimensions.Lookups.Start}, DimensionalData.Dimensions.Lookups.NoMetadata, WellKnownText{GeoFormatTypes.CRS}, Nothing, X{Colon}}}, Y{Projected{Float64, LinRange{Float64, Int64}, DimensionalData.Dimensions.Lookups.ReverseOrdered, DimensionalData.Dimensions.Lookups.Regular{Float64}, DimensionalData.Dimensions.Lookups.Intervals{DimensionalData.Dimensions.Lookups.Start}, DimensionalData.Dimensions.Lookups.NoMetadata, WellKnownText{GeoFormatTypes.CRS}, Nothing, Y{Colon}}}, Ti{DimensionalData.Dimensions.Lookups.Sampled{Date, Vector{Date}, DimensionalData.Dimensions.Lookups.ForwardOrdered, DimensionalData.Dimensions.Lookups.Irregular{Tuple{Nothing, Nothing}}, DimensionalData.Dimensions.Lookups.Points, DimensionalData.Dimensions.Lookups.NoMetadata}}}, Tuple{X{Projected{Float64, LinRange{Float64, Int64}, DimensionalData.Dimensions.Lookups.ForwardOrdered, DimensionalData.Dimensions.Lookups.Regular{Float64}, DimensionalData.Dimensions.Lookups.Intervals{DimensionalData.Dimensions.Lookups.Start}, DimensionalData.Dimensions.Lookups.NoMetadata, WellKnownText{GeoFormatTypes.CRS}, Nothing, X{Colon}}}, Y{Projected{Float64, LinRange{Float64, Int64}, DimensionalData.Dimensions.Lookups.ReverseOrdered, DimensionalData.Dimensions.Lookups.Regular{Float64}, DimensionalData.Dimensions.Lookups.Intervals{DimensionalData.Dimensions.Lookups.Start}, DimensionalData.Dimensions.Lookups.NoMetadata, WellKnownText{GeoFormatTypes.CRS}, Nothing, Y{Colon}}}}, Array{UInt16, 3}, Symbol, DimensionalData.Dimensions.Lookups.Metadata{Rasters.GDALsource, Dict{String, Any}}, Nothing}\u001b[39m; \u001b[90mnoise\u001b[39m::\u001b[0mNothing, \u001b[90mbgthreshold\u001b[39m::\u001b[0mInt64\u001b[0m\u001b[1m)\u001b[22m\n",
            "\u001b[33m\u001b[1m│ \u001b[22m\u001b[39m   \u001b[90m    @\u001b[39m \u001b[36mNighttimeLights\u001b[39m \u001b[90m~/.julia/packages/NighttimeLights/PstBy/src/data_cleaning/\u001b[39m\u001b[90m\u001b[4mfull_procedures.jl:105\u001b[24m\u001b[39m\n",
            "\u001b[33m\u001b[1m│ \u001b[22m\u001b[39m     [7] \u001b[0m\u001b[1mprocess_state\u001b[22m\u001b[0m\u001b[1m(\u001b[22m\u001b[90mstate_row\u001b[39m::\u001b[0mDataFrameRow\u001b[90m{DataFrame, DataFrames.Index}\u001b[39m\u001b[0m\u001b[1m)\u001b[22m\n",
            "\u001b[33m\u001b[1m│ \u001b[22m\u001b[39m   \u001b[90m    @\u001b[39m \u001b[36mMain\u001b[39m \u001b[90m./\u001b[39m\u001b[90m\u001b[4mIn[177]:14\u001b[24m\u001b[39m\n",
            "\u001b[33m\u001b[1m│ \u001b[22m\u001b[39m     [8] top-level scope\n",
            "\u001b[33m\u001b[1m│ \u001b[22m\u001b[39m   \u001b[90m    @\u001b[39m \u001b[90m./\u001b[39m\u001b[90m\u001b[4mIn[178]:9\u001b[24m\u001b[39m\n",
            "\u001b[33m\u001b[1m│ \u001b[22m\u001b[39m     [9] \u001b[0m\u001b[1meval\u001b[22m\n",
            "\u001b[33m\u001b[1m│ \u001b[22m\u001b[39m   \u001b[90m    @\u001b[39m \u001b[90m./\u001b[39m\u001b[90m\u001b[4mboot.jl:430\u001b[24m\u001b[39m\u001b[90m [inlined]\u001b[39m\n",
            "\u001b[33m\u001b[1m│ \u001b[22m\u001b[39m    [10] \u001b[0m\u001b[1minclude_string\u001b[22m\u001b[0m\u001b[1m(\u001b[22m\u001b[90mmapexpr\u001b[39m::\u001b[0mtypeof(REPL.softscope), \u001b[90mmod\u001b[39m::\u001b[0mModule, \u001b[90mcode\u001b[39m::\u001b[0mString, \u001b[90mfilename\u001b[39m::\u001b[0mString\u001b[0m\u001b[1m)\u001b[22m\n",
            "\u001b[33m\u001b[1m│ \u001b[22m\u001b[39m   \u001b[90m    @\u001b[39m \u001b[90mBase\u001b[39m \u001b[90m./\u001b[39m\u001b[90m\u001b[4mloading.jl:2734\u001b[24m\u001b[39m\n",
            "\u001b[33m\u001b[1m│ \u001b[22m\u001b[39m    [11] \u001b[0m\u001b[1msoftscope_include_string\u001b[22m\u001b[0m\u001b[1m(\u001b[22m\u001b[90mm\u001b[39m::\u001b[0mModule, \u001b[90mcode\u001b[39m::\u001b[0mString, \u001b[90mfilename\u001b[39m::\u001b[0mString\u001b[0m\u001b[1m)\u001b[22m\n",
            "\u001b[33m\u001b[1m│ \u001b[22m\u001b[39m   \u001b[90m    @\u001b[39m \u001b[36mSoftGlobalScope\u001b[39m \u001b[90m~/.julia/packages/SoftGlobalScope/u4UzH/src/\u001b[39m\u001b[90m\u001b[4mSoftGlobalScope.jl:65\u001b[24m\u001b[39m\n",
            "\u001b[33m\u001b[1m│ \u001b[22m\u001b[39m    [12] \u001b[0m\u001b[1mexecute_request\u001b[22m\u001b[0m\u001b[1m(\u001b[22m\u001b[90msocket\u001b[39m::\u001b[0mZMQ.Socket, \u001b[90mmsg\u001b[39m::\u001b[0mIJulia.Msg\u001b[0m\u001b[1m)\u001b[22m\n",
            "\u001b[33m\u001b[1m│ \u001b[22m\u001b[39m   \u001b[90m    @\u001b[39m \u001b[32mIJulia\u001b[39m \u001b[90m~/.julia/packages/IJulia/eenvU/src/\u001b[39m\u001b[90m\u001b[4mexecute_request.jl:81\u001b[24m\u001b[39m\n",
            "\u001b[33m\u001b[1m│ \u001b[22m\u001b[39m    [13] \u001b[0m\u001b[1m#invokelatest#2\u001b[22m\n",
            "\u001b[33m\u001b[1m│ \u001b[22m\u001b[39m   \u001b[90m    @\u001b[39m \u001b[90m./\u001b[39m\u001b[90m\u001b[4messentials.jl:1055\u001b[24m\u001b[39m\u001b[90m [inlined]\u001b[39m\n",
            "\u001b[33m\u001b[1m│ \u001b[22m\u001b[39m    [14] \u001b[0m\u001b[1minvokelatest\u001b[22m\n",
            "\u001b[33m\u001b[1m│ \u001b[22m\u001b[39m   \u001b[90m    @\u001b[39m \u001b[90m./\u001b[39m\u001b[90m\u001b[4messentials.jl:1052\u001b[24m\u001b[39m\u001b[90m [inlined]\u001b[39m\n",
            "\u001b[33m\u001b[1m│ \u001b[22m\u001b[39m    [15] \u001b[0m\u001b[1meventloop\u001b[22m\u001b[0m\u001b[1m(\u001b[22m\u001b[90msocket\u001b[39m::\u001b[0mZMQ.Socket\u001b[0m\u001b[1m)\u001b[22m\n",
            "\u001b[33m\u001b[1m│ \u001b[22m\u001b[39m   \u001b[90m    @\u001b[39m \u001b[32mIJulia\u001b[39m \u001b[90m~/.julia/packages/IJulia/eenvU/src/\u001b[39m\u001b[90m\u001b[4meventloop.jl:14\u001b[24m\u001b[39m\n",
            "\u001b[33m\u001b[1m│ \u001b[22m\u001b[39m    [16] \u001b[0m\u001b[1meventloop\u001b[22m\u001b[0m\u001b[1m(\u001b[22m\u001b[90msocket\u001b[39m::\u001b[0mZMQ.Socket\u001b[0m\u001b[1m)\u001b[22m\u001b[90m (repeats 2 times)\u001b[39m\n",
            "\u001b[33m\u001b[1m│ \u001b[22m\u001b[39m   \u001b[90m    @\u001b[39m \u001b[32mIJulia\u001b[39m \u001b[90m~/.julia/packages/IJulia/eenvU/src/\u001b[39m\u001b[90m\u001b[4meventloop.jl:41\u001b[24m\u001b[39m\n",
            "\u001b[33m\u001b[1m│ \u001b[22m\u001b[39m    [17] \u001b[0m\u001b[1m(::IJulia.var\"#13#16\")\u001b[22m\u001b[0m\u001b[1m(\u001b[22m\u001b[0m\u001b[1m)\u001b[22m\n",
            "\u001b[33m\u001b[1m│ \u001b[22m\u001b[39m   \u001b[90m    @\u001b[39m \u001b[32mIJulia\u001b[39m \u001b[90m~/.julia/packages/IJulia/eenvU/src/\u001b[39m\u001b[90m\u001b[4meventloop.jl:58\u001b[24m\u001b[39m\n",
            "\u001b[33m\u001b[1m└ \u001b[22m\u001b[39m\u001b[90m@ NighttimeLights ~/.julia/packages/NighttimeLights/PstBy/src/data_cleaning/full_procedures.jl:110\u001b[39m\n"
          ]
        }
      ]
    }
  ]
}