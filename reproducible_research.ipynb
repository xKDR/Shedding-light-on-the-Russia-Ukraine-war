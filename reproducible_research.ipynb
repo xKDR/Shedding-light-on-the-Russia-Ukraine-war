{
  "nbformat": 4,
  "nbformat_minor": 0,
  "metadata": {
    "colab": {
      "provenance": [],
      "authorship_tag": "ABX9TyOH/pd54y3qsEdIL2mkOejt",
      "include_colab_link": true
    },
    "kernelspec": {
      "name": "julia",
      "display_name": "Julia"
    },
    "language_info": {
      "name": "julia"
    }
  },
  "cells": [
    {
      "cell_type": "markdown",
      "metadata": {
        "id": "view-in-github",
        "colab_type": "text"
      },
      "source": [
        "<a href=\"https://colab.research.google.com/github/xKDR/Shedding-light-on-the-Russia-Ukraine-war/blob/main/reproducible_research.ipynb\" target=\"_parent\"><img src=\"https://colab.research.google.com/assets/colab-badge.svg\" alt=\"Open In Colab\"/></a>"
      ]
    },
    {
      "cell_type": "markdown",
      "source": [
        "# WORK IN PROGRESS"
      ],
      "metadata": {
        "id": "tZb_-dtt1bgN"
      }
    },
    {
      "cell_type": "code",
      "source": [
        "using Pkg\n",
        "Pkg.add([\"GeoJSON\", \"NighttimeLights\", \"Rasters\", \"CSV\", \"Dates\", \"DataFrames\"])"
      ],
      "metadata": {
        "colab": {
          "base_uri": "https://localhost:8080/"
        },
        "id": "RKt6qxnCnyrM",
        "outputId": "34ecc9ff-bf21-46f3-b145-e33345259da4"
      },
      "execution_count": 20,
      "outputs": [
        {
          "output_type": "stream",
          "name": "stderr",
          "text": [
            "\u001b[32m\u001b[1m   Resolving\u001b[22m\u001b[39m package versions...\n",
            "\u001b[32m\u001b[1m  No Changes\u001b[22m\u001b[39m to `~/.julia/environments/v1.11/Project.toml`\n",
            "\u001b[32m\u001b[1m  No Changes\u001b[22m\u001b[39m to `~/.julia/environments/v1.11/Manifest.toml`\n",
            "\u001b[92m\u001b[1mPrecompiling\u001b[22m\u001b[39m project...\n",
            "  17718.1 ms\u001b[33m  ? \u001b[39mNighttimeLights\n",
            "  18654.4 ms\u001b[33m  ? \u001b[39mRasters → RastersMakieExt\n"
          ]
        }
      ]
    },
    {
      "cell_type": "code",
      "source": [
        ";git clone https://github.com/xKDR/Shedding-light-on-the-Russia-Ukraine-war.git"
      ],
      "metadata": {
        "colab": {
          "base_uri": "https://localhost:8080/"
        },
        "id": "6YZptoMMoZ4i",
        "outputId": "11b9a9fe-fefc-44d7-b98d-677ef6847013"
      },
      "execution_count": 66,
      "outputs": [
        {
          "output_type": "stream",
          "name": "stderr",
          "text": [
            "Cloning into 'Shedding-light-on-the-Russia-Ukraine-war'...\n",
            "Updating files: 100% (272/272), done.\n"
          ]
        }
      ]
    },
    {
      "cell_type": "code",
      "source": [
        "## Fetching the raster files\n",
        "## This will take around 5 mins\n",
        "\n",
        "run(`apt-get install git-lfs -y`)\n",
        "run(`git lfs install`)\n",
        "cd(\"Shedding-light-on-the-Russia-Ukraine-war\")\n",
        "run(`git lfs pull`)"
      ],
      "metadata": {
        "colab": {
          "base_uri": "https://localhost:8080/",
          "height": 275
        },
        "id": "w5Qth_eTaA5h",
        "outputId": "a14834b9-75c3-45ca-fd3e-c2f5a892a349"
      },
      "execution_count": 69,
      "outputs": [
        {
          "output_type": "stream",
          "name": "stdout",
          "text": [
            "Reading package lists..."
          ]
        },
        {
          "output_type": "error",
          "ename": "LoadError",
          "evalue": "failed process: Process(`\u001b[4mapt-get\u001b[24m \u001b[4minstall\u001b[24m \u001b[4mgit-lfs\u001b[24m \u001b[4m-y\u001b[24m`, ProcessSignaled(2)) [0]\n",
          "traceback": [
            "failed process: Process(`\u001b[4mapt-get\u001b[24m \u001b[4minstall\u001b[24m \u001b[4mgit-lfs\u001b[24m \u001b[4m-y\u001b[24m`, ProcessSignaled(2)) [0]\n",
            "",
            "Stacktrace:",
            " [1] \u001b[0m\u001b[1mpipeline_error\u001b[22m",
            "\u001b[90m   @\u001b[39m \u001b[90m./\u001b[39m\u001b[90m\u001b[4mprocess.jl:598\u001b[24m\u001b[39m\u001b[90m [inlined]\u001b[39m",
            " [2] \u001b[0m\u001b[1mrun\u001b[22m\u001b[0m\u001b[1m(\u001b[22m::\u001b[0mCmd; \u001b[90mwait\u001b[39m::\u001b[0mBool\u001b[0m\u001b[1m)\u001b[22m",
            "\u001b[90m   @\u001b[39m \u001b[90mBase\u001b[39m \u001b[90m./\u001b[39m\u001b[90m\u001b[4mprocess.jl:513\u001b[24m\u001b[39m",
            " [3] \u001b[0m\u001b[1mrun\u001b[22m\u001b[0m\u001b[1m(\u001b[22m::\u001b[0mCmd\u001b[0m\u001b[1m)\u001b[22m",
            "\u001b[90m   @\u001b[39m \u001b[90mBase\u001b[39m \u001b[90m./\u001b[39m\u001b[90m\u001b[4mprocess.jl:510\u001b[24m\u001b[39m",
            " [4] top-level scope",
            "\u001b[90m   @\u001b[39m \u001b[90m\u001b[4mIn[69]:4\u001b[24m\u001b[39m"
          ]
        }
      ]
    },
    {
      "cell_type": "code",
      "source": [
        "using GeoJSON\n",
        "using GeoDataFrames\n",
        "using DataFrames\n",
        "using NighttimeLights\n",
        "using Rasters\n",
        "using CSV\n",
        "using Dates"
      ],
      "metadata": {
        "id": "7xAps6hLTXE4"
      },
      "execution_count": 21,
      "outputs": []
    },
    {
      "cell_type": "code",
      "execution_count": 174,
      "metadata": {
        "id": "Om9EPhk7TF3a",
        "colab": {
          "base_uri": "https://localhost:8080/"
        },
        "outputId": "92b6177d-a50a-4ce2-c63e-d8c544769563"
      },
      "outputs": [
        {
          "output_type": "execute_result",
          "data": {
            "text/plain": [
              "\"/content/Shedding-light-on-the-Russia-Ukraine-war/data/raster/cf_cropped\""
            ]
          },
          "metadata": {},
          "execution_count": 174
        }
      ],
      "source": [
        "# Define path constants\n",
        "const FIGURES_DIRECTORY = \"figures\"\n",
        "const TABLES_DIRECTORY = \"tables\"\n",
        "const VECTOR_DIRECTORY = \"data/vector\"\n",
        "const TABULAR_DIRECTORY = \"data/tabular\"\n",
        "const RADIANCE_RASTER_DIRECTORY = \"/content/Shedding-light-on-the-Russia-Ukraine-war/data/raster/rad_cropped\"\n",
        "const CFOBS_RASTER_DIRECTORY = \"/content/Shedding-light-on-the-Russia-Ukraine-war/data/raster/cf_cropped\""
      ]
    },
    {
      "cell_type": "code",
      "source": [
        "const START_DATE = Date(2014, 1)\n",
        "const END_DATE = Date(2016, 1)"
      ],
      "metadata": {
        "colab": {
          "base_uri": "https://localhost:8080/"
        },
        "id": "VbY_ee1ip6Ev",
        "outputId": "320be225-003c-4a34-b46b-49c8def6dc77"
      },
      "execution_count": 100,
      "outputs": [
        {
          "output_type": "stream",
          "name": "stderr",
          "text": [
            "WARNING: redefinition of constant Main.END_DATE. This may fail, cause incorrect answers, or produce other errors.\n"
          ]
        },
        {
          "output_type": "execute_result",
          "data": {
            "text/plain": [
              "2016-01-01"
            ]
          },
          "metadata": {},
          "execution_count": 100
        }
      ]
    },
    {
      "cell_type": "code",
      "source": [
        "function read_vector(filename)\n",
        "# Use GeoJSON.read, which expects an IO\n",
        "    geo = open(filename) do f\n",
        "        GeoJSON.read(f)\n",
        "    end\n",
        "\n",
        "    # Now extract features\n",
        "    features = geo.features\n",
        "\n",
        "    # Build DataFrame with properties + geometry\n",
        "    return DataFrame([merge(Dict(f.properties), Dict(:geometry => f.geometry)) for f in features])\n",
        "end"
      ],
      "metadata": {
        "colab": {
          "base_uri": "https://localhost:8080/"
        },
        "id": "_PpsdO1cRZNS",
        "outputId": "e564cce1-f0b9-43ca-bfad-55b030a8030c"
      },
      "execution_count": 24,
      "outputs": [
        {
          "output_type": "execute_result",
          "data": {
            "text/plain": [
              "read_vector (generic function with 1 method)"
            ]
          },
          "metadata": {},
          "execution_count": 24
        }
      ]
    },
    {
      "cell_type": "code",
      "source": [
        "russia_state_split = read_vector(\"/content/Shedding-light-on-the-Russia-Ukraine-war/data/vector/russia_processing.geojson\")"
      ],
      "metadata": {
        "colab": {
          "base_uri": "https://localhost:8080/",
          "height": 1000
        },
        "collapsed": true,
        "id": "tyM2nBdeS3iZ",
        "outputId": "0d6b6e01-5f15-446e-f365-822b5cedd547"
      },
      "execution_count": 25,
      "outputs": [
        {
          "output_type": "execute_result",
          "data": {
            "text/plain": [
              "\u001b[1m101×14 DataFrame\n",
              "\u001b[1m Row │\u001b[1m geometry        \u001b[1m NAME_1        \u001b[1m NL_NAME_1             \u001b[1m GID_0  \u001b[1m VARNAME_ ⋯\n",
              "     │\u001b[90m Abstract…       \u001b[90m String        \u001b[90m String                \u001b[90m String \u001b[90m String   ⋯\n",
              "─────┼──────────────────────────────────────────────────────────────────────────\n",
              "   1 │ 2D Polygon       Chukot1        Чукотский АОк          RUS     Chukotka ⋯\n",
              "   2 │ 2D Polygon       Chukot2_cross  Чукотский АОк          RUS     Chukotka\n",
              "   3 │ 2D Polygon       Chukot3        Чукотский АОк          RUS     Chukotka\n",
              "   4 │ 2D Polygon       Chukot4        Чукотский АОк          RUS     Chukotka\n",
              "   5 │ 2D Polygon       Chukot5_cross  Чукотский АОк          RUS     Chukotka ⋯\n",
              "   6 │ 2D Polygon       Krasnoyarsk1   Красноярский край      RUS     Krasnoya\n",
              "   7 │ 2D Polygon       Krasnoyarsk2   Красноярский край      RUS     Krasnoya\n",
              "   8 │ 2D MultiPolygon  Krasnoyarsk3   Красноярский край      RUS     Krasnoya\n",
              "   9 │ 2D Polygon       Krasnoyarsk4   Красноярский край      RUS     Krasnoya ⋯\n",
              "  10 │ 2D Polygon       Krasnoyarsk5   Красноярский край      RUS     Krasnoya\n",
              "  11 │ 2D Polygon       Krasnoyarsk6   Красноярский край      RUS     Krasnoya\n",
              "  ⋮  │        ⋮               ⋮                  ⋮              ⋮              ⋱\n",
              "  92 │ 2D Polygon       Udmurt         Удмуртская Республика  RUS     Udmurtiy\n",
              "  93 │ 2D Polygon       Ul'yanovsk     Ульяновская область    RUS     Simbirsk ⋯\n",
              "  94 │ 2D Polygon       Vladimir       Владимирская область   RUS     Vladimir\n",
              "  95 │ 2D Polygon       Volgograd      Волгоградская область  RUS     Stalingr\n",
              "  96 │ 2D Polygon       Vologda        Вологодская область    RUS     Vologods\n",
              "  97 │ 2D Polygon       Voronezh       Воронежская область    RUS     Voronezh ⋯\n",
              "  98 │ 2D MultiPolygon  Yamal-Nenets   Ямало-Ненецкий АОк     RUS     Yamalo-N\n",
              "  99 │ 2D Polygon       Yaroslavl'     Ярославская область    RUS     Yaroslav\n",
              " 100 │ 2D Polygon       Yevrey         Eврейская АОб          RUS     Den jødi\n",
              " 101 │ 2D MultiPolygon  Zabaykal'ye    Забайкальский край     RUS     Zabaykal ⋯\n",
              "\u001b[36m                                                  10 columns and 80 rows omitted"
            ],
            "text/html": [
              "<div><div style = \"float: left;\"><span>101×14 DataFrame</span></div><div style = \"float: right;\"><span style = \"font-style: italic;\">76 rows omitted</span></div><div style = \"clear: both;\"></div></div><div class = \"data-frame\" style = \"overflow-x: scroll;\"><table class = \"data-frame\" style = \"margin-bottom: 6px;\"><thead><tr class = \"header\"><th class = \"rowNumber\" style = \"font-weight: bold; text-align: right;\">Row</th><th style = \"text-align: left;\">geometry</th><th style = \"text-align: left;\">NAME_1</th><th style = \"text-align: left;\">NL_NAME_1</th><th style = \"text-align: left;\">GID_0</th><th style = \"text-align: left;\">VARNAME_1</th><th style = \"text-align: left;\">HASC_1</th><th style = \"text-align: left;\">ISO_1</th><th style = \"text-align: left;\">path</th><th style = \"text-align: left;\">TYPE_1</th><th style = \"text-align: left;\">GID_1</th><th style = \"text-align: left;\">COUNTRY</th><th style = \"text-align: left;\">CC_1</th><th style = \"text-align: left;\">ENGTYPE_1</th><th style = \"text-align: left;\">layer</th></tr><tr class = \"subheader headerLastRow\"><th class = \"rowNumber\" style = \"font-weight: bold; text-align: right;\"></th><th title = \"GeoJSON.AbstractGeometry{2, Float32}\" style = \"text-align: left;\">Abstract…</th><th title = \"String\" style = \"text-align: left;\">String</th><th title = \"String\" style = \"text-align: left;\">String</th><th title = \"String\" style = \"text-align: left;\">String</th><th title = \"String\" style = \"text-align: left;\">String</th><th title = \"String\" style = \"text-align: left;\">String</th><th title = \"String\" style = \"text-align: left;\">String</th><th title = \"String\" style = \"text-align: left;\">String</th><th title = \"String\" style = \"text-align: left;\">String</th><th title = \"String\" style = \"text-align: left;\">String</th><th title = \"String\" style = \"text-align: left;\">String</th><th title = \"String\" style = \"text-align: left;\">String</th><th title = \"String\" style = \"text-align: left;\">String</th><th title = \"String\" style = \"text-align: left;\">String</th></tr></thead><tbody><tr><td class = \"rowNumber\" style = \"font-weight: bold; text-align: right;\">1</td><td style = \"text-align: left;\">2D Polygon</td><td style = \"text-align: left;\">Chukot1</td><td style = \"text-align: left;\">Чукотский АОк</td><td style = \"text-align: left;\">RUS</td><td style = \"text-align: left;\">Chukotka|Chukotskiy Aok</td><td style = \"text-align: left;\">RU.CK</td><td style = \"text-align: left;\">NA</td><td style = \"text-align: left;\">Polygon?crs=EPSG:4326&amp;field=GID_1:string(10,0)&amp;field=GID_0:string(10,0)&amp;field=COUNTRY:string(10,0)&amp;field=NAME_1:string(22,0)&amp;field=VARNAME_1:string(34,0)&amp;field=NL_NAME_1:string(61,0)&amp;field=TYPE_1:string(18,0)&amp;field=ENGTYPE_1:string(19,0)&amp;field=CC_1:strin</td><td style = \"text-align: left;\">Avtonomnyy Okrug</td><td style = \"text-align: left;\">RUS.12_1</td><td style = \"text-align: left;\">Russia</td><td style = \"text-align: left;\">7001</td><td style = \"text-align: left;\">Autonomous Province</td><td style = \"text-align: left;\">Single parts</td></tr><tr><td class = \"rowNumber\" style = \"font-weight: bold; text-align: right;\">2</td><td style = \"text-align: left;\">2D Polygon</td><td style = \"text-align: left;\">Chukot2_cross</td><td style = \"text-align: left;\">Чукотский АОк</td><td style = \"text-align: left;\">RUS</td><td style = \"text-align: left;\">Chukotka|Chukotskiy Aok</td><td style = \"text-align: left;\">RU.CK</td><td style = \"text-align: left;\">NA</td><td style = \"text-align: left;\">Polygon?crs=EPSG:4326&amp;field=GID_1:string(10,0)&amp;field=GID_0:string(10,0)&amp;field=COUNTRY:string(10,0)&amp;field=NAME_1:string(22,0)&amp;field=VARNAME_1:string(34,0)&amp;field=NL_NAME_1:string(61,0)&amp;field=TYPE_1:string(18,0)&amp;field=ENGTYPE_1:string(19,0)&amp;field=CC_1:strin</td><td style = \"text-align: left;\">Avtonomnyy Okrug</td><td style = \"text-align: left;\">RUS.12_1</td><td style = \"text-align: left;\">Russia</td><td style = \"text-align: left;\">7001</td><td style = \"text-align: left;\">Autonomous Province</td><td style = \"text-align: left;\">Single parts</td></tr><tr><td class = \"rowNumber\" style = \"font-weight: bold; text-align: right;\">3</td><td style = \"text-align: left;\">2D Polygon</td><td style = \"text-align: left;\">Chukot3</td><td style = \"text-align: left;\">Чукотский АОк</td><td style = \"text-align: left;\">RUS</td><td style = \"text-align: left;\">Chukotka|Chukotskiy Aok</td><td style = \"text-align: left;\">RU.CK</td><td style = \"text-align: left;\">NA</td><td style = \"text-align: left;\">Polygon?crs=EPSG:4326&amp;field=GID_1:string(10,0)&amp;field=GID_0:string(10,0)&amp;field=COUNTRY:string(10,0)&amp;field=NAME_1:string(22,0)&amp;field=VARNAME_1:string(34,0)&amp;field=NL_NAME_1:string(61,0)&amp;field=TYPE_1:string(18,0)&amp;field=ENGTYPE_1:string(19,0)&amp;field=CC_1:strin</td><td style = \"text-align: left;\">Avtonomnyy Okrug</td><td style = \"text-align: left;\">RUS.12_1</td><td style = \"text-align: left;\">Russia</td><td style = \"text-align: left;\">7001</td><td style = \"text-align: left;\">Autonomous Province</td><td style = \"text-align: left;\">Single parts</td></tr><tr><td class = \"rowNumber\" style = \"font-weight: bold; text-align: right;\">4</td><td style = \"text-align: left;\">2D Polygon</td><td style = \"text-align: left;\">Chukot4</td><td style = \"text-align: left;\">Чукотский АОк</td><td style = \"text-align: left;\">RUS</td><td style = \"text-align: left;\">Chukotka|Chukotskiy Aok</td><td style = \"text-align: left;\">RU.CK</td><td style = \"text-align: left;\">NA</td><td style = \"text-align: left;\">Polygon?crs=EPSG:4326&amp;field=GID_1:string(10,0)&amp;field=GID_0:string(10,0)&amp;field=COUNTRY:string(10,0)&amp;field=NAME_1:string(22,0)&amp;field=VARNAME_1:string(34,0)&amp;field=NL_NAME_1:string(61,0)&amp;field=TYPE_1:string(18,0)&amp;field=ENGTYPE_1:string(19,0)&amp;field=CC_1:strin</td><td style = \"text-align: left;\">Avtonomnyy Okrug</td><td style = \"text-align: left;\">RUS.12_1</td><td style = \"text-align: left;\">Russia</td><td style = \"text-align: left;\">7001</td><td style = \"text-align: left;\">Autonomous Province</td><td style = \"text-align: left;\">Single parts</td></tr><tr><td class = \"rowNumber\" style = \"font-weight: bold; text-align: right;\">5</td><td style = \"text-align: left;\">2D Polygon</td><td style = \"text-align: left;\">Chukot5_cross</td><td style = \"text-align: left;\">Чукотский АОк</td><td style = \"text-align: left;\">RUS</td><td style = \"text-align: left;\">Chukotka|Chukotskiy Aok</td><td style = \"text-align: left;\">RU.CK</td><td style = \"text-align: left;\">NA</td><td style = \"text-align: left;\">Polygon?crs=EPSG:4326&amp;field=GID_1:string(10,0)&amp;field=GID_0:string(10,0)&amp;field=COUNTRY:string(10,0)&amp;field=NAME_1:string(22,0)&amp;field=VARNAME_1:string(34,0)&amp;field=NL_NAME_1:string(61,0)&amp;field=TYPE_1:string(18,0)&amp;field=ENGTYPE_1:string(19,0)&amp;field=CC_1:strin</td><td style = \"text-align: left;\">Avtonomnyy Okrug</td><td style = \"text-align: left;\">RUS.12_1</td><td style = \"text-align: left;\">Russia</td><td style = \"text-align: left;\">7001</td><td style = \"text-align: left;\">Autonomous Province</td><td style = \"text-align: left;\">Single parts</td></tr><tr><td class = \"rowNumber\" style = \"font-weight: bold; text-align: right;\">6</td><td style = \"text-align: left;\">2D Polygon</td><td style = \"text-align: left;\">Krasnoyarsk1</td><td style = \"text-align: left;\">Красноярский край</td><td style = \"text-align: left;\">RUS</td><td style = \"text-align: left;\">Krasnoyarskiy Kray|Yeniseisk|Yen</td><td style = \"text-align: left;\">RU.KX</td><td style = \"text-align: left;\">NA</td><td style = \"text-align: left;\">/Users/ayushpatnaik/REPOSITORIES/nightlights/DATA/MAPS/RUSSIA_BOUNDARY/split_states.shp</td><td style = \"text-align: left;\">Kray</td><td style = \"text-align: left;\">RUS.35_1</td><td style = \"text-align: left;\">Russia</td><td style = \"text-align: left;\">6209</td><td style = \"text-align: left;\">Territory</td><td style = \"text-align: left;\">split_states</td></tr><tr><td class = \"rowNumber\" style = \"font-weight: bold; text-align: right;\">7</td><td style = \"text-align: left;\">2D Polygon</td><td style = \"text-align: left;\">Krasnoyarsk2</td><td style = \"text-align: left;\">Красноярский край</td><td style = \"text-align: left;\">RUS</td><td style = \"text-align: left;\">Krasnoyarskiy Kray|Yeniseisk|Yen</td><td style = \"text-align: left;\">RU.KX</td><td style = \"text-align: left;\">NA</td><td style = \"text-align: left;\">/Users/ayushpatnaik/REPOSITORIES/nightlights/DATA/MAPS/RUSSIA_BOUNDARY/split_states.shp</td><td style = \"text-align: left;\">Kray</td><td style = \"text-align: left;\">RUS.35_1</td><td style = \"text-align: left;\">Russia</td><td style = \"text-align: left;\">6209</td><td style = \"text-align: left;\">Territory</td><td style = \"text-align: left;\">split_states</td></tr><tr><td class = \"rowNumber\" style = \"font-weight: bold; text-align: right;\">8</td><td style = \"text-align: left;\">2D MultiPolygon</td><td style = \"text-align: left;\">Krasnoyarsk3</td><td style = \"text-align: left;\">Красноярский край</td><td style = \"text-align: left;\">RUS</td><td style = \"text-align: left;\">Krasnoyarskiy Kray|Yeniseisk|Yen</td><td style = \"text-align: left;\">RU.KX</td><td style = \"text-align: left;\">NA</td><td style = \"text-align: left;\">/Users/ayushpatnaik/REPOSITORIES/nightlights/DATA/MAPS/RUSSIA_BOUNDARY/split_states.shp</td><td style = \"text-align: left;\">Kray</td><td style = \"text-align: left;\">RUS.35_1</td><td style = \"text-align: left;\">Russia</td><td style = \"text-align: left;\">6209</td><td style = \"text-align: left;\">Territory</td><td style = \"text-align: left;\">split_states</td></tr><tr><td class = \"rowNumber\" style = \"font-weight: bold; text-align: right;\">9</td><td style = \"text-align: left;\">2D Polygon</td><td style = \"text-align: left;\">Krasnoyarsk4</td><td style = \"text-align: left;\">Красноярский край</td><td style = \"text-align: left;\">RUS</td><td style = \"text-align: left;\">Krasnoyarskiy Kray|Yeniseisk|Yen</td><td style = \"text-align: left;\">RU.KX</td><td style = \"text-align: left;\">NA</td><td style = \"text-align: left;\">/Users/ayushpatnaik/REPOSITORIES/nightlights/DATA/MAPS/RUSSIA_BOUNDARY/split_states.shp</td><td style = \"text-align: left;\">Kray</td><td style = \"text-align: left;\">RUS.35_1</td><td style = \"text-align: left;\">Russia</td><td style = \"text-align: left;\">6209</td><td style = \"text-align: left;\">Territory</td><td style = \"text-align: left;\">split_states</td></tr><tr><td class = \"rowNumber\" style = \"font-weight: bold; text-align: right;\">10</td><td style = \"text-align: left;\">2D Polygon</td><td style = \"text-align: left;\">Krasnoyarsk5</td><td style = \"text-align: left;\">Красноярский край</td><td style = \"text-align: left;\">RUS</td><td style = \"text-align: left;\">Krasnoyarskiy Kray|Yeniseisk|Yen</td><td style = \"text-align: left;\">RU.KX</td><td style = \"text-align: left;\">NA</td><td style = \"text-align: left;\">/Users/ayushpatnaik/REPOSITORIES/nightlights/DATA/MAPS/RUSSIA_BOUNDARY/split_states.shp</td><td style = \"text-align: left;\">Kray</td><td style = \"text-align: left;\">RUS.35_1</td><td style = \"text-align: left;\">Russia</td><td style = \"text-align: left;\">6209</td><td style = \"text-align: left;\">Territory</td><td style = \"text-align: left;\">split_states</td></tr><tr><td class = \"rowNumber\" style = \"font-weight: bold; text-align: right;\">11</td><td style = \"text-align: left;\">2D Polygon</td><td style = \"text-align: left;\">Krasnoyarsk6</td><td style = \"text-align: left;\">Красноярский край</td><td style = \"text-align: left;\">RUS</td><td style = \"text-align: left;\">Krasnoyarskiy Kray|Yeniseisk|Yen</td><td style = \"text-align: left;\">RU.KX</td><td style = \"text-align: left;\">NA</td><td style = \"text-align: left;\">/Users/ayushpatnaik/REPOSITORIES/nightlights/DATA/MAPS/RUSSIA_BOUNDARY/split_states.shp</td><td style = \"text-align: left;\">Kray</td><td style = \"text-align: left;\">RUS.35_1</td><td style = \"text-align: left;\">Russia</td><td style = \"text-align: left;\">6209</td><td style = \"text-align: left;\">Territory</td><td style = \"text-align: left;\">split_states</td></tr><tr><td class = \"rowNumber\" style = \"font-weight: bold; text-align: right;\">12</td><td style = \"text-align: left;\">2D Polygon</td><td style = \"text-align: left;\">Krasnoyarsk7</td><td style = \"text-align: left;\">Красноярский край</td><td style = \"text-align: left;\">RUS</td><td style = \"text-align: left;\">Krasnoyarskiy Kray|Yeniseisk|Yen</td><td style = \"text-align: left;\">RU.KX</td><td style = \"text-align: left;\">NA</td><td style = \"text-align: left;\">/Users/ayushpatnaik/REPOSITORIES/nightlights/DATA/MAPS/RUSSIA_BOUNDARY/split_states.shp</td><td style = \"text-align: left;\">Kray</td><td style = \"text-align: left;\">RUS.35_1</td><td style = \"text-align: left;\">Russia</td><td style = \"text-align: left;\">6209</td><td style = \"text-align: left;\">Territory</td><td style = \"text-align: left;\">split_states</td></tr><tr><td class = \"rowNumber\" style = \"font-weight: bold; text-align: right;\">13</td><td style = \"text-align: left;\">2D Polygon</td><td style = \"text-align: left;\">Sakha1</td><td style = \"text-align: left;\">Республика Саха</td><td style = \"text-align: left;\">RUS</td><td style = \"text-align: left;\">Republic of Sakha|Yakutia-Sakha|</td><td style = \"text-align: left;\">RU.SK</td><td style = \"text-align: left;\">NA</td><td style = \"text-align: left;\">/Users/ayushpatnaik/REPOSITORIES/nightlights/DATA/MAPS/RUSSIA_BOUNDARY/split_states.shp</td><td style = \"text-align: left;\">Respublika</td><td style = \"text-align: left;\">RUS.60_1</td><td style = \"text-align: left;\">Russia</td><td style = \"text-align: left;\">NA</td><td style = \"text-align: left;\">Republic</td><td style = \"text-align: left;\">split_states</td></tr><tr><td style = \"text-align: right;\">&vellip;</td><td style = \"text-align: right;\">&vellip;</td><td style = \"text-align: right;\">&vellip;</td><td style = \"text-align: right;\">&vellip;</td><td style = \"text-align: right;\">&vellip;</td><td style = \"text-align: right;\">&vellip;</td><td style = \"text-align: right;\">&vellip;</td><td style = \"text-align: right;\">&vellip;</td><td style = \"text-align: right;\">&vellip;</td><td style = \"text-align: right;\">&vellip;</td><td style = \"text-align: right;\">&vellip;</td><td style = \"text-align: right;\">&vellip;</td><td style = \"text-align: right;\">&vellip;</td><td style = \"text-align: right;\">&vellip;</td><td style = \"text-align: right;\">&vellip;</td></tr><tr><td class = \"rowNumber\" style = \"font-weight: bold; text-align: right;\">90</td><td style = \"text-align: left;\">2D Polygon</td><td style = \"text-align: left;\">Tver&apos;</td><td style = \"text-align: left;\">Тверская область</td><td style = \"text-align: left;\">RUS</td><td style = \"text-align: left;\">Kalinin|Kalininskaya|Tverskaya O</td><td style = \"text-align: left;\">RU.TV</td><td style = \"text-align: left;\">NA</td><td style = \"text-align: left;\">/Users/ayushpatnaik/REPOSITORIES/nightlights/DATA/MAPS/RUSSIA_BOUNDARY/split_states.shp</td><td style = \"text-align: left;\">Oblast</td><td style = \"text-align: left;\">RUS.72_1</td><td style = \"text-align: left;\">Russia</td><td style = \"text-align: left;\">NA</td><td style = \"text-align: left;\">Region</td><td style = \"text-align: left;\">split_states</td></tr><tr><td class = \"rowNumber\" style = \"font-weight: bold; text-align: right;\">91</td><td style = \"text-align: left;\">2D Polygon</td><td style = \"text-align: left;\">Tyumen&apos;</td><td style = \"text-align: left;\">Тюменская область</td><td style = \"text-align: left;\">RUS</td><td style = \"text-align: left;\">Tobol&apos;sk|Tobol&apos;skaya G.|Tyumensk</td><td style = \"text-align: left;\">RU.TY</td><td style = \"text-align: left;\">NA</td><td style = \"text-align: left;\">/Users/ayushpatnaik/REPOSITORIES/nightlights/DATA/MAPS/RUSSIA_BOUNDARY/split_states.shp</td><td style = \"text-align: left;\">Oblast</td><td style = \"text-align: left;\">RUS.73_1</td><td style = \"text-align: left;\">Russia</td><td style = \"text-align: left;\">NA</td><td style = \"text-align: left;\">Region</td><td style = \"text-align: left;\">split_states</td></tr><tr><td class = \"rowNumber\" style = \"font-weight: bold; text-align: right;\">92</td><td style = \"text-align: left;\">2D Polygon</td><td style = \"text-align: left;\">Udmurt</td><td style = \"text-align: left;\">Удмуртская Республика</td><td style = \"text-align: left;\">RUS</td><td style = \"text-align: left;\">Udmurtiya|Udmurt Republic|Udmurt</td><td style = \"text-align: left;\">RU.UD</td><td style = \"text-align: left;\">NA</td><td style = \"text-align: left;\">/Users/ayushpatnaik/REPOSITORIES/nightlights/DATA/MAPS/RUSSIA_BOUNDARY/split_states.shp</td><td style = \"text-align: left;\">Respublika</td><td style = \"text-align: left;\">RUS.74_1</td><td style = \"text-align: left;\">Russia</td><td style = \"text-align: left;\">NA</td><td style = \"text-align: left;\">Republic</td><td style = \"text-align: left;\">split_states</td></tr><tr><td class = \"rowNumber\" style = \"font-weight: bold; text-align: right;\">93</td><td style = \"text-align: left;\">2D Polygon</td><td style = \"text-align: left;\">Ul&apos;yanovsk</td><td style = \"text-align: left;\">Ульяновская область</td><td style = \"text-align: left;\">RUS</td><td style = \"text-align: left;\">Simbirsk|Simbirskaya G.|Ul&apos;yanov</td><td style = \"text-align: left;\">RU.UL</td><td style = \"text-align: left;\">NA</td><td style = \"text-align: left;\">/Users/ayushpatnaik/REPOSITORIES/nightlights/DATA/MAPS/RUSSIA_BOUNDARY/split_states.shp</td><td style = \"text-align: left;\">Oblast</td><td style = \"text-align: left;\">RUS.75_1</td><td style = \"text-align: left;\">Russia</td><td style = \"text-align: left;\">NA</td><td style = \"text-align: left;\">Region</td><td style = \"text-align: left;\">split_states</td></tr><tr><td class = \"rowNumber\" style = \"font-weight: bold; text-align: right;\">94</td><td style = \"text-align: left;\">2D Polygon</td><td style = \"text-align: left;\">Vladimir</td><td style = \"text-align: left;\">Владимирская область</td><td style = \"text-align: left;\">RUS</td><td style = \"text-align: left;\">Vladimirskaya Oblast</td><td style = \"text-align: left;\">RU.VL</td><td style = \"text-align: left;\">NA</td><td style = \"text-align: left;\">/Users/ayushpatnaik/REPOSITORIES/nightlights/DATA/MAPS/RUSSIA_BOUNDARY/split_states.shp</td><td style = \"text-align: left;\">Oblast</td><td style = \"text-align: left;\">RUS.76_1</td><td style = \"text-align: left;\">Russia</td><td style = \"text-align: left;\">NA</td><td style = \"text-align: left;\">Region</td><td style = \"text-align: left;\">split_states</td></tr><tr><td class = \"rowNumber\" style = \"font-weight: bold; text-align: right;\">95</td><td style = \"text-align: left;\">2D Polygon</td><td style = \"text-align: left;\">Volgograd</td><td style = \"text-align: left;\">Волгоградская область</td><td style = \"text-align: left;\">RUS</td><td style = \"text-align: left;\">Stalingrad|Volgogradskaya Oblast</td><td style = \"text-align: left;\">RU.VG</td><td style = \"text-align: left;\">NA</td><td style = \"text-align: left;\">/Users/ayushpatnaik/REPOSITORIES/nightlights/DATA/MAPS/RUSSIA_BOUNDARY/split_states.shp</td><td style = \"text-align: left;\">Oblast</td><td style = \"text-align: left;\">RUS.77_1</td><td style = \"text-align: left;\">Russia</td><td style = \"text-align: left;\">NA</td><td style = \"text-align: left;\">Region</td><td style = \"text-align: left;\">split_states</td></tr><tr><td class = \"rowNumber\" style = \"font-weight: bold; text-align: right;\">96</td><td style = \"text-align: left;\">2D Polygon</td><td style = \"text-align: left;\">Vologda</td><td style = \"text-align: left;\">Вологодская область</td><td style = \"text-align: left;\">RUS</td><td style = \"text-align: left;\">Vologodskaya Oblast</td><td style = \"text-align: left;\">RU.VO</td><td style = \"text-align: left;\">NA</td><td style = \"text-align: left;\">/Users/ayushpatnaik/REPOSITORIES/nightlights/DATA/MAPS/RUSSIA_BOUNDARY/split_states.shp</td><td style = \"text-align: left;\">Oblast</td><td style = \"text-align: left;\">RUS.78_1</td><td style = \"text-align: left;\">Russia</td><td style = \"text-align: left;\">NA</td><td style = \"text-align: left;\">Region</td><td style = \"text-align: left;\">split_states</td></tr><tr><td class = \"rowNumber\" style = \"font-weight: bold; text-align: right;\">97</td><td style = \"text-align: left;\">2D Polygon</td><td style = \"text-align: left;\">Voronezh</td><td style = \"text-align: left;\">Воронежская область</td><td style = \"text-align: left;\">RUS</td><td style = \"text-align: left;\">Voronezhskaya Oblast</td><td style = \"text-align: left;\">RU.VR</td><td style = \"text-align: left;\">NA</td><td style = \"text-align: left;\">/Users/ayushpatnaik/REPOSITORIES/nightlights/DATA/MAPS/RUSSIA_BOUNDARY/split_states.shp</td><td style = \"text-align: left;\">Oblast</td><td style = \"text-align: left;\">RUS.79_1</td><td style = \"text-align: left;\">Russia</td><td style = \"text-align: left;\">NA</td><td style = \"text-align: left;\">Region</td><td style = \"text-align: left;\">split_states</td></tr><tr><td class = \"rowNumber\" style = \"font-weight: bold; text-align: right;\">98</td><td style = \"text-align: left;\">2D MultiPolygon</td><td style = \"text-align: left;\">Yamal-Nenets</td><td style = \"text-align: left;\">Ямало-Ненецкий АОк</td><td style = \"text-align: left;\">RUS</td><td style = \"text-align: left;\">Yamalo-Nenetskiy A. Okrug</td><td style = \"text-align: left;\">RU.YN</td><td style = \"text-align: left;\">NA</td><td style = \"text-align: left;\">/Users/ayushpatnaik/REPOSITORIES/nightlights/DATA/MAPS/RUSSIA_BOUNDARY/split_states.shp</td><td style = \"text-align: left;\">Avtonomnyy Okrug</td><td style = \"text-align: left;\">RUS.80_1</td><td style = \"text-align: left;\">Russia</td><td style = \"text-align: left;\">NA</td><td style = \"text-align: left;\">Autonomous Province</td><td style = \"text-align: left;\">split_states</td></tr><tr><td class = \"rowNumber\" style = \"font-weight: bold; text-align: right;\">99</td><td style = \"text-align: left;\">2D Polygon</td><td style = \"text-align: left;\">Yaroslavl&apos;</td><td style = \"text-align: left;\">Ярославская область</td><td style = \"text-align: left;\">RUS</td><td style = \"text-align: left;\">Yaroslavskaya</td><td style = \"text-align: left;\">RU.YS</td><td style = \"text-align: left;\">NA</td><td style = \"text-align: left;\">/Users/ayushpatnaik/REPOSITORIES/nightlights/DATA/MAPS/RUSSIA_BOUNDARY/split_states.shp</td><td style = \"text-align: left;\">Oblast</td><td style = \"text-align: left;\">RUS.81_1</td><td style = \"text-align: left;\">Russia</td><td style = \"text-align: left;\">NA</td><td style = \"text-align: left;\">Region</td><td style = \"text-align: left;\">split_states</td></tr><tr><td class = \"rowNumber\" style = \"font-weight: bold; text-align: right;\">100</td><td style = \"text-align: left;\">2D Polygon</td><td style = \"text-align: left;\">Yevrey</td><td style = \"text-align: left;\">Eврейская АОб</td><td style = \"text-align: left;\">RUS</td><td style = \"text-align: left;\">Den jødiske autonome oblasten|Ev</td><td style = \"text-align: left;\">RU.YV</td><td style = \"text-align: left;\">NA</td><td style = \"text-align: left;\">/Users/ayushpatnaik/REPOSITORIES/nightlights/DATA/MAPS/RUSSIA_BOUNDARY/split_states.shp</td><td style = \"text-align: left;\">Avtonomnaya Oblast</td><td style = \"text-align: left;\">RUS.82_1</td><td style = \"text-align: left;\">Russia</td><td style = \"text-align: left;\">6701</td><td style = \"text-align: left;\">Autonomous Region</td><td style = \"text-align: left;\">split_states</td></tr><tr><td class = \"rowNumber\" style = \"font-weight: bold; text-align: right;\">101</td><td style = \"text-align: left;\">2D MultiPolygon</td><td style = \"text-align: left;\">Zabaykal&apos;ye</td><td style = \"text-align: left;\">Забайкальский край</td><td style = \"text-align: left;\">RUS</td><td style = \"text-align: left;\">Zabaykalsky</td><td style = \"text-align: left;\">RU.ZB</td><td style = \"text-align: left;\">NA</td><td style = \"text-align: left;\">/Users/ayushpatnaik/REPOSITORIES/nightlights/DATA/MAPS/RUSSIA_BOUNDARY/split_states.shp</td><td style = \"text-align: left;\">Kray</td><td style = \"text-align: left;\">RUS.83_1</td><td style = \"text-align: left;\">Russia</td><td style = \"text-align: left;\">NA</td><td style = \"text-align: left;\">Territory</td><td style = \"text-align: left;\">split_states</td></tr></tbody></table></div>"
            ],
            "text/latex": "\\begin{tabular}{r|cccccc}\n\t& geometry & NAME\\_1 & NL\\_NAME\\_1 & GID\\_0 & VARNAME\\_1 & \\\\\n\t\\hline\n\t& Abstract… & String & String & String & String & \\\\\n\t\\hline\n\t1 & 2D Polygon & Chukot1 & Чукотский АОк & RUS & Chukotka|Chukotskiy Aok & $\\dots$ \\\\\n\t2 & 2D Polygon & Chukot2\\_cross & Чукотский АОк & RUS & Chukotka|Chukotskiy Aok & $\\dots$ \\\\\n\t3 & 2D Polygon & Chukot3 & Чукотский АОк & RUS & Chukotka|Chukotskiy Aok & $\\dots$ \\\\\n\t4 & 2D Polygon & Chukot4 & Чукотский АОк & RUS & Chukotka|Chukotskiy Aok & $\\dots$ \\\\\n\t5 & 2D Polygon & Chukot5\\_cross & Чукотский АОк & RUS & Chukotka|Chukotskiy Aok & $\\dots$ \\\\\n\t6 & 2D Polygon & Krasnoyarsk1 & Красноярский край & RUS & Krasnoyarskiy Kray|Yeniseisk|Yen & $\\dots$ \\\\\n\t7 & 2D Polygon & Krasnoyarsk2 & Красноярский край & RUS & Krasnoyarskiy Kray|Yeniseisk|Yen & $\\dots$ \\\\\n\t8 & 2D MultiPolygon & Krasnoyarsk3 & Красноярский край & RUS & Krasnoyarskiy Kray|Yeniseisk|Yen & $\\dots$ \\\\\n\t9 & 2D Polygon & Krasnoyarsk4 & Красноярский край & RUS & Krasnoyarskiy Kray|Yeniseisk|Yen & $\\dots$ \\\\\n\t10 & 2D Polygon & Krasnoyarsk5 & Красноярский край & RUS & Krasnoyarskiy Kray|Yeniseisk|Yen & $\\dots$ \\\\\n\t11 & 2D Polygon & Krasnoyarsk6 & Красноярский край & RUS & Krasnoyarskiy Kray|Yeniseisk|Yen & $\\dots$ \\\\\n\t12 & 2D Polygon & Krasnoyarsk7 & Красноярский край & RUS & Krasnoyarskiy Kray|Yeniseisk|Yen & $\\dots$ \\\\\n\t13 & 2D Polygon & Sakha1 & Республика Саха & RUS & Republic of Sakha|Yakutia-Sakha| & $\\dots$ \\\\\n\t14 & 2D MultiPolygon & Sakha2 & Республика Саха & RUS & Republic of Sakha|Yakutia-Sakha| & $\\dots$ \\\\\n\t15 & 2D Polygon & Sakha3 & Республика Саха & RUS & Republic of Sakha|Yakutia-Sakha| & $\\dots$ \\\\\n\t16 & 2D Polygon & Sakha4 & Республика Саха & RUS & Republic of Sakha|Yakutia-Sakha| & $\\dots$ \\\\\n\t17 & 2D Polygon & Sakha5 & Республика Саха & RUS & Republic of Sakha|Yakutia-Sakha| & $\\dots$ \\\\\n\t18 & 2D Polygon & Sakha6 & Республика Саха & RUS & Republic of Sakha|Yakutia-Sakha| & $\\dots$ \\\\\n\t19 & 2D Polygon & Sakha7 & Республика Саха & RUS & Republic of Sakha|Yakutia-Sakha| & $\\dots$ \\\\\n\t20 & 2D Polygon & Adygey & Республика Адыгея & RUS & Adygea|Adygeya|Adygheya|Republic & $\\dots$ \\\\\n\t21 & 2D Polygon & Altay & Алтайский край & RUS & Altayskiy Kray & $\\dots$ \\\\\n\t22 & 2D Polygon & Amur & Амурская область & RUS & Amurskaya Oblast & $\\dots$ \\\\\n\t23 & 2D MultiPolygon & Arkhangel'sk & Архангельская область & RUS & Arcangelo|Archangel|Archangelsk| & $\\dots$ \\\\\n\t24 & 2D Polygon & Astrakhan' & Астраханская область & RUS & Astrachan|Astrakhanskaya Oblast & $\\dots$ \\\\\n\t25 & 2D Polygon & Bashkortostan & Республика Башкортостан & RUS & Bashkir|Bashkiriya|Bashkirskaya & $\\dots$ \\\\\n\t26 & 2D Polygon & Belgorod & Белгородская область & RUS & Belgorodskaya Oblast & $\\dots$ \\\\\n\t27 & 2D Polygon & Bryansk & Брянская область & RUS & Bryanskaya Oblast & $\\dots$ \\\\\n\t28 & 2D Polygon & Buryat & Республика Бурятия & RUS & Buryatiya|Buryat-Mongol A.S.S.R. & $\\dots$ \\\\\n\t29 & 2D Polygon & Chechnya & Республика Чечено-Ингушская & RUS & Cecenia|Chechenia|Chechênia|Tche & $\\dots$ \\\\\n\t30 & 2D Polygon & Chelyabinsk & Челябинская область & RUS & Chelyabinskaya Oblast & $\\dots$ \\\\\n\t$\\dots$ & $\\dots$ & $\\dots$ & $\\dots$ & $\\dots$ & $\\dots$ &  \\\\\n\\end{tabular}\n"
          },
          "metadata": {},
          "execution_count": 25
        }
      ]
    },
    {
      "cell_type": "code",
      "source": [
        "function safe_centre_of_mass(slice::AbstractArray, state_name::String)\n",
        "    s = sum(skipmissing(slice))\n",
        "    if ismissing(s) || isnan(s) || s == 0.0f0\n",
        "        return [NaN, NaN]\n",
        "    end\n",
        "    try\n",
        "        return NighttimeLights.centre_of_mass(slice)\n",
        "    catch e\n",
        "        if isa(e, InexactError)\n",
        "            println(\"Warning: CoM calculation failed for '$state_name'. Returning [NaN, NaN].\")\n",
        "            return [NaN, NaN]\n",
        "        else\n",
        "            rethrow(e)\n",
        "        end\n",
        "    end\n",
        "end"
      ],
      "metadata": {
        "colab": {
          "base_uri": "https://localhost:8080/"
        },
        "id": "a06mEQU2TUrw",
        "outputId": "a5086059-80ea-4550-ae20-941a8348483e"
      },
      "execution_count": 26,
      "outputs": [
        {
          "output_type": "execute_result",
          "data": {
            "text/plain": [
              "safe_centre_of_mass (generic function with 1 method)"
            ]
          },
          "metadata": {},
          "execution_count": 26
        }
      ]
    },
    {
      "cell_type": "code",
      "source": [
        "import Base.Filesystem: basename\n",
        "\n",
        "\"\"\"\n",
        "Extracts Date from filename.\n",
        "Matches either `YYYY-MM-DD` or `YYYY-MM-DDTHH:MM:SS`.\n",
        "\"\"\"\n",
        "function file_to_date(f::AbstractString)\n",
        "    b = basename(f)\n",
        "    m = match(r\"\\d{4}-\\d{2}-\\d{2}(?:T\\d{2}:\\d{2}:\\d{2})?\", b)\n",
        "    m === nothing && error(\"Cannot parse date from filename: $f\")\n",
        "    s = m.match\n",
        "    if occursin('T', s)\n",
        "        return Date(DateTime(s, dateformat\"yyyy-mm-ddTHH:MM:SS\"))\n",
        "    else\n",
        "        return Date(s, dateformat\"yyyy-mm-dd\")\n",
        "    end\n",
        "end\n",
        "\n",
        "\n",
        "\"\"\"\n",
        "Reads rasters between `start_date` and `end_date`\n",
        "and returns cropped datacubes for radiance and cloud-free observations.\n",
        "\"\"\"\n",
        "function read_region_as_datacubes(region; start_date::Date, end_date::Date,\n",
        "    radiance_path=RADIANCE_RASTER_DIRECTORY, cf_path=CFOBS_RASTER_DIRECTORY)\n",
        "\n",
        "    # all .tif files\n",
        "    rad_all = sort(joinpath.(radiance_path, filter(f -> endswith(f, \".tif\"), readdir(radiance_path))))\n",
        "    cf_all  = sort(joinpath.(cf_path, filter(f -> endswith(f, \".tif\"), readdir(cf_path))))\n",
        "\n",
        "\n",
        "    # restrict to date window\n",
        "    rad_inwin = filter(f -> (d = file_to_date(f); start_date <= d <= end_date), rad_all)\n",
        "    cf_inwin  = filter(f -> (d = file_to_date(f); start_date <= d <= end_date), cf_all)\n",
        "\n",
        "    # sort by extracted date\n",
        "    rad_inwin = rad_inwin[sortperm(file_to_date.(rad_inwin))]\n",
        "    cf_inwin  = cf_inwin[sortperm(file_to_date.(cf_inwin))]\n",
        "\n",
        "    # build raster lists\n",
        "# build raster lists, now fully in memory\n",
        "    rad_rasters = [Rasters.read(crop(Raster(f; lazy=true), to=region)) for f in rad_inwin]\n",
        "    cf_rasters  = [Rasters.read(crop(Raster(f; lazy=true), to=region)) for f in cf_inwin]\n",
        "\n",
        "\n",
        "    # raster series with actual dates\n",
        "    rad_series = RasterSeries(rad_rasters, Ti(file_to_date.(rad_inwin)))\n",
        "    cf_series  = RasterSeries(cf_rasters,  Ti(file_to_date.(cf_inwin)))\n",
        "\n",
        "    # convert to datacubes\n",
        "    rad_datacube = Rasters.combine(rad_series, Ti)\n",
        "    cf_datacube  = Rasters.combine(cf_series, Ti)\n",
        "    return rad_datacube, cf_datacube\n",
        "end\n"
      ],
      "metadata": {
        "colab": {
          "base_uri": "https://localhost:8080/"
        },
        "id": "IBYwssdDVXET",
        "outputId": "5e7e962c-40a3-4321-9986-f06890a92140"
      },
      "execution_count": 172,
      "outputs": [
        {
          "output_type": "execute_result",
          "data": {
            "text/plain": [
              "read_region_as_datacubes"
            ]
          },
          "metadata": {},
          "execution_count": 172
        }
      ]
    },
    {
      "cell_type": "code",
      "source": [
        "radiance, cfobs = read_region_as_datacubes(\n",
        "    russia_state_split.geometry[1];\n",
        "    start_date=START_DATE,\n",
        "    end_date=END_DATE,\n",
        "    radiance_path=RADIANCE_RASTER_DIRECTORY,\n",
        "    cf_path=CFOBS_RASTER_DIRECTORY\n",
        ")"
      ],
      "metadata": {
        "colab": {
          "base_uri": "https://localhost:8080/"
        },
        "id": "LHPcLSGaU2cj",
        "outputId": "6ecaa16e-457d-4cd9-e621-be027420add0"
      },
      "execution_count": 175,
      "outputs": [
        {
          "output_type": "execute_result",
          "data": {
            "text/plain": [
              "(Float32[1.61 1.63 … 0.51 0.54; 1.57 1.64 … 0.55 0.54; … ; 1.67 1.77 … 0.42 0.31; 1.75 1.74 … 0.41 0.38;;; 2.13 2.04 … 0.43 0.46; 2.09 2.09 … 0.44 0.45; … ; 1.66 1.53 … 0.45 0.49; 1.61 1.63 … 0.38 0.38;;; 1.11 0.93 … 0.13 0.11; 1.06 1.05 … 0.1 0.15; … ; 1.51 1.54 … 0.18 0.12; 1.52 1.54 … 0.19 0.21;;; … ;;; 2.46 2.45 … 0.39 0.43; 2.46 2.49 … 0.46 0.49; … ; 1.4 1.34 … 0.31 0.14; 1.29 1.41 … 0.22 0.21;;; 1.99 2.03 … 0.29 0.29; 2.03 2.1 … 0.28 0.33; … ; 2.42 2.45 … 0.02 0.08; 2.46 2.42 … 0.03 0.07;;; 2.01 1.96 … 0.45 0.43; 1.99 1.99 … 0.43 0.41; … ; 2.72 2.56 … 0.62 0.56; 2.83 2.67 … 0.48 0.63], UInt16[0x003e 0x003d … 0x001c 0x001a; 0x0040 0x003e … 0x001b 0x001c; … ; 0x003a 0x003a … 0x0005 0x0004; 0x003a 0x003b … 0x0004 0x0005;;; 0x0020 0x001f … 0x0018 0x0017; 0x0021 0x001f … 0x0018 0x0017; … ; 0x001e 0x0021 … 0x000b 0x000c; 0x001e 0x001f … 0x000a 0x000c;;; 0x001b 0x0019 … 0x001a 0x0018; 0x001b 0x001b … 0x001a 0x0019; … ; 0x001d 0x001d … 0x001a 0x001a; 0x001d 0x001d … 0x001a 0x001b;;; … ;;; 0x002c 0x002b … 0x0018 0x0018; 0x002c 0x002b … 0x001a 0x0019; … ; 0x0010 0x0015 … 0x0007 0x0008; 0x0013 0x0011 … 0x0008 0x0008;;; 0x0032 0x0030 … 0x001b 0x001b; 0x0030 0x0032 … 0x001c 0x001b; … ; 0x0027 0x0027 … 0x0005 0x0003; 0x0027 0x0026 … 0x0004 0x0004;;; 0x0022 0x0025 … 0x0014 0x0016; 0x0023 0x0026 … 0x0013 0x0016; … ; 0x0025 0x0026 … 0x000e 0x000f; 0x0024 0x0023 … 0x000a 0x000d])"
            ]
          },
          "metadata": {},
          "execution_count": 175
        }
      ]
    },
    {
      "cell_type": "code",
      "source": [
        "radiance, cfobs = read_region_as_datacubes(russia_state_split[1, :].geometry;\n",
        "    start_date=START_DATE, end_date=END_DATE,\n",
        "    radiance_path=RADIANCE_RASTER_DIRECTORY,\n",
        "    cf_path=CFOBS_RASTER_DIRECTORY)"
      ],
      "metadata": {
        "colab": {
          "base_uri": "https://localhost:8080/"
        },
        "id": "dQ_jZ0wzxpdx",
        "outputId": "0d1061f2-374c-4c05-a5b8-c235af3a7b3d"
      },
      "execution_count": 176,
      "outputs": [
        {
          "output_type": "execute_result",
          "data": {
            "text/plain": [
              "(Float32[1.61 1.63 … 0.51 0.54; 1.57 1.64 … 0.55 0.54; … ; 1.67 1.77 … 0.42 0.31; 1.75 1.74 … 0.41 0.38;;; 2.13 2.04 … 0.43 0.46; 2.09 2.09 … 0.44 0.45; … ; 1.66 1.53 … 0.45 0.49; 1.61 1.63 … 0.38 0.38;;; 1.11 0.93 … 0.13 0.11; 1.06 1.05 … 0.1 0.15; … ; 1.51 1.54 … 0.18 0.12; 1.52 1.54 … 0.19 0.21;;; … ;;; 2.46 2.45 … 0.39 0.43; 2.46 2.49 … 0.46 0.49; … ; 1.4 1.34 … 0.31 0.14; 1.29 1.41 … 0.22 0.21;;; 1.99 2.03 … 0.29 0.29; 2.03 2.1 … 0.28 0.33; … ; 2.42 2.45 … 0.02 0.08; 2.46 2.42 … 0.03 0.07;;; 2.01 1.96 … 0.45 0.43; 1.99 1.99 … 0.43 0.41; … ; 2.72 2.56 … 0.62 0.56; 2.83 2.67 … 0.48 0.63], UInt16[0x003e 0x003d … 0x001c 0x001a; 0x0040 0x003e … 0x001b 0x001c; … ; 0x003a 0x003a … 0x0005 0x0004; 0x003a 0x003b … 0x0004 0x0005;;; 0x0020 0x001f … 0x0018 0x0017; 0x0021 0x001f … 0x0018 0x0017; … ; 0x001e 0x0021 … 0x000b 0x000c; 0x001e 0x001f … 0x000a 0x000c;;; 0x001b 0x0019 … 0x001a 0x0018; 0x001b 0x001b … 0x001a 0x0019; … ; 0x001d 0x001d … 0x001a 0x001a; 0x001d 0x001d … 0x001a 0x001b;;; … ;;; 0x002c 0x002b … 0x0018 0x0018; 0x002c 0x002b … 0x001a 0x0019; … ; 0x0010 0x0015 … 0x0007 0x0008; 0x0013 0x0011 … 0x0008 0x0008;;; 0x0032 0x0030 … 0x001b 0x001b; 0x0030 0x0032 … 0x001c 0x001b; … ; 0x0027 0x0027 … 0x0005 0x0003; 0x0027 0x0026 … 0x0004 0x0004;;; 0x0022 0x0025 … 0x0014 0x0016; 0x0023 0x0026 … 0x0013 0x0016; … ; 0x0025 0x0026 … 0x000e 0x000f; 0x0024 0x0023 … 0x000a 0x000d])"
            ]
          },
          "metadata": {},
          "execution_count": 176
        }
      ]
    },
    {
      "cell_type": "code",
      "source": [
        "function process_state(state_row::DataFrameRow)\n",
        "    state_name = state_row.NAME_1\n",
        "    state_geometry = state_row.geometry\n",
        "    @show state_name\n",
        "    @show state_geometry\n",
        "    radiance, cfobs = read_region_as_datacubes(state_geometry;\n",
        "        start_date=START_DATE, end_date=END_DATE,\n",
        "        radiance_path=RADIANCE_RASTER_DIRECTORY,\n",
        "        cf_path=CFOBS_RASTER_DIRECTORY)\n",
        "\n",
        "\n",
        "    print(\"file read correctly\")\n",
        "\n",
        "    radiance = clean_complete(radiance, cfobs; bgthreshold=4)\n",
        "    cfobs = nothing # Release memory\n",
        "\n",
        "    radiance = Raster(Float32.(radiance); missingval=missing)\n",
        "    radiance[radiance .> 100.0f0] .= 0.0f0 # Cap high radiance values\n",
        "    radiance = mask(radiance; with=state_geometry)\n",
        "\n",
        "    dates = Date.(dims(radiance, Ti).val)\n",
        "    num_timesteps = length(dates)\n",
        "\n",
        "    if num_timesteps == 0\n",
        "        println(\"Warning: No valid data for '$state_name' after cleaning.\")\n",
        "        return DataFrame()\n",
        "    end\n",
        "\n",
        "    agg_radiance = [sum(skipmissing(view(radiance, Ti(i)))) for i in 1:num_timesteps]\n",
        "    com = [safe_centre_of_mass(view(radiance, Ti(i)), state_name) for i in 1:num_timesteps]\n",
        "\n",
        "    return DataFrame(; dates, aggregate_radiance=agg_radiance, com, state_name)\n",
        "end"
      ],
      "metadata": {
        "colab": {
          "base_uri": "https://localhost:8080/"
        },
        "id": "ihjD35bGTZrx",
        "outputId": "ad6ee1da-4a32-4bc4-c5aa-31effa89761e"
      },
      "execution_count": 177,
      "outputs": [
        {
          "output_type": "execute_result",
          "data": {
            "text/plain": [
              "process_state (generic function with 1 method)"
            ]
          },
          "metadata": {},
          "execution_count": 177
        }
      ]
    },
    {
      "cell_type": "code",
      "source": [
        "all_states_df = DataFrame()\n",
        "\n",
        "for i in 1:nrow(russia_state_split)\n",
        "    state_row = russia_state_split[i, :]\n",
        "    state_name = state_row.NAME_1\n",
        "    println(\"--- Processing state $i/$(nrow(russia_state_split)): $state_name ---\")\n",
        "\n",
        "    try\n",
        "        state_df = process_state(state_row)\n",
        "        if !isempty(state_df)\n",
        "            append!(all_states_df, state_df; cols=:union)\n",
        "        end\n",
        "    catch e\n",
        "        println(\"ERROR: Failed to process state '$state_name'. Skipping. Error: $e\")\n",
        "    end\n",
        "    GC.gc()\n",
        "end\n",
        "\n",
        "println(\"--- Processing Complete ---\")\n",
        "\n",
        "# Final aggregation\n",
        "if !isempty(all_states_df)\n",
        "    println(\"Aggregating results...\")\n",
        "    grouped = groupby(all_states_df, :dates)\n",
        "    aggregate_df = DataFrames.combine(grouped, :aggregate_radiance => sum => :AggregateRadiance)\n",
        "    sort!(aggregate_df, :dates)\n",
        "\n",
        "    # only write once if you want\n",
        "    # CSV.write(AGGREGATE_FILE, aggregate_df)\n",
        "    println(\"Aggregation complete, DataFrame in memory.\")\n",
        "else\n",
        "    println(\"No data processed, skipping aggregation.\")\n",
        "end\n",
        "\n",
        "println(\"Script finished.\")\n"
      ],
      "metadata": {
        "colab": {
          "base_uri": "https://localhost:8080/"
        },
        "id": "u6rQeQLjTwAK",
        "outputId": "1ebc55f9-e69c-41fe-d87e-3254138d2616"
      },
      "execution_count": 178,
      "outputs": [
        {
          "output_type": "stream",
          "name": "stderr",
          "text": [
            "\u001b[33m\u001b[1m┌ \u001b[22m\u001b[39m\u001b[33m\u001b[1mWarning: \u001b[22m\u001b[39moutlier_variance failed, using all pixels as stable\n",
            "\u001b[33m\u001b[1m│ \u001b[22m\u001b[39m  exception =\n",
            "\u001b[33m\u001b[1m│ \u001b[22m\u001b[39m   ArgumentError: empty data vector\n",
            "\u001b[33m\u001b[1m│ \u001b[22m\u001b[39m   Stacktrace:\n",
            "\u001b[33m\u001b[1m│ \u001b[22m\u001b[39m     [1] \u001b[0m\u001b[1m_quantilesort!\u001b[22m\u001b[0m\u001b[1m(\u001b[22m\u001b[90mv\u001b[39m::\u001b[0mVector\u001b[90m{Union{}}\u001b[39m, \u001b[90msorted\u001b[39m::\u001b[0mBool, \u001b[90mminp\u001b[39m::\u001b[0mFloat64, \u001b[90mmaxp\u001b[39m::\u001b[0mFloat64\u001b[0m\u001b[1m)\u001b[22m\n",
            "\u001b[33m\u001b[1m│ \u001b[22m\u001b[39m   \u001b[90m    @\u001b[39m \u001b[35mStatistics\u001b[39m \u001b[90m~/.julia/packages/Statistics/gbcbG/src/\u001b[39m\u001b[90m\u001b[4mStatistics.jl:985\u001b[24m\u001b[39m\n",
            "\u001b[33m\u001b[1m│ \u001b[22m\u001b[39m     [2] \u001b[0m\u001b[1mquantile!\u001b[22m\u001b[0m\u001b[1m(\u001b[22m\u001b[90mv\u001b[39m::\u001b[0mVector\u001b[90m{Union{}}\u001b[39m, \u001b[90mp\u001b[39m::\u001b[0mFloat64; \u001b[90msorted\u001b[39m::\u001b[0mBool, \u001b[90malpha\u001b[39m::\u001b[0mFloat64, \u001b[90mbeta\u001b[39m::\u001b[0mFloat64\u001b[0m\u001b[1m)\u001b[22m\n",
            "\u001b[33m\u001b[1m│ \u001b[22m\u001b[39m   \u001b[90m    @\u001b[39m \u001b[35mStatistics\u001b[39m \u001b[90m~/.julia/packages/Statistics/gbcbG/src/\u001b[39m\u001b[90m\u001b[4mStatistics.jl:980\u001b[24m\u001b[39m\n",
            "\u001b[33m\u001b[1m│ \u001b[22m\u001b[39m     [3] \u001b[0m\u001b[1mquantile\u001b[22m\u001b[0m\u001b[1m(\u001b[22m\u001b[90mitr\u001b[39m::\u001b[0mBase.SkipMissing\u001b[90m{Vector{Missing}}\u001b[39m, \u001b[90mp\u001b[39m::\u001b[0mFloat64; \u001b[90msorted\u001b[39m::\u001b[0mBool, \u001b[90malpha\u001b[39m::\u001b[0mFloat64, \u001b[90mbeta\u001b[39m::\u001b[0mFloat64\u001b[0m\u001b[1m)\u001b[22m\n",
            "\u001b[33m\u001b[1m│ \u001b[22m\u001b[39m   \u001b[90m    @\u001b[39m \u001b[35mStatistics\u001b[39m \u001b[90m~/.julia/packages/Statistics/gbcbG/src/\u001b[39m\u001b[90m\u001b[4mStatistics.jl:1090\u001b[24m\u001b[39m\n",
            "\u001b[33m\u001b[1m│ \u001b[22m\u001b[39m     [4] \u001b[0m\u001b[1moutlier_variance\u001b[22m\u001b[0m\u001b[1m(\u001b[22m\u001b[90mradiance_datacube\u001b[39m::\u001b[0mRaster\u001b[90m{Missing, 3, Tuple{X{Projected{Float64, LinRange{Float64, Int64}, DimensionalData.Dimensions.Lookups.ForwardOrdered, DimensionalData.Dimensions.Lookups.Regular{Float64}, DimensionalData.Dimensions.Lookups.Intervals{DimensionalData.Dimensions.Lookups.Start}, DimensionalData.Dimensions.Lookups.NoMetadata, WellKnownText{GeoFormatTypes.CRS}, Nothing, X{Colon}}}, Y{Projected{Float64, LinRange{Float64, Int64}, DimensionalData.Dimensions.Lookups.ReverseOrdered, DimensionalData.Dimensions.Lookups.Regular{Float64}, DimensionalData.Dimensions.Lookups.Intervals{DimensionalData.Dimensions.Lookups.Start}, DimensionalData.Dimensions.Lookups.NoMetadata, WellKnownText{GeoFormatTypes.CRS}, Nothing, Y{Colon}}}, Ti{DimensionalData.Dimensions.Lookups.Sampled{Date, Vector{Date}, DimensionalData.Dimensions.Lookups.ForwardOrdered, DimensionalData.Dimensions.Lookups.Irregular{Tuple{Nothing, Nothing}}, DimensionalData.Dimensions.Lookups.Points, DimensionalData.Dimensions.Lookups.NoMetadata}}}, Tuple{}, Array{Missing, 3}, Symbol, DimensionalData.Dimensions.Lookups.NoMetadata, Missing}\u001b[39m, \u001b[90mmask\u001b[39m::\u001b[0mRaster\u001b[90m{Missing, 2, Tuple{X{Projected{Float64, LinRange{Float64, Int64}, DimensionalData.Dimensions.Lookups.ForwardOrdered, DimensionalData.Dimensions.Lookups.Regular{Float64}, DimensionalData.Dimensions.Lookups.Intervals{DimensionalData.Dimensions.Lookups.Start}, DimensionalData.Dimensions.Lookups.NoMetadata, WellKnownText{GeoFormatTypes.CRS}, Nothing, X{Colon}}}, Y{Projected{Float64, LinRange{Float64, Int64}, DimensionalData.Dimensions.Lookups.ReverseOrdered, DimensionalData.Dimensions.Lookups.Regular{Float64}, DimensionalData.Dimensions.Lookups.Intervals{DimensionalData.Dimensions.Lookups.Start}, DimensionalData.Dimensions.Lookups.NoMetadata, WellKnownText{GeoFormatTypes.CRS}, Nothing, Y{Colon}}}}, Tuple{}, Matrix{Missing}, Symbol, DimensionalData.Dimensions.Lookups.NoMetadata, Missing}\u001b[39m; \u001b[90mcutoff\u001b[39m::\u001b[0mFloat64\u001b[0m\u001b[1m)\u001b[22m\n",
            "\u001b[33m\u001b[1m│ \u001b[22m\u001b[39m   \u001b[90m    @\u001b[39m \u001b[36mNighttimeLights\u001b[39m \u001b[90m~/.julia/packages/NighttimeLights/PstBy/src/data_cleaning/\u001b[39m\u001b[90m\u001b[4moutlier_removal.jl:28\u001b[24m\u001b[39m\n",
            "\u001b[33m\u001b[1m│ \u001b[22m\u001b[39m     [5] \u001b[0m\u001b[1moutlier_variance\u001b[22m\u001b[0m\u001b[1m(\u001b[22m\u001b[90mradiance_datacube\u001b[39m::\u001b[0mRaster\u001b[90m{Missing, 3, Tuple{X{Projected{Float64, LinRange{Float64, Int64}, DimensionalData.Dimensions.Lookups.ForwardOrdered, DimensionalData.Dimensions.Lookups.Regular{Float64}, DimensionalData.Dimensions.Lookups.Intervals{DimensionalData.Dimensions.Lookups.Start}, DimensionalData.Dimensions.Lookups.NoMetadata, WellKnownText{GeoFormatTypes.CRS}, Nothing, X{Colon}}}, Y{Projected{Float64, LinRange{Float64, Int64}, DimensionalData.Dimensions.Lookups.ReverseOrdered, DimensionalData.Dimensions.Lookups.Regular{Float64}, DimensionalData.Dimensions.Lookups.Intervals{DimensionalData.Dimensions.Lookups.Start}, DimensionalData.Dimensions.Lookups.NoMetadata, WellKnownText{GeoFormatTypes.CRS}, Nothing, Y{Colon}}}, Ti{DimensionalData.Dimensions.Lookups.Sampled{Date, Vector{Date}, DimensionalData.Dimensions.Lookups.ForwardOrdered, DimensionalData.Dimensions.Lookups.Irregular{Tuple{Nothing, Nothing}}, DimensionalData.Dimensions.Lookups.Points, DimensionalData.Dimensions.Lookups.NoMetadata}}}, Tuple{}, Array{Missing, 3}, Symbol, DimensionalData.Dimensions.Lookups.NoMetadata, Missing}\u001b[39m, \u001b[90mmask\u001b[39m::\u001b[0mRaster\u001b[90m{Missing, 2, Tuple{X{Projected{Float64, LinRange{Float64, Int64}, DimensionalData.Dimensions.Lookups.ForwardOrdered, DimensionalData.Dimensions.Lookups.Regular{Float64}, DimensionalData.Dimensions.Lookups.Intervals{DimensionalData.Dimensions.Lookups.Start}, DimensionalData.Dimensions.Lookups.NoMetadata, WellKnownText{GeoFormatTypes.CRS}, Nothing, X{Colon}}}, Y{Projected{Float64, LinRange{Float64, Int64}, DimensionalData.Dimensions.Lookups.ReverseOrdered, DimensionalData.Dimensions.Lookups.Regular{Float64}, DimensionalData.Dimensions.Lookups.Intervals{DimensionalData.Dimensions.Lookups.Start}, DimensionalData.Dimensions.Lookups.NoMetadata, WellKnownText{GeoFormatTypes.CRS}, Nothing, Y{Colon}}}}, Tuple{}, Matrix{Missing}, Symbol, DimensionalData.Dimensions.Lookups.NoMetadata, Missing}\u001b[39m\u001b[0m\u001b[1m)\u001b[22m\n",
            "\u001b[33m\u001b[1m│ \u001b[22m\u001b[39m   \u001b[90m    @\u001b[39m \u001b[36mNighttimeLights\u001b[39m \u001b[90m~/.julia/packages/NighttimeLights/PstBy/src/data_cleaning/\u001b[39m\u001b[90m\u001b[4moutlier_removal.jl:8\u001b[24m\u001b[39m\n",
            "\u001b[33m\u001b[1m│ \u001b[22m\u001b[39m     [6] \u001b[0m\u001b[1mclean_complete\u001b[22m\u001b[0m\u001b[1m(\u001b[22m\u001b[90mradiance_datacube\u001b[39m::\u001b[0mRaster\u001b[90m{Float32, 3, Tuple{X{Projected{Float64, LinRange{Float64, Int64}, DimensionalData.Dimensions.Lookups.ForwardOrdered, DimensionalData.Dimensions.Lookups.Regular{Float64}, DimensionalData.Dimensions.Lookups.Intervals{DimensionalData.Dimensions.Lookups.Start}, DimensionalData.Dimensions.Lookups.NoMetadata, WellKnownText{GeoFormatTypes.CRS}, Nothing, X{Colon}}}, Y{Projected{Float64, LinRange{Float64, Int64}, DimensionalData.Dimensions.Lookups.ReverseOrdered, DimensionalData.Dimensions.Lookups.Regular{Float64}, DimensionalData.Dimensions.Lookups.Intervals{DimensionalData.Dimensions.Lookups.Start}, DimensionalData.Dimensions.Lookups.NoMetadata, WellKnownText{GeoFormatTypes.CRS}, Nothing, Y{Colon}}}, Ti{DimensionalData.Dimensions.Lookups.Sampled{Date, Vector{Date}, DimensionalData.Dimensions.Lookups.ForwardOrdered, DimensionalData.Dimensions.Lookups.Irregular{Tuple{Nothing, Nothing}}, DimensionalData.Dimensions.Lookups.Points, DimensionalData.Dimensions.Lookups.NoMetadata}}}, Tuple{X{Projected{Float64, LinRange{Float64, Int64}, DimensionalData.Dimensions.Lookups.ForwardOrdered, DimensionalData.Dimensions.Lookups.Regular{Float64}, DimensionalData.Dimensions.Lookups.Intervals{DimensionalData.Dimensions.Lookups.Start}, DimensionalData.Dimensions.Lookups.NoMetadata, WellKnownText{GeoFormatTypes.CRS}, Nothing, X{Colon}}}, Y{Projected{Float64, LinRange{Float64, Int64}, DimensionalData.Dimensions.Lookups.ReverseOrdered, DimensionalData.Dimensions.Lookups.Regular{Float64}, DimensionalData.Dimensions.Lookups.Intervals{DimensionalData.Dimensions.Lookups.Start}, DimensionalData.Dimensions.Lookups.NoMetadata, WellKnownText{GeoFormatTypes.CRS}, Nothing, Y{Colon}}}}, Array{Float32, 3}, Symbol, DimensionalData.Dimensions.Lookups.Metadata{Rasters.GDALsource, Dict{String, Any}}, Float32}\u001b[39m, \u001b[90mncfobs_datacube\u001b[39m::\u001b[0mRaster\u001b[90m{UInt16, 3, Tuple{X{Projected{Float64, LinRange{Float64, Int64}, DimensionalData.Dimensions.Lookups.ForwardOrdered, DimensionalData.Dimensions.Lookups.Regular{Float64}, DimensionalData.Dimensions.Lookups.Intervals{DimensionalData.Dimensions.Lookups.Start}, DimensionalData.Dimensions.Lookups.NoMetadata, WellKnownText{GeoFormatTypes.CRS}, Nothing, X{Colon}}}, Y{Projected{Float64, LinRange{Float64, Int64}, DimensionalData.Dimensions.Lookups.ReverseOrdered, DimensionalData.Dimensions.Lookups.Regular{Float64}, DimensionalData.Dimensions.Lookups.Intervals{DimensionalData.Dimensions.Lookups.Start}, DimensionalData.Dimensions.Lookups.NoMetadata, WellKnownText{GeoFormatTypes.CRS}, Nothing, Y{Colon}}}, Ti{DimensionalData.Dimensions.Lookups.Sampled{Date, Vector{Date}, DimensionalData.Dimensions.Lookups.ForwardOrdered, DimensionalData.Dimensions.Lookups.Irregular{Tuple{Nothing, Nothing}}, DimensionalData.Dimensions.Lookups.Points, DimensionalData.Dimensions.Lookups.NoMetadata}}}, Tuple{X{Projected{Float64, LinRange{Float64, Int64}, DimensionalData.Dimensions.Lookups.ForwardOrdered, DimensionalData.Dimensions.Lookups.Regular{Float64}, DimensionalData.Dimensions.Lookups.Intervals{DimensionalData.Dimensions.Lookups.Start}, DimensionalData.Dimensions.Lookups.NoMetadata, WellKnownText{GeoFormatTypes.CRS}, Nothing, X{Colon}}}, Y{Projected{Float64, LinRange{Float64, Int64}, DimensionalData.Dimensions.Lookups.ReverseOrdered, DimensionalData.Dimensions.Lookups.Regular{Float64}, DimensionalData.Dimensions.Lookups.Intervals{DimensionalData.Dimensions.Lookups.Start}, DimensionalData.Dimensions.Lookups.NoMetadata, WellKnownText{GeoFormatTypes.CRS}, Nothing, Y{Colon}}}}, Array{UInt16, 3}, Symbol, DimensionalData.Dimensions.Lookups.Metadata{Rasters.GDALsource, Dict{String, Any}}, Nothing}\u001b[39m; \u001b[90mnoise\u001b[39m::\u001b[0mNothing, \u001b[90mbgthreshold\u001b[39m::\u001b[0mInt64\u001b[0m\u001b[1m)\u001b[22m\n",
            "\u001b[33m\u001b[1m│ \u001b[22m\u001b[39m   \u001b[90m    @\u001b[39m \u001b[36mNighttimeLights\u001b[39m \u001b[90m~/.julia/packages/NighttimeLights/PstBy/src/data_cleaning/\u001b[39m\u001b[90m\u001b[4mfull_procedures.jl:105\u001b[24m\u001b[39m\n",
            "\u001b[33m\u001b[1m│ \u001b[22m\u001b[39m     [7] \u001b[0m\u001b[1mprocess_state\u001b[22m\u001b[0m\u001b[1m(\u001b[22m\u001b[90mstate_row\u001b[39m::\u001b[0mDataFrameRow\u001b[90m{DataFrame, DataFrames.Index}\u001b[39m\u001b[0m\u001b[1m)\u001b[22m\n",
            "\u001b[33m\u001b[1m│ \u001b[22m\u001b[39m   \u001b[90m    @\u001b[39m \u001b[36mMain\u001b[39m \u001b[90m./\u001b[39m\u001b[90m\u001b[4mIn[177]:14\u001b[24m\u001b[39m\n",
            "\u001b[33m\u001b[1m│ \u001b[22m\u001b[39m     [8] top-level scope\n",
            "\u001b[33m\u001b[1m│ \u001b[22m\u001b[39m   \u001b[90m    @\u001b[39m \u001b[90m./\u001b[39m\u001b[90m\u001b[4mIn[178]:9\u001b[24m\u001b[39m\n",
            "\u001b[33m\u001b[1m│ \u001b[22m\u001b[39m     [9] \u001b[0m\u001b[1meval\u001b[22m\n",
            "\u001b[33m\u001b[1m│ \u001b[22m\u001b[39m   \u001b[90m    @\u001b[39m \u001b[90m./\u001b[39m\u001b[90m\u001b[4mboot.jl:430\u001b[24m\u001b[39m\u001b[90m [inlined]\u001b[39m\n",
            "\u001b[33m\u001b[1m│ \u001b[22m\u001b[39m    [10] \u001b[0m\u001b[1minclude_string\u001b[22m\u001b[0m\u001b[1m(\u001b[22m\u001b[90mmapexpr\u001b[39m::\u001b[0mtypeof(REPL.softscope), \u001b[90mmod\u001b[39m::\u001b[0mModule, \u001b[90mcode\u001b[39m::\u001b[0mString, \u001b[90mfilename\u001b[39m::\u001b[0mString\u001b[0m\u001b[1m)\u001b[22m\n",
            "\u001b[33m\u001b[1m│ \u001b[22m\u001b[39m   \u001b[90m    @\u001b[39m \u001b[90mBase\u001b[39m \u001b[90m./\u001b[39m\u001b[90m\u001b[4mloading.jl:2734\u001b[24m\u001b[39m\n",
            "\u001b[33m\u001b[1m│ \u001b[22m\u001b[39m    [11] \u001b[0m\u001b[1msoftscope_include_string\u001b[22m\u001b[0m\u001b[1m(\u001b[22m\u001b[90mm\u001b[39m::\u001b[0mModule, \u001b[90mcode\u001b[39m::\u001b[0mString, \u001b[90mfilename\u001b[39m::\u001b[0mString\u001b[0m\u001b[1m)\u001b[22m\n",
            "\u001b[33m\u001b[1m│ \u001b[22m\u001b[39m   \u001b[90m    @\u001b[39m \u001b[36mSoftGlobalScope\u001b[39m \u001b[90m~/.julia/packages/SoftGlobalScope/u4UzH/src/\u001b[39m\u001b[90m\u001b[4mSoftGlobalScope.jl:65\u001b[24m\u001b[39m\n",
            "\u001b[33m\u001b[1m│ \u001b[22m\u001b[39m    [12] \u001b[0m\u001b[1mexecute_request\u001b[22m\u001b[0m\u001b[1m(\u001b[22m\u001b[90msocket\u001b[39m::\u001b[0mZMQ.Socket, \u001b[90mmsg\u001b[39m::\u001b[0mIJulia.Msg\u001b[0m\u001b[1m)\u001b[22m\n",
            "\u001b[33m\u001b[1m│ \u001b[22m\u001b[39m   \u001b[90m    @\u001b[39m \u001b[32mIJulia\u001b[39m \u001b[90m~/.julia/packages/IJulia/eenvU/src/\u001b[39m\u001b[90m\u001b[4mexecute_request.jl:81\u001b[24m\u001b[39m\n",
            "\u001b[33m\u001b[1m│ \u001b[22m\u001b[39m    [13] \u001b[0m\u001b[1m#invokelatest#2\u001b[22m\n",
            "\u001b[33m\u001b[1m│ \u001b[22m\u001b[39m   \u001b[90m    @\u001b[39m \u001b[90m./\u001b[39m\u001b[90m\u001b[4messentials.jl:1055\u001b[24m\u001b[39m\u001b[90m [inlined]\u001b[39m\n",
            "\u001b[33m\u001b[1m│ \u001b[22m\u001b[39m    [14] \u001b[0m\u001b[1minvokelatest\u001b[22m\n",
            "\u001b[33m\u001b[1m│ \u001b[22m\u001b[39m   \u001b[90m    @\u001b[39m \u001b[90m./\u001b[39m\u001b[90m\u001b[4messentials.jl:1052\u001b[24m\u001b[39m\u001b[90m [inlined]\u001b[39m\n",
            "\u001b[33m\u001b[1m│ \u001b[22m\u001b[39m    [15] \u001b[0m\u001b[1meventloop\u001b[22m\u001b[0m\u001b[1m(\u001b[22m\u001b[90msocket\u001b[39m::\u001b[0mZMQ.Socket\u001b[0m\u001b[1m)\u001b[22m\n",
            "\u001b[33m\u001b[1m│ \u001b[22m\u001b[39m   \u001b[90m    @\u001b[39m \u001b[32mIJulia\u001b[39m \u001b[90m~/.julia/packages/IJulia/eenvU/src/\u001b[39m\u001b[90m\u001b[4meventloop.jl:14\u001b[24m\u001b[39m\n",
            "\u001b[33m\u001b[1m│ \u001b[22m\u001b[39m    [16] \u001b[0m\u001b[1meventloop\u001b[22m\u001b[0m\u001b[1m(\u001b[22m\u001b[90msocket\u001b[39m::\u001b[0mZMQ.Socket\u001b[0m\u001b[1m)\u001b[22m\u001b[90m (repeats 2 times)\u001b[39m\n",
            "\u001b[33m\u001b[1m│ \u001b[22m\u001b[39m   \u001b[90m    @\u001b[39m \u001b[32mIJulia\u001b[39m \u001b[90m~/.julia/packages/IJulia/eenvU/src/\u001b[39m\u001b[90m\u001b[4meventloop.jl:41\u001b[24m\u001b[39m\n",
            "\u001b[33m\u001b[1m│ \u001b[22m\u001b[39m    [17] \u001b[0m\u001b[1m(::IJulia.var\"#13#16\")\u001b[22m\u001b[0m\u001b[1m(\u001b[22m\u001b[0m\u001b[1m)\u001b[22m\n",
            "\u001b[33m\u001b[1m│ \u001b[22m\u001b[39m   \u001b[90m    @\u001b[39m \u001b[32mIJulia\u001b[39m \u001b[90m~/.julia/packages/IJulia/eenvU/src/\u001b[39m\u001b[90m\u001b[4meventloop.jl:58\u001b[24m\u001b[39m\n",
            "\u001b[33m\u001b[1m└ \u001b[22m\u001b[39m\u001b[90m@ NighttimeLights ~/.julia/packages/NighttimeLights/PstBy/src/data_cleaning/full_procedures.jl:110\u001b[39m\n",
            "\u001b[33m\u001b[1m┌ \u001b[22m\u001b[39m\u001b[33m\u001b[1mWarning: \u001b[22m\u001b[39moutlier_variance failed, using all pixels as stable\n",
            "\u001b[33m\u001b[1m│ \u001b[22m\u001b[39m  exception =\n",
            "\u001b[33m\u001b[1m│ \u001b[22m\u001b[39m   ArgumentError: empty data vector\n",
            "\u001b[33m\u001b[1m│ \u001b[22m\u001b[39m   Stacktrace:\n",
            "\u001b[33m\u001b[1m│ \u001b[22m\u001b[39m     [1] \u001b[0m\u001b[1m_quantilesort!\u001b[22m\u001b[0m\u001b[1m(\u001b[22m\u001b[90mv\u001b[39m::\u001b[0mVector\u001b[90m{Union{}}\u001b[39m, \u001b[90msorted\u001b[39m::\u001b[0mBool, \u001b[90mminp\u001b[39m::\u001b[0mFloat64, \u001b[90mmaxp\u001b[39m::\u001b[0mFloat64\u001b[0m\u001b[1m)\u001b[22m\n",
            "\u001b[33m\u001b[1m│ \u001b[22m\u001b[39m   \u001b[90m    @\u001b[39m \u001b[35mStatistics\u001b[39m \u001b[90m~/.julia/packages/Statistics/gbcbG/src/\u001b[39m\u001b[90m\u001b[4mStatistics.jl:985\u001b[24m\u001b[39m\n",
            "\u001b[33m\u001b[1m│ \u001b[22m\u001b[39m     [2] \u001b[0m\u001b[1mquantile!\u001b[22m\u001b[0m\u001b[1m(\u001b[22m\u001b[90mv\u001b[39m::\u001b[0mVector\u001b[90m{Union{}}\u001b[39m, \u001b[90mp\u001b[39m::\u001b[0mFloat64; \u001b[90msorted\u001b[39m::\u001b[0mBool, \u001b[90malpha\u001b[39m::\u001b[0mFloat64, \u001b[90mbeta\u001b[39m::\u001b[0mFloat64\u001b[0m\u001b[1m)\u001b[22m\n",
            "\u001b[33m\u001b[1m│ \u001b[22m\u001b[39m   \u001b[90m    @\u001b[39m \u001b[35mStatistics\u001b[39m \u001b[90m~/.julia/packages/Statistics/gbcbG/src/\u001b[39m\u001b[90m\u001b[4mStatistics.jl:980\u001b[24m\u001b[39m\n",
            "\u001b[33m\u001b[1m│ \u001b[22m\u001b[39m     [3] \u001b[0m\u001b[1mquantile\u001b[22m\u001b[0m\u001b[1m(\u001b[22m\u001b[90mitr\u001b[39m::\u001b[0mBase.SkipMissing\u001b[90m{Vector{Missing}}\u001b[39m, \u001b[90mp\u001b[39m::\u001b[0mFloat64; \u001b[90msorted\u001b[39m::\u001b[0mBool, \u001b[90malpha\u001b[39m::\u001b[0mFloat64, \u001b[90mbeta\u001b[39m::\u001b[0mFloat64\u001b[0m\u001b[1m)\u001b[22m\n",
            "\u001b[33m\u001b[1m│ \u001b[22m\u001b[39m   \u001b[90m    @\u001b[39m \u001b[35mStatistics\u001b[39m \u001b[90m~/.julia/packages/Statistics/gbcbG/src/\u001b[39m\u001b[90m\u001b[4mStatistics.jl:1090\u001b[24m\u001b[39m\n",
            "\u001b[33m\u001b[1m│ \u001b[22m\u001b[39m     [4] \u001b[0m\u001b[1moutlier_variance\u001b[22m\u001b[0m\u001b[1m(\u001b[22m\u001b[90mradiance_datacube\u001b[39m::\u001b[0mRaster\u001b[90m{Missing, 3, Tuple{X{Projected{Float64, LinRange{Float64, Int64}, DimensionalData.Dimensions.Lookups.ForwardOrdered, DimensionalData.Dimensions.Lookups.Regular{Float64}, DimensionalData.Dimensions.Lookups.Intervals{DimensionalData.Dimensions.Lookups.Start}, DimensionalData.Dimensions.Lookups.NoMetadata, WellKnownText{GeoFormatTypes.CRS}, Nothing, X{Colon}}}, Y{Projected{Float64, LinRange{Float64, Int64}, DimensionalData.Dimensions.Lookups.ReverseOrdered, DimensionalData.Dimensions.Lookups.Regular{Float64}, DimensionalData.Dimensions.Lookups.Intervals{DimensionalData.Dimensions.Lookups.Start}, DimensionalData.Dimensions.Lookups.NoMetadata, WellKnownText{GeoFormatTypes.CRS}, Nothing, Y{Colon}}}, Ti{DimensionalData.Dimensions.Lookups.Sampled{Date, Vector{Date}, DimensionalData.Dimensions.Lookups.ForwardOrdered, DimensionalData.Dimensions.Lookups.Irregular{Tuple{Nothing, Nothing}}, DimensionalData.Dimensions.Lookups.Points, DimensionalData.Dimensions.Lookups.NoMetadata}}}, Tuple{}, Array{Missing, 3}, Symbol, DimensionalData.Dimensions.Lookups.NoMetadata, Missing}\u001b[39m, \u001b[90mmask\u001b[39m::\u001b[0mRaster\u001b[90m{Missing, 2, Tuple{X{Projected{Float64, LinRange{Float64, Int64}, DimensionalData.Dimensions.Lookups.ForwardOrdered, DimensionalData.Dimensions.Lookups.Regular{Float64}, DimensionalData.Dimensions.Lookups.Intervals{DimensionalData.Dimensions.Lookups.Start}, DimensionalData.Dimensions.Lookups.NoMetadata, WellKnownText{GeoFormatTypes.CRS}, Nothing, X{Colon}}}, Y{Projected{Float64, LinRange{Float64, Int64}, DimensionalData.Dimensions.Lookups.ReverseOrdered, DimensionalData.Dimensions.Lookups.Regular{Float64}, DimensionalData.Dimensions.Lookups.Intervals{DimensionalData.Dimensions.Lookups.Start}, DimensionalData.Dimensions.Lookups.NoMetadata, WellKnownText{GeoFormatTypes.CRS}, Nothing, Y{Colon}}}}, Tuple{}, Matrix{Missing}, Symbol, DimensionalData.Dimensions.Lookups.NoMetadata, Missing}\u001b[39m; \u001b[90mcutoff\u001b[39m::\u001b[0mFloat64\u001b[0m\u001b[1m)\u001b[22m\n",
            "\u001b[33m\u001b[1m│ \u001b[22m\u001b[39m   \u001b[90m    @\u001b[39m \u001b[36mNighttimeLights\u001b[39m \u001b[90m~/.julia/packages/NighttimeLights/PstBy/src/data_cleaning/\u001b[39m\u001b[90m\u001b[4moutlier_removal.jl:28\u001b[24m\u001b[39m\n",
            "\u001b[33m\u001b[1m│ \u001b[22m\u001b[39m     [5] \u001b[0m\u001b[1moutlier_variance\u001b[22m\u001b[0m\u001b[1m(\u001b[22m\u001b[90mradiance_datacube\u001b[39m::\u001b[0mRaster\u001b[90m{Missing, 3, Tuple{X{Projected{Float64, LinRange{Float64, Int64}, DimensionalData.Dimensions.Lookups.ForwardOrdered, DimensionalData.Dimensions.Lookups.Regular{Float64}, DimensionalData.Dimensions.Lookups.Intervals{DimensionalData.Dimensions.Lookups.Start}, DimensionalData.Dimensions.Lookups.NoMetadata, WellKnownText{GeoFormatTypes.CRS}, Nothing, X{Colon}}}, Y{Projected{Float64, LinRange{Float64, Int64}, DimensionalData.Dimensions.Lookups.ReverseOrdered, DimensionalData.Dimensions.Lookups.Regular{Float64}, DimensionalData.Dimensions.Lookups.Intervals{DimensionalData.Dimensions.Lookups.Start}, DimensionalData.Dimensions.Lookups.NoMetadata, WellKnownText{GeoFormatTypes.CRS}, Nothing, Y{Colon}}}, Ti{DimensionalData.Dimensions.Lookups.Sampled{Date, Vector{Date}, DimensionalData.Dimensions.Lookups.ForwardOrdered, DimensionalData.Dimensions.Lookups.Irregular{Tuple{Nothing, Nothing}}, DimensionalData.Dimensions.Lookups.Points, DimensionalData.Dimensions.Lookups.NoMetadata}}}, Tuple{}, Array{Missing, 3}, Symbol, DimensionalData.Dimensions.Lookups.NoMetadata, Missing}\u001b[39m, \u001b[90mmask\u001b[39m::\u001b[0mRaster\u001b[90m{Missing, 2, Tuple{X{Projected{Float64, LinRange{Float64, Int64}, DimensionalData.Dimensions.Lookups.ForwardOrdered, DimensionalData.Dimensions.Lookups.Regular{Float64}, DimensionalData.Dimensions.Lookups.Intervals{DimensionalData.Dimensions.Lookups.Start}, DimensionalData.Dimensions.Lookups.NoMetadata, WellKnownText{GeoFormatTypes.CRS}, Nothing, X{Colon}}}, Y{Projected{Float64, LinRange{Float64, Int64}, DimensionalData.Dimensions.Lookups.ReverseOrdered, DimensionalData.Dimensions.Lookups.Regular{Float64}, DimensionalData.Dimensions.Lookups.Intervals{DimensionalData.Dimensions.Lookups.Start}, DimensionalData.Dimensions.Lookups.NoMetadata, WellKnownText{GeoFormatTypes.CRS}, Nothing, Y{Colon}}}}, Tuple{}, Matrix{Missing}, Symbol, DimensionalData.Dimensions.Lookups.NoMetadata, Missing}\u001b[39m\u001b[0m\u001b[1m)\u001b[22m\n",
            "\u001b[33m\u001b[1m│ \u001b[22m\u001b[39m   \u001b[90m    @\u001b[39m \u001b[36mNighttimeLights\u001b[39m \u001b[90m~/.julia/packages/NighttimeLights/PstBy/src/data_cleaning/\u001b[39m\u001b[90m\u001b[4moutlier_removal.jl:8\u001b[24m\u001b[39m\n",
            "\u001b[33m\u001b[1m│ \u001b[22m\u001b[39m     [6] \u001b[0m\u001b[1mclean_complete\u001b[22m\u001b[0m\u001b[1m(\u001b[22m\u001b[90mradiance_datacube\u001b[39m::\u001b[0mRaster\u001b[90m{Float32, 3, Tuple{X{Projected{Float64, LinRange{Float64, Int64}, DimensionalData.Dimensions.Lookups.ForwardOrdered, DimensionalData.Dimensions.Lookups.Regular{Float64}, DimensionalData.Dimensions.Lookups.Intervals{DimensionalData.Dimensions.Lookups.Start}, DimensionalData.Dimensions.Lookups.NoMetadata, WellKnownText{GeoFormatTypes.CRS}, Nothing, X{Colon}}}, Y{Projected{Float64, LinRange{Float64, Int64}, DimensionalData.Dimensions.Lookups.ReverseOrdered, DimensionalData.Dimensions.Lookups.Regular{Float64}, DimensionalData.Dimensions.Lookups.Intervals{DimensionalData.Dimensions.Lookups.Start}, DimensionalData.Dimensions.Lookups.NoMetadata, WellKnownText{GeoFormatTypes.CRS}, Nothing, Y{Colon}}}, Ti{DimensionalData.Dimensions.Lookups.Sampled{Date, Vector{Date}, DimensionalData.Dimensions.Lookups.ForwardOrdered, DimensionalData.Dimensions.Lookups.Irregular{Tuple{Nothing, Nothing}}, DimensionalData.Dimensions.Lookups.Points, DimensionalData.Dimensions.Lookups.NoMetadata}}}, Tuple{X{Projected{Float64, LinRange{Float64, Int64}, DimensionalData.Dimensions.Lookups.ForwardOrdered, DimensionalData.Dimensions.Lookups.Regular{Float64}, DimensionalData.Dimensions.Lookups.Intervals{DimensionalData.Dimensions.Lookups.Start}, DimensionalData.Dimensions.Lookups.NoMetadata, WellKnownText{GeoFormatTypes.CRS}, Nothing, X{Colon}}}, Y{Projected{Float64, LinRange{Float64, Int64}, DimensionalData.Dimensions.Lookups.ReverseOrdered, DimensionalData.Dimensions.Lookups.Regular{Float64}, DimensionalData.Dimensions.Lookups.Intervals{DimensionalData.Dimensions.Lookups.Start}, DimensionalData.Dimensions.Lookups.NoMetadata, WellKnownText{GeoFormatTypes.CRS}, Nothing, Y{Colon}}}}, Array{Float32, 3}, Symbol, DimensionalData.Dimensions.Lookups.Metadata{Rasters.GDALsource, Dict{String, Any}}, Float32}\u001b[39m, \u001b[90mncfobs_datacube\u001b[39m::\u001b[0mRaster\u001b[90m{UInt16, 3, Tuple{X{Projected{Float64, LinRange{Float64, Int64}, DimensionalData.Dimensions.Lookups.ForwardOrdered, DimensionalData.Dimensions.Lookups.Regular{Float64}, DimensionalData.Dimensions.Lookups.Intervals{DimensionalData.Dimensions.Lookups.Start}, DimensionalData.Dimensions.Lookups.NoMetadata, WellKnownText{GeoFormatTypes.CRS}, Nothing, X{Colon}}}, Y{Projected{Float64, LinRange{Float64, Int64}, DimensionalData.Dimensions.Lookups.ReverseOrdered, DimensionalData.Dimensions.Lookups.Regular{Float64}, DimensionalData.Dimensions.Lookups.Intervals{DimensionalData.Dimensions.Lookups.Start}, DimensionalData.Dimensions.Lookups.NoMetadata, WellKnownText{GeoFormatTypes.CRS}, Nothing, Y{Colon}}}, Ti{DimensionalData.Dimensions.Lookups.Sampled{Date, Vector{Date}, DimensionalData.Dimensions.Lookups.ForwardOrdered, DimensionalData.Dimensions.Lookups.Irregular{Tuple{Nothing, Nothing}}, DimensionalData.Dimensions.Lookups.Points, DimensionalData.Dimensions.Lookups.NoMetadata}}}, Tuple{X{Projected{Float64, LinRange{Float64, Int64}, DimensionalData.Dimensions.Lookups.ForwardOrdered, DimensionalData.Dimensions.Lookups.Regular{Float64}, DimensionalData.Dimensions.Lookups.Intervals{DimensionalData.Dimensions.Lookups.Start}, DimensionalData.Dimensions.Lookups.NoMetadata, WellKnownText{GeoFormatTypes.CRS}, Nothing, X{Colon}}}, Y{Projected{Float64, LinRange{Float64, Int64}, DimensionalData.Dimensions.Lookups.ReverseOrdered, DimensionalData.Dimensions.Lookups.Regular{Float64}, DimensionalData.Dimensions.Lookups.Intervals{DimensionalData.Dimensions.Lookups.Start}, DimensionalData.Dimensions.Lookups.NoMetadata, WellKnownText{GeoFormatTypes.CRS}, Nothing, Y{Colon}}}}, Array{UInt16, 3}, Symbol, DimensionalData.Dimensions.Lookups.Metadata{Rasters.GDALsource, Dict{String, Any}}, Nothing}\u001b[39m; \u001b[90mnoise\u001b[39m::\u001b[0mNothing, \u001b[90mbgthreshold\u001b[39m::\u001b[0mInt64\u001b[0m\u001b[1m)\u001b[22m\n",
            "\u001b[33m\u001b[1m│ \u001b[22m\u001b[39m   \u001b[90m    @\u001b[39m \u001b[36mNighttimeLights\u001b[39m \u001b[90m~/.julia/packages/NighttimeLights/PstBy/src/data_cleaning/\u001b[39m\u001b[90m\u001b[4mfull_procedures.jl:105\u001b[24m\u001b[39m\n",
            "\u001b[33m\u001b[1m│ \u001b[22m\u001b[39m     [7] \u001b[0m\u001b[1mprocess_state\u001b[22m\u001b[0m\u001b[1m(\u001b[22m\u001b[90mstate_row\u001b[39m::\u001b[0mDataFrameRow\u001b[90m{DataFrame, DataFrames.Index}\u001b[39m\u001b[0m\u001b[1m)\u001b[22m\n",
            "\u001b[33m\u001b[1m│ \u001b[22m\u001b[39m   \u001b[90m    @\u001b[39m \u001b[36mMain\u001b[39m \u001b[90m./\u001b[39m\u001b[90m\u001b[4mIn[177]:14\u001b[24m\u001b[39m\n",
            "\u001b[33m\u001b[1m│ \u001b[22m\u001b[39m     [8] top-level scope\n",
            "\u001b[33m\u001b[1m│ \u001b[22m\u001b[39m   \u001b[90m    @\u001b[39m \u001b[90m./\u001b[39m\u001b[90m\u001b[4mIn[178]:9\u001b[24m\u001b[39m\n",
            "\u001b[33m\u001b[1m│ \u001b[22m\u001b[39m     [9] \u001b[0m\u001b[1meval\u001b[22m\n",
            "\u001b[33m\u001b[1m│ \u001b[22m\u001b[39m   \u001b[90m    @\u001b[39m \u001b[90m./\u001b[39m\u001b[90m\u001b[4mboot.jl:430\u001b[24m\u001b[39m\u001b[90m [inlined]\u001b[39m\n",
            "\u001b[33m\u001b[1m│ \u001b[22m\u001b[39m    [10] \u001b[0m\u001b[1minclude_string\u001b[22m\u001b[0m\u001b[1m(\u001b[22m\u001b[90mmapexpr\u001b[39m::\u001b[0mtypeof(REPL.softscope), \u001b[90mmod\u001b[39m::\u001b[0mModule, \u001b[90mcode\u001b[39m::\u001b[0mString, \u001b[90mfilename\u001b[39m::\u001b[0mString\u001b[0m\u001b[1m)\u001b[22m\n",
            "\u001b[33m\u001b[1m│ \u001b[22m\u001b[39m   \u001b[90m    @\u001b[39m \u001b[90mBase\u001b[39m \u001b[90m./\u001b[39m\u001b[90m\u001b[4mloading.jl:2734\u001b[24m\u001b[39m\n",
            "\u001b[33m\u001b[1m│ \u001b[22m\u001b[39m    [11] \u001b[0m\u001b[1msoftscope_include_string\u001b[22m\u001b[0m\u001b[1m(\u001b[22m\u001b[90mm\u001b[39m::\u001b[0mModule, \u001b[90mcode\u001b[39m::\u001b[0mString, \u001b[90mfilename\u001b[39m::\u001b[0mString\u001b[0m\u001b[1m)\u001b[22m\n",
            "\u001b[33m\u001b[1m│ \u001b[22m\u001b[39m   \u001b[90m    @\u001b[39m \u001b[36mSoftGlobalScope\u001b[39m \u001b[90m~/.julia/packages/SoftGlobalScope/u4UzH/src/\u001b[39m\u001b[90m\u001b[4mSoftGlobalScope.jl:65\u001b[24m\u001b[39m\n",
            "\u001b[33m\u001b[1m│ \u001b[22m\u001b[39m    [12] \u001b[0m\u001b[1mexecute_request\u001b[22m\u001b[0m\u001b[1m(\u001b[22m\u001b[90msocket\u001b[39m::\u001b[0mZMQ.Socket, \u001b[90mmsg\u001b[39m::\u001b[0mIJulia.Msg\u001b[0m\u001b[1m)\u001b[22m\n",
            "\u001b[33m\u001b[1m│ \u001b[22m\u001b[39m   \u001b[90m    @\u001b[39m \u001b[32mIJulia\u001b[39m \u001b[90m~/.julia/packages/IJulia/eenvU/src/\u001b[39m\u001b[90m\u001b[4mexecute_request.jl:81\u001b[24m\u001b[39m\n",
            "\u001b[33m\u001b[1m│ \u001b[22m\u001b[39m    [13] \u001b[0m\u001b[1m#invokelatest#2\u001b[22m\n",
            "\u001b[33m\u001b[1m│ \u001b[22m\u001b[39m   \u001b[90m    @\u001b[39m \u001b[90m./\u001b[39m\u001b[90m\u001b[4messentials.jl:1055\u001b[24m\u001b[39m\u001b[90m [inlined]\u001b[39m\n",
            "\u001b[33m\u001b[1m│ \u001b[22m\u001b[39m    [14] \u001b[0m\u001b[1minvokelatest\u001b[22m\n",
            "\u001b[33m\u001b[1m│ \u001b[22m\u001b[39m   \u001b[90m    @\u001b[39m \u001b[90m./\u001b[39m\u001b[90m\u001b[4messentials.jl:1052\u001b[24m\u001b[39m\u001b[90m [inlined]\u001b[39m\n",
            "\u001b[33m\u001b[1m│ \u001b[22m\u001b[39m    [15] \u001b[0m\u001b[1meventloop\u001b[22m\u001b[0m\u001b[1m(\u001b[22m\u001b[90msocket\u001b[39m::\u001b[0mZMQ.Socket\u001b[0m\u001b[1m)\u001b[22m\n",
            "\u001b[33m\u001b[1m│ \u001b[22m\u001b[39m   \u001b[90m    @\u001b[39m \u001b[32mIJulia\u001b[39m \u001b[90m~/.julia/packages/IJulia/eenvU/src/\u001b[39m\u001b[90m\u001b[4meventloop.jl:14\u001b[24m\u001b[39m\n",
            "\u001b[33m\u001b[1m│ \u001b[22m\u001b[39m    [16] \u001b[0m\u001b[1meventloop\u001b[22m\u001b[0m\u001b[1m(\u001b[22m\u001b[90msocket\u001b[39m::\u001b[0mZMQ.Socket\u001b[0m\u001b[1m)\u001b[22m\u001b[90m (repeats 2 times)\u001b[39m\n",
            "\u001b[33m\u001b[1m│ \u001b[22m\u001b[39m   \u001b[90m    @\u001b[39m \u001b[32mIJulia\u001b[39m \u001b[90m~/.julia/packages/IJulia/eenvU/src/\u001b[39m\u001b[90m\u001b[4meventloop.jl:41\u001b[24m\u001b[39m\n",
            "\u001b[33m\u001b[1m│ \u001b[22m\u001b[39m    [17] \u001b[0m\u001b[1m(::IJulia.var\"#13#16\")\u001b[22m\u001b[0m\u001b[1m(\u001b[22m\u001b[0m\u001b[1m)\u001b[22m\n",
            "\u001b[33m\u001b[1m│ \u001b[22m\u001b[39m   \u001b[90m    @\u001b[39m \u001b[32mIJulia\u001b[39m \u001b[90m~/.julia/packages/IJulia/eenvU/src/\u001b[39m\u001b[90m\u001b[4meventloop.jl:58\u001b[24m\u001b[39m\n",
            "\u001b[33m\u001b[1m└ \u001b[22m\u001b[39m\u001b[90m@ NighttimeLights ~/.julia/packages/NighttimeLights/PstBy/src/data_cleaning/full_procedures.jl:110\u001b[39m\n",
            "\u001b[33m\u001b[1m┌ \u001b[22m\u001b[39m\u001b[33m\u001b[1mWarning: \u001b[22m\u001b[39moutlier_variance failed, using all pixels as stable\n",
            "\u001b[33m\u001b[1m│ \u001b[22m\u001b[39m  exception =\n",
            "\u001b[33m\u001b[1m│ \u001b[22m\u001b[39m   ArgumentError: empty data vector\n",
            "\u001b[33m\u001b[1m│ \u001b[22m\u001b[39m   Stacktrace:\n",
            "\u001b[33m\u001b[1m│ \u001b[22m\u001b[39m     [1] \u001b[0m\u001b[1m_quantilesort!\u001b[22m\u001b[0m\u001b[1m(\u001b[22m\u001b[90mv\u001b[39m::\u001b[0mVector\u001b[90m{Union{}}\u001b[39m, \u001b[90msorted\u001b[39m::\u001b[0mBool, \u001b[90mminp\u001b[39m::\u001b[0mFloat64, \u001b[90mmaxp\u001b[39m::\u001b[0mFloat64\u001b[0m\u001b[1m)\u001b[22m\n",
            "\u001b[33m\u001b[1m│ \u001b[22m\u001b[39m   \u001b[90m    @\u001b[39m \u001b[35mStatistics\u001b[39m \u001b[90m~/.julia/packages/Statistics/gbcbG/src/\u001b[39m\u001b[90m\u001b[4mStatistics.jl:985\u001b[24m\u001b[39m\n",
            "\u001b[33m\u001b[1m│ \u001b[22m\u001b[39m     [2] \u001b[0m\u001b[1mquantile!\u001b[22m\u001b[0m\u001b[1m(\u001b[22m\u001b[90mv\u001b[39m::\u001b[0mVector\u001b[90m{Union{}}\u001b[39m, \u001b[90mp\u001b[39m::\u001b[0mFloat64; \u001b[90msorted\u001b[39m::\u001b[0mBool, \u001b[90malpha\u001b[39m::\u001b[0mFloat64, \u001b[90mbeta\u001b[39m::\u001b[0mFloat64\u001b[0m\u001b[1m)\u001b[22m\n",
            "\u001b[33m\u001b[1m│ \u001b[22m\u001b[39m   \u001b[90m    @\u001b[39m \u001b[35mStatistics\u001b[39m \u001b[90m~/.julia/packages/Statistics/gbcbG/src/\u001b[39m\u001b[90m\u001b[4mStatistics.jl:980\u001b[24m\u001b[39m\n",
            "\u001b[33m\u001b[1m│ \u001b[22m\u001b[39m     [3] \u001b[0m\u001b[1mquantile\u001b[22m\u001b[0m\u001b[1m(\u001b[22m\u001b[90mitr\u001b[39m::\u001b[0mBase.SkipMissing\u001b[90m{Vector{Missing}}\u001b[39m, \u001b[90mp\u001b[39m::\u001b[0mFloat64; \u001b[90msorted\u001b[39m::\u001b[0mBool, \u001b[90malpha\u001b[39m::\u001b[0mFloat64, \u001b[90mbeta\u001b[39m::\u001b[0mFloat64\u001b[0m\u001b[1m)\u001b[22m\n",
            "\u001b[33m\u001b[1m│ \u001b[22m\u001b[39m   \u001b[90m    @\u001b[39m \u001b[35mStatistics\u001b[39m \u001b[90m~/.julia/packages/Statistics/gbcbG/src/\u001b[39m\u001b[90m\u001b[4mStatistics.jl:1090\u001b[24m\u001b[39m\n",
            "\u001b[33m\u001b[1m│ \u001b[22m\u001b[39m     [4] \u001b[0m\u001b[1moutlier_variance\u001b[22m\u001b[0m\u001b[1m(\u001b[22m\u001b[90mradiance_datacube\u001b[39m::\u001b[0mRaster\u001b[90m{Missing, 3, Tuple{X{Projected{Float64, LinRange{Float64, Int64}, DimensionalData.Dimensions.Lookups.ForwardOrdered, DimensionalData.Dimensions.Lookups.Regular{Float64}, DimensionalData.Dimensions.Lookups.Intervals{DimensionalData.Dimensions.Lookups.Start}, DimensionalData.Dimensions.Lookups.NoMetadata, WellKnownText{GeoFormatTypes.CRS}, Nothing, X{Colon}}}, Y{Projected{Float64, LinRange{Float64, Int64}, DimensionalData.Dimensions.Lookups.ReverseOrdered, DimensionalData.Dimensions.Lookups.Regular{Float64}, DimensionalData.Dimensions.Lookups.Intervals{DimensionalData.Dimensions.Lookups.Start}, DimensionalData.Dimensions.Lookups.NoMetadata, WellKnownText{GeoFormatTypes.CRS}, Nothing, Y{Colon}}}, Ti{DimensionalData.Dimensions.Lookups.Sampled{Date, Vector{Date}, DimensionalData.Dimensions.Lookups.ForwardOrdered, DimensionalData.Dimensions.Lookups.Irregular{Tuple{Nothing, Nothing}}, DimensionalData.Dimensions.Lookups.Points, DimensionalData.Dimensions.Lookups.NoMetadata}}}, Tuple{}, Array{Missing, 3}, Symbol, DimensionalData.Dimensions.Lookups.NoMetadata, Missing}\u001b[39m, \u001b[90mmask\u001b[39m::\u001b[0mRaster\u001b[90m{Missing, 2, Tuple{X{Projected{Float64, LinRange{Float64, Int64}, DimensionalData.Dimensions.Lookups.ForwardOrdered, DimensionalData.Dimensions.Lookups.Regular{Float64}, DimensionalData.Dimensions.Lookups.Intervals{DimensionalData.Dimensions.Lookups.Start}, DimensionalData.Dimensions.Lookups.NoMetadata, WellKnownText{GeoFormatTypes.CRS}, Nothing, X{Colon}}}, Y{Projected{Float64, LinRange{Float64, Int64}, DimensionalData.Dimensions.Lookups.ReverseOrdered, DimensionalData.Dimensions.Lookups.Regular{Float64}, DimensionalData.Dimensions.Lookups.Intervals{DimensionalData.Dimensions.Lookups.Start}, DimensionalData.Dimensions.Lookups.NoMetadata, WellKnownText{GeoFormatTypes.CRS}, Nothing, Y{Colon}}}}, Tuple{}, Matrix{Missing}, Symbol, DimensionalData.Dimensions.Lookups.NoMetadata, Missing}\u001b[39m; \u001b[90mcutoff\u001b[39m::\u001b[0mFloat64\u001b[0m\u001b[1m)\u001b[22m\n",
            "\u001b[33m\u001b[1m│ \u001b[22m\u001b[39m   \u001b[90m    @\u001b[39m \u001b[36mNighttimeLights\u001b[39m \u001b[90m~/.julia/packages/NighttimeLights/PstBy/src/data_cleaning/\u001b[39m\u001b[90m\u001b[4moutlier_removal.jl:28\u001b[24m\u001b[39m\n",
            "\u001b[33m\u001b[1m│ \u001b[22m\u001b[39m     [5] \u001b[0m\u001b[1moutlier_variance\u001b[22m\u001b[0m\u001b[1m(\u001b[22m\u001b[90mradiance_datacube\u001b[39m::\u001b[0mRaster\u001b[90m{Missing, 3, Tuple{X{Projected{Float64, LinRange{Float64, Int64}, DimensionalData.Dimensions.Lookups.ForwardOrdered, DimensionalData.Dimensions.Lookups.Regular{Float64}, DimensionalData.Dimensions.Lookups.Intervals{DimensionalData.Dimensions.Lookups.Start}, DimensionalData.Dimensions.Lookups.NoMetadata, WellKnownText{GeoFormatTypes.CRS}, Nothing, X{Colon}}}, Y{Projected{Float64, LinRange{Float64, Int64}, DimensionalData.Dimensions.Lookups.ReverseOrdered, DimensionalData.Dimensions.Lookups.Regular{Float64}, DimensionalData.Dimensions.Lookups.Intervals{DimensionalData.Dimensions.Lookups.Start}, DimensionalData.Dimensions.Lookups.NoMetadata, WellKnownText{GeoFormatTypes.CRS}, Nothing, Y{Colon}}}, Ti{DimensionalData.Dimensions.Lookups.Sampled{Date, Vector{Date}, DimensionalData.Dimensions.Lookups.ForwardOrdered, DimensionalData.Dimensions.Lookups.Irregular{Tuple{Nothing, Nothing}}, DimensionalData.Dimensions.Lookups.Points, DimensionalData.Dimensions.Lookups.NoMetadata}}}, Tuple{}, Array{Missing, 3}, Symbol, DimensionalData.Dimensions.Lookups.NoMetadata, Missing}\u001b[39m, \u001b[90mmask\u001b[39m::\u001b[0mRaster\u001b[90m{Missing, 2, Tuple{X{Projected{Float64, LinRange{Float64, Int64}, DimensionalData.Dimensions.Lookups.ForwardOrdered, DimensionalData.Dimensions.Lookups.Regular{Float64}, DimensionalData.Dimensions.Lookups.Intervals{DimensionalData.Dimensions.Lookups.Start}, DimensionalData.Dimensions.Lookups.NoMetadata, WellKnownText{GeoFormatTypes.CRS}, Nothing, X{Colon}}}, Y{Projected{Float64, LinRange{Float64, Int64}, DimensionalData.Dimensions.Lookups.ReverseOrdered, DimensionalData.Dimensions.Lookups.Regular{Float64}, DimensionalData.Dimensions.Lookups.Intervals{DimensionalData.Dimensions.Lookups.Start}, DimensionalData.Dimensions.Lookups.NoMetadata, WellKnownText{GeoFormatTypes.CRS}, Nothing, Y{Colon}}}}, Tuple{}, Matrix{Missing}, Symbol, DimensionalData.Dimensions.Lookups.NoMetadata, Missing}\u001b[39m\u001b[0m\u001b[1m)\u001b[22m\n",
            "\u001b[33m\u001b[1m│ \u001b[22m\u001b[39m   \u001b[90m    @\u001b[39m \u001b[36mNighttimeLights\u001b[39m \u001b[90m~/.julia/packages/NighttimeLights/PstBy/src/data_cleaning/\u001b[39m\u001b[90m\u001b[4moutlier_removal.jl:8\u001b[24m\u001b[39m\n",
            "\u001b[33m\u001b[1m│ \u001b[22m\u001b[39m     [6] \u001b[0m\u001b[1mclean_complete\u001b[22m\u001b[0m\u001b[1m(\u001b[22m\u001b[90mradiance_datacube\u001b[39m::\u001b[0mRaster\u001b[90m{Float32, 3, Tuple{X{Projected{Float64, LinRange{Float64, Int64}, DimensionalData.Dimensions.Lookups.ForwardOrdered, DimensionalData.Dimensions.Lookups.Regular{Float64}, DimensionalData.Dimensions.Lookups.Intervals{DimensionalData.Dimensions.Lookups.Start}, DimensionalData.Dimensions.Lookups.NoMetadata, WellKnownText{GeoFormatTypes.CRS}, Nothing, X{Colon}}}, Y{Projected{Float64, LinRange{Float64, Int64}, DimensionalData.Dimensions.Lookups.ReverseOrdered, DimensionalData.Dimensions.Lookups.Regular{Float64}, DimensionalData.Dimensions.Lookups.Intervals{DimensionalData.Dimensions.Lookups.Start}, DimensionalData.Dimensions.Lookups.NoMetadata, WellKnownText{GeoFormatTypes.CRS}, Nothing, Y{Colon}}}, Ti{DimensionalData.Dimensions.Lookups.Sampled{Date, Vector{Date}, DimensionalData.Dimensions.Lookups.ForwardOrdered, DimensionalData.Dimensions.Lookups.Irregular{Tuple{Nothing, Nothing}}, DimensionalData.Dimensions.Lookups.Points, DimensionalData.Dimensions.Lookups.NoMetadata}}}, Tuple{X{Projected{Float64, LinRange{Float64, Int64}, DimensionalData.Dimensions.Lookups.ForwardOrdered, DimensionalData.Dimensions.Lookups.Regular{Float64}, DimensionalData.Dimensions.Lookups.Intervals{DimensionalData.Dimensions.Lookups.Start}, DimensionalData.Dimensions.Lookups.NoMetadata, WellKnownText{GeoFormatTypes.CRS}, Nothing, X{Colon}}}, Y{Projected{Float64, LinRange{Float64, Int64}, DimensionalData.Dimensions.Lookups.ReverseOrdered, DimensionalData.Dimensions.Lookups.Regular{Float64}, DimensionalData.Dimensions.Lookups.Intervals{DimensionalData.Dimensions.Lookups.Start}, DimensionalData.Dimensions.Lookups.NoMetadata, WellKnownText{GeoFormatTypes.CRS}, Nothing, Y{Colon}}}}, Array{Float32, 3}, Symbol, DimensionalData.Dimensions.Lookups.Metadata{Rasters.GDALsource, Dict{String, Any}}, Float32}\u001b[39m, \u001b[90mncfobs_datacube\u001b[39m::\u001b[0mRaster\u001b[90m{UInt16, 3, Tuple{X{Projected{Float64, LinRange{Float64, Int64}, DimensionalData.Dimensions.Lookups.ForwardOrdered, DimensionalData.Dimensions.Lookups.Regular{Float64}, DimensionalData.Dimensions.Lookups.Intervals{DimensionalData.Dimensions.Lookups.Start}, DimensionalData.Dimensions.Lookups.NoMetadata, WellKnownText{GeoFormatTypes.CRS}, Nothing, X{Colon}}}, Y{Projected{Float64, LinRange{Float64, Int64}, DimensionalData.Dimensions.Lookups.ReverseOrdered, DimensionalData.Dimensions.Lookups.Regular{Float64}, DimensionalData.Dimensions.Lookups.Intervals{DimensionalData.Dimensions.Lookups.Start}, DimensionalData.Dimensions.Lookups.NoMetadata, WellKnownText{GeoFormatTypes.CRS}, Nothing, Y{Colon}}}, Ti{DimensionalData.Dimensions.Lookups.Sampled{Date, Vector{Date}, DimensionalData.Dimensions.Lookups.ForwardOrdered, DimensionalData.Dimensions.Lookups.Irregular{Tuple{Nothing, Nothing}}, DimensionalData.Dimensions.Lookups.Points, DimensionalData.Dimensions.Lookups.NoMetadata}}}, Tuple{X{Projected{Float64, LinRange{Float64, Int64}, DimensionalData.Dimensions.Lookups.ForwardOrdered, DimensionalData.Dimensions.Lookups.Regular{Float64}, DimensionalData.Dimensions.Lookups.Intervals{DimensionalData.Dimensions.Lookups.Start}, DimensionalData.Dimensions.Lookups.NoMetadata, WellKnownText{GeoFormatTypes.CRS}, Nothing, X{Colon}}}, Y{Projected{Float64, LinRange{Float64, Int64}, DimensionalData.Dimensions.Lookups.ReverseOrdered, DimensionalData.Dimensions.Lookups.Regular{Float64}, DimensionalData.Dimensions.Lookups.Intervals{DimensionalData.Dimensions.Lookups.Start}, DimensionalData.Dimensions.Lookups.NoMetadata, WellKnownText{GeoFormatTypes.CRS}, Nothing, Y{Colon}}}}, Array{UInt16, 3}, Symbol, DimensionalData.Dimensions.Lookups.Metadata{Rasters.GDALsource, Dict{String, Any}}, Nothing}\u001b[39m; \u001b[90mnoise\u001b[39m::\u001b[0mNothing, \u001b[90mbgthreshold\u001b[39m::\u001b[0mInt64\u001b[0m\u001b[1m)\u001b[22m\n",
            "\u001b[33m\u001b[1m│ \u001b[22m\u001b[39m   \u001b[90m    @\u001b[39m \u001b[36mNighttimeLights\u001b[39m \u001b[90m~/.julia/packages/NighttimeLights/PstBy/src/data_cleaning/\u001b[39m\u001b[90m\u001b[4mfull_procedures.jl:105\u001b[24m\u001b[39m\n",
            "\u001b[33m\u001b[1m│ \u001b[22m\u001b[39m     [7] \u001b[0m\u001b[1mprocess_state\u001b[22m\u001b[0m\u001b[1m(\u001b[22m\u001b[90mstate_row\u001b[39m::\u001b[0mDataFrameRow\u001b[90m{DataFrame, DataFrames.Index}\u001b[39m\u001b[0m\u001b[1m)\u001b[22m\n",
            "\u001b[33m\u001b[1m│ \u001b[22m\u001b[39m   \u001b[90m    @\u001b[39m \u001b[36mMain\u001b[39m \u001b[90m./\u001b[39m\u001b[90m\u001b[4mIn[177]:14\u001b[24m\u001b[39m\n",
            "\u001b[33m\u001b[1m│ \u001b[22m\u001b[39m     [8] top-level scope\n",
            "\u001b[33m\u001b[1m│ \u001b[22m\u001b[39m   \u001b[90m    @\u001b[39m \u001b[90m./\u001b[39m\u001b[90m\u001b[4mIn[178]:9\u001b[24m\u001b[39m\n",
            "\u001b[33m\u001b[1m│ \u001b[22m\u001b[39m     [9] \u001b[0m\u001b[1meval\u001b[22m\n",
            "\u001b[33m\u001b[1m│ \u001b[22m\u001b[39m   \u001b[90m    @\u001b[39m \u001b[90m./\u001b[39m\u001b[90m\u001b[4mboot.jl:430\u001b[24m\u001b[39m\u001b[90m [inlined]\u001b[39m\n",
            "\u001b[33m\u001b[1m│ \u001b[22m\u001b[39m    [10] \u001b[0m\u001b[1minclude_string\u001b[22m\u001b[0m\u001b[1m(\u001b[22m\u001b[90mmapexpr\u001b[39m::\u001b[0mtypeof(REPL.softscope), \u001b[90mmod\u001b[39m::\u001b[0mModule, \u001b[90mcode\u001b[39m::\u001b[0mString, \u001b[90mfilename\u001b[39m::\u001b[0mString\u001b[0m\u001b[1m)\u001b[22m\n",
            "\u001b[33m\u001b[1m│ \u001b[22m\u001b[39m   \u001b[90m    @\u001b[39m \u001b[90mBase\u001b[39m \u001b[90m./\u001b[39m\u001b[90m\u001b[4mloading.jl:2734\u001b[24m\u001b[39m\n",
            "\u001b[33m\u001b[1m│ \u001b[22m\u001b[39m    [11] \u001b[0m\u001b[1msoftscope_include_string\u001b[22m\u001b[0m\u001b[1m(\u001b[22m\u001b[90mm\u001b[39m::\u001b[0mModule, \u001b[90mcode\u001b[39m::\u001b[0mString, \u001b[90mfilename\u001b[39m::\u001b[0mString\u001b[0m\u001b[1m)\u001b[22m\n",
            "\u001b[33m\u001b[1m│ \u001b[22m\u001b[39m   \u001b[90m    @\u001b[39m \u001b[36mSoftGlobalScope\u001b[39m \u001b[90m~/.julia/packages/SoftGlobalScope/u4UzH/src/\u001b[39m\u001b[90m\u001b[4mSoftGlobalScope.jl:65\u001b[24m\u001b[39m\n",
            "\u001b[33m\u001b[1m│ \u001b[22m\u001b[39m    [12] \u001b[0m\u001b[1mexecute_request\u001b[22m\u001b[0m\u001b[1m(\u001b[22m\u001b[90msocket\u001b[39m::\u001b[0mZMQ.Socket, \u001b[90mmsg\u001b[39m::\u001b[0mIJulia.Msg\u001b[0m\u001b[1m)\u001b[22m\n",
            "\u001b[33m\u001b[1m│ \u001b[22m\u001b[39m   \u001b[90m    @\u001b[39m \u001b[32mIJulia\u001b[39m \u001b[90m~/.julia/packages/IJulia/eenvU/src/\u001b[39m\u001b[90m\u001b[4mexecute_request.jl:81\u001b[24m\u001b[39m\n",
            "\u001b[33m\u001b[1m│ \u001b[22m\u001b[39m    [13] \u001b[0m\u001b[1m#invokelatest#2\u001b[22m\n",
            "\u001b[33m\u001b[1m│ \u001b[22m\u001b[39m   \u001b[90m    @\u001b[39m \u001b[90m./\u001b[39m\u001b[90m\u001b[4messentials.jl:1055\u001b[24m\u001b[39m\u001b[90m [inlined]\u001b[39m\n",
            "\u001b[33m\u001b[1m│ \u001b[22m\u001b[39m    [14] \u001b[0m\u001b[1minvokelatest\u001b[22m\n",
            "\u001b[33m\u001b[1m│ \u001b[22m\u001b[39m   \u001b[90m    @\u001b[39m \u001b[90m./\u001b[39m\u001b[90m\u001b[4messentials.jl:1052\u001b[24m\u001b[39m\u001b[90m [inlined]\u001b[39m\n",
            "\u001b[33m\u001b[1m│ \u001b[22m\u001b[39m    [15] \u001b[0m\u001b[1meventloop\u001b[22m\u001b[0m\u001b[1m(\u001b[22m\u001b[90msocket\u001b[39m::\u001b[0mZMQ.Socket\u001b[0m\u001b[1m)\u001b[22m\n",
            "\u001b[33m\u001b[1m│ \u001b[22m\u001b[39m   \u001b[90m    @\u001b[39m \u001b[32mIJulia\u001b[39m \u001b[90m~/.julia/packages/IJulia/eenvU/src/\u001b[39m\u001b[90m\u001b[4meventloop.jl:14\u001b[24m\u001b[39m\n",
            "\u001b[33m\u001b[1m│ \u001b[22m\u001b[39m    [16] \u001b[0m\u001b[1meventloop\u001b[22m\u001b[0m\u001b[1m(\u001b[22m\u001b[90msocket\u001b[39m::\u001b[0mZMQ.Socket\u001b[0m\u001b[1m)\u001b[22m\u001b[90m (repeats 2 times)\u001b[39m\n",
            "\u001b[33m\u001b[1m│ \u001b[22m\u001b[39m   \u001b[90m    @\u001b[39m \u001b[32mIJulia\u001b[39m \u001b[90m~/.julia/packages/IJulia/eenvU/src/\u001b[39m\u001b[90m\u001b[4meventloop.jl:41\u001b[24m\u001b[39m\n",
            "\u001b[33m\u001b[1m│ \u001b[22m\u001b[39m    [17] \u001b[0m\u001b[1m(::IJulia.var\"#13#16\")\u001b[22m\u001b[0m\u001b[1m(\u001b[22m\u001b[0m\u001b[1m)\u001b[22m\n",
            "\u001b[33m\u001b[1m│ \u001b[22m\u001b[39m   \u001b[90m    @\u001b[39m \u001b[32mIJulia\u001b[39m \u001b[90m~/.julia/packages/IJulia/eenvU/src/\u001b[39m\u001b[90m\u001b[4meventloop.jl:58\u001b[24m\u001b[39m\n",
            "\u001b[33m\u001b[1m└ \u001b[22m\u001b[39m\u001b[90m@ NighttimeLights ~/.julia/packages/NighttimeLights/PstBy/src/data_cleaning/full_procedures.jl:110\u001b[39m\n",
            "\u001b[33m\u001b[1m┌ \u001b[22m\u001b[39m\u001b[33m\u001b[1mWarning: \u001b[22m\u001b[39moutlier_variance failed, using all pixels as stable\n",
            "\u001b[33m\u001b[1m│ \u001b[22m\u001b[39m  exception =\n",
            "\u001b[33m\u001b[1m│ \u001b[22m\u001b[39m   ArgumentError: empty data vector\n",
            "\u001b[33m\u001b[1m│ \u001b[22m\u001b[39m   Stacktrace:\n",
            "\u001b[33m\u001b[1m│ \u001b[22m\u001b[39m     [1] \u001b[0m\u001b[1m_quantilesort!\u001b[22m\u001b[0m\u001b[1m(\u001b[22m\u001b[90mv\u001b[39m::\u001b[0mVector\u001b[90m{Union{}}\u001b[39m, \u001b[90msorted\u001b[39m::\u001b[0mBool, \u001b[90mminp\u001b[39m::\u001b[0mFloat64, \u001b[90mmaxp\u001b[39m::\u001b[0mFloat64\u001b[0m\u001b[1m)\u001b[22m\n",
            "\u001b[33m\u001b[1m│ \u001b[22m\u001b[39m   \u001b[90m    @\u001b[39m \u001b[35mStatistics\u001b[39m \u001b[90m~/.julia/packages/Statistics/gbcbG/src/\u001b[39m\u001b[90m\u001b[4mStatistics.jl:985\u001b[24m\u001b[39m\n",
            "\u001b[33m\u001b[1m│ \u001b[22m\u001b[39m     [2] \u001b[0m\u001b[1mquantile!\u001b[22m\u001b[0m\u001b[1m(\u001b[22m\u001b[90mv\u001b[39m::\u001b[0mVector\u001b[90m{Union{}}\u001b[39m, \u001b[90mp\u001b[39m::\u001b[0mFloat64; \u001b[90msorted\u001b[39m::\u001b[0mBool, \u001b[90malpha\u001b[39m::\u001b[0mFloat64, \u001b[90mbeta\u001b[39m::\u001b[0mFloat64\u001b[0m\u001b[1m)\u001b[22m\n",
            "\u001b[33m\u001b[1m│ \u001b[22m\u001b[39m   \u001b[90m    @\u001b[39m \u001b[35mStatistics\u001b[39m \u001b[90m~/.julia/packages/Statistics/gbcbG/src/\u001b[39m\u001b[90m\u001b[4mStatistics.jl:980\u001b[24m\u001b[39m\n",
            "\u001b[33m\u001b[1m│ \u001b[22m\u001b[39m     [3] \u001b[0m\u001b[1mquantile\u001b[22m\u001b[0m\u001b[1m(\u001b[22m\u001b[90mitr\u001b[39m::\u001b[0mBase.SkipMissing\u001b[90m{Vector{Missing}}\u001b[39m, \u001b[90mp\u001b[39m::\u001b[0mFloat64; \u001b[90msorted\u001b[39m::\u001b[0mBool, \u001b[90malpha\u001b[39m::\u001b[0mFloat64, \u001b[90mbeta\u001b[39m::\u001b[0mFloat64\u001b[0m\u001b[1m)\u001b[22m\n",
            "\u001b[33m\u001b[1m│ \u001b[22m\u001b[39m   \u001b[90m    @\u001b[39m \u001b[35mStatistics\u001b[39m \u001b[90m~/.julia/packages/Statistics/gbcbG/src/\u001b[39m\u001b[90m\u001b[4mStatistics.jl:1090\u001b[24m\u001b[39m\n",
            "\u001b[33m\u001b[1m│ \u001b[22m\u001b[39m     [4] \u001b[0m\u001b[1moutlier_variance\u001b[22m\u001b[0m\u001b[1m(\u001b[22m\u001b[90mradiance_datacube\u001b[39m::\u001b[0mRaster\u001b[90m{Missing, 3, Tuple{X{Projected{Float64, LinRange{Float64, Int64}, DimensionalData.Dimensions.Lookups.ForwardOrdered, DimensionalData.Dimensions.Lookups.Regular{Float64}, DimensionalData.Dimensions.Lookups.Intervals{DimensionalData.Dimensions.Lookups.Start}, DimensionalData.Dimensions.Lookups.NoMetadata, WellKnownText{GeoFormatTypes.CRS}, Nothing, X{Colon}}}, Y{Projected{Float64, LinRange{Float64, Int64}, DimensionalData.Dimensions.Lookups.ReverseOrdered, DimensionalData.Dimensions.Lookups.Regular{Float64}, DimensionalData.Dimensions.Lookups.Intervals{DimensionalData.Dimensions.Lookups.Start}, DimensionalData.Dimensions.Lookups.NoMetadata, WellKnownText{GeoFormatTypes.CRS}, Nothing, Y{Colon}}}, Ti{DimensionalData.Dimensions.Lookups.Sampled{Date, Vector{Date}, DimensionalData.Dimensions.Lookups.ForwardOrdered, DimensionalData.Dimensions.Lookups.Irregular{Tuple{Nothing, Nothing}}, DimensionalData.Dimensions.Lookups.Points, DimensionalData.Dimensions.Lookups.NoMetadata}}}, Tuple{}, Array{Missing, 3}, Symbol, DimensionalData.Dimensions.Lookups.NoMetadata, Missing}\u001b[39m, \u001b[90mmask\u001b[39m::\u001b[0mRaster\u001b[90m{Missing, 2, Tuple{X{Projected{Float64, LinRange{Float64, Int64}, DimensionalData.Dimensions.Lookups.ForwardOrdered, DimensionalData.Dimensions.Lookups.Regular{Float64}, DimensionalData.Dimensions.Lookups.Intervals{DimensionalData.Dimensions.Lookups.Start}, DimensionalData.Dimensions.Lookups.NoMetadata, WellKnownText{GeoFormatTypes.CRS}, Nothing, X{Colon}}}, Y{Projected{Float64, LinRange{Float64, Int64}, DimensionalData.Dimensions.Lookups.ReverseOrdered, DimensionalData.Dimensions.Lookups.Regular{Float64}, DimensionalData.Dimensions.Lookups.Intervals{DimensionalData.Dimensions.Lookups.Start}, DimensionalData.Dimensions.Lookups.NoMetadata, WellKnownText{GeoFormatTypes.CRS}, Nothing, Y{Colon}}}}, Tuple{}, Matrix{Missing}, Symbol, DimensionalData.Dimensions.Lookups.NoMetadata, Missing}\u001b[39m; \u001b[90mcutoff\u001b[39m::\u001b[0mFloat64\u001b[0m\u001b[1m)\u001b[22m\n",
            "\u001b[33m\u001b[1m│ \u001b[22m\u001b[39m   \u001b[90m    @\u001b[39m \u001b[36mNighttimeLights\u001b[39m \u001b[90m~/.julia/packages/NighttimeLights/PstBy/src/data_cleaning/\u001b[39m\u001b[90m\u001b[4moutlier_removal.jl:28\u001b[24m\u001b[39m\n",
            "\u001b[33m\u001b[1m│ \u001b[22m\u001b[39m     [5] \u001b[0m\u001b[1moutlier_variance\u001b[22m\u001b[0m\u001b[1m(\u001b[22m\u001b[90mradiance_datacube\u001b[39m::\u001b[0mRaster\u001b[90m{Missing, 3, Tuple{X{Projected{Float64, LinRange{Float64, Int64}, DimensionalData.Dimensions.Lookups.ForwardOrdered, DimensionalData.Dimensions.Lookups.Regular{Float64}, DimensionalData.Dimensions.Lookups.Intervals{DimensionalData.Dimensions.Lookups.Start}, DimensionalData.Dimensions.Lookups.NoMetadata, WellKnownText{GeoFormatTypes.CRS}, Nothing, X{Colon}}}, Y{Projected{Float64, LinRange{Float64, Int64}, DimensionalData.Dimensions.Lookups.ReverseOrdered, DimensionalData.Dimensions.Lookups.Regular{Float64}, DimensionalData.Dimensions.Lookups.Intervals{DimensionalData.Dimensions.Lookups.Start}, DimensionalData.Dimensions.Lookups.NoMetadata, WellKnownText{GeoFormatTypes.CRS}, Nothing, Y{Colon}}}, Ti{DimensionalData.Dimensions.Lookups.Sampled{Date, Vector{Date}, DimensionalData.Dimensions.Lookups.ForwardOrdered, DimensionalData.Dimensions.Lookups.Irregular{Tuple{Nothing, Nothing}}, DimensionalData.Dimensions.Lookups.Points, DimensionalData.Dimensions.Lookups.NoMetadata}}}, Tuple{}, Array{Missing, 3}, Symbol, DimensionalData.Dimensions.Lookups.NoMetadata, Missing}\u001b[39m, \u001b[90mmask\u001b[39m::\u001b[0mRaster\u001b[90m{Missing, 2, Tuple{X{Projected{Float64, LinRange{Float64, Int64}, DimensionalData.Dimensions.Lookups.ForwardOrdered, DimensionalData.Dimensions.Lookups.Regular{Float64}, DimensionalData.Dimensions.Lookups.Intervals{DimensionalData.Dimensions.Lookups.Start}, DimensionalData.Dimensions.Lookups.NoMetadata, WellKnownText{GeoFormatTypes.CRS}, Nothing, X{Colon}}}, Y{Projected{Float64, LinRange{Float64, Int64}, DimensionalData.Dimensions.Lookups.ReverseOrdered, DimensionalData.Dimensions.Lookups.Regular{Float64}, DimensionalData.Dimensions.Lookups.Intervals{DimensionalData.Dimensions.Lookups.Start}, DimensionalData.Dimensions.Lookups.NoMetadata, WellKnownText{GeoFormatTypes.CRS}, Nothing, Y{Colon}}}}, Tuple{}, Matrix{Missing}, Symbol, DimensionalData.Dimensions.Lookups.NoMetadata, Missing}\u001b[39m\u001b[0m\u001b[1m)\u001b[22m\n",
            "\u001b[33m\u001b[1m│ \u001b[22m\u001b[39m   \u001b[90m    @\u001b[39m \u001b[36mNighttimeLights\u001b[39m \u001b[90m~/.julia/packages/NighttimeLights/PstBy/src/data_cleaning/\u001b[39m\u001b[90m\u001b[4moutlier_removal.jl:8\u001b[24m\u001b[39m\n",
            "\u001b[33m\u001b[1m│ \u001b[22m\u001b[39m     [6] \u001b[0m\u001b[1mclean_complete\u001b[22m\u001b[0m\u001b[1m(\u001b[22m\u001b[90mradiance_datacube\u001b[39m::\u001b[0mRaster\u001b[90m{Float32, 3, Tuple{X{Projected{Float64, LinRange{Float64, Int64}, DimensionalData.Dimensions.Lookups.ForwardOrdered, DimensionalData.Dimensions.Lookups.Regular{Float64}, DimensionalData.Dimensions.Lookups.Intervals{DimensionalData.Dimensions.Lookups.Start}, DimensionalData.Dimensions.Lookups.NoMetadata, WellKnownText{GeoFormatTypes.CRS}, Nothing, X{Colon}}}, Y{Projected{Float64, LinRange{Float64, Int64}, DimensionalData.Dimensions.Lookups.ReverseOrdered, DimensionalData.Dimensions.Lookups.Regular{Float64}, DimensionalData.Dimensions.Lookups.Intervals{DimensionalData.Dimensions.Lookups.Start}, DimensionalData.Dimensions.Lookups.NoMetadata, WellKnownText{GeoFormatTypes.CRS}, Nothing, Y{Colon}}}, Ti{DimensionalData.Dimensions.Lookups.Sampled{Date, Vector{Date}, DimensionalData.Dimensions.Lookups.ForwardOrdered, DimensionalData.Dimensions.Lookups.Irregular{Tuple{Nothing, Nothing}}, DimensionalData.Dimensions.Lookups.Points, DimensionalData.Dimensions.Lookups.NoMetadata}}}, Tuple{X{Projected{Float64, LinRange{Float64, Int64}, DimensionalData.Dimensions.Lookups.ForwardOrdered, DimensionalData.Dimensions.Lookups.Regular{Float64}, DimensionalData.Dimensions.Lookups.Intervals{DimensionalData.Dimensions.Lookups.Start}, DimensionalData.Dimensions.Lookups.NoMetadata, WellKnownText{GeoFormatTypes.CRS}, Nothing, X{Colon}}}, Y{Projected{Float64, LinRange{Float64, Int64}, DimensionalData.Dimensions.Lookups.ReverseOrdered, DimensionalData.Dimensions.Lookups.Regular{Float64}, DimensionalData.Dimensions.Lookups.Intervals{DimensionalData.Dimensions.Lookups.Start}, DimensionalData.Dimensions.Lookups.NoMetadata, WellKnownText{GeoFormatTypes.CRS}, Nothing, Y{Colon}}}}, Array{Float32, 3}, Symbol, DimensionalData.Dimensions.Lookups.Metadata{Rasters.GDALsource, Dict{String, Any}}, Float32}\u001b[39m, \u001b[90mncfobs_datacube\u001b[39m::\u001b[0mRaster\u001b[90m{UInt16, 3, Tuple{X{Projected{Float64, LinRange{Float64, Int64}, DimensionalData.Dimensions.Lookups.ForwardOrdered, DimensionalData.Dimensions.Lookups.Regular{Float64}, DimensionalData.Dimensions.Lookups.Intervals{DimensionalData.Dimensions.Lookups.Start}, DimensionalData.Dimensions.Lookups.NoMetadata, WellKnownText{GeoFormatTypes.CRS}, Nothing, X{Colon}}}, Y{Projected{Float64, LinRange{Float64, Int64}, DimensionalData.Dimensions.Lookups.ReverseOrdered, DimensionalData.Dimensions.Lookups.Regular{Float64}, DimensionalData.Dimensions.Lookups.Intervals{DimensionalData.Dimensions.Lookups.Start}, DimensionalData.Dimensions.Lookups.NoMetadata, WellKnownText{GeoFormatTypes.CRS}, Nothing, Y{Colon}}}, Ti{DimensionalData.Dimensions.Lookups.Sampled{Date, Vector{Date}, DimensionalData.Dimensions.Lookups.ForwardOrdered, DimensionalData.Dimensions.Lookups.Irregular{Tuple{Nothing, Nothing}}, DimensionalData.Dimensions.Lookups.Points, DimensionalData.Dimensions.Lookups.NoMetadata}}}, Tuple{X{Projected{Float64, LinRange{Float64, Int64}, DimensionalData.Dimensions.Lookups.ForwardOrdered, DimensionalData.Dimensions.Lookups.Regular{Float64}, DimensionalData.Dimensions.Lookups.Intervals{DimensionalData.Dimensions.Lookups.Start}, DimensionalData.Dimensions.Lookups.NoMetadata, WellKnownText{GeoFormatTypes.CRS}, Nothing, X{Colon}}}, Y{Projected{Float64, LinRange{Float64, Int64}, DimensionalData.Dimensions.Lookups.ReverseOrdered, DimensionalData.Dimensions.Lookups.Regular{Float64}, DimensionalData.Dimensions.Lookups.Intervals{DimensionalData.Dimensions.Lookups.Start}, DimensionalData.Dimensions.Lookups.NoMetadata, WellKnownText{GeoFormatTypes.CRS}, Nothing, Y{Colon}}}}, Array{UInt16, 3}, Symbol, DimensionalData.Dimensions.Lookups.Metadata{Rasters.GDALsource, Dict{String, Any}}, Nothing}\u001b[39m; \u001b[90mnoise\u001b[39m::\u001b[0mNothing, \u001b[90mbgthreshold\u001b[39m::\u001b[0mInt64\u001b[0m\u001b[1m)\u001b[22m\n",
            "\u001b[33m\u001b[1m│ \u001b[22m\u001b[39m   \u001b[90m    @\u001b[39m \u001b[36mNighttimeLights\u001b[39m \u001b[90m~/.julia/packages/NighttimeLights/PstBy/src/data_cleaning/\u001b[39m\u001b[90m\u001b[4mfull_procedures.jl:105\u001b[24m\u001b[39m\n",
            "\u001b[33m\u001b[1m│ \u001b[22m\u001b[39m     [7] \u001b[0m\u001b[1mprocess_state\u001b[22m\u001b[0m\u001b[1m(\u001b[22m\u001b[90mstate_row\u001b[39m::\u001b[0mDataFrameRow\u001b[90m{DataFrame, DataFrames.Index}\u001b[39m\u001b[0m\u001b[1m)\u001b[22m\n",
            "\u001b[33m\u001b[1m│ \u001b[22m\u001b[39m   \u001b[90m    @\u001b[39m \u001b[36mMain\u001b[39m \u001b[90m./\u001b[39m\u001b[90m\u001b[4mIn[177]:14\u001b[24m\u001b[39m\n",
            "\u001b[33m\u001b[1m│ \u001b[22m\u001b[39m     [8] top-level scope\n",
            "\u001b[33m\u001b[1m│ \u001b[22m\u001b[39m   \u001b[90m    @\u001b[39m \u001b[90m./\u001b[39m\u001b[90m\u001b[4mIn[178]:9\u001b[24m\u001b[39m\n",
            "\u001b[33m\u001b[1m│ \u001b[22m\u001b[39m     [9] \u001b[0m\u001b[1meval\u001b[22m\n",
            "\u001b[33m\u001b[1m│ \u001b[22m\u001b[39m   \u001b[90m    @\u001b[39m \u001b[90m./\u001b[39m\u001b[90m\u001b[4mboot.jl:430\u001b[24m\u001b[39m\u001b[90m [inlined]\u001b[39m\n",
            "\u001b[33m\u001b[1m│ \u001b[22m\u001b[39m    [10] \u001b[0m\u001b[1minclude_string\u001b[22m\u001b[0m\u001b[1m(\u001b[22m\u001b[90mmapexpr\u001b[39m::\u001b[0mtypeof(REPL.softscope), \u001b[90mmod\u001b[39m::\u001b[0mModule, \u001b[90mcode\u001b[39m::\u001b[0mString, \u001b[90mfilename\u001b[39m::\u001b[0mString\u001b[0m\u001b[1m)\u001b[22m\n",
            "\u001b[33m\u001b[1m│ \u001b[22m\u001b[39m   \u001b[90m    @\u001b[39m \u001b[90mBase\u001b[39m \u001b[90m./\u001b[39m\u001b[90m\u001b[4mloading.jl:2734\u001b[24m\u001b[39m\n",
            "\u001b[33m\u001b[1m│ \u001b[22m\u001b[39m    [11] \u001b[0m\u001b[1msoftscope_include_string\u001b[22m\u001b[0m\u001b[1m(\u001b[22m\u001b[90mm\u001b[39m::\u001b[0mModule, \u001b[90mcode\u001b[39m::\u001b[0mString, \u001b[90mfilename\u001b[39m::\u001b[0mString\u001b[0m\u001b[1m)\u001b[22m\n",
            "\u001b[33m\u001b[1m│ \u001b[22m\u001b[39m   \u001b[90m    @\u001b[39m \u001b[36mSoftGlobalScope\u001b[39m \u001b[90m~/.julia/packages/SoftGlobalScope/u4UzH/src/\u001b[39m\u001b[90m\u001b[4mSoftGlobalScope.jl:65\u001b[24m\u001b[39m\n",
            "\u001b[33m\u001b[1m│ \u001b[22m\u001b[39m    [12] \u001b[0m\u001b[1mexecute_request\u001b[22m\u001b[0m\u001b[1m(\u001b[22m\u001b[90msocket\u001b[39m::\u001b[0mZMQ.Socket, \u001b[90mmsg\u001b[39m::\u001b[0mIJulia.Msg\u001b[0m\u001b[1m)\u001b[22m\n",
            "\u001b[33m\u001b[1m│ \u001b[22m\u001b[39m   \u001b[90m    @\u001b[39m \u001b[32mIJulia\u001b[39m \u001b[90m~/.julia/packages/IJulia/eenvU/src/\u001b[39m\u001b[90m\u001b[4mexecute_request.jl:81\u001b[24m\u001b[39m\n",
            "\u001b[33m\u001b[1m│ \u001b[22m\u001b[39m    [13] \u001b[0m\u001b[1m#invokelatest#2\u001b[22m\n",
            "\u001b[33m\u001b[1m│ \u001b[22m\u001b[39m   \u001b[90m    @\u001b[39m \u001b[90m./\u001b[39m\u001b[90m\u001b[4messentials.jl:1055\u001b[24m\u001b[39m\u001b[90m [inlined]\u001b[39m\n",
            "\u001b[33m\u001b[1m│ \u001b[22m\u001b[39m    [14] \u001b[0m\u001b[1minvokelatest\u001b[22m\n",
            "\u001b[33m\u001b[1m│ \u001b[22m\u001b[39m   \u001b[90m    @\u001b[39m \u001b[90m./\u001b[39m\u001b[90m\u001b[4messentials.jl:1052\u001b[24m\u001b[39m\u001b[90m [inlined]\u001b[39m\n",
            "\u001b[33m\u001b[1m│ \u001b[22m\u001b[39m    [15] \u001b[0m\u001b[1meventloop\u001b[22m\u001b[0m\u001b[1m(\u001b[22m\u001b[90msocket\u001b[39m::\u001b[0mZMQ.Socket\u001b[0m\u001b[1m)\u001b[22m\n",
            "\u001b[33m\u001b[1m│ \u001b[22m\u001b[39m   \u001b[90m    @\u001b[39m \u001b[32mIJulia\u001b[39m \u001b[90m~/.julia/packages/IJulia/eenvU/src/\u001b[39m\u001b[90m\u001b[4meventloop.jl:14\u001b[24m\u001b[39m\n",
            "\u001b[33m\u001b[1m│ \u001b[22m\u001b[39m    [16] \u001b[0m\u001b[1meventloop\u001b[22m\u001b[0m\u001b[1m(\u001b[22m\u001b[90msocket\u001b[39m::\u001b[0mZMQ.Socket\u001b[0m\u001b[1m)\u001b[22m\u001b[90m (repeats 2 times)\u001b[39m\n",
            "\u001b[33m\u001b[1m│ \u001b[22m\u001b[39m   \u001b[90m    @\u001b[39m \u001b[32mIJulia\u001b[39m \u001b[90m~/.julia/packages/IJulia/eenvU/src/\u001b[39m\u001b[90m\u001b[4meventloop.jl:41\u001b[24m\u001b[39m\n",
            "\u001b[33m\u001b[1m│ \u001b[22m\u001b[39m    [17] \u001b[0m\u001b[1m(::IJulia.var\"#13#16\")\u001b[22m\u001b[0m\u001b[1m(\u001b[22m\u001b[0m\u001b[1m)\u001b[22m\n",
            "\u001b[33m\u001b[1m│ \u001b[22m\u001b[39m   \u001b[90m    @\u001b[39m \u001b[32mIJulia\u001b[39m \u001b[90m~/.julia/packages/IJulia/eenvU/src/\u001b[39m\u001b[90m\u001b[4meventloop.jl:58\u001b[24m\u001b[39m\n",
            "\u001b[33m\u001b[1m└ \u001b[22m\u001b[39m\u001b[90m@ NighttimeLights ~/.julia/packages/NighttimeLights/PstBy/src/data_cleaning/full_procedures.jl:110\u001b[39m\n",
            "\u001b[33m\u001b[1m┌ \u001b[22m\u001b[39m\u001b[33m\u001b[1mWarning: \u001b[22m\u001b[39moutlier_variance failed, using all pixels as stable\n",
            "\u001b[33m\u001b[1m│ \u001b[22m\u001b[39m  exception =\n",
            "\u001b[33m\u001b[1m│ \u001b[22m\u001b[39m   ArgumentError: empty data vector\n",
            "\u001b[33m\u001b[1m│ \u001b[22m\u001b[39m   Stacktrace:\n",
            "\u001b[33m\u001b[1m│ \u001b[22m\u001b[39m     [1] \u001b[0m\u001b[1m_quantilesort!\u001b[22m\u001b[0m\u001b[1m(\u001b[22m\u001b[90mv\u001b[39m::\u001b[0mVector\u001b[90m{Union{}}\u001b[39m, \u001b[90msorted\u001b[39m::\u001b[0mBool, \u001b[90mminp\u001b[39m::\u001b[0mFloat64, \u001b[90mmaxp\u001b[39m::\u001b[0mFloat64\u001b[0m\u001b[1m)\u001b[22m\n",
            "\u001b[33m\u001b[1m│ \u001b[22m\u001b[39m   \u001b[90m    @\u001b[39m \u001b[35mStatistics\u001b[39m \u001b[90m~/.julia/packages/Statistics/gbcbG/src/\u001b[39m\u001b[90m\u001b[4mStatistics.jl:985\u001b[24m\u001b[39m\n",
            "\u001b[33m\u001b[1m│ \u001b[22m\u001b[39m     [2] \u001b[0m\u001b[1mquantile!\u001b[22m\u001b[0m\u001b[1m(\u001b[22m\u001b[90mv\u001b[39m::\u001b[0mVector\u001b[90m{Union{}}\u001b[39m, \u001b[90mp\u001b[39m::\u001b[0mFloat64; \u001b[90msorted\u001b[39m::\u001b[0mBool, \u001b[90malpha\u001b[39m::\u001b[0mFloat64, \u001b[90mbeta\u001b[39m::\u001b[0mFloat64\u001b[0m\u001b[1m)\u001b[22m\n",
            "\u001b[33m\u001b[1m│ \u001b[22m\u001b[39m   \u001b[90m    @\u001b[39m \u001b[35mStatistics\u001b[39m \u001b[90m~/.julia/packages/Statistics/gbcbG/src/\u001b[39m\u001b[90m\u001b[4mStatistics.jl:980\u001b[24m\u001b[39m\n",
            "\u001b[33m\u001b[1m│ \u001b[22m\u001b[39m     [3] \u001b[0m\u001b[1mquantile\u001b[22m\u001b[0m\u001b[1m(\u001b[22m\u001b[90mitr\u001b[39m::\u001b[0mBase.SkipMissing\u001b[90m{Vector{Missing}}\u001b[39m, \u001b[90mp\u001b[39m::\u001b[0mFloat64; \u001b[90msorted\u001b[39m::\u001b[0mBool, \u001b[90malpha\u001b[39m::\u001b[0mFloat64, \u001b[90mbeta\u001b[39m::\u001b[0mFloat64\u001b[0m\u001b[1m)\u001b[22m\n",
            "\u001b[33m\u001b[1m│ \u001b[22m\u001b[39m   \u001b[90m    @\u001b[39m \u001b[35mStatistics\u001b[39m \u001b[90m~/.julia/packages/Statistics/gbcbG/src/\u001b[39m\u001b[90m\u001b[4mStatistics.jl:1090\u001b[24m\u001b[39m\n",
            "\u001b[33m\u001b[1m│ \u001b[22m\u001b[39m     [4] \u001b[0m\u001b[1moutlier_variance\u001b[22m\u001b[0m\u001b[1m(\u001b[22m\u001b[90mradiance_datacube\u001b[39m::\u001b[0mRaster\u001b[90m{Missing, 3, Tuple{X{Projected{Float64, LinRange{Float64, Int64}, DimensionalData.Dimensions.Lookups.ForwardOrdered, DimensionalData.Dimensions.Lookups.Regular{Float64}, DimensionalData.Dimensions.Lookups.Intervals{DimensionalData.Dimensions.Lookups.Start}, DimensionalData.Dimensions.Lookups.NoMetadata, WellKnownText{GeoFormatTypes.CRS}, Nothing, X{Colon}}}, Y{Projected{Float64, LinRange{Float64, Int64}, DimensionalData.Dimensions.Lookups.ReverseOrdered, DimensionalData.Dimensions.Lookups.Regular{Float64}, DimensionalData.Dimensions.Lookups.Intervals{DimensionalData.Dimensions.Lookups.Start}, DimensionalData.Dimensions.Lookups.NoMetadata, WellKnownText{GeoFormatTypes.CRS}, Nothing, Y{Colon}}}, Ti{DimensionalData.Dimensions.Lookups.Sampled{Date, Vector{Date}, DimensionalData.Dimensions.Lookups.ForwardOrdered, DimensionalData.Dimensions.Lookups.Irregular{Tuple{Nothing, Nothing}}, DimensionalData.Dimensions.Lookups.Points, DimensionalData.Dimensions.Lookups.NoMetadata}}}, Tuple{}, Array{Missing, 3}, Symbol, DimensionalData.Dimensions.Lookups.NoMetadata, Missing}\u001b[39m, \u001b[90mmask\u001b[39m::\u001b[0mRaster\u001b[90m{Missing, 2, Tuple{X{Projected{Float64, LinRange{Float64, Int64}, DimensionalData.Dimensions.Lookups.ForwardOrdered, DimensionalData.Dimensions.Lookups.Regular{Float64}, DimensionalData.Dimensions.Lookups.Intervals{DimensionalData.Dimensions.Lookups.Start}, DimensionalData.Dimensions.Lookups.NoMetadata, WellKnownText{GeoFormatTypes.CRS}, Nothing, X{Colon}}}, Y{Projected{Float64, LinRange{Float64, Int64}, DimensionalData.Dimensions.Lookups.ReverseOrdered, DimensionalData.Dimensions.Lookups.Regular{Float64}, DimensionalData.Dimensions.Lookups.Intervals{DimensionalData.Dimensions.Lookups.Start}, DimensionalData.Dimensions.Lookups.NoMetadata, WellKnownText{GeoFormatTypes.CRS}, Nothing, Y{Colon}}}}, Tuple{}, Matrix{Missing}, Symbol, DimensionalData.Dimensions.Lookups.NoMetadata, Missing}\u001b[39m; \u001b[90mcutoff\u001b[39m::\u001b[0mFloat64\u001b[0m\u001b[1m)\u001b[22m\n",
            "\u001b[33m\u001b[1m│ \u001b[22m\u001b[39m   \u001b[90m    @\u001b[39m \u001b[36mNighttimeLights\u001b[39m \u001b[90m~/.julia/packages/NighttimeLights/PstBy/src/data_cleaning/\u001b[39m\u001b[90m\u001b[4moutlier_removal.jl:28\u001b[24m\u001b[39m\n",
            "\u001b[33m\u001b[1m│ \u001b[22m\u001b[39m     [5] \u001b[0m\u001b[1moutlier_variance\u001b[22m\u001b[0m\u001b[1m(\u001b[22m\u001b[90mradiance_datacube\u001b[39m::\u001b[0mRaster\u001b[90m{Missing, 3, Tuple{X{Projected{Float64, LinRange{Float64, Int64}, DimensionalData.Dimensions.Lookups.ForwardOrdered, DimensionalData.Dimensions.Lookups.Regular{Float64}, DimensionalData.Dimensions.Lookups.Intervals{DimensionalData.Dimensions.Lookups.Start}, DimensionalData.Dimensions.Lookups.NoMetadata, WellKnownText{GeoFormatTypes.CRS}, Nothing, X{Colon}}}, Y{Projected{Float64, LinRange{Float64, Int64}, DimensionalData.Dimensions.Lookups.ReverseOrdered, DimensionalData.Dimensions.Lookups.Regular{Float64}, DimensionalData.Dimensions.Lookups.Intervals{DimensionalData.Dimensions.Lookups.Start}, DimensionalData.Dimensions.Lookups.NoMetadata, WellKnownText{GeoFormatTypes.CRS}, Nothing, Y{Colon}}}, Ti{DimensionalData.Dimensions.Lookups.Sampled{Date, Vector{Date}, DimensionalData.Dimensions.Lookups.ForwardOrdered, DimensionalData.Dimensions.Lookups.Irregular{Tuple{Nothing, Nothing}}, DimensionalData.Dimensions.Lookups.Points, DimensionalData.Dimensions.Lookups.NoMetadata}}}, Tuple{}, Array{Missing, 3}, Symbol, DimensionalData.Dimensions.Lookups.NoMetadata, Missing}\u001b[39m, \u001b[90mmask\u001b[39m::\u001b[0mRaster\u001b[90m{Missing, 2, Tuple{X{Projected{Float64, LinRange{Float64, Int64}, DimensionalData.Dimensions.Lookups.ForwardOrdered, DimensionalData.Dimensions.Lookups.Regular{Float64}, DimensionalData.Dimensions.Lookups.Intervals{DimensionalData.Dimensions.Lookups.Start}, DimensionalData.Dimensions.Lookups.NoMetadata, WellKnownText{GeoFormatTypes.CRS}, Nothing, X{Colon}}}, Y{Projected{Float64, LinRange{Float64, Int64}, DimensionalData.Dimensions.Lookups.ReverseOrdered, DimensionalData.Dimensions.Lookups.Regular{Float64}, DimensionalData.Dimensions.Lookups.Intervals{DimensionalData.Dimensions.Lookups.Start}, DimensionalData.Dimensions.Lookups.NoMetadata, WellKnownText{GeoFormatTypes.CRS}, Nothing, Y{Colon}}}}, Tuple{}, Matrix{Missing}, Symbol, DimensionalData.Dimensions.Lookups.NoMetadata, Missing}\u001b[39m\u001b[0m\u001b[1m)\u001b[22m\n",
            "\u001b[33m\u001b[1m│ \u001b[22m\u001b[39m   \u001b[90m    @\u001b[39m \u001b[36mNighttimeLights\u001b[39m \u001b[90m~/.julia/packages/NighttimeLights/PstBy/src/data_cleaning/\u001b[39m\u001b[90m\u001b[4moutlier_removal.jl:8\u001b[24m\u001b[39m\n",
            "\u001b[33m\u001b[1m│ \u001b[22m\u001b[39m     [6] \u001b[0m\u001b[1mclean_complete\u001b[22m\u001b[0m\u001b[1m(\u001b[22m\u001b[90mradiance_datacube\u001b[39m::\u001b[0mRaster\u001b[90m{Float32, 3, Tuple{X{Projected{Float64, LinRange{Float64, Int64}, DimensionalData.Dimensions.Lookups.ForwardOrdered, DimensionalData.Dimensions.Lookups.Regular{Float64}, DimensionalData.Dimensions.Lookups.Intervals{DimensionalData.Dimensions.Lookups.Start}, DimensionalData.Dimensions.Lookups.NoMetadata, WellKnownText{GeoFormatTypes.CRS}, Nothing, X{Colon}}}, Y{Projected{Float64, LinRange{Float64, Int64}, DimensionalData.Dimensions.Lookups.ReverseOrdered, DimensionalData.Dimensions.Lookups.Regular{Float64}, DimensionalData.Dimensions.Lookups.Intervals{DimensionalData.Dimensions.Lookups.Start}, DimensionalData.Dimensions.Lookups.NoMetadata, WellKnownText{GeoFormatTypes.CRS}, Nothing, Y{Colon}}}, Ti{DimensionalData.Dimensions.Lookups.Sampled{Date, Vector{Date}, DimensionalData.Dimensions.Lookups.ForwardOrdered, DimensionalData.Dimensions.Lookups.Irregular{Tuple{Nothing, Nothing}}, DimensionalData.Dimensions.Lookups.Points, DimensionalData.Dimensions.Lookups.NoMetadata}}}, Tuple{X{Projected{Float64, LinRange{Float64, Int64}, DimensionalData.Dimensions.Lookups.ForwardOrdered, DimensionalData.Dimensions.Lookups.Regular{Float64}, DimensionalData.Dimensions.Lookups.Intervals{DimensionalData.Dimensions.Lookups.Start}, DimensionalData.Dimensions.Lookups.NoMetadata, WellKnownText{GeoFormatTypes.CRS}, Nothing, X{Colon}}}, Y{Projected{Float64, LinRange{Float64, Int64}, DimensionalData.Dimensions.Lookups.ReverseOrdered, DimensionalData.Dimensions.Lookups.Regular{Float64}, DimensionalData.Dimensions.Lookups.Intervals{DimensionalData.Dimensions.Lookups.Start}, DimensionalData.Dimensions.Lookups.NoMetadata, WellKnownText{GeoFormatTypes.CRS}, Nothing, Y{Colon}}}}, Array{Float32, 3}, Symbol, DimensionalData.Dimensions.Lookups.Metadata{Rasters.GDALsource, Dict{String, Any}}, Float32}\u001b[39m, \u001b[90mncfobs_datacube\u001b[39m::\u001b[0mRaster\u001b[90m{UInt16, 3, Tuple{X{Projected{Float64, LinRange{Float64, Int64}, DimensionalData.Dimensions.Lookups.ForwardOrdered, DimensionalData.Dimensions.Lookups.Regular{Float64}, DimensionalData.Dimensions.Lookups.Intervals{DimensionalData.Dimensions.Lookups.Start}, DimensionalData.Dimensions.Lookups.NoMetadata, WellKnownText{GeoFormatTypes.CRS}, Nothing, X{Colon}}}, Y{Projected{Float64, LinRange{Float64, Int64}, DimensionalData.Dimensions.Lookups.ReverseOrdered, DimensionalData.Dimensions.Lookups.Regular{Float64}, DimensionalData.Dimensions.Lookups.Intervals{DimensionalData.Dimensions.Lookups.Start}, DimensionalData.Dimensions.Lookups.NoMetadata, WellKnownText{GeoFormatTypes.CRS}, Nothing, Y{Colon}}}, Ti{DimensionalData.Dimensions.Lookups.Sampled{Date, Vector{Date}, DimensionalData.Dimensions.Lookups.ForwardOrdered, DimensionalData.Dimensions.Lookups.Irregular{Tuple{Nothing, Nothing}}, DimensionalData.Dimensions.Lookups.Points, DimensionalData.Dimensions.Lookups.NoMetadata}}}, Tuple{X{Projected{Float64, LinRange{Float64, Int64}, DimensionalData.Dimensions.Lookups.ForwardOrdered, DimensionalData.Dimensions.Lookups.Regular{Float64}, DimensionalData.Dimensions.Lookups.Intervals{DimensionalData.Dimensions.Lookups.Start}, DimensionalData.Dimensions.Lookups.NoMetadata, WellKnownText{GeoFormatTypes.CRS}, Nothing, X{Colon}}}, Y{Projected{Float64, LinRange{Float64, Int64}, DimensionalData.Dimensions.Lookups.ReverseOrdered, DimensionalData.Dimensions.Lookups.Regular{Float64}, DimensionalData.Dimensions.Lookups.Intervals{DimensionalData.Dimensions.Lookups.Start}, DimensionalData.Dimensions.Lookups.NoMetadata, WellKnownText{GeoFormatTypes.CRS}, Nothing, Y{Colon}}}}, Array{UInt16, 3}, Symbol, DimensionalData.Dimensions.Lookups.Metadata{Rasters.GDALsource, Dict{String, Any}}, Nothing}\u001b[39m; \u001b[90mnoise\u001b[39m::\u001b[0mNothing, \u001b[90mbgthreshold\u001b[39m::\u001b[0mInt64\u001b[0m\u001b[1m)\u001b[22m\n",
            "\u001b[33m\u001b[1m│ \u001b[22m\u001b[39m   \u001b[90m    @\u001b[39m \u001b[36mNighttimeLights\u001b[39m \u001b[90m~/.julia/packages/NighttimeLights/PstBy/src/data_cleaning/\u001b[39m\u001b[90m\u001b[4mfull_procedures.jl:105\u001b[24m\u001b[39m\n",
            "\u001b[33m\u001b[1m│ \u001b[22m\u001b[39m     [7] \u001b[0m\u001b[1mprocess_state\u001b[22m\u001b[0m\u001b[1m(\u001b[22m\u001b[90mstate_row\u001b[39m::\u001b[0mDataFrameRow\u001b[90m{DataFrame, DataFrames.Index}\u001b[39m\u001b[0m\u001b[1m)\u001b[22m\n",
            "\u001b[33m\u001b[1m│ \u001b[22m\u001b[39m   \u001b[90m    @\u001b[39m \u001b[36mMain\u001b[39m \u001b[90m./\u001b[39m\u001b[90m\u001b[4mIn[177]:14\u001b[24m\u001b[39m\n",
            "\u001b[33m\u001b[1m│ \u001b[22m\u001b[39m     [8] top-level scope\n",
            "\u001b[33m\u001b[1m│ \u001b[22m\u001b[39m   \u001b[90m    @\u001b[39m \u001b[90m./\u001b[39m\u001b[90m\u001b[4mIn[178]:9\u001b[24m\u001b[39m\n",
            "\u001b[33m\u001b[1m│ \u001b[22m\u001b[39m     [9] \u001b[0m\u001b[1meval\u001b[22m\n",
            "\u001b[33m\u001b[1m│ \u001b[22m\u001b[39m   \u001b[90m    @\u001b[39m \u001b[90m./\u001b[39m\u001b[90m\u001b[4mboot.jl:430\u001b[24m\u001b[39m\u001b[90m [inlined]\u001b[39m\n",
            "\u001b[33m\u001b[1m│ \u001b[22m\u001b[39m    [10] \u001b[0m\u001b[1minclude_string\u001b[22m\u001b[0m\u001b[1m(\u001b[22m\u001b[90mmapexpr\u001b[39m::\u001b[0mtypeof(REPL.softscope), \u001b[90mmod\u001b[39m::\u001b[0mModule, \u001b[90mcode\u001b[39m::\u001b[0mString, \u001b[90mfilename\u001b[39m::\u001b[0mString\u001b[0m\u001b[1m)\u001b[22m\n",
            "\u001b[33m\u001b[1m│ \u001b[22m\u001b[39m   \u001b[90m    @\u001b[39m \u001b[90mBase\u001b[39m \u001b[90m./\u001b[39m\u001b[90m\u001b[4mloading.jl:2734\u001b[24m\u001b[39m\n",
            "\u001b[33m\u001b[1m│ \u001b[22m\u001b[39m    [11] \u001b[0m\u001b[1msoftscope_include_string\u001b[22m\u001b[0m\u001b[1m(\u001b[22m\u001b[90mm\u001b[39m::\u001b[0mModule, \u001b[90mcode\u001b[39m::\u001b[0mString, \u001b[90mfilename\u001b[39m::\u001b[0mString\u001b[0m\u001b[1m)\u001b[22m\n",
            "\u001b[33m\u001b[1m│ \u001b[22m\u001b[39m   \u001b[90m    @\u001b[39m \u001b[36mSoftGlobalScope\u001b[39m \u001b[90m~/.julia/packages/SoftGlobalScope/u4UzH/src/\u001b[39m\u001b[90m\u001b[4mSoftGlobalScope.jl:65\u001b[24m\u001b[39m\n",
            "\u001b[33m\u001b[1m│ \u001b[22m\u001b[39m    [12] \u001b[0m\u001b[1mexecute_request\u001b[22m\u001b[0m\u001b[1m(\u001b[22m\u001b[90msocket\u001b[39m::\u001b[0mZMQ.Socket, \u001b[90mmsg\u001b[39m::\u001b[0mIJulia.Msg\u001b[0m\u001b[1m)\u001b[22m\n",
            "\u001b[33m\u001b[1m│ \u001b[22m\u001b[39m   \u001b[90m    @\u001b[39m \u001b[32mIJulia\u001b[39m \u001b[90m~/.julia/packages/IJulia/eenvU/src/\u001b[39m\u001b[90m\u001b[4mexecute_request.jl:81\u001b[24m\u001b[39m\n",
            "\u001b[33m\u001b[1m│ \u001b[22m\u001b[39m    [13] \u001b[0m\u001b[1m#invokelatest#2\u001b[22m\n",
            "\u001b[33m\u001b[1m│ \u001b[22m\u001b[39m   \u001b[90m    @\u001b[39m \u001b[90m./\u001b[39m\u001b[90m\u001b[4messentials.jl:1055\u001b[24m\u001b[39m\u001b[90m [inlined]\u001b[39m\n",
            "\u001b[33m\u001b[1m│ \u001b[22m\u001b[39m    [14] \u001b[0m\u001b[1minvokelatest\u001b[22m\n",
            "\u001b[33m\u001b[1m│ \u001b[22m\u001b[39m   \u001b[90m    @\u001b[39m \u001b[90m./\u001b[39m\u001b[90m\u001b[4messentials.jl:1052\u001b[24m\u001b[39m\u001b[90m [inlined]\u001b[39m\n",
            "\u001b[33m\u001b[1m│ \u001b[22m\u001b[39m    [15] \u001b[0m\u001b[1meventloop\u001b[22m\u001b[0m\u001b[1m(\u001b[22m\u001b[90msocket\u001b[39m::\u001b[0mZMQ.Socket\u001b[0m\u001b[1m)\u001b[22m\n",
            "\u001b[33m\u001b[1m│ \u001b[22m\u001b[39m   \u001b[90m    @\u001b[39m \u001b[32mIJulia\u001b[39m \u001b[90m~/.julia/packages/IJulia/eenvU/src/\u001b[39m\u001b[90m\u001b[4meventloop.jl:14\u001b[24m\u001b[39m\n",
            "\u001b[33m\u001b[1m│ \u001b[22m\u001b[39m    [16] \u001b[0m\u001b[1meventloop\u001b[22m\u001b[0m\u001b[1m(\u001b[22m\u001b[90msocket\u001b[39m::\u001b[0mZMQ.Socket\u001b[0m\u001b[1m)\u001b[22m\u001b[90m (repeats 2 times)\u001b[39m\n",
            "\u001b[33m\u001b[1m│ \u001b[22m\u001b[39m   \u001b[90m    @\u001b[39m \u001b[32mIJulia\u001b[39m \u001b[90m~/.julia/packages/IJulia/eenvU/src/\u001b[39m\u001b[90m\u001b[4meventloop.jl:41\u001b[24m\u001b[39m\n",
            "\u001b[33m\u001b[1m│ \u001b[22m\u001b[39m    [17] \u001b[0m\u001b[1m(::IJulia.var\"#13#16\")\u001b[22m\u001b[0m\u001b[1m(\u001b[22m\u001b[0m\u001b[1m)\u001b[22m\n",
            "\u001b[33m\u001b[1m│ \u001b[22m\u001b[39m   \u001b[90m    @\u001b[39m \u001b[32mIJulia\u001b[39m \u001b[90m~/.julia/packages/IJulia/eenvU/src/\u001b[39m\u001b[90m\u001b[4meventloop.jl:58\u001b[24m\u001b[39m\n",
            "\u001b[33m\u001b[1m└ \u001b[22m\u001b[39m\u001b[90m@ NighttimeLights ~/.julia/packages/NighttimeLights/PstBy/src/data_cleaning/full_procedures.jl:110\u001b[39m\n"
          ]
        },
        {
          "output_type": "stream",
          "name": "stdout",
          "text": [
            "--- Processing state 1/101: Chukot1 ---\n",
            "state_name = \"Chukot1\"\n",
            "state_geometry = 2D Polygonwith 1 sub-geometries\n",
            "file read correctly--- Processing state 2/101: Chukot2_cross ---\n",
            "state_name = \"Chukot2_cross\"\n",
            "state_geometry = 2D Polygonwith 1 sub-geometries\n",
            "ERROR: Failed to process state 'Chukot2_cross'. Skipping. Error: ArgumentError(\"Chunk sizes must be strictly positive\")\n",
            "--- Processing state 3/101: Chukot3 ---\n",
            "state_name = \"Chukot3\"\n",
            "state_geometry = 2D Polygonwith 1 sub-geometries\n",
            "file read correctly--- Processing state 4/101: Chukot4 ---\n",
            "state_name = \"Chukot4\"\n",
            "state_geometry = 2D Polygonwith 1 sub-geometries\n",
            "file read correctly--- Processing state 5/101: Chukot5_cross ---\n",
            "state_name = \"Chukot5_cross\"\n",
            "state_geometry = 2D Polygonwith 1 sub-geometries\n",
            "ERROR: Failed to process state 'Chukot5_cross'. Skipping. Error: ArgumentError(\"Chunk sizes must be strictly positive\")\n",
            "--- Processing state 6/101: Krasnoyarsk1 ---\n",
            "state_name = \"Krasnoyarsk1\"\n",
            "state_geometry = 2D Polygonwith 1 sub-geometries\n",
            "file read correctly--- Processing state 7/101: Krasnoyarsk2 ---\n",
            "state_name = \"Krasnoyarsk2\"\n",
            "state_geometry = 2D Polygonwith 1 sub-geometries\n",
            "file read correctly--- Processing state 8/101: Krasnoyarsk3 ---\n",
            "state_name = \"Krasnoyarsk3\"\n",
            "state_geometry = 2D MultiPolygonwith 1390 sub-geometries\n",
            "file read correctly--- Processing state 9/101: Krasnoyarsk4 ---\n",
            "state_name = \"Krasnoyarsk4\"\n",
            "state_geometry = 2D Polygonwith 1 sub-geometries\n",
            "file read correctly--- Processing state 10/101: Krasnoyarsk5 ---\n",
            "state_name = \"Krasnoyarsk5\"\n",
            "state_geometry = 2D Polygonwith 1 sub-geometries\n",
            "file read correctly--- Processing state 11/101: Krasnoyarsk6 ---\n",
            "state_name = \"Krasnoyarsk6\"\n",
            "state_geometry = 2D Polygonwith 1 sub-geometries\n",
            "file read correctly--- Processing state 12/101: Krasnoyarsk7 ---\n",
            "state_name = \"Krasnoyarsk7\"\n",
            "state_geometry = 2D Polygonwith 1 sub-geometries\n",
            "file read correctly--- Processing state 13/101: Sakha1 ---\n",
            "state_name = \"Sakha1\"\n",
            "state_geometry = 2D Polygonwith 1 sub-geometries\n",
            "ERROR: Failed to process state 'Sakha1'. Skipping. Error: ArgumentError(\"Chunk sizes must be strictly positive\")\n",
            "--- Processing state 14/101: Sakha2 ---\n",
            "state_name = \"Sakha2\"\n",
            "state_geometry = 2D MultiPolygonwith 1332 sub-geometries\n",
            "file read correctly--- Processing state 15/101: Sakha3 ---\n",
            "state_name = \"Sakha3\"\n",
            "state_geometry = 2D Polygonwith 1 sub-geometries\n",
            "file read correctly--- Processing state 16/101: Sakha4 ---\n",
            "state_name = \"Sakha4\"\n",
            "state_geometry = 2D Polygonwith 1 sub-geometries\n",
            "file read correctly--- Processing state 17/101: Sakha5 ---\n",
            "state_name = \"Sakha5\"\n",
            "state_geometry = 2D Polygonwith 1 sub-geometries\n",
            "file read correctly--- Processing state 18/101: Sakha6 ---\n",
            "state_name = \"Sakha6\"\n",
            "state_geometry = 2D Polygonwith 1 sub-geometries\n",
            "file read correctly--- Processing state 19/101: Sakha7 ---\n",
            "state_name = \"Sakha7\"\n",
            "state_geometry = 2D Polygonwith 1 sub-geometries\n",
            "file read correctly--- Processing state 20/101: Adygey ---\n",
            "state_name = \"Adygey\"\n",
            "state_geometry = 2D Polygonwith 1 sub-geometries\n",
            "file read correctly--- Processing state 21/101: Altay ---\n",
            "state_name = \"Altay\"\n",
            "state_geometry = 2D Polygonwith 1 sub-geometries\n",
            "file read correctly--- Processing state 22/101: Amur ---\n",
            "state_name = \"Amur\"\n",
            "state_geometry = 2D Polygonwith 1 sub-geometries\n",
            "file read correctly--- Processing state 23/101: Arkhangel'sk ---\n",
            "state_name = \"Arkhangel'sk\"\n",
            "state_geometry = 2D MultiPolygonwith 797 sub-geometries\n",
            "file read correctly--- Processing state 24/101: Astrakhan' ---\n",
            "state_name = \"Astrakhan'\"\n",
            "state_geometry = 2D Polygonwith 1 sub-geometries\n",
            "file read correctly--- Processing state 25/101: Bashkortostan ---\n",
            "state_name = \"Bashkortostan\"\n",
            "state_geometry = 2D Polygonwith 1 sub-geometries\n",
            "file read correctly--- Processing state 26/101: Belgorod ---\n",
            "state_name = \"Belgorod\"\n",
            "state_geometry = 2D Polygonwith 1 sub-geometries\n",
            "file read correctly--- Processing state 27/101: Bryansk ---\n",
            "state_name = \"Bryansk\"\n",
            "state_geometry = 2D Polygonwith 1 sub-geometries\n",
            "file read correctly--- Processing state 28/101: Buryat ---\n",
            "state_name = \"Buryat\"\n",
            "state_geometry = 2D Polygonwith 1 sub-geometries\n",
            "file read correctly--- Processing state 29/101: Chechnya ---\n",
            "state_name = \"Chechnya\"\n",
            "state_geometry = 2D Polygonwith 1 sub-geometries\n",
            "file read correctly--- Processing state 30/101: Chelyabinsk ---\n",
            "state_name = \"Chelyabinsk\"\n",
            "state_geometry = 2D Polygonwith 1 sub-geometries\n",
            "file read correctly--- Processing state 31/101: Chuvash ---\n",
            "state_name = \"Chuvash\"\n",
            "state_geometry = 2D Polygonwith 1 sub-geometries\n",
            "file read correctly--- Processing state 32/101: City of St. Petersburg ---\n",
            "state_name = \"City of St. Petersburg\"\n",
            "state_geometry = 2D MultiPolygonwith 9 sub-geometries\n",
            "file read correctly--- Processing state 33/101: Dagestan ---\n",
            "state_name = \"Dagestan\"\n",
            "state_geometry = 2D Polygonwith 1 sub-geometries\n",
            "file read correctly--- Processing state 34/101: Gorno-Altay ---\n",
            "state_name = \"Gorno-Altay\"\n",
            "state_geometry = 2D Polygonwith 1 sub-geometries\n",
            "file read correctly--- Processing state 35/101: Ingush ---\n",
            "state_name = \"Ingush\"\n",
            "state_geometry = 2D Polygonwith 1 sub-geometries\n",
            "file read correctly--- Processing state 36/101: Irkutsk ---\n",
            "state_name = \"Irkutsk\"\n",
            "state_geometry = 2D Polygonwith 1 sub-geometries\n",
            "file read correctly--- Processing state 37/101: Ivanovo ---\n",
            "state_name = \"Ivanovo\"\n",
            "state_geometry = 2D Polygonwith 1 sub-geometries\n",
            "file read correctly--- Processing state 38/101: Kabardin-Balkar ---\n",
            "state_name = \"Kabardin-Balkar\"\n",
            "state_geometry = 2D Polygonwith 1 sub-geometries\n",
            "file read correctly--- Processing state 39/101: Kaliningrad ---\n",
            "state_name = \"Kaliningrad\"\n",
            "state_geometry = 2D MultiPolygonwith 10 sub-geometries\n",
            "file read correctly--- Processing state 40/101: Kalmyk ---\n",
            "state_name = \"Kalmyk\"\n",
            "state_geometry = 2D Polygonwith 1 sub-geometries\n",
            "file read correctly--- Processing state 41/101: Kaluga ---\n",
            "state_name = \"Kaluga\"\n",
            "state_geometry = 2D Polygonwith 1 sub-geometries\n",
            "file read correctly--- Processing state 42/101: Kamchatka ---\n",
            "state_name = \"Kamchatka\"\n",
            "state_geometry = 2D MultiPolygonwith 151 sub-geometries\n",
            "file read correctly--- Processing state 43/101: Karachay-Cherkess ---\n",
            "state_name = \"Karachay-Cherkess\"\n",
            "state_geometry = 2D Polygonwith 1 sub-geometries\n",
            "file read correctly--- Processing state 44/101: Karelia ---\n",
            "state_name = \"Karelia\"\n",
            "state_geometry = 2D MultiPolygonwith 262 sub-geometries\n",
            "file read correctly--- Processing state 45/101: Kemerovo ---\n",
            "state_name = \"Kemerovo\"\n",
            "state_geometry = 2D Polygonwith 1 sub-geometries\n",
            "file read correctly--- Processing state 46/101: Khabarovsk ---\n",
            "state_name = \"Khabarovsk\"\n",
            "state_geometry = 2D MultiPolygonwith 81 sub-geometries\n",
            "file read correctly--- Processing state 47/101: Khakass ---\n",
            "state_name = \"Khakass\"\n",
            "state_geometry = 2D MultiPolygonwith 2 sub-geometries\n",
            "file read correctly--- Processing state 48/101: Khanty-Mansiy ---\n",
            "state_name = \"Khanty-Mansiy\"\n",
            "state_geometry = 2D Polygonwith 1 sub-geometries\n",
            "file read correctly--- Processing state 49/101: Kirov ---\n",
            "state_name = \"Kirov\"\n",
            "state_geometry = 2D Polygonwith 1 sub-geometries\n",
            "file read correctly--- Processing state 50/101: Komi ---\n",
            "state_name = \"Komi\"\n",
            "state_geometry = 2D Polygonwith 1 sub-geometries\n",
            "file read correctly--- Processing state 51/101: Kostroma ---\n",
            "state_name = \"Kostroma\"\n",
            "state_geometry = 2D Polygonwith 1 sub-geometries\n",
            "file read correctly--- Processing state 52/101: Krasnodar ---\n",
            "state_name = \"Krasnodar\"\n",
            "state_geometry = 2D MultiPolygonwith 12 sub-geometries\n",
            "file read correctly--- Processing state 53/101: Krasnoyarsk ---\n",
            "state_name = \"Krasnoyarsk\"\n",
            "state_geometry = 2D Polygonwith 2 sub-geometries\n",
            "file read correctly--- Processing state 54/101: Kurgan ---\n",
            "state_name = \"Kurgan\"\n",
            "state_geometry = 2D Polygonwith 1 sub-geometries\n",
            "file read correctly--- Processing state 55/101: Kursk ---\n",
            "state_name = \"Kursk\"\n",
            "state_geometry = 2D Polygonwith 1 sub-geometries\n",
            "file read correctly--- Processing state 56/101: Leningrad ---\n",
            "state_name = \"Leningrad\"\n",
            "state_geometry = 2D MultiPolygonwith 72 sub-geometries\n",
            "file read correctly--- Processing state 57/101: Lipetsk ---\n",
            "state_name = \"Lipetsk\"\n",
            "state_geometry = 2D Polygonwith 1 sub-geometries\n",
            "file read correctly--- Processing state 58/101: Magadan ---\n",
            "state_name = \"Magadan\"\n",
            "state_geometry = 2D MultiPolygonwith 58 sub-geometries\n",
            "file read correctly--- Processing state 59/101: Mariy-El ---\n",
            "state_name = \"Mariy-El\"\n",
            "state_geometry = 2D Polygonwith 1 sub-geometries\n",
            "file read correctly--- Processing state 60/101: Mordovia ---\n",
            "state_name = \"Mordovia\"\n",
            "state_geometry = 2D Polygonwith 1 sub-geometries\n",
            "file read correctly--- Processing state 61/101: Moscow City ---\n",
            "state_name = \"Moscow City\"\n",
            "state_geometry = 2D MultiPolygonwith 6 sub-geometries\n",
            "file read correctly--- Processing state 62/101: Moskva ---\n",
            "state_name = \"Moskva\"\n",
            "state_geometry = 2D Polygonwith 7 sub-geometries\n",
            "file read correctly--- Processing state 63/101: Murmansk ---\n",
            "state_name = \"Murmansk\"\n",
            "state_geometry = 2D MultiPolygonwith 128 sub-geometries\n",
            "file read correctly--- Processing state 64/101: Nenets ---\n",
            "state_name = \"Nenets\"\n",
            "state_geometry = 2D MultiPolygonwith 205 sub-geometries\n",
            "file read correctly--- Processing state 65/101: Nizhegorod ---\n",
            "state_name = \"Nizhegorod\"\n",
            "state_geometry = 2D Polygonwith 1 sub-geometries\n",
            "file read correctly--- Processing state 66/101: North Ossetia ---\n",
            "state_name = \"North Ossetia\"\n",
            "state_geometry = 2D Polygonwith 1 sub-geometries\n",
            "file read correctly--- Processing state 67/101: Novgorod ---\n",
            "state_name = \"Novgorod\"\n",
            "state_geometry = 2D Polygonwith 1 sub-geometries\n",
            "file read correctly--- Processing state 68/101: Novosibirsk ---\n",
            "state_name = \"Novosibirsk\"\n",
            "state_geometry = 2D Polygonwith 1 sub-geometries\n",
            "file read correctly--- Processing state 69/101: Omsk ---\n",
            "state_name = \"Omsk\"\n",
            "state_geometry = 2D Polygonwith 1 sub-geometries\n",
            "file read correctly--- Processing state 70/101: Orel ---\n",
            "state_name = \"Orel\"\n",
            "state_geometry = 2D Polygonwith 1 sub-geometries\n",
            "file read correctly--- Processing state 71/101: Orenburg ---\n",
            "state_name = \"Orenburg\"\n",
            "state_geometry = 2D Polygonwith 1 sub-geometries\n",
            "file read correctly--- Processing state 72/101: Penza ---\n",
            "state_name = \"Penza\"\n",
            "state_geometry = 2D Polygonwith 1 sub-geometries\n",
            "file read correctly--- Processing state 73/101: Perm' ---\n",
            "state_name = \"Perm'\"\n",
            "state_geometry = 2D Polygonwith 1 sub-geometries\n",
            "file read correctly--- Processing state 74/101: Primor'ye ---\n",
            "state_name = \"Primor'ye\"\n",
            "state_geometry = 2D MultiPolygonwith 59 sub-geometries\n",
            "file read correctly--- Processing state 75/101: Pskov ---\n",
            "state_name = \"Pskov\"\n",
            "state_geometry = 2D Polygonwith 1 sub-geometries\n",
            "file read correctly--- Processing state 76/101: Rostov ---\n",
            "state_name = \"Rostov\"\n",
            "state_geometry = 2D MultiPolygonwith 4 sub-geometries\n",
            "file read correctly--- Processing state 77/101: Ryazan' ---\n",
            "state_name = \"Ryazan'\"\n",
            "state_geometry = 2D MultiPolygonwith 3 sub-geometries\n",
            "file read correctly--- Processing state 78/101: Sakha ---\n",
            "state_name = \"Sakha\"\n",
            "state_geometry = 2D Polygonwith 1 sub-geometries\n",
            "file read correctly--- Processing state 79/101: Sakhalin ---\n",
            "state_name = \"Sakhalin\"\n",
            "state_geometry = 2D MultiPolygonwith 116 sub-geometries\n",
            "file read correctly--- Processing state 80/101: Samara ---\n",
            "state_name = \"Samara\"\n",
            "state_geometry = 2D Polygonwith 1 sub-geometries\n",
            "file read correctly--- Processing state 81/101: Saratov ---\n",
            "state_name = \"Saratov\"\n",
            "state_geometry = 2D Polygonwith 1 sub-geometries\n",
            "file read correctly--- Processing state 82/101: Smolensk ---\n",
            "state_name = \"Smolensk\"\n",
            "state_geometry = 2D Polygonwith 1 sub-geometries\n",
            "file read correctly--- Processing state 83/101: Stavropol' ---\n",
            "state_name = \"Stavropol'\"\n",
            "state_geometry = 2D Polygonwith 1 sub-geometries\n",
            "file read correctly--- Processing state 84/101: Sverdlovsk ---\n",
            "state_name = \"Sverdlovsk\"\n",
            "state_geometry = 2D Polygonwith 1 sub-geometries\n",
            "file read correctly--- Processing state 85/101: Tambov ---\n",
            "state_name = \"Tambov\"\n",
            "state_geometry = 2D Polygonwith 1 sub-geometries\n",
            "file read correctly--- Processing state 86/101: Tatarstan ---\n",
            "state_name = \"Tatarstan\"\n",
            "state_geometry = 2D Polygonwith 1 sub-geometries\n",
            "file read correctly--- Processing state 87/101: Tomsk ---\n",
            "state_name = \"Tomsk\"\n",
            "state_geometry = 2D Polygonwith 1 sub-geometries\n",
            "file read correctly--- Processing state 88/101: Tula ---\n",
            "state_name = \"Tula\"\n",
            "state_geometry = 2D Polygonwith 1 sub-geometries\n",
            "file read correctly--- Processing state 89/101: Tuva ---\n",
            "state_name = \"Tuva\"\n",
            "state_geometry = 2D Polygonwith 1 sub-geometries\n",
            "file read correctly--- Processing state 90/101: Tver' ---\n",
            "state_name = \"Tver'\"\n",
            "state_geometry = 2D Polygonwith 1 sub-geometries\n",
            "file read correctly--- Processing state 91/101: Tyumen' ---\n",
            "state_name = \"Tyumen'\"\n",
            "state_geometry = 2D Polygonwith 1 sub-geometries\n",
            "file read correctly--- Processing state 92/101: Udmurt ---\n",
            "state_name = \"Udmurt\"\n",
            "state_geometry = 2D Polygonwith 1 sub-geometries\n",
            "file read correctly--- Processing state 93/101: Ul'yanovsk ---\n",
            "state_name = \"Ul'yanovsk\"\n",
            "state_geometry = 2D Polygonwith 1 sub-geometries\n",
            "file read correctly--- Processing state 94/101: Vladimir ---\n",
            "state_name = \"Vladimir\"\n",
            "state_geometry = 2D Polygonwith 1 sub-geometries\n",
            "file read correctly--- Processing state 95/101: Volgograd ---\n",
            "state_name = \"Volgograd\"\n",
            "state_geometry = 2D Polygonwith 1 sub-geometries\n",
            "file read correctly--- Processing state 96/101: Vologda ---\n",
            "state_name = \"Vologda\"\n",
            "state_geometry = 2D Polygonwith 1 sub-geometries\n",
            "file read correctly--- Processing state 97/101: Voronezh ---\n",
            "state_name = \"Voronezh\"\n",
            "state_geometry = 2D Polygonwith 1 sub-geometries\n",
            "file read correctly--- Processing state 98/101: Yamal-Nenets ---\n",
            "state_name = \"Yamal-Nenets\"\n",
            "state_geometry = 2D MultiPolygonwith 592 sub-geometries\n",
            "file read correctly--- Processing state 99/101: Yaroslavl' ---\n",
            "state_name = \"Yaroslavl'\"\n",
            "state_geometry = 2D Polygonwith 1 sub-geometries\n",
            "file read correctly--- Processing state 100/101: Yevrey ---\n",
            "state_name = \"Yevrey\"\n",
            "state_geometry = 2D Polygonwith 1 sub-geometries\n",
            "file read correctly--- Processing state 101/101: Zabaykal'ye ---\n",
            "state_name = \"Zabaykal'ye\"\n",
            "state_geometry = 2D MultiPolygonwith 2 sub-geometries\n",
            "file read correctly--- Processing Complete ---\n",
            "Aggregating results...\n",
            "Aggregation complete, DataFrame in memory.\n",
            "Script finished.\n"
          ]
        }
      ]
    },
    {
      "cell_type": "code",
      "source": [
        "all_states_df"
      ],
      "metadata": {
        "colab": {
          "base_uri": "https://localhost:8080/",
          "height": 660
        },
        "id": "dJ9zqRQ1_0AS",
        "outputId": "db491ae2-38eb-4377-abf1-e045c3e961e5"
      },
      "execution_count": 181,
      "outputs": [
        {
          "output_type": "execute_result",
          "data": {
            "text/plain": [
              "\u001b[1m2450×4 DataFrame\n",
              "\u001b[1m  Row │\u001b[1m dates      \u001b[1m aggregate_radiance \u001b[1m com                \u001b[1m state_name\n",
              "      │\u001b[90m Date       \u001b[90m Float32            \u001b[90m Array…             \u001b[90m String\n",
              "──────┼─────────────────────────────────────────────────────────────────\n",
              "    1 │ 2014-01-01             580.47   [172.414, 66.7334]  Chukot1\n",
              "    2 │ 2014-02-01             587.084  [172.381, 66.8167]  Chukot1\n",
              "    3 │ 2014-03-01             622.048  [172.948, 66.5833]  Chukot1\n",
              "    4 │ 2014-04-01             628.237  [172.498, 66.7167]  Chukot1\n",
              "    5 │ 2014-05-01             603.776  [172.331, 66.8001]  Chukot1\n",
              "    6 │ 2014-06-01             579.314  [172.148, 66.8834]  Chukot1\n",
              "    7 │ 2014-07-01             554.853  [171.948, 66.9668]  Chukot1\n",
              "    8 │ 2014-08-01             530.391  [171.731, 67.0668]  Chukot1\n",
              "    9 │ 2014-09-01             449.241  [171.798, 67.0668]  Chukot1\n",
              "   10 │ 2014-10-01             580.255  [172.048, 66.9501]  Chukot1\n",
              "   11 │ 2014-11-01             568.96   [171.731, 67.1168]  Chukot1\n",
              "  ⋮   │     ⋮               ⋮                   ⋮                ⋮\n",
              " 2441 │ 2015-04-01            2587.78   [114.913, 51.7297]  Zabaykal'ye\n",
              " 2442 │ 2015-05-01            2646.19   [114.83, 51.7964]   Zabaykal'ye\n",
              " 2443 │ 2015-06-01            3094.38   [114.83, 51.6963]   Zabaykal'ye\n",
              " 2444 │ 2015-07-01            2516.9    [114.863, 51.7297]  Zabaykal'ye\n",
              " 2445 │ 2015-08-01            2082.32   [114.98, 51.7297]   Zabaykal'ye\n",
              " 2446 │ 2015-09-01            2428.72   [114.796, 51.763]   Zabaykal'ye\n",
              " 2447 │ 2015-10-01            2281.6    [114.93, 51.713]    Zabaykal'ye\n",
              " 2448 │ 2015-11-01            3473.07   [114.596, 51.8297]  Zabaykal'ye\n",
              " 2449 │ 2015-12-01            4694.43   [114.746, 51.6297]  Zabaykal'ye\n",
              " 2450 │ 2016-01-01            4764.66   [114.763, 51.5796]  Zabaykal'ye\n",
              "\u001b[36m                                                       2429 rows omitted"
            ],
            "text/html": [
              "<div><div style = \"float: left;\"><span>2450×4 DataFrame</span></div><div style = \"float: right;\"><span style = \"font-style: italic;\">2425 rows omitted</span></div><div style = \"clear: both;\"></div></div><div class = \"data-frame\" style = \"overflow-x: scroll;\"><table class = \"data-frame\" style = \"margin-bottom: 6px;\"><thead><tr class = \"header\"><th class = \"rowNumber\" style = \"font-weight: bold; text-align: right;\">Row</th><th style = \"text-align: left;\">dates</th><th style = \"text-align: left;\">aggregate_radiance</th><th style = \"text-align: left;\">com</th><th style = \"text-align: left;\">state_name</th></tr><tr class = \"subheader headerLastRow\"><th class = \"rowNumber\" style = \"font-weight: bold; text-align: right;\"></th><th title = \"Date\" style = \"text-align: left;\">Date</th><th title = \"Float32\" style = \"text-align: left;\">Float32</th><th title = \"Vector{Float64}\" style = \"text-align: left;\">Array…</th><th title = \"String\" style = \"text-align: left;\">String</th></tr></thead><tbody><tr><td class = \"rowNumber\" style = \"font-weight: bold; text-align: right;\">1</td><td style = \"text-align: left;\">2014-01-01</td><td style = \"text-align: right;\">580.47</td><td style = \"text-align: left;\">[172.414, 66.7334]</td><td style = \"text-align: left;\">Chukot1</td></tr><tr><td class = \"rowNumber\" style = \"font-weight: bold; text-align: right;\">2</td><td style = \"text-align: left;\">2014-02-01</td><td style = \"text-align: right;\">587.084</td><td style = \"text-align: left;\">[172.381, 66.8167]</td><td style = \"text-align: left;\">Chukot1</td></tr><tr><td class = \"rowNumber\" style = \"font-weight: bold; text-align: right;\">3</td><td style = \"text-align: left;\">2014-03-01</td><td style = \"text-align: right;\">622.048</td><td style = \"text-align: left;\">[172.948, 66.5833]</td><td style = \"text-align: left;\">Chukot1</td></tr><tr><td class = \"rowNumber\" style = \"font-weight: bold; text-align: right;\">4</td><td style = \"text-align: left;\">2014-04-01</td><td style = \"text-align: right;\">628.237</td><td style = \"text-align: left;\">[172.498, 66.7167]</td><td style = \"text-align: left;\">Chukot1</td></tr><tr><td class = \"rowNumber\" style = \"font-weight: bold; text-align: right;\">5</td><td style = \"text-align: left;\">2014-05-01</td><td style = \"text-align: right;\">603.776</td><td style = \"text-align: left;\">[172.331, 66.8001]</td><td style = \"text-align: left;\">Chukot1</td></tr><tr><td class = \"rowNumber\" style = \"font-weight: bold; text-align: right;\">6</td><td style = \"text-align: left;\">2014-06-01</td><td style = \"text-align: right;\">579.314</td><td style = \"text-align: left;\">[172.148, 66.8834]</td><td style = \"text-align: left;\">Chukot1</td></tr><tr><td class = \"rowNumber\" style = \"font-weight: bold; text-align: right;\">7</td><td style = \"text-align: left;\">2014-07-01</td><td style = \"text-align: right;\">554.853</td><td style = \"text-align: left;\">[171.948, 66.9668]</td><td style = \"text-align: left;\">Chukot1</td></tr><tr><td class = \"rowNumber\" style = \"font-weight: bold; text-align: right;\">8</td><td style = \"text-align: left;\">2014-08-01</td><td style = \"text-align: right;\">530.391</td><td style = \"text-align: left;\">[171.731, 67.0668]</td><td style = \"text-align: left;\">Chukot1</td></tr><tr><td class = \"rowNumber\" style = \"font-weight: bold; text-align: right;\">9</td><td style = \"text-align: left;\">2014-09-01</td><td style = \"text-align: right;\">449.241</td><td style = \"text-align: left;\">[171.798, 67.0668]</td><td style = \"text-align: left;\">Chukot1</td></tr><tr><td class = \"rowNumber\" style = \"font-weight: bold; text-align: right;\">10</td><td style = \"text-align: left;\">2014-10-01</td><td style = \"text-align: right;\">580.255</td><td style = \"text-align: left;\">[172.048, 66.9501]</td><td style = \"text-align: left;\">Chukot1</td></tr><tr><td class = \"rowNumber\" style = \"font-weight: bold; text-align: right;\">11</td><td style = \"text-align: left;\">2014-11-01</td><td style = \"text-align: right;\">568.96</td><td style = \"text-align: left;\">[171.731, 67.1168]</td><td style = \"text-align: left;\">Chukot1</td></tr><tr><td class = \"rowNumber\" style = \"font-weight: bold; text-align: right;\">12</td><td style = \"text-align: left;\">2014-12-01</td><td style = \"text-align: right;\">717.844</td><td style = \"text-align: left;\">[172.164, 66.8834]</td><td style = \"text-align: left;\">Chukot1</td></tr><tr><td class = \"rowNumber\" style = \"font-weight: bold; text-align: right;\">13</td><td style = \"text-align: left;\">2015-01-01</td><td style = \"text-align: right;\">758.063</td><td style = \"text-align: left;\">[172.281, 66.75]</td><td style = \"text-align: left;\">Chukot1</td></tr><tr><td style = \"text-align: right;\">&vellip;</td><td style = \"text-align: right;\">&vellip;</td><td style = \"text-align: right;\">&vellip;</td><td style = \"text-align: right;\">&vellip;</td><td style = \"text-align: right;\">&vellip;</td></tr><tr><td class = \"rowNumber\" style = \"font-weight: bold; text-align: right;\">2439</td><td style = \"text-align: left;\">2015-02-01</td><td style = \"text-align: right;\">2895.86</td><td style = \"text-align: left;\">[114.88, 51.6963]</td><td style = \"text-align: left;\">Zabaykal&apos;ye</td></tr><tr><td class = \"rowNumber\" style = \"font-weight: bold; text-align: right;\">2440</td><td style = \"text-align: left;\">2015-03-01</td><td style = \"text-align: right;\">2478.97</td><td style = \"text-align: left;\">[115.163, 51.6963]</td><td style = \"text-align: left;\">Zabaykal&apos;ye</td></tr><tr><td class = \"rowNumber\" style = \"font-weight: bold; text-align: right;\">2441</td><td style = \"text-align: left;\">2015-04-01</td><td style = \"text-align: right;\">2587.78</td><td style = \"text-align: left;\">[114.913, 51.7297]</td><td style = \"text-align: left;\">Zabaykal&apos;ye</td></tr><tr><td class = \"rowNumber\" style = \"font-weight: bold; text-align: right;\">2442</td><td style = \"text-align: left;\">2015-05-01</td><td style = \"text-align: right;\">2646.19</td><td style = \"text-align: left;\">[114.83, 51.7964]</td><td style = \"text-align: left;\">Zabaykal&apos;ye</td></tr><tr><td class = \"rowNumber\" style = \"font-weight: bold; text-align: right;\">2443</td><td style = \"text-align: left;\">2015-06-01</td><td style = \"text-align: right;\">3094.38</td><td style = \"text-align: left;\">[114.83, 51.6963]</td><td style = \"text-align: left;\">Zabaykal&apos;ye</td></tr><tr><td class = \"rowNumber\" style = \"font-weight: bold; text-align: right;\">2444</td><td style = \"text-align: left;\">2015-07-01</td><td style = \"text-align: right;\">2516.9</td><td style = \"text-align: left;\">[114.863, 51.7297]</td><td style = \"text-align: left;\">Zabaykal&apos;ye</td></tr><tr><td class = \"rowNumber\" style = \"font-weight: bold; text-align: right;\">2445</td><td style = \"text-align: left;\">2015-08-01</td><td style = \"text-align: right;\">2082.32</td><td style = \"text-align: left;\">[114.98, 51.7297]</td><td style = \"text-align: left;\">Zabaykal&apos;ye</td></tr><tr><td class = \"rowNumber\" style = \"font-weight: bold; text-align: right;\">2446</td><td style = \"text-align: left;\">2015-09-01</td><td style = \"text-align: right;\">2428.72</td><td style = \"text-align: left;\">[114.796, 51.763]</td><td style = \"text-align: left;\">Zabaykal&apos;ye</td></tr><tr><td class = \"rowNumber\" style = \"font-weight: bold; text-align: right;\">2447</td><td style = \"text-align: left;\">2015-10-01</td><td style = \"text-align: right;\">2281.6</td><td style = \"text-align: left;\">[114.93, 51.713]</td><td style = \"text-align: left;\">Zabaykal&apos;ye</td></tr><tr><td class = \"rowNumber\" style = \"font-weight: bold; text-align: right;\">2448</td><td style = \"text-align: left;\">2015-11-01</td><td style = \"text-align: right;\">3473.07</td><td style = \"text-align: left;\">[114.596, 51.8297]</td><td style = \"text-align: left;\">Zabaykal&apos;ye</td></tr><tr><td class = \"rowNumber\" style = \"font-weight: bold; text-align: right;\">2449</td><td style = \"text-align: left;\">2015-12-01</td><td style = \"text-align: right;\">4694.43</td><td style = \"text-align: left;\">[114.746, 51.6297]</td><td style = \"text-align: left;\">Zabaykal&apos;ye</td></tr><tr><td class = \"rowNumber\" style = \"font-weight: bold; text-align: right;\">2450</td><td style = \"text-align: left;\">2016-01-01</td><td style = \"text-align: right;\">4764.66</td><td style = \"text-align: left;\">[114.763, 51.5796]</td><td style = \"text-align: left;\">Zabaykal&apos;ye</td></tr></tbody></table></div>"
            ],
            "text/latex": "\\begin{tabular}{r|cccc}\n\t& dates & aggregate\\_radiance & com & state\\_name\\\\\n\t\\hline\n\t& Date & Float32 & Array… & String\\\\\n\t\\hline\n\t1 & 2014-01-01 & 580.47 & [172.414, 66.7334] & Chukot1 \\\\\n\t2 & 2014-02-01 & 587.084 & [172.381, 66.8167] & Chukot1 \\\\\n\t3 & 2014-03-01 & 622.048 & [172.948, 66.5833] & Chukot1 \\\\\n\t4 & 2014-04-01 & 628.237 & [172.498, 66.7167] & Chukot1 \\\\\n\t5 & 2014-05-01 & 603.776 & [172.331, 66.8001] & Chukot1 \\\\\n\t6 & 2014-06-01 & 579.314 & [172.148, 66.8834] & Chukot1 \\\\\n\t7 & 2014-07-01 & 554.853 & [171.948, 66.9668] & Chukot1 \\\\\n\t8 & 2014-08-01 & 530.391 & [171.731, 67.0668] & Chukot1 \\\\\n\t9 & 2014-09-01 & 449.241 & [171.798, 67.0668] & Chukot1 \\\\\n\t10 & 2014-10-01 & 580.255 & [172.048, 66.9501] & Chukot1 \\\\\n\t11 & 2014-11-01 & 568.96 & [171.731, 67.1168] & Chukot1 \\\\\n\t12 & 2014-12-01 & 717.844 & [172.164, 66.8834] & Chukot1 \\\\\n\t13 & 2015-01-01 & 758.063 & [172.281, 66.75] & Chukot1 \\\\\n\t14 & 2015-02-01 & 721.78 & [172.148, 66.8167] & Chukot1 \\\\\n\t15 & 2015-03-01 & 711.575 & [172.431, 66.6667] & Chukot1 \\\\\n\t16 & 2015-04-01 & 690.29 & [172.198, 66.8001] & Chukot1 \\\\\n\t17 & 2015-05-01 & 652.909 & [172.198, 66.8001] & Chukot1 \\\\\n\t18 & 2015-06-01 & 615.529 & [172.181, 66.8167] & Chukot1 \\\\\n\t19 & 2015-07-01 & 578.148 & [172.181, 66.8334] & Chukot1 \\\\\n\t20 & 2015-08-01 & 540.767 & [172.164, 66.8334] & Chukot1 \\\\\n\t21 & 2015-09-01 & 443.302 & [172.014, 66.9668] & Chukot1 \\\\\n\t22 & 2015-10-01 & 557.029 & [171.231, 67.2168] & Chukot1 \\\\\n\t23 & 2015-11-01 & 743.881 & [172.348, 66.7667] & Chukot1 \\\\\n\t24 & 2015-12-01 & 718.963 & [172.198, 66.7667] & Chukot1 \\\\\n\t25 & 2016-01-01 & 694.451 & [171.931, 66.8501] & Chukot1 \\\\\n\t26 & 2014-01-01 & 0.0 & [NaN, NaN] & Chukot3 \\\\\n\t27 & 2014-02-01 & 0.0 & [NaN, NaN] & Chukot3 \\\\\n\t28 & 2014-03-01 & 0.0 & [NaN, NaN] & Chukot3 \\\\\n\t29 & 2014-04-01 & 0.0 & [NaN, NaN] & Chukot3 \\\\\n\t30 & 2014-05-01 & 0.0 & [NaN, NaN] & Chukot3 \\\\\n\t$\\dots$ & $\\dots$ & $\\dots$ & $\\dots$ & $\\dots$ \\\\\n\\end{tabular}\n"
          },
          "metadata": {},
          "execution_count": 181
        }
      ]
    }
  ]
}