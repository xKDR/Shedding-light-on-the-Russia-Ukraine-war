{
  "nbformat": 4,
  "nbformat_minor": 0,
  "metadata": {
    "colab": {
      "provenance": [],
      "authorship_tag": "ABX9TyNYh5WjTzHpADkGkLZf1bgz",
      "include_colab_link": true
    },
    "kernelspec": {
      "name": "python3",
      "display_name": "Python 3"
    },
    "language_info": {
      "name": "python"
    }
  },
  "cells": [
    {
      "cell_type": "markdown",
      "metadata": {
        "id": "view-in-github",
        "colab_type": "text"
      },
      "source": [
        "<a href=\"https://colab.research.google.com/github/xKDR/Shedding-light-on-the-Russia-Ukraine-war/blob/main/reproducible_research.ipynb\" target=\"_parent\"><img src=\"https://colab.research.google.com/assets/colab-badge.svg\" alt=\"Open In Colab\"/></a>"
      ]
    },
    {
      "cell_type": "code",
      "source": [
        "using Shapefile\n",
        "using DataFrames\n",
        "using NighttimeLights\n",
        "using Rasters\n",
        "using CSV\n",
        "using Dates"
      ],
      "metadata": {
        "id": "7xAps6hLTXE4"
      },
      "execution_count": null,
      "outputs": []
    },
    {
      "cell_type": "code",
      "source": [
        "START_YEAR = 2017  # @param {type:\"integer\"}\n",
        "\n",
        "END_YEAR = 2019  # @param {type:\"integer\"}"
      ],
      "metadata": {
        "id": "4mdmWyIJTMcy"
      },
      "execution_count": null,
      "outputs": []
    },
    {
      "cell_type": "code",
      "execution_count": null,
      "metadata": {
        "id": "Om9EPhk7TF3a"
      },
      "outputs": [],
      "source": [
        "# Define path constants\n",
        "FIGURES_DIRECTORY = \"figures\"\n",
        "TABLES_DIRECTORY = \"tables\"\n",
        "VECTOR_DIRECTORY = \"data/vector\"\n",
        "TABULAR_DIRECTORY = \"data/tabular\"\n",
        "RASTER_DIRECTORY = \"data/raster\"\n",
        "\n",
        "# Check and create folders using a loop\n",
        "directories = [\n",
        "    FIGURES_DIRECTORY,\n",
        "    TABLES_DIRECTORY,\n",
        "    VECTOR_DIRECTORY,\n",
        "    TABULAR_DIRECTORY,\n",
        "    RASTER_DIRECTORY\n",
        "]\n",
        "\n",
        "for path in directories\n",
        "    if !isdir(path)\n",
        "        mkpath(path)\n",
        "        println(\"Created folder: $path\")\n",
        "    end\n",
        "end"
      ]
    },
    {
      "cell_type": "code",
      "source": [
        "# @title 3.3.1 Download the annual nighttime lights data\n",
        "\n",
        "# Define your EOG credentials\n",
        "USERNAME = \"ayushpatnaik@gmail.com\" # @param {\"type\":\"string\"}\n",
        "PASSWORD = \"n3zaCXM5TtZV3Hb\" # @param {\"type\":\"string\"}\n",
        "\n",
        "CLIENT_ID = \"eogdata_oidc\" # @param {\"type\":\"string\"}\n",
        "CLIENT_SECRET = \"2677ad81-521b-4869-8480-6d05b9e57d48\" # @param {\"type\":\"string\"}\n",
        "\n",
        "function download_link(link)\n",
        "    \"\"\"\n",
        "    Function to download image from EOG using the API\n",
        "\n",
        "    Parameters:\n",
        "    -----------\n",
        "    link :: String\n",
        "\n",
        "    Returns:\n",
        "    --------\n",
        "    None\n",
        "\n",
        "    Notes:\n",
        "    ------\n",
        "    Downloads image in RASTER_DIRECTORY\n",
        "    \"\"\"\n",
        "    output_file = joinpath(RASTER_DIRECTORY, basename(link))\n",
        "    if isfile(output_file)\n",
        "        println(\"File $output_file already exists. Skipping download.\")\n",
        "        return\n",
        "    end\n",
        "\n",
        "    params = Dict(\n",
        "        \"client_id\" => CLIENT_ID,\n",
        "        \"client_secret\" => CLIENT_SECRET,\n",
        "        \"username\" => USERNAME,\n",
        "        \"password\" => PASSWORD,\n",
        "        \"grant_type\" => \"password\"\n",
        "    )\n",
        "    token_url = \"https://eogauth.mines.edu/auth/realms/master/protocol/openid-connect/token\"\n",
        "    response = HTTP.post(token_url, [], params)\n",
        "    access_token_dict = JSON.parse(String(response.body))\n",
        "    access_token = access_token_dict[\"access_token\"]\n",
        "    data_url = link\n",
        "    auth = \"Bearer \" * access_token\n",
        "    headers = Dict(\"Authorization\" => auth)\n",
        "    response = HTTP.get(data_url, headers)\n",
        "\n",
        "    open(output_file, \"w\") do f\n",
        "        write(f, response.body)\n",
        "    end\n",
        "    println(\"File $output_file downloaded successfully.\")\n",
        "end\n",
        "\n",
        "base_url = \"https://eogdata.mines.edu/nighttime_light/annual/v21/{}/\"\n",
        "\n",
        "for year in START_YEAR:END_YEAR\n",
        "    url = string(\"https://eogdata.mines.edu/nighttime_light/annual/v21/\", year, \"/VNL_v21_npp_\", year, \"_global_vcmslcfg_c202205302300.median_masked.dat.tif.gz\")\n",
        "    print(url)\n",
        "    download_link(url)\n",
        "end"
      ],
      "metadata": {
        "id": "1_p175DhTtIH"
      },
      "execution_count": null,
      "outputs": []
    }
  ]
}