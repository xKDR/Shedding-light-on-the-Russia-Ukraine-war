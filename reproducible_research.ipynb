{
  "cells": [
    {
      "cell_type": "markdown",
      "metadata": {
        "colab_type": "text",
        "id": "view-in-github"
      },
      "source": [
        "<a href=\"https://colab.research.google.com/github/xKDR/Shedding-light-on-the-Russia-Ukraine-war/blob/main/reproducible_research.ipynb\" target=\"_parent\"><img src=\"https://colab.research.google.com/assets/colab-badge.svg\" alt=\"Open In Colab\"/></a>"
      ]
    },
    {
      "cell_type": "markdown",
      "metadata": {
        "id": "tZb_-dtt1bgN"
      },
      "source": [
        "# Russia - Ukraine Nightlights analysis (WIP)"
      ]
    },
    {
      "cell_type": "markdown",
      "metadata": {},
      "source": [
        "#SETUP"
      ]
    },
    {
      "cell_type": "markdown",
      "metadata": {},
      "source": [
        "##Get Assets"
      ]
    },
    {
      "cell_type": "code",
      "execution_count": null,
      "metadata": {
        "colab": {
          "base_uri": "https://localhost:8080/"
        },
        "id": "RKt6qxnCnyrM",
        "outputId": "34ecc9ff-bf21-46f3-b145-e33345259da4"
      },
      "outputs": [],
      "source": [
        "using Pkg\n",
        "Pkg.add([\"GeoJSON\", \"NighttimeLights\", \"Rasters\", \"CSV\", \"Dates\", \"DataFrames\", \"GeoDataFrames\"])"
      ]
    },
    {
      "cell_type": "code",
      "execution_count": null,
      "metadata": {
        "colab": {
          "base_uri": "https://localhost:8080/"
        },
        "id": "6YZptoMMoZ4i",
        "outputId": "11b9a9fe-fefc-44d7-b98d-677ef6847013"
      },
      "outputs": [],
      "source": [
        "# ;git clone https://github.com/xKDR/Shedding-light-on-the-Russia-Ukraine-war.git"
      ]
    },
    {
      "cell_type": "code",
      "execution_count": null,
      "metadata": {
        "colab": {
          "base_uri": "https://localhost:8080/",
          "height": 275
        },
        "id": "w5Qth_eTaA5h",
        "outputId": "a14834b9-75c3-45ca-fd3e-c2f5a892a349"
      },
      "outputs": [],
      "source": [
        "# ## Fetching the raster files\n",
        "# ## This will take around 5 mins\n",
        "\n",
        "# run(`apt-get install git-lfs -y`)\n",
        "# run(`git lfs install`)\n",
        "# cd(\"Shedding-light-on-the-Russia-Ukraine-war\")\n",
        "# run(`git lfs pull`)"
      ]
    },
    {
      "cell_type": "code",
      "execution_count": null,
      "metadata": {
        "id": "7xAps6hLTXE4"
      },
      "outputs": [],
      "source": [
        "using GeoJSON\n",
        "using GeoDataFrames\n",
        "using DataFrames\n",
        "using NighttimeLights\n",
        "using Rasters\n",
        "using CSV\n",
        "using Dates"
      ]
    },
    {
      "cell_type": "code",
      "execution_count": null,
      "metadata": {
        "colab": {
          "base_uri": "https://localhost:8080/"
        },
        "id": "Om9EPhk7TF3a",
        "outputId": "92b6177d-a50a-4ce2-c63e-d8c544769563"
      },
      "outputs": [],
      "source": [
        "# # Define path constants\n",
        "# const FIGURES_DIRECTORY = \"figures\"\n",
        "# const TABLES_DIRECTORY = \"tables\"\n",
        "# const VECTOR_DIRECTORY = \"data/vector\"\n",
        "# const TABULAR_DIRECTORY = \"data/tabular\"\n",
        "# const RADIANCE_RASTER_DIRECTORY = \"/content/Shedding-light-on-the-Russia-Ukraine-war/data/raster/rad_cropped\"\n",
        "# const CFOBS_RASTER_DIRECTORY = \"/content/Shedding-light-on-the-Russia-Ukraine-war/data/raster/cf_cropped\""
      ]
    },
    {
      "cell_type": "code",
      "execution_count": null,
      "metadata": {},
      "outputs": [],
      "source": [
        "# Define Local Paths\n",
        "const FIGURES_DIRECTORY = \"figures\"\n",
        "const TABLES_DIRECTORY = \"tables\"\n",
        "const VECTOR_DIRECTORY = \"data/vector\"\n",
        "const TABULAR_DIRECTORY = \"data/tabular\"\n",
        "const RADIANCE_RASTER_DIRECTORY = \"Shedding-light-on-the-Russia-Ukraine-war/data/raster/rad_cropped\"\n",
        "const CFOBS_RASTER_DIRECTORY = \"Shedding-light-on-the-Russia-Ukraine-war/data/raster/cf_cropped\""
      ]
    },
    {
      "cell_type": "code",
      "execution_count": null,
      "metadata": {
        "colab": {
          "base_uri": "https://localhost:8080/"
        },
        "id": "VbY_ee1ip6Ev",
        "outputId": "320be225-003c-4a34-b46b-49c8def6dc77"
      },
      "outputs": [],
      "source": [
        "const START_DATE = Date(2019, 1)\n",
        "const END_DATE = Date(2025, 1)"
      ]
    },
    {
      "cell_type": "markdown",
      "metadata": {},
      "source": [
        "##Functions"
      ]
    },
    {
      "cell_type": "code",
      "execution_count": null,
      "metadata": {},
      "outputs": [],
      "source": [
        "function safe_centre_of_mass(slice::AbstractArray, state_name::String)\n",
        "    s = sum(skipmissing(slice))\n",
        "    if ismissing(s) || isnan(s) || s == 0.0f0\n",
        "        return [NaN, NaN]\n",
        "    end\n",
        "    try\n",
        "        return NighttimeLights.centre_of_mass(slice)\n",
        "    catch e\n",
        "        if isa(e, InexactError)\n",
        "            println(\"Warning: CoM calculation failed for '$state_name'. Returning [NaN, NaN].\")\n",
        "            return [NaN, NaN]\n",
        "        else\n",
        "            rethrow(e)\n",
        "        end\n",
        "    end\n",
        "end"
      ]
    },
    {
      "cell_type": "code",
      "execution_count": null,
      "metadata": {
        "colab": {
          "base_uri": "https://localhost:8080/"
        },
        "id": "_PpsdO1cRZNS",
        "outputId": "e564cce1-f0b9-43ca-bfad-55b030a8030c"
      },
      "outputs": [],
      "source": [
        "function read_vector(filename)\n",
        "# Use GeoJSON.read, which expects an IO\n",
        "    geo = open(filename) do f\n",
        "        GeoJSON.read(f)\n",
        "    end\n",
        "\n",
        "    # Now extract features\n",
        "    features = geo.features\n",
        "\n",
        "    # Build DataFrame with properties + geometry\n",
        "    return DataFrame([merge(Dict(f.properties), Dict(:geometry => f.geometry)) for f in features])\n",
        "end"
      ]
    },
    {
      "cell_type": "code",
      "execution_count": null,
      "metadata": {},
      "outputs": [],
      "source": [
        "import Base.Filesystem: basename\n",
        "\n",
        "\"\"\"\n",
        "Extracts Date from filename.\n",
        "Matches either `YYYY-MM-DD` or `YYYY-MM-DDTHH:MM:SS`.\n",
        "\"\"\"\n",
        "function file_to_date(f::AbstractString)\n",
        "    b = basename(f)\n",
        "    m = match(r\"\\d{4}-\\d{2}-\\d{2}(?:T\\d{2}:\\d{2}:\\d{2})?\", b)\n",
        "    m === nothing && error(\"Cannot parse date from filename: $f\")\n",
        "    s = m.match\n",
        "    if occursin('T', s)\n",
        "        return Date(DateTime(s, dateformat\"yyyy-mm-ddTHH:MM:SS\"))\n",
        "    else\n",
        "        return Date(s, dateformat\"yyyy-mm-dd\")\n",
        "    end\n",
        "end\n",
        "\n",
        "\n",
        "\"\"\"\n",
        "Reads rasters between `start_date` and `end_date`\n",
        "and returns cropped datacubes for radiance and cloud-free observations.\n",
        "\"\"\"\n",
        "function read_region_as_datacubes(region; start_date::Date, end_date::Date,\n",
        "    radiance_path=RADIANCE_RASTER_DIRECTORY, cf_path=CFOBS_RASTER_DIRECTORY)\n",
        "\n",
        "    # all .tif files\n",
        "    rad_all = sort(joinpath.(radiance_path, filter(f -> endswith(f, \".tif\"), readdir(radiance_path))))\n",
        "    cf_all  = sort(joinpath.(cf_path, filter(f -> endswith(f, \".tif\"), readdir(cf_path))))\n",
        "\n",
        "\n",
        "    # restrict to date window\n",
        "    rad_inwin = filter(f -> (d = file_to_date(f); start_date <= d <= end_date), rad_all)\n",
        "    cf_inwin  = filter(f -> (d = file_to_date(f); start_date <= d <= end_date), cf_all)\n",
        "\n",
        "    # sort by extracted date\n",
        "    rad_inwin = rad_inwin[sortperm(file_to_date.(rad_inwin))]\n",
        "    cf_inwin  = cf_inwin[sortperm(file_to_date.(cf_inwin))]\n",
        "\n",
        "    # build raster lists\n",
        "# build raster lists, now fully in memory\n",
        "    rad_rasters = [Rasters.read(crop(Raster(f; lazy=true), to=region)) for f in rad_inwin]\n",
        "    cf_rasters  = [Rasters.read(crop(Raster(f; lazy=true), to=region)) for f in cf_inwin]\n",
        "\n",
        "\n",
        "    # raster series with actual dates\n",
        "    rad_series = RasterSeries(rad_rasters, Ti(file_to_date.(rad_inwin)))\n",
        "    cf_series  = RasterSeries(cf_rasters,  Ti(file_to_date.(cf_inwin)))\n",
        "\n",
        "    # convert to datacubes\n",
        "    rad_datacube = Rasters.combine(rad_series, Ti)\n",
        "    cf_datacube  = Rasters.combine(cf_series, Ti)\n",
        "    return rad_datacube, cf_datacube\n",
        "end\n"
      ]
    },
    {
      "cell_type": "code",
      "execution_count": null,
      "metadata": {},
      "outputs": [],
      "source": [
        "function process_state(state_row::DataFrameRow)\n",
        "    state_name = state_row.NAME_1\n",
        "    state_geometry = state_row.geometry\n",
        "    @show state_name\n",
        "    @show state_geometry\n",
        "    radiance, cfobs = read_region_as_datacubes(state_geometry;\n",
        "        start_date=START_DATE, end_date=END_DATE,\n",
        "        radiance_path=RADIANCE_RASTER_DIRECTORY,\n",
        "        cf_path=CFOBS_RASTER_DIRECTORY)\n",
        "\n",
        "\n",
        "    print(\"file read correctly\")\n",
        "\n",
        "    radiance = clean_complete(radiance, cfobs; bgthreshold=4)\n",
        "    cfobs = nothing # Release memory\n",
        "\n",
        "    radiance = Raster(Float32.(radiance); missingval=missing)\n",
        "    radiance[radiance .> 100.0f0] .= 0.0f0 # Cap high radiance values\n",
        "    radiance = mask(radiance; with=state_geometry)\n",
        "\n",
        "    dates = Date.(dims(radiance, Ti).val)\n",
        "    num_timesteps = length(dates)\n",
        "\n",
        "    if num_timesteps == 0\n",
        "        println(\"Warning: No valid data for '$state_name' after cleaning.\")\n",
        "        return DataFrame()\n",
        "    end\n",
        "\n",
        "    agg_radiance = [sum(skipmissing(view(radiance, Ti(i)))) for i in 1:num_timesteps]\n",
        "    com = [safe_centre_of_mass(view(radiance, Ti(i)), state_name) for i in 1:num_timesteps]\n",
        "\n",
        "    return DataFrame(; dates, aggregate_radiance=agg_radiance, com, state_name)\n",
        "end"
      ]
    },
    {
      "cell_type": "markdown",
      "metadata": {},
      "source": [
        "#ANALYSIS"
      ]
    },
    {
      "cell_type": "markdown",
      "metadata": {},
      "source": [
        "##Russia"
      ]
    },
    {
      "cell_type": "code",
      "execution_count": null,
      "metadata": {},
      "outputs": [],
      "source": [
        "russia_state_split = read_vector(\"Shedding-light-on-the-Russia-Ukraine-war/data/vector/russia_processing.geojson\")"
      ]
    },
    {
      "cell_type": "code",
      "execution_count": null,
      "metadata": {},
      "outputs": [],
      "source": [
        "# russia_state_split = read_vector(\"/content/Shedding-light-on-the-Russia-Ukraine-war/data/vector/russia_processing.geojson\")"
      ]
    },
    {
      "cell_type": "code",
      "execution_count": null,
      "metadata": {},
      "outputs": [],
      "source": [
        "radiance, cfobs = read_region_as_datacubes(\n",
        "    russia_state_split.geometry[1];\n",
        "    start_date=START_DATE,\n",
        "    end_date=END_DATE,\n",
        "    radiance_path=RADIANCE_RASTER_DIRECTORY,\n",
        "    cf_path=CFOBS_RASTER_DIRECTORY\n",
        ")"
      ]
    },
    {
      "cell_type": "code",
      "execution_count": null,
      "metadata": {
        "colab": {
          "base_uri": "https://localhost:8080/"
        },
        "id": "dQ_jZ0wzxpdx",
        "outputId": "0d1061f2-374c-4c05-a5b8-c235af3a7b3d"
      },
      "outputs": [],
      "source": [
        "radiance, cfobs = read_region_as_datacubes(russia_state_split[1, :].geometry;\n",
        "    start_date=START_DATE, end_date=END_DATE,\n",
        "    radiance_path=RADIANCE_RASTER_DIRECTORY,\n",
        "    cf_path=CFOBS_RASTER_DIRECTORY)"
      ]
    },
    {
      "cell_type": "code",
      "execution_count": null,
      "metadata": {
        "colab": {
          "base_uri": "https://localhost:8080/"
        },
        "id": "u6rQeQLjTwAK",
        "outputId": "1ebc55f9-e69c-41fe-d87e-3254138d2616"
      },
      "outputs": [],
      "source": [
        "russia_agg_rad = DataFrame()\n",
        "\n",
        "for i in 1:nrow(russia_state_split)\n",
        "    state_row = russia_state_split[i, :]\n",
        "    state_name = state_row.NAME_1\n",
        "    println(\"--- Processing state $i/$(nrow(russia_state_split)): $state_name ---\")\n",
        "\n",
        "    try\n",
        "        state_df = process_state(state_row)\n",
        "        if !isempty(state_df)\n",
        "            append!(russia_agg_rad, state_df; cols=:union)\n",
        "        end\n",
        "    catch e\n",
        "        println(\"ERROR: Failed to process state '$state_name'. Skipping. Error: $e\")\n",
        "    end\n",
        "    GC.gc()\n",
        "end\n",
        "\n",
        "println(\"--- Processing Complete ---\")\n",
        "\n",
        "# Final aggregation\n",
        "if !isempty(russia_agg_rad)\n",
        "    println(\"Aggregating results...\")\n",
        "    grouped = groupby(russia_agg_rad, :dates)\n",
        "    aggregate_df = DataFrames.combine(grouped, :aggregate_radiance => sum => :AggregateRadiance)\n",
        "    sort!(aggregate_df, :dates)\n",
        "\n",
        "    # only write once if you want\n",
        "    # CSV.write(AGGREGATE_FILE, aggregate_df)\n",
        "    println(\"Aggregation complete, DataFrame in memory.\")\n",
        "else\n",
        "    println(\"No data processed, skipping aggregation.\")\n",
        "end\n",
        "\n",
        "println(\"Script finished.\")\n"
      ]
    },
    {
      "cell_type": "code",
      "execution_count": null,
      "metadata": {
        "colab": {
          "base_uri": "https://localhost:8080/",
          "height": 660
        },
        "id": "dJ9zqRQ1_0AS",
        "outputId": "db491ae2-38eb-4377-abf1-e045c3e961e5"
      },
      "outputs": [],
      "source": [
        "russia_agg_rad"
      ]
    },
    {
      "cell_type": "markdown",
      "metadata": {},
      "source": [
        "##Ukraine"
      ]
    },
    {
      "cell_type": "code",
      "execution_count": null,
      "metadata": {},
      "outputs": [],
      "source": [
        "ukraine_state_split = read_vector(\"Shedding-light-on-the-Russia-Ukraine-war/data/vector/ukraine.geojson\")"
      ]
    },
    {
      "cell_type": "code",
      "execution_count": null,
      "metadata": {},
      "outputs": [],
      "source": [
        "# ukraine_state_split = read_vector(\"/content/Shedding-light-on-the-Russia-Ukraine-war/data/vector/ukraine.geojson\")"
      ]
    },
    {
      "cell_type": "code",
      "execution_count": null,
      "metadata": {},
      "outputs": [],
      "source": [
        "const IGNORED_STATES = Set([\"Donets'k\", \"Kherson\", \"Luhans'k\", \"Zaporizhia\", \"Crimea\", \"Sevastopol'\"])\n",
        "ukraine_state_split = filter(row -> !(row.NAME_1 in IGNORED_STATES), ukraine_state_split)"
      ]
    },
    {
      "cell_type": "code",
      "execution_count": null,
      "metadata": {},
      "outputs": [],
      "source": [
        "radiance, cfobs = read_region_as_datacubes(\n",
        "    ukraine_state_split.geometry[1];\n",
        "    start_date=START_DATE,\n",
        "    end_date=END_DATE,\n",
        "    radiance_path=RADIANCE_RASTER_DIRECTORY,\n",
        "    cf_path=CFOBS_RASTER_DIRECTORY\n",
        ")"
      ]
    },
    {
      "cell_type": "code",
      "execution_count": null,
      "metadata": {},
      "outputs": [],
      "source": [
        "radiance, cfobs = read_region_as_datacubes(ukraine_state_split[1, :].geometry;\n",
        "    start_date=START_DATE, end_date=END_DATE,\n",
        "    radiance_path=RADIANCE_RASTER_DIRECTORY,\n",
        "    cf_path=CFOBS_RASTER_DIRECTORY)"
      ]
    },
    {
      "cell_type": "code",
      "execution_count": null,
      "metadata": {},
      "outputs": [],
      "source": [
        "ukr_agg_rad = DataFrame()\n",
        "\n",
        "for i in 1:nrow(ukraine_state_split)\n",
        "    state_row = ukraine_state_split[i, :]\n",
        "    state_name = state_row.NAME_1\n",
        "    println(\"--- Processing state $i/$(nrow(ukraine_state_split)): $state_name ---\")\n",
        "\n",
        "    try\n",
        "        state_df = process_state(state_row)\n",
        "        if !isempty(state_df)\n",
        "            append!(ukr_agg_rad, state_df; cols=:union)\n",
        "        end\n",
        "    catch e\n",
        "        println(\"ERROR: Failed to process state '$state_name'. Skipping. Error: $e\")\n",
        "    end\n",
        "    GC.gc()\n",
        "end\n",
        "\n",
        "println(\"--- Processing Complete ---\")\n",
        "\n",
        "# Final aggregation\n",
        "if !isempty(ukr_agg_rad)\n",
        "    println(\"Aggregating results...\")\n",
        "    grouped = groupby(ukr_agg_rad, :dates)\n",
        "    aggregate_df = DataFrames.combine(grouped, :aggregate_radiance => sum => :AggregateRadiance)\n",
        "    sort!(aggregate_df, :dates)\n",
        "\n",
        "    # only write once if you want\n",
        "    # CSV.write(AGGREGATE_FILE, aggregate_df)\n",
        "    println(\"Aggregation complete, DataFrame in memory.\")\n",
        "else\n",
        "    println(\"No data processed, skipping aggregation.\")\n",
        "end\n",
        "\n",
        "println(\"Script finished.\")\n"
      ]
    },
    {
      "cell_type": "code",
      "execution_count": null,
      "metadata": {},
      "outputs": [],
      "source": [
        "ukr_agg_rad"
      ]
    },
    {
      "cell_type": "markdown",
      "metadata": {},
      "source": [
        "##Disputed"
      ]
    },
    {
      "cell_type": "code",
      "execution_count": null,
      "metadata": {},
      "outputs": [],
      "source": [
        "disp_state_split = read_vector(\"Shedding-light-on-the-Russia-Ukraine-war/data/vector/ukraine.geojson\")"
      ]
    },
    {
      "cell_type": "code",
      "execution_count": null,
      "metadata": {},
      "outputs": [],
      "source": [
        "# disp_state_split = read_vector(\"/content/Shedding-light-on-the-Russia-Ukraine-war/data/vector/ukraine.geojson\")"
      ]
    },
    {
      "cell_type": "code",
      "execution_count": null,
      "metadata": {},
      "outputs": [],
      "source": [
        "const IGNORED_STATES = Set([\"Donets'k\", \"Kherson\", \"Luhans'k\", \"Zaporizhia\", \"Crimea\", \"Sevastopol'\"])\n",
        "disp_state_split = subset(disp_state_split, :NAME_1 => ByRow(x -> x in IGNORED_STATES))"
      ]
    },
    {
      "cell_type": "code",
      "execution_count": null,
      "metadata": {},
      "outputs": [],
      "source": [
        "radiance, cfobs = read_region_as_datacubes(\n",
        "    disp_state_split.geometry[1];\n",
        "    start_date=START_DATE,\n",
        "    end_date=END_DATE,\n",
        "    radiance_path=RADIANCE_RASTER_DIRECTORY,\n",
        "    cf_path=CFOBS_RASTER_DIRECTORY\n",
        ")"
      ]
    },
    {
      "cell_type": "code",
      "execution_count": null,
      "metadata": {},
      "outputs": [],
      "source": [
        "radiance, cfobs = read_region_as_datacubes(disp_state_split[1, :].geometry;\n",
        "    start_date=START_DATE, end_date=END_DATE,\n",
        "    radiance_path=RADIANCE_RASTER_DIRECTORY,\n",
        "    cf_path=CFOBS_RASTER_DIRECTORY)"
      ]
    },
    {
      "cell_type": "code",
      "execution_count": null,
      "metadata": {},
      "outputs": [],
      "source": [
        "disp_agg_rad = DataFrame()\n",
        "\n",
        "for i in 1:nrow(disp_state_split)\n",
        "    state_row = disp_state_split[i, :]\n",
        "    state_name = state_row.NAME_1\n",
        "    println(\"--- Processing state $i/$(nrow(disp_state_split)): $state_name ---\")\n",
        "\n",
        "    try\n",
        "        state_df = process_state(state_row)\n",
        "        if !isempty(state_df)\n",
        "            append!(disp_agg_rad, state_df; cols=:union)\n",
        "        end\n",
        "    catch e\n",
        "        println(\"ERROR: Failed to process state '$state_name'. Skipping. Error: $e\")\n",
        "    end\n",
        "    GC.gc()\n",
        "end\n",
        "\n",
        "println(\"--- Processing Complete ---\")\n",
        "\n",
        "# Final aggregation\n",
        "if !isempty(disp_agg_rad)\n",
        "    println(\"Aggregating results...\")\n",
        "    grouped = groupby(disp_agg_rad, :dates)\n",
        "    aggregate_df = DataFrames.combine(grouped, :aggregate_radiance => sum => :AggregateRadiance)\n",
        "    sort!(aggregate_df, :dates)\n",
        "\n",
        "    # only write once if you want\n",
        "    # CSV.write(AGGREGATE_FILE, aggregate_df)\n",
        "    println(\"Aggregation complete, DataFrame in memory.\")\n",
        "else\n",
        "    println(\"No data processed, skipping aggregation.\")\n",
        "end\n",
        "\n",
        "println(\"Script finished.\")\n"
      ]
    },
    {
      "cell_type": "code",
      "execution_count": null,
      "metadata": {},
      "outputs": [],
      "source": [
        "disp_agg_rad"
      ]
    }
  ],
  "metadata": {
    "colab": {
      "authorship_tag": "ABX9TyOH/pd54y3qsEdIL2mkOejt",
      "include_colab_link": true,
      "provenance": []
    },
    "kernelspec": {
      "display_name": "Julia 1.10.10",
      "language": "julia",
      "name": "julia-1.10"
    },
    "language_info": {
      "file_extension": ".jl",
      "mimetype": "application/julia",
      "name": "julia",
      "version": "1.10.10"
    }
  },
  "nbformat": 4,
  "nbformat_minor": 0
}
