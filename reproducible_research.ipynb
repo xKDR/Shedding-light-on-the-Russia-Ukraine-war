{
  "nbformat": 4,
  "nbformat_minor": 0,
  "metadata": {
    "colab": {
      "provenance": [],
      "authorship_tag": "ABX9TyPqh1oCMgfzGzP9Tea+SjqT",
      "include_colab_link": true
    },
    "kernelspec": {
      "name": "julia",
      "display_name": "Julia"
    },
    "language_info": {
      "name": "julia"
    }
  },
  "cells": [
    {
      "cell_type": "markdown",
      "metadata": {
        "id": "view-in-github",
        "colab_type": "text"
      },
      "source": [
        "<a href=\"https://colab.research.google.com/github/xKDR/Shedding-light-on-the-Russia-Ukraine-war/blob/main/reproducible_research.ipynb\" target=\"_parent\"><img src=\"https://colab.research.google.com/assets/colab-badge.svg\" alt=\"Open In Colab\"/></a>"
      ]
    },
    {
      "cell_type": "markdown",
      "source": [
        "# WORK IN PROGRESS"
      ],
      "metadata": {
        "id": "tZb_-dtt1bgN"
      }
    },
    {
      "cell_type": "code",
      "source": [
        "using Pkg\n",
        "Pkg.add([\"GeoJSON\", \"NighttimeLights\", \"Rasters\", \"CSV\", \"Dates\", \"DataFrames\"])"
      ],
      "metadata": {
        "colab": {
          "base_uri": "https://localhost:8080/"
        },
        "id": "RKt6qxnCnyrM",
        "outputId": "34ecc9ff-bf21-46f3-b145-e33345259da4"
      },
      "execution_count": 20,
      "outputs": [
        {
          "output_type": "stream",
          "name": "stderr",
          "text": [
            "\u001b[32m\u001b[1m   Resolving\u001b[22m\u001b[39m package versions...\n",
            "\u001b[32m\u001b[1m  No Changes\u001b[22m\u001b[39m to `~/.julia/environments/v1.11/Project.toml`\n",
            "\u001b[32m\u001b[1m  No Changes\u001b[22m\u001b[39m to `~/.julia/environments/v1.11/Manifest.toml`\n",
            "\u001b[92m\u001b[1mPrecompiling\u001b[22m\u001b[39m project...\n",
            "  17718.1 ms\u001b[33m  ? \u001b[39mNighttimeLights\n",
            "  18654.4 ms\u001b[33m  ? \u001b[39mRasters → RastersMakieExt\n"
          ]
        }
      ]
    },
    {
      "cell_type": "code",
      "source": [
        ";git clone https://github.com/xKDR/Shedding-light-on-the-Russia-Ukraine-war.git"
      ],
      "metadata": {
        "colab": {
          "base_uri": "https://localhost:8080/"
        },
        "id": "6YZptoMMoZ4i",
        "outputId": "bae1ead0-24cd-4079-92a2-d0769eebb782"
      },
      "execution_count": 58,
      "outputs": [
        {
          "output_type": "stream",
          "name": "stderr",
          "text": [
            "fatal: destination path 'Shedding-light-on-the-Russia-Ukraine-war' already exists and is not an empty directory.\n"
          ]
        }
      ]
    },
    {
      "cell_type": "code",
      "source": [
        "run(`apt-get install git-lfs -y`)\n",
        "run(`git lfs install`)\n",
        "cd(\"Shedding-light-on-the-Russia-Ukraine-war\")\n",
        "run(`git lfs pull`)"
      ],
      "metadata": {
        "id": "w5Qth_eTaA5h",
        "outputId": "5b2c21f5-4885-49ca-a185-ec748dd55383",
        "colab": {
          "base_uri": "https://localhost:8080/"
        }
      },
      "execution_count": 61,
      "outputs": [
        {
          "output_type": "stream",
          "name": "stdout",
          "text": [
            "Reading package lists...\n",
            "Building dependency tree...\n",
            "Reading state information...\n",
            "git-lfs is already the newest version (3.0.2-1ubuntu0.3).\n",
            "0 upgraded, 0 newly installed, 0 to remove and 35 not upgraded.\n",
            "Git LFS initialized.\n"
          ]
        },
        {
          "output_type": "execute_result",
          "data": {
            "text/plain": [
              "Process(`\u001b[4mgit\u001b[24m \u001b[4mlfs\u001b[24m \u001b[4mpull\u001b[24m`, ProcessExited(0))"
            ]
          },
          "metadata": {},
          "execution_count": 61
        }
      ]
    },
    {
      "cell_type": "code",
      "source": [
        "run(`ls -lh /content/Shedding-light-on-the-Russia-Ukraine-war/data/raster/rad_cropped`)"
      ],
      "metadata": {
        "id": "_3IXeq04bjne",
        "outputId": "60e753f7-e5a8-48b1-a023-e5f3bc14a3f7",
        "colab": {
          "base_uri": "https://localhost:8080/"
        }
      },
      "execution_count": 63,
      "outputs": [
        {
          "output_type": "stream",
          "name": "stdout",
          "text": [
            "total 2.6G\n",
            "-rw-r--r-- 1 root root  20M Aug 22 10:54 radiance_2014-01-01T00:00:00.tif\n",
            "-rwxr-xr-x 1 root root  22M Aug 22 10:54 radiance_2014-02-01T00:00:00.tif\n",
            "-rwxr-xr-x 1 root root  21M Aug 22 10:54 radiance_2014-03-01T00:00:00.tif\n",
            "-rwxr-xr-x 1 root root  23M Aug 22 10:53 radiance_2014-04-01T00:00:00.tif\n",
            "-rwxr-xr-x 1 root root  16M Aug 22 10:54 radiance_2014-05-01T00:00:00.tif\n",
            "-rwxr-xr-x 1 root root 9.9M Aug 22 10:54 radiance_2014-06-01T00:00:00.tif\n",
            "-rwxr-xr-x 1 root root  13M Aug 22 10:54 radiance_2014-07-01T00:00:00.tif\n",
            "-rwxr-xr-x 1 root root  20M Aug 22 10:54 radiance_2014-08-01T00:00:00.tif\n",
            "-rwxr-xr-x 1 root root  24M Aug 22 10:53 radiance_2014-09-01T00:00:00.tif\n",
            "-rwxr-xr-x 1 root root  23M Aug 22 10:53 radiance_2014-10-01T00:00:00.tif\n",
            "-rwxr-xr-x 1 root root  22M Aug 22 10:54 radiance_2014-11-01T00:00:00.tif\n",
            "-rwxr-xr-x 1 root root  24M Aug 22 10:53 radiance_2014-12-01T00:00:00.tif\n",
            "-rwxr-xr-x 1 root root  23M Aug 22 10:53 radiance_2015-01-01T00:00:00.tif\n",
            "-rwxr-xr-x 1 root root  22M Aug 22 10:53 radiance_2015-02-01T00:00:00.tif\n",
            "-rwxr-xr-x 1 root root  25M Aug 22 10:53 radiance_2015-03-01T00:00:00.tif\n",
            "-rwxr-xr-x 1 root root  22M Aug 22 10:54 radiance_2015-04-01T00:00:00.tif\n",
            "-rwxr-xr-x 1 root root  14M Aug 22 10:54 radiance_2015-05-01T00:00:00.tif\n",
            "-rwxr-xr-x 1 root root 9.6M Aug 22 10:54 radiance_2015-06-01T00:00:00.tif\n",
            "-rwxr-xr-x 1 root root  13M Aug 22 10:54 radiance_2015-07-01T00:00:00.tif\n",
            "-rwxr-xr-x 1 root root  19M Aug 22 10:54 radiance_2015-08-01T00:00:00.tif\n",
            "-rwxr-xr-x 1 root root  24M Aug 22 10:53 radiance_2015-09-01T00:00:00.tif\n",
            "-rwxr-xr-x 1 root root  23M Aug 22 10:53 radiance_2015-10-01T00:00:00.tif\n",
            "-rwxr-xr-x 1 root root  23M Aug 22 10:53 radiance_2015-11-01T00:00:00.tif\n",
            "-rwxr-xr-x 1 root root  23M Aug 22 10:53 radiance_2015-12-01T00:00:00.tif\n",
            "-rwxr-xr-x 1 root root  23M Aug 22 10:53 radiance_2016-01-01T00:00:00.tif\n",
            "-rwxr-xr-x 1 root root  23M Aug 22 10:53 radiance_2016-02-01T00:00:00.tif\n",
            "-rwxr-xr-x 1 root root  24M Aug 22 10:53 radiance_2016-03-01T00:00:00.tif\n",
            "-rwxr-xr-x 1 root root  24M Aug 22 10:53 radiance_2016-04-01T00:00:00.tif\n",
            "-rwxr-xr-x 1 root root  15M Aug 22 10:54 radiance_2016-05-01T00:00:00.tif\n",
            "-rwxr-xr-x 1 root root  11M Aug 22 10:54 radiance_2016-06-01T00:00:00.tif\n",
            "-rwxr-xr-x 1 root root  14M Aug 22 10:54 radiance_2016-07-01T00:00:00.tif\n",
            "-rwxr-xr-x 1 root root  21M Aug 22 10:54 radiance_2016-08-01T00:00:00.tif\n",
            "-rwxr-xr-x 1 root root  24M Aug 22 10:53 radiance_2016-09-01T00:00:00.tif\n",
            "-rwxr-xr-x 1 root root  24M Aug 22 10:53 radiance_2016-10-01T00:00:00.tif\n",
            "-rwxr-xr-x 1 root root  22M Aug 22 10:53 radiance_2016-11-01T00:00:00.tif\n",
            "-rwxr-xr-x 1 root root  22M Aug 22 10:54 radiance_2016-12-01T00:00:00.tif\n",
            "-rwxr-xr-x 1 root root  22M Aug 22 10:53 radiance_2017-01-01T00:00:00.tif\n",
            "-rwxr-xr-x 1 root root  23M Aug 22 10:53 radiance_2017-02-01T00:00:00.tif\n",
            "-rwxr-xr-x 1 root root  24M Aug 22 10:53 radiance_2017-03-01T00:00:00.tif\n",
            "-rwxr-xr-x 1 root root  23M Aug 22 10:53 radiance_2017-04-01T00:00:00.tif\n",
            "-rwxr-xr-x 1 root root  15M Aug 22 10:54 radiance_2017-05-01T00:00:00.tif\n",
            "-rwxr-xr-x 1 root root 9.8M Aug 22 10:54 radiance_2017-06-01T00:00:00.tif\n",
            "-rwxr-xr-x 1 root root  14M Aug 22 10:54 radiance_2017-07-01T00:00:00.tif\n",
            "-rwxr-xr-x 1 root root  20M Aug 22 10:54 radiance_2017-08-01T00:00:00.tif\n",
            "-rwxr-xr-x 1 root root  24M Aug 22 10:53 radiance_2017-09-01T00:00:00.tif\n",
            "-rwxr-xr-x 1 root root  21M Aug 22 10:54 radiance_2017-10-01T00:00:00.tif\n",
            "-rwxr-xr-x 1 root root  22M Aug 22 10:54 radiance_2017-11-01T00:00:00.tif\n",
            "-rwxr-xr-x 1 root root  22M Aug 22 10:54 radiance_2017-12-01T00:00:00.tif\n",
            "-rwxr-xr-x 1 root root  21M Aug 22 10:54 radiance_2018-01-01T00:00:00.tif\n",
            "-rwxr-xr-x 1 root root  21M Aug 22 10:54 radiance_2018-02-01T00:00:00.tif\n",
            "-rwxr-xr-x 1 root root  23M Aug 22 10:53 radiance_2018-03-01T00:00:00.tif\n",
            "-rwxr-xr-x 1 root root  22M Aug 22 10:54 radiance_2018-04-01T00:00:00.tif\n",
            "-rwxr-xr-x 1 root root  15M Aug 22 10:54 radiance_2018-05-01T00:00:00.tif\n",
            "-rwxr-xr-x 1 root root  10M Aug 22 10:54 radiance_2018-06-01T00:00:00.tif\n",
            "-rwxr-xr-x 1 root root  13M Aug 22 10:54 radiance_2018-07-01T00:00:00.tif\n",
            "-rwxr-xr-x 1 root root  18M Aug 22 10:54 radiance_2018-08-01T00:00:00.tif\n",
            "-rwxr-xr-x 1 root root  24M Aug 22 10:53 radiance_2018-09-01T00:00:00.tif\n",
            "-rwxr-xr-x 1 root root  22M Aug 22 10:54 radiance_2018-10-01T00:00:00.tif\n",
            "-rwxr-xr-x 1 root root  22M Aug 22 10:54 radiance_2018-11-01T00:00:00.tif\n",
            "-rwxr-xr-x 1 root root  21M Aug 22 10:54 radiance_2018-12-01T00:00:00.tif\n",
            "-rwxr-xr-x 1 root root  22M Aug 22 10:54 radiance_2019-01-01T00:00:00.tif\n",
            "-rwxr-xr-x 1 root root  22M Aug 22 10:54 radiance_2019-02-01T00:00:00.tif\n",
            "-rwxr-xr-x 1 root root  22M Aug 22 10:53 radiance_2019-03-01T00:00:00.tif\n",
            "-rwxr-xr-x 1 root root  23M Aug 22 10:53 radiance_2019-04-01T00:00:00.tif\n",
            "-rwxr-xr-x 1 root root  16M Aug 22 10:54 radiance_2019-05-01T00:00:00.tif\n",
            "-rwxr-xr-x 1 root root  11M Aug 22 10:54 radiance_2019-06-01T00:00:00.tif\n",
            "-rwxr-xr-x 1 root root  14M Aug 22 10:54 radiance_2019-07-01T00:00:00.tif\n",
            "-rwxr-xr-x 1 root root  20M Aug 22 10:54 radiance_2019-08-01T00:00:00.tif\n",
            "-rwxr-xr-x 1 root root  24M Aug 22 10:54 radiance_2019-09-01T00:00:00.tif\n",
            "-rwxr-xr-x 1 root root  22M Aug 22 10:54 radiance_2019-10-01T00:00:00.tif\n",
            "-rwxr-xr-x 1 root root  21M Aug 22 10:54 radiance_2019-11-01T00:00:00.tif\n",
            "-rwxr-xr-x 1 root root  20M Aug 22 10:54 radiance_2019-12-01T00:00:00.tif\n",
            "-rwxr-xr-x 1 root root  22M Aug 22 10:54 radiance_2020-01-01T00:00:00.tif\n",
            "-rwxr-xr-x 1 root root  22M Aug 22 10:54 radiance_2020-02-01T00:00:00.tif\n",
            "-rwxr-xr-x 1 root root  22M Aug 22 10:54 radiance_2020-03-01T00:00:00.tif\n",
            "-rwxr-xr-x 1 root root  20M Aug 22 10:54 radiance_2020-04-01T00:00:00.tif\n",
            "-rwxr-xr-x 1 root root  14M Aug 22 10:54 radiance_2020-05-01T00:00:00.tif\n",
            "-rwxr-xr-x 1 root root  11M Aug 22 10:54 radiance_2020-06-01T00:00:00.tif\n",
            "-rwxr-xr-x 1 root root  14M Aug 22 10:54 radiance_2020-07-01T00:00:00.tif\n",
            "-rwxr-xr-x 1 root root  20M Aug 22 10:54 radiance_2020-08-01T00:00:00.tif\n",
            "-rwxr-xr-x 1 root root  23M Aug 22 10:54 radiance_2020-09-01T00:00:00.tif\n",
            "-rwxr-xr-x 1 root root  24M Aug 22 10:54 radiance_2020-10-01T00:00:00.tif\n",
            "-rwxr-xr-x 1 root root  23M Aug 22 10:54 radiance_2020-11-01T00:00:00.tif\n",
            "-rwxr-xr-x 1 root root  23M Aug 22 10:54 radiance_2020-12-01T00:00:00.tif\n",
            "-rwxr-xr-x 1 root root  23M Aug 22 10:54 radiance_2021-01-01T00:00:00.tif\n",
            "-rwxr-xr-x 1 root root  23M Aug 22 10:54 radiance_2021-02-01T00:00:00.tif\n",
            "-rwxr-xr-x 1 root root  23M Aug 22 10:54 radiance_2021-03-01T00:00:00.tif\n",
            "-rwxr-xr-x 1 root root  23M Aug 22 10:54 radiance_2021-04-01T00:00:00.tif\n",
            "-rwxr-xr-x 1 root root  16M Aug 22 10:54 radiance_2021-05-01T00:00:00.tif\n",
            "-rwxr-xr-x 1 root root 9.9M Aug 22 10:54 radiance_2021-06-01T00:00:00.tif\n",
            "-rwxr-xr-x 1 root root  12M Aug 22 10:54 radiance_2021-07-01T00:00:00.tif\n",
            "-rwxr-xr-x 1 root root  18M Aug 22 10:54 radiance_2021-08-01T00:00:00.tif\n",
            "-rwxr-xr-x 1 root root  24M Aug 22 10:54 radiance_2021-09-01T00:00:00.tif\n",
            "-rwxr-xr-x 1 root root  25M Aug 22 10:54 radiance_2021-10-01T00:00:00.tif\n",
            "-rwxr-xr-x 1 root root  24M Aug 22 10:54 radiance_2021-11-01T00:00:00.tif\n",
            "-rwxr-xr-x 1 root root  23M Aug 22 10:54 radiance_2021-12-01T00:00:00.tif\n",
            "-rwxr-xr-x 1 root root  24M Aug 22 10:54 radiance_2022-01-01T00:00:00.tif\n",
            "-rwxr-xr-x 1 root root  26M Aug 22 10:54 radiance_2022-02-01T00:00:00.tif\n",
            "-rwxr-xr-x 1 root root  25M Aug 22 10:54 radiance_2022-03-01T00:00:00.tif\n",
            "-rwxr-xr-x 1 root root  24M Aug 22 10:54 radiance_2022-04-01T00:00:00.tif\n",
            "-rwxr-xr-x 1 root root  16M Aug 22 10:54 radiance_2022-05-01T00:00:00.tif\n",
            "-rwxr-xr-x 1 root root  10M Aug 22 10:54 radiance_2022-06-01T00:00:00.tif\n",
            "-rwxr-xr-x 1 root root 8.7M Aug 22 10:54 radiance_2022-07-01T00:00:00.tif\n",
            "-rwxr-xr-x 1 root root  25M Aug 22 10:54 radiance_2022-09-01T00:00:00.tif\n",
            "-rwxr-xr-x 1 root root  25M Aug 22 10:54 radiance_2022-10-01T00:00:00.tif\n",
            "-rwxr-xr-x 1 root root  24M Aug 22 10:54 radiance_2022-11-01T00:00:00.tif\n",
            "-rwxr-xr-x 1 root root  25M Aug 22 10:54 radiance_2022-12-01T00:00:00.tif\n",
            "-rwxr-xr-x 1 root root  25M Aug 22 10:54 radiance_2023-01-01T00:00:00.tif\n",
            "-rwxr-xr-x 1 root root  26M Aug 22 10:54 radiance_2023-02-01T00:00:00.tif\n",
            "-rwxr-xr-x 1 root root  26M Aug 22 10:54 radiance_2023-03-01T00:00:00.tif\n",
            "-rwxr-xr-x 1 root root  22M Aug 22 10:54 radiance_2023-04-01T00:00:00.tif\n",
            "-rwxr-xr-x 1 root root  15M Aug 22 10:54 radiance_2023-05-01T00:00:00.tif\n",
            "-rwxr-xr-x 1 root root 9.8M Aug 22 10:54 radiance_2023-06-01T00:00:00.tif\n",
            "-rwxr-xr-x 1 root root  13M Aug 22 10:54 radiance_2023-07-01T00:00:00.tif\n",
            "-rwxr-xr-x 1 root root  20M Aug 22 10:54 radiance_2023-08-01T00:00:00.tif\n",
            "-rwxr-xr-x 1 root root  26M Aug 22 10:54 radiance_2023-09-01T00:00:00.tif\n",
            "-rwxr-xr-x 1 root root  25M Aug 22 10:54 radiance_2023-10-01T00:00:00.tif\n",
            "-rwxr-xr-x 1 root root  26M Aug 22 10:54 radiance_2023-11-01T00:00:00.tif\n",
            "-rwxr-xr-x 1 root root  27M Aug 22 10:54 radiance_2023-12-01T00:00:00.tif\n",
            "-rwxr-xr-x 1 root root  25M Aug 22 10:54 radiance_2024-01-01T00:00:00.tif\n",
            "-rwxr-xr-x 1 root root  24M Aug 22 10:54 radiance_2024-02-01T00:00:00.tif\n",
            "-rwxr-xr-x 1 root root  27M Aug 22 10:54 radiance_2024-03-01T00:00:00.tif\n",
            "-rwxr-xr-x 1 root root  24M Aug 22 10:54 radiance_2024-04-01T00:00:00.tif\n",
            "-rwxr-xr-x 1 root root  17M Aug 22 10:54 radiance_2024-05-01T00:00:00.tif\n",
            "-rwxr-xr-x 1 root root  11M Aug 22 10:54 radiance_2024-06-04T00:00:00.tif\n",
            "-rwxr-xr-x 1 root root  13M Aug 22 10:54 radiance_2024-07-01T00:00:00.tif\n",
            "-rwxr-xr-x 1 root root  21M Aug 22 10:54 radiance_2024-08-01T00:00:00.tif\n",
            "-rwxr-xr-x 1 root root  26M Aug 22 10:54 radiance_2024-09-01T00:00:00.tif\n",
            "-rwxr-xr-x 1 root root  27M Aug 22 10:54 radiance_2024-10-01T00:00:00.tif\n",
            "-rwxr-xr-x 1 root root  27M Aug 22 10:54 radiance_2024-11-01T00:00:00.tif\n",
            "-rwxr-xr-x 1 root root  26M Aug 22 10:54 radiance_2024-12-01T00:00:00.tif\n",
            "-rwxr-xr-x 1 root root  27M Aug 22 10:54 radiance_2025-01-01T00:00:00.tif\n",
            "-rwxr-xr-x 1 root root  133 Aug 22 10:09 raster.tif\n"
          ]
        },
        {
          "output_type": "execute_result",
          "data": {
            "text/plain": [
              "Process(`\u001b[4mls\u001b[24m \u001b[4m-lh\u001b[24m \u001b[4m/content/Shedding-light-on-the-Russia-Ukraine-war/data/raster/rad_cropped\u001b[24m`, ProcessExited(0))"
            ]
          },
          "metadata": {},
          "execution_count": 63
        }
      ]
    },
    {
      "cell_type": "code",
      "source": [
        "using GeoJSON\n",
        "using GeoDataFrames\n",
        "using DataFrames\n",
        "using NighttimeLights\n",
        "using Rasters\n",
        "using CSV\n",
        "using Dates"
      ],
      "metadata": {
        "id": "7xAps6hLTXE4"
      },
      "execution_count": 21,
      "outputs": []
    },
    {
      "cell_type": "code",
      "execution_count": 42,
      "metadata": {
        "id": "Om9EPhk7TF3a",
        "colab": {
          "base_uri": "https://localhost:8080/"
        },
        "outputId": "3fd28cc5-dbe7-4d25-bc96-cd6cb9d97a57"
      },
      "outputs": [
        {
          "output_type": "execute_result",
          "data": {
            "text/plain": [
              "\"/content/Shedding-light-on-the-Russia-Ukraine-war/data/raster/cf_cropped\""
            ]
          },
          "metadata": {},
          "execution_count": 42
        }
      ],
      "source": [
        "# Define path constants\n",
        "FIGURES_DIRECTORY = \"figures\"\n",
        "TABLES_DIRECTORY = \"tables\"\n",
        "VECTOR_DIRECTORY = \"data/vector\"\n",
        "TABULAR_DIRECTORY = \"data/tabular\"\n",
        "RADIANCE_RASTER_DIRECTORY = \"/content/Shedding-light-on-the-Russia-Ukraine-war/data/raster/rad_cropped\"\n",
        "CFOBS_RASTER_DIRECTORY = \"/content/Shedding-light-on-the-Russia-Ukraine-war/data/raster/cf_cropped\""
      ]
    },
    {
      "cell_type": "code",
      "source": [
        "function read_vector(filename)\n",
        "# Use GeoJSON.read, which expects an IO\n",
        "    geo = open(filename) do f\n",
        "        GeoJSON.read(f)\n",
        "    end\n",
        "\n",
        "    # Now extract features\n",
        "    features = geo.features\n",
        "\n",
        "    # Build DataFrame with properties + geometry\n",
        "    return DataFrame([merge(Dict(f.properties), Dict(:geometry => f.geometry)) for f in features])\n",
        "end"
      ],
      "metadata": {
        "colab": {
          "base_uri": "https://localhost:8080/"
        },
        "id": "_PpsdO1cRZNS",
        "outputId": "e564cce1-f0b9-43ca-bfad-55b030a8030c"
      },
      "execution_count": 24,
      "outputs": [
        {
          "output_type": "execute_result",
          "data": {
            "text/plain": [
              "read_vector (generic function with 1 method)"
            ]
          },
          "metadata": {},
          "execution_count": 24
        }
      ]
    },
    {
      "cell_type": "code",
      "source": [
        "russia_state_split = read_vector(\"/content/Shedding-light-on-the-Russia-Ukraine-war/data/vector/russia_processing.geojson\")"
      ],
      "metadata": {
        "colab": {
          "base_uri": "https://localhost:8080/",
          "height": 1000
        },
        "collapsed": true,
        "id": "tyM2nBdeS3iZ",
        "outputId": "0d6b6e01-5f15-446e-f365-822b5cedd547"
      },
      "execution_count": 25,
      "outputs": [
        {
          "output_type": "execute_result",
          "data": {
            "text/plain": [
              "\u001b[1m101×14 DataFrame\n",
              "\u001b[1m Row │\u001b[1m geometry        \u001b[1m NAME_1        \u001b[1m NL_NAME_1             \u001b[1m GID_0  \u001b[1m VARNAME_ ⋯\n",
              "     │\u001b[90m Abstract…       \u001b[90m String        \u001b[90m String                \u001b[90m String \u001b[90m String   ⋯\n",
              "─────┼──────────────────────────────────────────────────────────────────────────\n",
              "   1 │ 2D Polygon       Chukot1        Чукотский АОк          RUS     Chukotka ⋯\n",
              "   2 │ 2D Polygon       Chukot2_cross  Чукотский АОк          RUS     Chukotka\n",
              "   3 │ 2D Polygon       Chukot3        Чукотский АОк          RUS     Chukotka\n",
              "   4 │ 2D Polygon       Chukot4        Чукотский АОк          RUS     Chukotka\n",
              "   5 │ 2D Polygon       Chukot5_cross  Чукотский АОк          RUS     Chukotka ⋯\n",
              "   6 │ 2D Polygon       Krasnoyarsk1   Красноярский край      RUS     Krasnoya\n",
              "   7 │ 2D Polygon       Krasnoyarsk2   Красноярский край      RUS     Krasnoya\n",
              "   8 │ 2D MultiPolygon  Krasnoyarsk3   Красноярский край      RUS     Krasnoya\n",
              "   9 │ 2D Polygon       Krasnoyarsk4   Красноярский край      RUS     Krasnoya ⋯\n",
              "  10 │ 2D Polygon       Krasnoyarsk5   Красноярский край      RUS     Krasnoya\n",
              "  11 │ 2D Polygon       Krasnoyarsk6   Красноярский край      RUS     Krasnoya\n",
              "  ⋮  │        ⋮               ⋮                  ⋮              ⋮              ⋱\n",
              "  92 │ 2D Polygon       Udmurt         Удмуртская Республика  RUS     Udmurtiy\n",
              "  93 │ 2D Polygon       Ul'yanovsk     Ульяновская область    RUS     Simbirsk ⋯\n",
              "  94 │ 2D Polygon       Vladimir       Владимирская область   RUS     Vladimir\n",
              "  95 │ 2D Polygon       Volgograd      Волгоградская область  RUS     Stalingr\n",
              "  96 │ 2D Polygon       Vologda        Вологодская область    RUS     Vologods\n",
              "  97 │ 2D Polygon       Voronezh       Воронежская область    RUS     Voronezh ⋯\n",
              "  98 │ 2D MultiPolygon  Yamal-Nenets   Ямало-Ненецкий АОк     RUS     Yamalo-N\n",
              "  99 │ 2D Polygon       Yaroslavl'     Ярославская область    RUS     Yaroslav\n",
              " 100 │ 2D Polygon       Yevrey         Eврейская АОб          RUS     Den jødi\n",
              " 101 │ 2D MultiPolygon  Zabaykal'ye    Забайкальский край     RUS     Zabaykal ⋯\n",
              "\u001b[36m                                                  10 columns and 80 rows omitted"
            ],
            "text/html": [
              "<div><div style = \"float: left;\"><span>101×14 DataFrame</span></div><div style = \"float: right;\"><span style = \"font-style: italic;\">76 rows omitted</span></div><div style = \"clear: both;\"></div></div><div class = \"data-frame\" style = \"overflow-x: scroll;\"><table class = \"data-frame\" style = \"margin-bottom: 6px;\"><thead><tr class = \"header\"><th class = \"rowNumber\" style = \"font-weight: bold; text-align: right;\">Row</th><th style = \"text-align: left;\">geometry</th><th style = \"text-align: left;\">NAME_1</th><th style = \"text-align: left;\">NL_NAME_1</th><th style = \"text-align: left;\">GID_0</th><th style = \"text-align: left;\">VARNAME_1</th><th style = \"text-align: left;\">HASC_1</th><th style = \"text-align: left;\">ISO_1</th><th style = \"text-align: left;\">path</th><th style = \"text-align: left;\">TYPE_1</th><th style = \"text-align: left;\">GID_1</th><th style = \"text-align: left;\">COUNTRY</th><th style = \"text-align: left;\">CC_1</th><th style = \"text-align: left;\">ENGTYPE_1</th><th style = \"text-align: left;\">layer</th></tr><tr class = \"subheader headerLastRow\"><th class = \"rowNumber\" style = \"font-weight: bold; text-align: right;\"></th><th title = \"GeoJSON.AbstractGeometry{2, Float32}\" style = \"text-align: left;\">Abstract…</th><th title = \"String\" style = \"text-align: left;\">String</th><th title = \"String\" style = \"text-align: left;\">String</th><th title = \"String\" style = \"text-align: left;\">String</th><th title = \"String\" style = \"text-align: left;\">String</th><th title = \"String\" style = \"text-align: left;\">String</th><th title = \"String\" style = \"text-align: left;\">String</th><th title = \"String\" style = \"text-align: left;\">String</th><th title = \"String\" style = \"text-align: left;\">String</th><th title = \"String\" style = \"text-align: left;\">String</th><th title = \"String\" style = \"text-align: left;\">String</th><th title = \"String\" style = \"text-align: left;\">String</th><th title = \"String\" style = \"text-align: left;\">String</th><th title = \"String\" style = \"text-align: left;\">String</th></tr></thead><tbody><tr><td class = \"rowNumber\" style = \"font-weight: bold; text-align: right;\">1</td><td style = \"text-align: left;\">2D Polygon</td><td style = \"text-align: left;\">Chukot1</td><td style = \"text-align: left;\">Чукотский АОк</td><td style = \"text-align: left;\">RUS</td><td style = \"text-align: left;\">Chukotka|Chukotskiy Aok</td><td style = \"text-align: left;\">RU.CK</td><td style = \"text-align: left;\">NA</td><td style = \"text-align: left;\">Polygon?crs=EPSG:4326&amp;field=GID_1:string(10,0)&amp;field=GID_0:string(10,0)&amp;field=COUNTRY:string(10,0)&amp;field=NAME_1:string(22,0)&amp;field=VARNAME_1:string(34,0)&amp;field=NL_NAME_1:string(61,0)&amp;field=TYPE_1:string(18,0)&amp;field=ENGTYPE_1:string(19,0)&amp;field=CC_1:strin</td><td style = \"text-align: left;\">Avtonomnyy Okrug</td><td style = \"text-align: left;\">RUS.12_1</td><td style = \"text-align: left;\">Russia</td><td style = \"text-align: left;\">7001</td><td style = \"text-align: left;\">Autonomous Province</td><td style = \"text-align: left;\">Single parts</td></tr><tr><td class = \"rowNumber\" style = \"font-weight: bold; text-align: right;\">2</td><td style = \"text-align: left;\">2D Polygon</td><td style = \"text-align: left;\">Chukot2_cross</td><td style = \"text-align: left;\">Чукотский АОк</td><td style = \"text-align: left;\">RUS</td><td style = \"text-align: left;\">Chukotka|Chukotskiy Aok</td><td style = \"text-align: left;\">RU.CK</td><td style = \"text-align: left;\">NA</td><td style = \"text-align: left;\">Polygon?crs=EPSG:4326&amp;field=GID_1:string(10,0)&amp;field=GID_0:string(10,0)&amp;field=COUNTRY:string(10,0)&amp;field=NAME_1:string(22,0)&amp;field=VARNAME_1:string(34,0)&amp;field=NL_NAME_1:string(61,0)&amp;field=TYPE_1:string(18,0)&amp;field=ENGTYPE_1:string(19,0)&amp;field=CC_1:strin</td><td style = \"text-align: left;\">Avtonomnyy Okrug</td><td style = \"text-align: left;\">RUS.12_1</td><td style = \"text-align: left;\">Russia</td><td style = \"text-align: left;\">7001</td><td style = \"text-align: left;\">Autonomous Province</td><td style = \"text-align: left;\">Single parts</td></tr><tr><td class = \"rowNumber\" style = \"font-weight: bold; text-align: right;\">3</td><td style = \"text-align: left;\">2D Polygon</td><td style = \"text-align: left;\">Chukot3</td><td style = \"text-align: left;\">Чукотский АОк</td><td style = \"text-align: left;\">RUS</td><td style = \"text-align: left;\">Chukotka|Chukotskiy Aok</td><td style = \"text-align: left;\">RU.CK</td><td style = \"text-align: left;\">NA</td><td style = \"text-align: left;\">Polygon?crs=EPSG:4326&amp;field=GID_1:string(10,0)&amp;field=GID_0:string(10,0)&amp;field=COUNTRY:string(10,0)&amp;field=NAME_1:string(22,0)&amp;field=VARNAME_1:string(34,0)&amp;field=NL_NAME_1:string(61,0)&amp;field=TYPE_1:string(18,0)&amp;field=ENGTYPE_1:string(19,0)&amp;field=CC_1:strin</td><td style = \"text-align: left;\">Avtonomnyy Okrug</td><td style = \"text-align: left;\">RUS.12_1</td><td style = \"text-align: left;\">Russia</td><td style = \"text-align: left;\">7001</td><td style = \"text-align: left;\">Autonomous Province</td><td style = \"text-align: left;\">Single parts</td></tr><tr><td class = \"rowNumber\" style = \"font-weight: bold; text-align: right;\">4</td><td style = \"text-align: left;\">2D Polygon</td><td style = \"text-align: left;\">Chukot4</td><td style = \"text-align: left;\">Чукотский АОк</td><td style = \"text-align: left;\">RUS</td><td style = \"text-align: left;\">Chukotka|Chukotskiy Aok</td><td style = \"text-align: left;\">RU.CK</td><td style = \"text-align: left;\">NA</td><td style = \"text-align: left;\">Polygon?crs=EPSG:4326&amp;field=GID_1:string(10,0)&amp;field=GID_0:string(10,0)&amp;field=COUNTRY:string(10,0)&amp;field=NAME_1:string(22,0)&amp;field=VARNAME_1:string(34,0)&amp;field=NL_NAME_1:string(61,0)&amp;field=TYPE_1:string(18,0)&amp;field=ENGTYPE_1:string(19,0)&amp;field=CC_1:strin</td><td style = \"text-align: left;\">Avtonomnyy Okrug</td><td style = \"text-align: left;\">RUS.12_1</td><td style = \"text-align: left;\">Russia</td><td style = \"text-align: left;\">7001</td><td style = \"text-align: left;\">Autonomous Province</td><td style = \"text-align: left;\">Single parts</td></tr><tr><td class = \"rowNumber\" style = \"font-weight: bold; text-align: right;\">5</td><td style = \"text-align: left;\">2D Polygon</td><td style = \"text-align: left;\">Chukot5_cross</td><td style = \"text-align: left;\">Чукотский АОк</td><td style = \"text-align: left;\">RUS</td><td style = \"text-align: left;\">Chukotka|Chukotskiy Aok</td><td style = \"text-align: left;\">RU.CK</td><td style = \"text-align: left;\">NA</td><td style = \"text-align: left;\">Polygon?crs=EPSG:4326&amp;field=GID_1:string(10,0)&amp;field=GID_0:string(10,0)&amp;field=COUNTRY:string(10,0)&amp;field=NAME_1:string(22,0)&amp;field=VARNAME_1:string(34,0)&amp;field=NL_NAME_1:string(61,0)&amp;field=TYPE_1:string(18,0)&amp;field=ENGTYPE_1:string(19,0)&amp;field=CC_1:strin</td><td style = \"text-align: left;\">Avtonomnyy Okrug</td><td style = \"text-align: left;\">RUS.12_1</td><td style = \"text-align: left;\">Russia</td><td style = \"text-align: left;\">7001</td><td style = \"text-align: left;\">Autonomous Province</td><td style = \"text-align: left;\">Single parts</td></tr><tr><td class = \"rowNumber\" style = \"font-weight: bold; text-align: right;\">6</td><td style = \"text-align: left;\">2D Polygon</td><td style = \"text-align: left;\">Krasnoyarsk1</td><td style = \"text-align: left;\">Красноярский край</td><td style = \"text-align: left;\">RUS</td><td style = \"text-align: left;\">Krasnoyarskiy Kray|Yeniseisk|Yen</td><td style = \"text-align: left;\">RU.KX</td><td style = \"text-align: left;\">NA</td><td style = \"text-align: left;\">/Users/ayushpatnaik/REPOSITORIES/nightlights/DATA/MAPS/RUSSIA_BOUNDARY/split_states.shp</td><td style = \"text-align: left;\">Kray</td><td style = \"text-align: left;\">RUS.35_1</td><td style = \"text-align: left;\">Russia</td><td style = \"text-align: left;\">6209</td><td style = \"text-align: left;\">Territory</td><td style = \"text-align: left;\">split_states</td></tr><tr><td class = \"rowNumber\" style = \"font-weight: bold; text-align: right;\">7</td><td style = \"text-align: left;\">2D Polygon</td><td style = \"text-align: left;\">Krasnoyarsk2</td><td style = \"text-align: left;\">Красноярский край</td><td style = \"text-align: left;\">RUS</td><td style = \"text-align: left;\">Krasnoyarskiy Kray|Yeniseisk|Yen</td><td style = \"text-align: left;\">RU.KX</td><td style = \"text-align: left;\">NA</td><td style = \"text-align: left;\">/Users/ayushpatnaik/REPOSITORIES/nightlights/DATA/MAPS/RUSSIA_BOUNDARY/split_states.shp</td><td style = \"text-align: left;\">Kray</td><td style = \"text-align: left;\">RUS.35_1</td><td style = \"text-align: left;\">Russia</td><td style = \"text-align: left;\">6209</td><td style = \"text-align: left;\">Territory</td><td style = \"text-align: left;\">split_states</td></tr><tr><td class = \"rowNumber\" style = \"font-weight: bold; text-align: right;\">8</td><td style = \"text-align: left;\">2D MultiPolygon</td><td style = \"text-align: left;\">Krasnoyarsk3</td><td style = \"text-align: left;\">Красноярский край</td><td style = \"text-align: left;\">RUS</td><td style = \"text-align: left;\">Krasnoyarskiy Kray|Yeniseisk|Yen</td><td style = \"text-align: left;\">RU.KX</td><td style = \"text-align: left;\">NA</td><td style = \"text-align: left;\">/Users/ayushpatnaik/REPOSITORIES/nightlights/DATA/MAPS/RUSSIA_BOUNDARY/split_states.shp</td><td style = \"text-align: left;\">Kray</td><td style = \"text-align: left;\">RUS.35_1</td><td style = \"text-align: left;\">Russia</td><td style = \"text-align: left;\">6209</td><td style = \"text-align: left;\">Territory</td><td style = \"text-align: left;\">split_states</td></tr><tr><td class = \"rowNumber\" style = \"font-weight: bold; text-align: right;\">9</td><td style = \"text-align: left;\">2D Polygon</td><td style = \"text-align: left;\">Krasnoyarsk4</td><td style = \"text-align: left;\">Красноярский край</td><td style = \"text-align: left;\">RUS</td><td style = \"text-align: left;\">Krasnoyarskiy Kray|Yeniseisk|Yen</td><td style = \"text-align: left;\">RU.KX</td><td style = \"text-align: left;\">NA</td><td style = \"text-align: left;\">/Users/ayushpatnaik/REPOSITORIES/nightlights/DATA/MAPS/RUSSIA_BOUNDARY/split_states.shp</td><td style = \"text-align: left;\">Kray</td><td style = \"text-align: left;\">RUS.35_1</td><td style = \"text-align: left;\">Russia</td><td style = \"text-align: left;\">6209</td><td style = \"text-align: left;\">Territory</td><td style = \"text-align: left;\">split_states</td></tr><tr><td class = \"rowNumber\" style = \"font-weight: bold; text-align: right;\">10</td><td style = \"text-align: left;\">2D Polygon</td><td style = \"text-align: left;\">Krasnoyarsk5</td><td style = \"text-align: left;\">Красноярский край</td><td style = \"text-align: left;\">RUS</td><td style = \"text-align: left;\">Krasnoyarskiy Kray|Yeniseisk|Yen</td><td style = \"text-align: left;\">RU.KX</td><td style = \"text-align: left;\">NA</td><td style = \"text-align: left;\">/Users/ayushpatnaik/REPOSITORIES/nightlights/DATA/MAPS/RUSSIA_BOUNDARY/split_states.shp</td><td style = \"text-align: left;\">Kray</td><td style = \"text-align: left;\">RUS.35_1</td><td style = \"text-align: left;\">Russia</td><td style = \"text-align: left;\">6209</td><td style = \"text-align: left;\">Territory</td><td style = \"text-align: left;\">split_states</td></tr><tr><td class = \"rowNumber\" style = \"font-weight: bold; text-align: right;\">11</td><td style = \"text-align: left;\">2D Polygon</td><td style = \"text-align: left;\">Krasnoyarsk6</td><td style = \"text-align: left;\">Красноярский край</td><td style = \"text-align: left;\">RUS</td><td style = \"text-align: left;\">Krasnoyarskiy Kray|Yeniseisk|Yen</td><td style = \"text-align: left;\">RU.KX</td><td style = \"text-align: left;\">NA</td><td style = \"text-align: left;\">/Users/ayushpatnaik/REPOSITORIES/nightlights/DATA/MAPS/RUSSIA_BOUNDARY/split_states.shp</td><td style = \"text-align: left;\">Kray</td><td style = \"text-align: left;\">RUS.35_1</td><td style = \"text-align: left;\">Russia</td><td style = \"text-align: left;\">6209</td><td style = \"text-align: left;\">Territory</td><td style = \"text-align: left;\">split_states</td></tr><tr><td class = \"rowNumber\" style = \"font-weight: bold; text-align: right;\">12</td><td style = \"text-align: left;\">2D Polygon</td><td style = \"text-align: left;\">Krasnoyarsk7</td><td style = \"text-align: left;\">Красноярский край</td><td style = \"text-align: left;\">RUS</td><td style = \"text-align: left;\">Krasnoyarskiy Kray|Yeniseisk|Yen</td><td style = \"text-align: left;\">RU.KX</td><td style = \"text-align: left;\">NA</td><td style = \"text-align: left;\">/Users/ayushpatnaik/REPOSITORIES/nightlights/DATA/MAPS/RUSSIA_BOUNDARY/split_states.shp</td><td style = \"text-align: left;\">Kray</td><td style = \"text-align: left;\">RUS.35_1</td><td style = \"text-align: left;\">Russia</td><td style = \"text-align: left;\">6209</td><td style = \"text-align: left;\">Territory</td><td style = \"text-align: left;\">split_states</td></tr><tr><td class = \"rowNumber\" style = \"font-weight: bold; text-align: right;\">13</td><td style = \"text-align: left;\">2D Polygon</td><td style = \"text-align: left;\">Sakha1</td><td style = \"text-align: left;\">Республика Саха</td><td style = \"text-align: left;\">RUS</td><td style = \"text-align: left;\">Republic of Sakha|Yakutia-Sakha|</td><td style = \"text-align: left;\">RU.SK</td><td style = \"text-align: left;\">NA</td><td style = \"text-align: left;\">/Users/ayushpatnaik/REPOSITORIES/nightlights/DATA/MAPS/RUSSIA_BOUNDARY/split_states.shp</td><td style = \"text-align: left;\">Respublika</td><td style = \"text-align: left;\">RUS.60_1</td><td style = \"text-align: left;\">Russia</td><td style = \"text-align: left;\">NA</td><td style = \"text-align: left;\">Republic</td><td style = \"text-align: left;\">split_states</td></tr><tr><td style = \"text-align: right;\">&vellip;</td><td style = \"text-align: right;\">&vellip;</td><td style = \"text-align: right;\">&vellip;</td><td style = \"text-align: right;\">&vellip;</td><td style = \"text-align: right;\">&vellip;</td><td style = \"text-align: right;\">&vellip;</td><td style = \"text-align: right;\">&vellip;</td><td style = \"text-align: right;\">&vellip;</td><td style = \"text-align: right;\">&vellip;</td><td style = \"text-align: right;\">&vellip;</td><td style = \"text-align: right;\">&vellip;</td><td style = \"text-align: right;\">&vellip;</td><td style = \"text-align: right;\">&vellip;</td><td style = \"text-align: right;\">&vellip;</td><td style = \"text-align: right;\">&vellip;</td></tr><tr><td class = \"rowNumber\" style = \"font-weight: bold; text-align: right;\">90</td><td style = \"text-align: left;\">2D Polygon</td><td style = \"text-align: left;\">Tver&apos;</td><td style = \"text-align: left;\">Тверская область</td><td style = \"text-align: left;\">RUS</td><td style = \"text-align: left;\">Kalinin|Kalininskaya|Tverskaya O</td><td style = \"text-align: left;\">RU.TV</td><td style = \"text-align: left;\">NA</td><td style = \"text-align: left;\">/Users/ayushpatnaik/REPOSITORIES/nightlights/DATA/MAPS/RUSSIA_BOUNDARY/split_states.shp</td><td style = \"text-align: left;\">Oblast</td><td style = \"text-align: left;\">RUS.72_1</td><td style = \"text-align: left;\">Russia</td><td style = \"text-align: left;\">NA</td><td style = \"text-align: left;\">Region</td><td style = \"text-align: left;\">split_states</td></tr><tr><td class = \"rowNumber\" style = \"font-weight: bold; text-align: right;\">91</td><td style = \"text-align: left;\">2D Polygon</td><td style = \"text-align: left;\">Tyumen&apos;</td><td style = \"text-align: left;\">Тюменская область</td><td style = \"text-align: left;\">RUS</td><td style = \"text-align: left;\">Tobol&apos;sk|Tobol&apos;skaya G.|Tyumensk</td><td style = \"text-align: left;\">RU.TY</td><td style = \"text-align: left;\">NA</td><td style = \"text-align: left;\">/Users/ayushpatnaik/REPOSITORIES/nightlights/DATA/MAPS/RUSSIA_BOUNDARY/split_states.shp</td><td style = \"text-align: left;\">Oblast</td><td style = \"text-align: left;\">RUS.73_1</td><td style = \"text-align: left;\">Russia</td><td style = \"text-align: left;\">NA</td><td style = \"text-align: left;\">Region</td><td style = \"text-align: left;\">split_states</td></tr><tr><td class = \"rowNumber\" style = \"font-weight: bold; text-align: right;\">92</td><td style = \"text-align: left;\">2D Polygon</td><td style = \"text-align: left;\">Udmurt</td><td style = \"text-align: left;\">Удмуртская Республика</td><td style = \"text-align: left;\">RUS</td><td style = \"text-align: left;\">Udmurtiya|Udmurt Republic|Udmurt</td><td style = \"text-align: left;\">RU.UD</td><td style = \"text-align: left;\">NA</td><td style = \"text-align: left;\">/Users/ayushpatnaik/REPOSITORIES/nightlights/DATA/MAPS/RUSSIA_BOUNDARY/split_states.shp</td><td style = \"text-align: left;\">Respublika</td><td style = \"text-align: left;\">RUS.74_1</td><td style = \"text-align: left;\">Russia</td><td style = \"text-align: left;\">NA</td><td style = \"text-align: left;\">Republic</td><td style = \"text-align: left;\">split_states</td></tr><tr><td class = \"rowNumber\" style = \"font-weight: bold; text-align: right;\">93</td><td style = \"text-align: left;\">2D Polygon</td><td style = \"text-align: left;\">Ul&apos;yanovsk</td><td style = \"text-align: left;\">Ульяновская область</td><td style = \"text-align: left;\">RUS</td><td style = \"text-align: left;\">Simbirsk|Simbirskaya G.|Ul&apos;yanov</td><td style = \"text-align: left;\">RU.UL</td><td style = \"text-align: left;\">NA</td><td style = \"text-align: left;\">/Users/ayushpatnaik/REPOSITORIES/nightlights/DATA/MAPS/RUSSIA_BOUNDARY/split_states.shp</td><td style = \"text-align: left;\">Oblast</td><td style = \"text-align: left;\">RUS.75_1</td><td style = \"text-align: left;\">Russia</td><td style = \"text-align: left;\">NA</td><td style = \"text-align: left;\">Region</td><td style = \"text-align: left;\">split_states</td></tr><tr><td class = \"rowNumber\" style = \"font-weight: bold; text-align: right;\">94</td><td style = \"text-align: left;\">2D Polygon</td><td style = \"text-align: left;\">Vladimir</td><td style = \"text-align: left;\">Владимирская область</td><td style = \"text-align: left;\">RUS</td><td style = \"text-align: left;\">Vladimirskaya Oblast</td><td style = \"text-align: left;\">RU.VL</td><td style = \"text-align: left;\">NA</td><td style = \"text-align: left;\">/Users/ayushpatnaik/REPOSITORIES/nightlights/DATA/MAPS/RUSSIA_BOUNDARY/split_states.shp</td><td style = \"text-align: left;\">Oblast</td><td style = \"text-align: left;\">RUS.76_1</td><td style = \"text-align: left;\">Russia</td><td style = \"text-align: left;\">NA</td><td style = \"text-align: left;\">Region</td><td style = \"text-align: left;\">split_states</td></tr><tr><td class = \"rowNumber\" style = \"font-weight: bold; text-align: right;\">95</td><td style = \"text-align: left;\">2D Polygon</td><td style = \"text-align: left;\">Volgograd</td><td style = \"text-align: left;\">Волгоградская область</td><td style = \"text-align: left;\">RUS</td><td style = \"text-align: left;\">Stalingrad|Volgogradskaya Oblast</td><td style = \"text-align: left;\">RU.VG</td><td style = \"text-align: left;\">NA</td><td style = \"text-align: left;\">/Users/ayushpatnaik/REPOSITORIES/nightlights/DATA/MAPS/RUSSIA_BOUNDARY/split_states.shp</td><td style = \"text-align: left;\">Oblast</td><td style = \"text-align: left;\">RUS.77_1</td><td style = \"text-align: left;\">Russia</td><td style = \"text-align: left;\">NA</td><td style = \"text-align: left;\">Region</td><td style = \"text-align: left;\">split_states</td></tr><tr><td class = \"rowNumber\" style = \"font-weight: bold; text-align: right;\">96</td><td style = \"text-align: left;\">2D Polygon</td><td style = \"text-align: left;\">Vologda</td><td style = \"text-align: left;\">Вологодская область</td><td style = \"text-align: left;\">RUS</td><td style = \"text-align: left;\">Vologodskaya Oblast</td><td style = \"text-align: left;\">RU.VO</td><td style = \"text-align: left;\">NA</td><td style = \"text-align: left;\">/Users/ayushpatnaik/REPOSITORIES/nightlights/DATA/MAPS/RUSSIA_BOUNDARY/split_states.shp</td><td style = \"text-align: left;\">Oblast</td><td style = \"text-align: left;\">RUS.78_1</td><td style = \"text-align: left;\">Russia</td><td style = \"text-align: left;\">NA</td><td style = \"text-align: left;\">Region</td><td style = \"text-align: left;\">split_states</td></tr><tr><td class = \"rowNumber\" style = \"font-weight: bold; text-align: right;\">97</td><td style = \"text-align: left;\">2D Polygon</td><td style = \"text-align: left;\">Voronezh</td><td style = \"text-align: left;\">Воронежская область</td><td style = \"text-align: left;\">RUS</td><td style = \"text-align: left;\">Voronezhskaya Oblast</td><td style = \"text-align: left;\">RU.VR</td><td style = \"text-align: left;\">NA</td><td style = \"text-align: left;\">/Users/ayushpatnaik/REPOSITORIES/nightlights/DATA/MAPS/RUSSIA_BOUNDARY/split_states.shp</td><td style = \"text-align: left;\">Oblast</td><td style = \"text-align: left;\">RUS.79_1</td><td style = \"text-align: left;\">Russia</td><td style = \"text-align: left;\">NA</td><td style = \"text-align: left;\">Region</td><td style = \"text-align: left;\">split_states</td></tr><tr><td class = \"rowNumber\" style = \"font-weight: bold; text-align: right;\">98</td><td style = \"text-align: left;\">2D MultiPolygon</td><td style = \"text-align: left;\">Yamal-Nenets</td><td style = \"text-align: left;\">Ямало-Ненецкий АОк</td><td style = \"text-align: left;\">RUS</td><td style = \"text-align: left;\">Yamalo-Nenetskiy A. Okrug</td><td style = \"text-align: left;\">RU.YN</td><td style = \"text-align: left;\">NA</td><td style = \"text-align: left;\">/Users/ayushpatnaik/REPOSITORIES/nightlights/DATA/MAPS/RUSSIA_BOUNDARY/split_states.shp</td><td style = \"text-align: left;\">Avtonomnyy Okrug</td><td style = \"text-align: left;\">RUS.80_1</td><td style = \"text-align: left;\">Russia</td><td style = \"text-align: left;\">NA</td><td style = \"text-align: left;\">Autonomous Province</td><td style = \"text-align: left;\">split_states</td></tr><tr><td class = \"rowNumber\" style = \"font-weight: bold; text-align: right;\">99</td><td style = \"text-align: left;\">2D Polygon</td><td style = \"text-align: left;\">Yaroslavl&apos;</td><td style = \"text-align: left;\">Ярославская область</td><td style = \"text-align: left;\">RUS</td><td style = \"text-align: left;\">Yaroslavskaya</td><td style = \"text-align: left;\">RU.YS</td><td style = \"text-align: left;\">NA</td><td style = \"text-align: left;\">/Users/ayushpatnaik/REPOSITORIES/nightlights/DATA/MAPS/RUSSIA_BOUNDARY/split_states.shp</td><td style = \"text-align: left;\">Oblast</td><td style = \"text-align: left;\">RUS.81_1</td><td style = \"text-align: left;\">Russia</td><td style = \"text-align: left;\">NA</td><td style = \"text-align: left;\">Region</td><td style = \"text-align: left;\">split_states</td></tr><tr><td class = \"rowNumber\" style = \"font-weight: bold; text-align: right;\">100</td><td style = \"text-align: left;\">2D Polygon</td><td style = \"text-align: left;\">Yevrey</td><td style = \"text-align: left;\">Eврейская АОб</td><td style = \"text-align: left;\">RUS</td><td style = \"text-align: left;\">Den jødiske autonome oblasten|Ev</td><td style = \"text-align: left;\">RU.YV</td><td style = \"text-align: left;\">NA</td><td style = \"text-align: left;\">/Users/ayushpatnaik/REPOSITORIES/nightlights/DATA/MAPS/RUSSIA_BOUNDARY/split_states.shp</td><td style = \"text-align: left;\">Avtonomnaya Oblast</td><td style = \"text-align: left;\">RUS.82_1</td><td style = \"text-align: left;\">Russia</td><td style = \"text-align: left;\">6701</td><td style = \"text-align: left;\">Autonomous Region</td><td style = \"text-align: left;\">split_states</td></tr><tr><td class = \"rowNumber\" style = \"font-weight: bold; text-align: right;\">101</td><td style = \"text-align: left;\">2D MultiPolygon</td><td style = \"text-align: left;\">Zabaykal&apos;ye</td><td style = \"text-align: left;\">Забайкальский край</td><td style = \"text-align: left;\">RUS</td><td style = \"text-align: left;\">Zabaykalsky</td><td style = \"text-align: left;\">RU.ZB</td><td style = \"text-align: left;\">NA</td><td style = \"text-align: left;\">/Users/ayushpatnaik/REPOSITORIES/nightlights/DATA/MAPS/RUSSIA_BOUNDARY/split_states.shp</td><td style = \"text-align: left;\">Kray</td><td style = \"text-align: left;\">RUS.83_1</td><td style = \"text-align: left;\">Russia</td><td style = \"text-align: left;\">NA</td><td style = \"text-align: left;\">Territory</td><td style = \"text-align: left;\">split_states</td></tr></tbody></table></div>"
            ],
            "text/latex": "\\begin{tabular}{r|cccccc}\n\t& geometry & NAME\\_1 & NL\\_NAME\\_1 & GID\\_0 & VARNAME\\_1 & \\\\\n\t\\hline\n\t& Abstract… & String & String & String & String & \\\\\n\t\\hline\n\t1 & 2D Polygon & Chukot1 & Чукотский АОк & RUS & Chukotka|Chukotskiy Aok & $\\dots$ \\\\\n\t2 & 2D Polygon & Chukot2\\_cross & Чукотский АОк & RUS & Chukotka|Chukotskiy Aok & $\\dots$ \\\\\n\t3 & 2D Polygon & Chukot3 & Чукотский АОк & RUS & Chukotka|Chukotskiy Aok & $\\dots$ \\\\\n\t4 & 2D Polygon & Chukot4 & Чукотский АОк & RUS & Chukotka|Chukotskiy Aok & $\\dots$ \\\\\n\t5 & 2D Polygon & Chukot5\\_cross & Чукотский АОк & RUS & Chukotka|Chukotskiy Aok & $\\dots$ \\\\\n\t6 & 2D Polygon & Krasnoyarsk1 & Красноярский край & RUS & Krasnoyarskiy Kray|Yeniseisk|Yen & $\\dots$ \\\\\n\t7 & 2D Polygon & Krasnoyarsk2 & Красноярский край & RUS & Krasnoyarskiy Kray|Yeniseisk|Yen & $\\dots$ \\\\\n\t8 & 2D MultiPolygon & Krasnoyarsk3 & Красноярский край & RUS & Krasnoyarskiy Kray|Yeniseisk|Yen & $\\dots$ \\\\\n\t9 & 2D Polygon & Krasnoyarsk4 & Красноярский край & RUS & Krasnoyarskiy Kray|Yeniseisk|Yen & $\\dots$ \\\\\n\t10 & 2D Polygon & Krasnoyarsk5 & Красноярский край & RUS & Krasnoyarskiy Kray|Yeniseisk|Yen & $\\dots$ \\\\\n\t11 & 2D Polygon & Krasnoyarsk6 & Красноярский край & RUS & Krasnoyarskiy Kray|Yeniseisk|Yen & $\\dots$ \\\\\n\t12 & 2D Polygon & Krasnoyarsk7 & Красноярский край & RUS & Krasnoyarskiy Kray|Yeniseisk|Yen & $\\dots$ \\\\\n\t13 & 2D Polygon & Sakha1 & Республика Саха & RUS & Republic of Sakha|Yakutia-Sakha| & $\\dots$ \\\\\n\t14 & 2D MultiPolygon & Sakha2 & Республика Саха & RUS & Republic of Sakha|Yakutia-Sakha| & $\\dots$ \\\\\n\t15 & 2D Polygon & Sakha3 & Республика Саха & RUS & Republic of Sakha|Yakutia-Sakha| & $\\dots$ \\\\\n\t16 & 2D Polygon & Sakha4 & Республика Саха & RUS & Republic of Sakha|Yakutia-Sakha| & $\\dots$ \\\\\n\t17 & 2D Polygon & Sakha5 & Республика Саха & RUS & Republic of Sakha|Yakutia-Sakha| & $\\dots$ \\\\\n\t18 & 2D Polygon & Sakha6 & Республика Саха & RUS & Republic of Sakha|Yakutia-Sakha| & $\\dots$ \\\\\n\t19 & 2D Polygon & Sakha7 & Республика Саха & RUS & Republic of Sakha|Yakutia-Sakha| & $\\dots$ \\\\\n\t20 & 2D Polygon & Adygey & Республика Адыгея & RUS & Adygea|Adygeya|Adygheya|Republic & $\\dots$ \\\\\n\t21 & 2D Polygon & Altay & Алтайский край & RUS & Altayskiy Kray & $\\dots$ \\\\\n\t22 & 2D Polygon & Amur & Амурская область & RUS & Amurskaya Oblast & $\\dots$ \\\\\n\t23 & 2D MultiPolygon & Arkhangel'sk & Архангельская область & RUS & Arcangelo|Archangel|Archangelsk| & $\\dots$ \\\\\n\t24 & 2D Polygon & Astrakhan' & Астраханская область & RUS & Astrachan|Astrakhanskaya Oblast & $\\dots$ \\\\\n\t25 & 2D Polygon & Bashkortostan & Республика Башкортостан & RUS & Bashkir|Bashkiriya|Bashkirskaya & $\\dots$ \\\\\n\t26 & 2D Polygon & Belgorod & Белгородская область & RUS & Belgorodskaya Oblast & $\\dots$ \\\\\n\t27 & 2D Polygon & Bryansk & Брянская область & RUS & Bryanskaya Oblast & $\\dots$ \\\\\n\t28 & 2D Polygon & Buryat & Республика Бурятия & RUS & Buryatiya|Buryat-Mongol A.S.S.R. & $\\dots$ \\\\\n\t29 & 2D Polygon & Chechnya & Республика Чечено-Ингушская & RUS & Cecenia|Chechenia|Chechênia|Tche & $\\dots$ \\\\\n\t30 & 2D Polygon & Chelyabinsk & Челябинская область & RUS & Chelyabinskaya Oblast & $\\dots$ \\\\\n\t$\\dots$ & $\\dots$ & $\\dots$ & $\\dots$ & $\\dots$ & $\\dots$ &  \\\\\n\\end{tabular}\n"
          },
          "metadata": {},
          "execution_count": 25
        }
      ]
    },
    {
      "cell_type": "code",
      "source": [
        "function safe_centre_of_mass(slice::AbstractArray, state_name::String)\n",
        "    s = sum(skipmissing(slice))\n",
        "    if ismissing(s) || isnan(s) || s == 0.0f0\n",
        "        return [NaN, NaN]\n",
        "    end\n",
        "    try\n",
        "        return NighttimeLights.centre_of_mass(slice)\n",
        "    catch e\n",
        "        if isa(e, InexactError)\n",
        "            println(\"Warning: CoM calculation failed for '$state_name'. Returning [NaN, NaN].\")\n",
        "            return [NaN, NaN]\n",
        "        else\n",
        "            rethrow(e)\n",
        "        end\n",
        "    end\n",
        "end"
      ],
      "metadata": {
        "colab": {
          "base_uri": "https://localhost:8080/"
        },
        "id": "a06mEQU2TUrw",
        "outputId": "a5086059-80ea-4550-ae20-941a8348483e"
      },
      "execution_count": 26,
      "outputs": [
        {
          "output_type": "execute_result",
          "data": {
            "text/plain": [
              "safe_centre_of_mass (generic function with 1 method)"
            ]
          },
          "metadata": {},
          "execution_count": 26
        }
      ]
    },
    {
      "cell_type": "code",
      "source": [
        "function process_state(state_row::DataFrameRow)\n",
        "    state_name = state_row.NAME_1\n",
        "    state_geometry = state_row.geometry\n",
        "\n",
        "    radiance, cfobs = readnl(state_geometry, START_DATE, END_DATE;\n",
        "                            rad_path=RADIANCE_RASTER_DIRECTORY,\n",
        "                            cf_path=CFOBS_RASTER_DIRECTORY)\n",
        "\n",
        "    radiance = clean_complete(radiance, cfobs; bgthreshold=4)\n",
        "    cfobs = nothing # Release memory\n",
        "\n",
        "    radiance = Raster(Float32.(radiance); missingval=missing)\n",
        "    radiance[radiance .> 100.0f0] .= 0.0f0 # Cap high radiance values\n",
        "    radiance = mask(radiance; with=state_geometry)\n",
        "\n",
        "    dates = Date.(dims(radiance, Ti).val)\n",
        "    num_timesteps = length(dates)\n",
        "\n",
        "    if num_timesteps == 0\n",
        "        println(\"Warning: No valid data for '$state_name' after cleaning.\")\n",
        "        return DataFrame()\n",
        "    end\n",
        "\n",
        "    agg_radiance = [sum(skipmissing(view(radiance, Ti(i)))) for i in 1:num_timesteps]\n",
        "    com = [safe_centre_of_mass(view(radiance, Ti(i)), state_name) for i in 1:num_timesteps]\n",
        "\n",
        "    return DataFrame(; dates, aggregate_radiance=agg_radiance, com, state_name)\n",
        "end"
      ],
      "metadata": {
        "colab": {
          "base_uri": "https://localhost:8080/"
        },
        "id": "ihjD35bGTZrx",
        "outputId": "322a5ca1-f71a-46e3-c1a2-7e76cc13b6f2"
      },
      "execution_count": 32,
      "outputs": [
        {
          "output_type": "execute_result",
          "data": {
            "text/plain": [
              "process_state (generic function with 1 method)"
            ]
          },
          "metadata": {},
          "execution_count": 32
        }
      ]
    },
    {
      "cell_type": "code",
      "source": [
        "all_states_df = DataFrame()\n",
        "\n",
        "const START_DATE = Date(2014, 1)\n",
        "const END_DATE = Date(2025, 1)\n",
        "\n",
        "\n",
        "for i in 1:nrow(russia_state_split)\n",
        "    state_row = russia_state_split[i, :]\n",
        "    state_name = state_row.NAME_1\n",
        "    println(\"--- Processing state $i/$(nrow(russia_state_split)): $state_name ---\")\n",
        "\n",
        "    try\n",
        "        state_df = process_state(state_row)\n",
        "        if !isempty(state_df)\n",
        "            append!(all_states_df, state_df; cols=:union)\n",
        "        end\n",
        "    catch e\n",
        "        println(\"ERROR: Failed to process state '$state_name'. Skipping. Error: $e\")\n",
        "    end\n",
        "    GC.gc()\n",
        "end\n",
        "\n",
        "println(\"--- Processing Complete ---\")\n",
        "\n",
        "# Final aggregation\n",
        "if !isempty(all_states_df)\n",
        "    println(\"Aggregating results...\")\n",
        "    grouped = groupby(all_states_df, :dates)\n",
        "    aggregate_df = DataFrames.combine(grouped, :aggregate_radiance => sum => :AggregateRadiance)\n",
        "    sort!(aggregate_df, :dates)\n",
        "\n",
        "    # only write once if you want\n",
        "    # CSV.write(AGGREGATE_FILE, aggregate_df)\n",
        "    println(\"Aggregation complete, DataFrame in memory.\")\n",
        "else\n",
        "    println(\"No data processed, skipping aggregation.\")\n",
        "end\n",
        "\n",
        "println(\"Script finished.\")\n"
      ],
      "metadata": {
        "colab": {
          "base_uri": "https://localhost:8080/",
          "height": 406
        },
        "id": "u6rQeQLjTwAK",
        "outputId": "3a08ce05-1a40-41a4-ecb9-4baca7ca6ffd"
      },
      "execution_count": 34,
      "outputs": [
        {
          "output_type": "stream",
          "name": "stdout",
          "text": [
            "--- Processing state 1/101: Chukot1 ---\n",
            "ERROR: Failed to process state 'Chukot1'. Skipping. Error: MethodError(RasterSeries, (Any[], Ti{Vector{Union{Nothing, DateTime}}}(Union{Nothing, DateTime}[])), 0x00000000000069d9)\n",
            "--- Processing state 2/101: Chukot2_cross ---\n",
            "ERROR: Failed to process state 'Chukot2_cross'. Skipping. Error: MethodError(RasterSeries, (Any[], Ti{Vector{Union{Nothing, DateTime}}}(Union{Nothing, DateTime}[])), 0x00000000000069d9)\n",
            "--- Processing state 3/101: Chukot3 ---\n",
            "ERROR: Failed to process state 'Chukot3'. Skipping. Error: MethodError(RasterSeries, (Any[], Ti{Vector{Union{Nothing, DateTime}}}(Union{Nothing, DateTime}[])), 0x00000000000069d9)\n",
            "--- Processing state 4/101: Chukot4 ---\n",
            "ERROR: Failed to process state 'Chukot4'. Skipping. Error: MethodError(RasterSeries, (Any[], Ti{Vector{Union{Nothing, DateTime}}}(Union{Nothing, DateTime}[])), 0x00000000000069d9)\n",
            "--- Processing state 5/101: Chukot5_cross ---\n",
            "ERROR: Failed to process state 'Chukot5_cross'. Skipping. Error: MethodError(RasterSeries, (Any[], Ti{Vector{Union{Nothing, DateTime}}}(Union{Nothing, DateTime}[])), 0x00000000000069d9)\n",
            "--- Processing state 6/101: Krasnoyarsk1 ---\n",
            "ERROR: Failed to process state 'Krasnoyarsk1'. Skipping. Error: MethodError(RasterSeries, (Any[], Ti{Vector{Union{Nothing, DateTime}}}(Union{Nothing, DateTime}[])), 0x00000000000069d9)\n"
          ]
        },
        {
          "output_type": "error",
          "ename": "LoadError",
          "evalue": "InterruptException:",
          "traceback": [
            "InterruptException:",
            "",
            "Stacktrace:",
            " [1] \u001b[0m\u001b[1mgc\u001b[22m\u001b[90m (repeats 2 times)\u001b[39m",
            "\u001b[90m   @\u001b[39m \u001b[90m./\u001b[39m\u001b[90m\u001b[4mgcutils.jl:133\u001b[24m\u001b[39m\u001b[90m [inlined]\u001b[39m",
            " [2] top-level scope",
            "\u001b[90m   @\u001b[39m \u001b[90m./\u001b[39m\u001b[90m\u001b[4mIn[34]:20\u001b[24m\u001b[39m"
          ]
        }
      ]
    },
    {
      "cell_type": "code",
      "source": [
        "russia_state_split.geometry[1]"
      ],
      "metadata": {
        "id": "PjCU-pGTU50r",
        "outputId": "ed657aab-a163-4868-98db-9bc4fd91f90c",
        "colab": {
          "base_uri": "https://localhost:8080/"
        }
      },
      "execution_count": 37,
      "outputs": [
        {
          "output_type": "execute_result",
          "data": {
            "text/plain": [
              "2D Polygonwith 1 sub-geometries"
            ]
          },
          "metadata": {},
          "execution_count": 37
        }
      ]
    },
    {
      "cell_type": "code",
      "source": [
        "read_region_as_datacubes(\n",
        "    russia_state_split.geometry[1];\n",
        "    start_date=START_DATE,\n",
        "    end_date=END_DATE,\n",
        "    radiance_path=RADIANCE_RASTER_DIRECTORY,\n",
        "    cf_path=CFOBS_RASTER_DIRECTORY\n",
        ")"
      ],
      "metadata": {
        "id": "LHPcLSGaU2cj",
        "outputId": "37d0e8f0-88ed-40f3-8c40-7e465286bfe6",
        "colab": {
          "base_uri": "https://localhost:8080/",
          "height": 919
        }
      },
      "execution_count": 50,
      "outputs": [
        {
          "output_type": "error",
          "ename": "LoadError",
          "evalue": "GDALError (CE_Failure, code 10):\n\tPointer 'hDS' is NULL in 'GDALGetRasterCount'.\n\n",
          "traceback": [
            "GDALError (CE_Failure, code 10):\n\tPointer 'hDS' is NULL in 'GDALGetRasterCount'.\n\n",
            "",
            "Stacktrace:",
            "  [1] \u001b[0m\u001b[1mmaybe_throw\u001b[22m\u001b[0m\u001b[1m(\u001b[22m\u001b[0m\u001b[1m)\u001b[22m",
            "\u001b[90m    @\u001b[39m \u001b[33mGDAL\u001b[39m \u001b[90m~/.julia/packages/GDAL/LSxoz/src/\u001b[39m\u001b[90m\u001b[4merror.jl:42\u001b[24m\u001b[39m",
            "  [2] \u001b[0m\u001b[1maftercare\u001b[22m",
            "\u001b[90m    @\u001b[39m \u001b[90m~/.julia/packages/GDAL/LSxoz/src/\u001b[39m\u001b[90m\u001b[4merror.jl:59\u001b[24m\u001b[39m\u001b[90m [inlined]\u001b[39m",
            "  [3] \u001b[0m\u001b[1mgdalgetrastercount\u001b[22m",
            "\u001b[90m    @\u001b[39m \u001b[90m~/.julia/packages/GDAL/LSxoz/src/\u001b[39m\u001b[90m\u001b[4mlibgdal.jl:8160\u001b[24m\u001b[39m\u001b[90m [inlined]\u001b[39m",
            "  [4] \u001b[0m\u001b[1mnraster\u001b[22m",
            "\u001b[90m    @\u001b[39m \u001b[90m~/.julia/packages/ArchGDAL/ujstt/src/\u001b[39m\u001b[90m\u001b[4mdataset.jl:662\u001b[24m\u001b[39m\u001b[90m [inlined]\u001b[39m",
            "  [5] \u001b[0m\u001b[1mpixeltype\u001b[22m\u001b[0m\u001b[1m(\u001b[22m\u001b[90mds\u001b[39m::\u001b[0mArchGDAL.Dataset\u001b[0m\u001b[1m)\u001b[22m",
            "\u001b[90m    @\u001b[39m \u001b[35mArchGDAL\u001b[39m \u001b[90m~/.julia/packages/ArchGDAL/ujstt/src/\u001b[39m\u001b[90m\u001b[4mdataset.jl:1029\u001b[24m\u001b[39m",
            "  [6] \u001b[0m\u001b[1mArchGDAL.RasterDataset\u001b[22m\u001b[0m\u001b[1m(\u001b[22m\u001b[90mds\u001b[39m::\u001b[0mArchGDAL.Dataset\u001b[0m\u001b[1m)\u001b[22m",
            "\u001b[90m    @\u001b[39m \u001b[35mArchGDAL\u001b[39m \u001b[90m~/.julia/packages/ArchGDAL/ujstt/src/raster/\u001b[39m\u001b[90m\u001b[4marray.jl:32\u001b[24m\u001b[39m",
            "  [7] \u001b[0m\u001b[1munsafe_readraster\u001b[22m",
            "\u001b[90m    @\u001b[39m \u001b[90m~/.julia/packages/ArchGDAL/ujstt/src/raster/\u001b[39m\u001b[90m\u001b[4marray.jl:127\u001b[24m\u001b[39m\u001b[90m [inlined]\u001b[39m",
            "  [8] \u001b[0m\u001b[1mreadraster\u001b[22m\u001b[0m\u001b[1m(\u001b[22m\u001b[90mf\u001b[39m::\u001b[0mComposedFunction\u001b[90m{typeof(Rasters.cleanreturn), Rasters.var\"#50#51\"{Rasters.GDALsource, @Kwargs{lazy::Bool}, String}}\u001b[39m, \u001b[90margs\u001b[39m::\u001b[0mString; \u001b[90mkwargs\u001b[39m::\u001b[0m@Kwargs\u001b[90m{}\u001b[39m\u001b[0m\u001b[1m)\u001b[22m",
            "\u001b[90m    @\u001b[39m \u001b[35mArchGDAL\u001b[39m \u001b[90m~/.julia/packages/ArchGDAL/ujstt/src/\u001b[39m\u001b[90m\u001b[4mcontext.jl:266\u001b[24m\u001b[39m",
            "  [9] \u001b[0m\u001b[1mreadraster\u001b[22m\u001b[0m\u001b[1m(\u001b[22m\u001b[90mf\u001b[39m::\u001b[0mFunction, \u001b[90margs\u001b[39m::\u001b[0mString\u001b[0m\u001b[1m)\u001b[22m",
            "\u001b[90m    @\u001b[39m \u001b[35mArchGDAL\u001b[39m \u001b[90m~/.julia/packages/ArchGDAL/ujstt/src/\u001b[39m\u001b[90m\u001b[4mcontext.jl:265\u001b[24m\u001b[39m",
            " [10] \u001b[0m\u001b[1m_open\u001b[22m\u001b[0m\u001b[1m(\u001b[22m\u001b[90mf\u001b[39m::\u001b[0mFunction, ::\u001b[0mRasters.GDALsource, \u001b[90mfilename\u001b[39m::\u001b[0mString; \u001b[90mwrite\u001b[39m::\u001b[0mBool, \u001b[90mkw\u001b[39m::\u001b[0m@Kwargs\u001b[90m{}\u001b[39m\u001b[0m\u001b[1m)\u001b[22m",
            "\u001b[90m    @\u001b[39m \u001b[36mRastersArchGDALExt\u001b[39m \u001b[90m~/.julia/packages/Rasters/0kAkQ/ext/RastersArchGDALExt/\u001b[39m\u001b[90m\u001b[4mgdal_source.jl:114\u001b[24m\u001b[39m",
            " [11] \u001b[0m\u001b[1m_open\u001b[22m",
            "\u001b[90m    @\u001b[39m \u001b[90m~/.julia/packages/Rasters/0kAkQ/ext/RastersArchGDALExt/\u001b[39m\u001b[90m\u001b[4mgdal_source.jl:90\u001b[24m\u001b[39m\u001b[90m [inlined]\u001b[39m",
            " [12] \u001b[0m\u001b[1m#_open#14\u001b[22m",
            "\u001b[90m    @\u001b[39m \u001b[90m~/.julia/packages/Rasters/0kAkQ/src/sources/\u001b[39m\u001b[90m\u001b[4msources.jl:83\u001b[24m\u001b[39m\u001b[90m [inlined]\u001b[39m",
            " [13] \u001b[0m\u001b[1mRaster\u001b[22m\u001b[0m\u001b[1m(\u001b[22m\u001b[90mfilename\u001b[39m::\u001b[0mString; \u001b[90msource\u001b[39m::\u001b[0mRasters.NoKW, \u001b[90mkw\u001b[39m::\u001b[0m@Kwargs\u001b[90m{lazy::Bool}\u001b[39m\u001b[0m\u001b[1m)\u001b[22m",
            "\u001b[90m    @\u001b[39m \u001b[32mRasters\u001b[39m \u001b[90m~/.julia/packages/Rasters/0kAkQ/src/\u001b[39m\u001b[90m\u001b[4marray.jl:304\u001b[24m\u001b[39m",
            " [14] \u001b[0m\u001b[1mRaster\u001b[22m",
            "\u001b[90m    @\u001b[39m \u001b[90m~/.julia/packages/Rasters/0kAkQ/src/\u001b[39m\u001b[90m\u001b[4marray.jl:299\u001b[24m\u001b[39m\u001b[90m [inlined]\u001b[39m",
            " [15] \u001b[0m\u001b[1m(::var\"#37#39\"{GeoJSON.Polygon{2, Float32}})\u001b[22m\u001b[0m\u001b[1m(\u001b[22m\u001b[90mf\u001b[39m::\u001b[0mString\u001b[0m\u001b[1m)\u001b[22m",
            "\u001b[90m    @\u001b[39m \u001b[36mMain\u001b[39m \u001b[90m./\u001b[39m\u001b[90m\u001b[4mnone:0\u001b[24m\u001b[39m",
            " [16] \u001b[0m\u001b[1miterate\u001b[22m",
            "\u001b[90m    @\u001b[39m \u001b[90m./\u001b[39m\u001b[90m\u001b[4mgenerator.jl:48\u001b[24m\u001b[39m\u001b[90m [inlined]\u001b[39m",
            " [17] \u001b[0m\u001b[1mcollect\u001b[22m\u001b[0m\u001b[1m(\u001b[22m\u001b[90mitr\u001b[39m::\u001b[0mBase.Generator\u001b[90m{Vector{String}, var\"#37#39\"{GeoJSON.Polygon{2, Float32}}}\u001b[39m\u001b[0m\u001b[1m)\u001b[22m",
            "\u001b[90m    @\u001b[39m \u001b[90mBase\u001b[39m \u001b[90m./\u001b[39m\u001b[90m\u001b[4marray.jl:791\u001b[24m\u001b[39m",
            " [18] \u001b[0m\u001b[1mread_region_as_datacubes\u001b[22m\u001b[0m\u001b[1m(\u001b[22m\u001b[90mregion\u001b[39m::\u001b[0mGeoJSON.Polygon\u001b[90m{2, Float32}\u001b[39m; \u001b[90mstart_date\u001b[39m::\u001b[0mDate, \u001b[90mend_date\u001b[39m::\u001b[0mDate, \u001b[90mradiance_path\u001b[39m::\u001b[0mString, \u001b[90mcf_path\u001b[39m::\u001b[0mString\u001b[0m\u001b[1m)\u001b[22m",
            "\u001b[90m    @\u001b[39m \u001b[36mMain\u001b[39m \u001b[90m./\u001b[39m\u001b[90m\u001b[4mIn[47]:13\u001b[24m\u001b[39m",
            " [19] top-level scope",
            "\u001b[90m    @\u001b[39m \u001b[90m\u001b[4mIn[50]:1\u001b[24m\u001b[39m"
          ]
        }
      ]
    },
    {
      "cell_type": "code",
      "source": [
        "function read_region_as_datacubes(region;\n",
        "    start_date,\n",
        "    end_date,\n",
        "    radiance_path=RADIANCE_RASTER_DIRECTORY,\n",
        "    cf_path=CFOBS_RASTER_DIRECTORY\n",
        ")\n",
        "\n",
        "    # Read and sort file lists\n",
        "    rad_files = sort(readdir(radiance_path; join=true))\n",
        "    cf_files  = sort(readdir(cf_path; join=true))\n",
        "\n",
        "    # Build cropped rasters\n",
        "    rad_raster_list = [crop(Raster(f; lazy=true), to=region) for f in rad_files]\n",
        "    cf_raster_list  = [crop(Raster(f; lazy=true), to=region) for f in cf_files]\n",
        "\n",
        "    # Make raster series with temporal index\n",
        "    rad_series = RasterSeries(rad_raster_list, Ti(start_date:end_date))\n",
        "    cf_series  = RasterSeries(cf_raster_list, Ti(start_date:end_date))\n",
        "\n",
        "    # Convert to datacubes\n",
        "    rad_datacube = Rasters.combine(rad_series, Ti)\n",
        "    cf_datacube  = Rasters.combine(cf_series, Ti)\n",
        "\n",
        "    return rad_datacube, cf_datacube\n",
        "end\n"
      ],
      "metadata": {
        "id": "IBYwssdDVXET",
        "outputId": "0b883e37-257c-4828-d949-91568fff9237",
        "colab": {
          "base_uri": "https://localhost:8080/"
        }
      },
      "execution_count": 47,
      "outputs": [
        {
          "output_type": "execute_result",
          "data": {
            "text/plain": [
              "read_region_as_datacubes (generic function with 1 method)"
            ]
          },
          "metadata": {},
          "execution_count": 47
        }
      ]
    },
    {
      "cell_type": "code",
      "source": [
        "Raster(\"/content/Shedding-light-on-the-Russia-Ukraine-war/data/raster/rad_cropped/radiance_2025-01-01T00:00:00.tif\")"
      ],
      "metadata": {
        "id": "riEHWewHYSTM",
        "outputId": "73eda5b7-7ac0-4df1-8387-327817fbf1b6",
        "colab": {
          "base_uri": "https://localhost:8080/"
        }
      },
      "execution_count": 65,
      "outputs": [
        {
          "output_type": "execute_result",
          "data": {
            "text/plain": [
              "\u001b[90m╭─────────────────────────────╮\u001b[39m\n",
              "\u001b[90m│ \u001b[39m\u001b[38;5;209m9563\u001b[39m×\u001b[38;5;32m2028\u001b[39m Raster{Float32,2}\u001b[90m │\u001b[39m\n",
              "\u001b[90m├─────────────────────────────┴────────────────────────────────────────── dims ┐\u001b[39m\n",
              "  \u001b[38;5;209m↓ \u001b[39m\u001b[38;5;209mX\u001b[39m Projected{Float64} \u001b[38;5;209mLinRange{Float64}(19.610418263550002, 178.98125243614294, 9563)\u001b[39m \u001b[38;5;244mForwardOrdered\u001b[39m \u001b[38;5;244mRegular\u001b[39m \u001b[38;5;244mIntervals{Start}\u001b[39m,\n",
              "  \u001b[38;5;32m→ \u001b[39m\u001b[38;5;32mY\u001b[39m Projected{Float64} \u001b[38;5;32mLinRange{Float64}(74.98541255741124, 41.19374972955001, 2028)\u001b[39m \u001b[38;5;244mReverseOrdered\u001b[39m \u001b[38;5;244mRegular\u001b[39m \u001b[38;5;244mIntervals{Start}\u001b[39m\n",
              "\u001b[90m├──────────────────────────────────────────────────────────────────── metadata ┤\u001b[39m\n",
              "  Metadata{Rasters.GDALsource}\u001b[90m of \u001b[39mDict{String, Any} with 4 entries:\n",
              "  \"units\"    => \"\"\n",
              "  \"offset\"   => 0.0\n",
              "  \"filepath\" => \"/content/Shedding-light-on-the-Russia-Ukraine-war/data/raster/…\n",
              "  \"scale\"    => 1.0\n",
              "\u001b[90m├────────────────────────────────────────────────────────────────────── raster ┤\u001b[39m\n",
              "\u001b[90m  extent: \u001b[39mExtent(X = (19.610418263550002, 178.99791953865), Y = (41.19374972955001, 75.00208333335))\n",
              "\u001b[90m  missingval: \u001b[39m3.4028235f38\n",
              "\u001b[90m  crs: \u001b[39mGEOGCS[\"WGS 84\",DATUM[\"WGS_1984\",SPHEROID[\"WGS 84\",6378137,298.257223563,AUTHORITY[\"EPSG\",\"7030\"]],AUTHORITY[\"EPSG\",\"6326\"]],PRIMEM[\"Greenwich\",0,AUTHORITY[\"EPSG\",\"8901\"]],UNIT[\"degree\",0.0174532925199433,AUTHORITY[\"EPSG\",\"9122\"]],AXIS[\"Latitude\",NORTH],AXIS[\"Longitude\",EAST],AUTHORITY[\"EPSG\",\"4326\"]]\n",
              "\u001b[90m└──────────────────────────────────────────────────────────────────────────────┘\u001b[39m\n",
              "   \u001b[38;5;209m↓\u001b[39m \u001b[38;5;32m→\u001b[39m     \u001b[38;5;32m74.9854\u001b[39m  \u001b[38;5;32m74.9687\u001b[39m  \u001b[38;5;32m74.9521\u001b[39m  …  \u001b[38;5;32m41.2438\u001b[39m  \u001b[38;5;32m41.2271\u001b[39m  \u001b[38;5;32m41.2104\u001b[39m  \u001b[38;5;32m41.1937\u001b[39m\n",
              "  \u001b[38;5;209m19.6104\u001b[39m   0.49     0.5      0.75        0.75     1.03     0.77     0.72\n",
              "  \u001b[38;5;209m19.6271\u001b[39m   0.43     0.44     0.52        0.97     0.88     0.77     0.84\n",
              "  \u001b[38;5;209m19.6438\u001b[39m   0.56     0.45     0.69        1.05     0.81     0.7      0.68\n",
              "  \u001b[38;5;209m19.6604\u001b[39m   0.45     0.6      0.51        0.96     1.09     0.71     0.65\n",
              "   ⋮                                  ⋱   ⋮                         \n",
              " \u001b[38;5;209m178.931\u001b[39m    1.54     1.45     1.51    …   0.26     0.22     0.17     0.13\n",
              " \u001b[38;5;209m178.948\u001b[39m    1.54     1.54     1.45        0.31     0.28     0.34     0.0\n",
              " \u001b[38;5;209m178.965\u001b[39m    1.51     1.48     1.51        0.15     0.21     0.28     0.26\n",
              " \u001b[38;5;209m178.981\u001b[39m    1.48     1.5      1.46        0.18     0.26     0.26     0.27"
            ]
          },
          "metadata": {},
          "execution_count": 65
        }
      ]
    }
  ]
}