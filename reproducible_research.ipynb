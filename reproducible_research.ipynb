{
  "nbformat": 4,
  "nbformat_minor": 0,
  "metadata": {
    "colab": {
      "provenance": [],
      "authorship_tag": "ABX9TyMIUF5I3c3MDWzJIE1Ou+AT",
      "include_colab_link": true
    },
    "kernelspec": {
      "name": "julia",
      "display_name": "Julia"
    },
    "language_info": {
      "name": "julia"
    }
  },
  "cells": [
    {
      "cell_type": "markdown",
      "metadata": {
        "id": "view-in-github",
        "colab_type": "text"
      },
      "source": [
        "<a href=\"https://colab.research.google.com/github/xKDR/Shedding-light-on-the-Russia-Ukraine-war/blob/main/reproducible_research.ipynb\" target=\"_parent\"><img src=\"https://colab.research.google.com/assets/colab-badge.svg\" alt=\"Open In Colab\"/></a>"
      ]
    },
    {
      "cell_type": "markdown",
      "source": [
        "# WORK IN PROGRESS"
      ],
      "metadata": {
        "id": "tZb_-dtt1bgN"
      }
    },
    {
      "cell_type": "code",
      "source": [
        "using Pkg\n",
        "Pkg.add([\"GeoJSON\", \"NighttimeLights\", \"Rasters\", \"CSV\", \"Dates\", \"DataFrames\"])"
      ],
      "metadata": {
        "colab": {
          "base_uri": "https://localhost:8080/"
        },
        "id": "RKt6qxnCnyrM",
        "outputId": "34ecc9ff-bf21-46f3-b145-e33345259da4"
      },
      "execution_count": 20,
      "outputs": [
        {
          "output_type": "stream",
          "name": "stderr",
          "text": [
            "\u001b[32m\u001b[1m   Resolving\u001b[22m\u001b[39m package versions...\n",
            "\u001b[32m\u001b[1m  No Changes\u001b[22m\u001b[39m to `~/.julia/environments/v1.11/Project.toml`\n",
            "\u001b[32m\u001b[1m  No Changes\u001b[22m\u001b[39m to `~/.julia/environments/v1.11/Manifest.toml`\n",
            "\u001b[92m\u001b[1mPrecompiling\u001b[22m\u001b[39m project...\n",
            "  17718.1 ms\u001b[33m  ? \u001b[39mNighttimeLights\n",
            "  18654.4 ms\u001b[33m  ? \u001b[39mRasters → RastersMakieExt\n"
          ]
        }
      ]
    },
    {
      "cell_type": "code",
      "source": [
        ";git clone https://github.com/xKDR/Shedding-light-on-the-Russia-Ukraine-war.git"
      ],
      "metadata": {
        "colab": {
          "base_uri": "https://localhost:8080/"
        },
        "id": "6YZptoMMoZ4i",
        "outputId": "7970746c-4d34-4024-d6c6-eeca16b64b27"
      },
      "execution_count": 3,
      "outputs": [
        {
          "output_type": "stream",
          "name": "stderr",
          "text": [
            "Cloning into 'Shedding-light-on-the-Russia-Ukraine-war'...\n",
            "Updating files: 100% (272/272), done.\n"
          ]
        }
      ]
    },
    {
      "cell_type": "code",
      "source": [
        "using GeoJSON\n",
        "using GeoDataFrames\n",
        "using DataFrames\n",
        "using NighttimeLights\n",
        "using Rasters\n",
        "using CSV\n",
        "using Dates"
      ],
      "metadata": {
        "id": "7xAps6hLTXE4"
      },
      "execution_count": 21,
      "outputs": []
    },
    {
      "cell_type": "code",
      "execution_count": 22,
      "metadata": {
        "id": "Om9EPhk7TF3a",
        "colab": {
          "base_uri": "https://localhost:8080/"
        },
        "outputId": "d5334988-a388-48df-9cf5-036f299ca304"
      },
      "outputs": [
        {
          "output_type": "execute_result",
          "data": {
            "text/plain": [
              "\"/content/Shedding-light-on-the-Russia-Ukraine-war/data/raster/rad_cropped\""
            ]
          },
          "metadata": {},
          "execution_count": 22
        }
      ],
      "source": [
        "# Define path constants\n",
        "FIGURES_DIRECTORY = \"figures\"\n",
        "TABLES_DIRECTORY = \"tables\"\n",
        "VECTOR_DIRECTORY = \"data/vector\"\n",
        "TABULAR_DIRECTORY = \"data/tabular\"\n",
        "RADIANCE_RASTER_DIRECTORY = \"/content/Shedding-light-on-the-Russia-Ukraine-war/data/raster/cf_cropped\"\n",
        "CFOBS_RASTER_DIRECTORY = \"/content/Shedding-light-on-the-Russia-Ukraine-war/data/raster/rad_cropped\""
      ]
    },
    {
      "cell_type": "code",
      "source": [
        "function read_vector(filename)\n",
        "# Use GeoJSON.read, which expects an IO\n",
        "    geo = open(filename) do f\n",
        "        GeoJSON.read(f)\n",
        "    end\n",
        "\n",
        "    # Now extract features\n",
        "    features = geo.features\n",
        "\n",
        "    # Build DataFrame with properties + geometry\n",
        "    return DataFrame([merge(Dict(f.properties), Dict(:geometry => f.geometry)) for f in features])\n",
        "end"
      ],
      "metadata": {
        "id": "_PpsdO1cRZNS",
        "outputId": "e564cce1-f0b9-43ca-bfad-55b030a8030c",
        "colab": {
          "base_uri": "https://localhost:8080/"
        }
      },
      "execution_count": 24,
      "outputs": [
        {
          "output_type": "execute_result",
          "data": {
            "text/plain": [
              "read_vector (generic function with 1 method)"
            ]
          },
          "metadata": {},
          "execution_count": 24
        }
      ]
    },
    {
      "cell_type": "code",
      "source": [
        "russia_state_split = read_vector(\"/content/Shedding-light-on-the-Russia-Ukraine-war/data/vector/russia_processing.geojson\")"
      ],
      "metadata": {
        "id": "tyM2nBdeS3iZ",
        "outputId": "0d6b6e01-5f15-446e-f365-822b5cedd547",
        "colab": {
          "base_uri": "https://localhost:8080/",
          "height": 1000
        }
      },
      "execution_count": 25,
      "outputs": [
        {
          "output_type": "execute_result",
          "data": {
            "text/plain": [
              "\u001b[1m101×14 DataFrame\n",
              "\u001b[1m Row │\u001b[1m geometry        \u001b[1m NAME_1        \u001b[1m NL_NAME_1             \u001b[1m GID_0  \u001b[1m VARNAME_ ⋯\n",
              "     │\u001b[90m Abstract…       \u001b[90m String        \u001b[90m String                \u001b[90m String \u001b[90m String   ⋯\n",
              "─────┼──────────────────────────────────────────────────────────────────────────\n",
              "   1 │ 2D Polygon       Chukot1        Чукотский АОк          RUS     Chukotka ⋯\n",
              "   2 │ 2D Polygon       Chukot2_cross  Чукотский АОк          RUS     Chukotka\n",
              "   3 │ 2D Polygon       Chukot3        Чукотский АОк          RUS     Chukotka\n",
              "   4 │ 2D Polygon       Chukot4        Чукотский АОк          RUS     Chukotka\n",
              "   5 │ 2D Polygon       Chukot5_cross  Чукотский АОк          RUS     Chukotka ⋯\n",
              "   6 │ 2D Polygon       Krasnoyarsk1   Красноярский край      RUS     Krasnoya\n",
              "   7 │ 2D Polygon       Krasnoyarsk2   Красноярский край      RUS     Krasnoya\n",
              "   8 │ 2D MultiPolygon  Krasnoyarsk3   Красноярский край      RUS     Krasnoya\n",
              "   9 │ 2D Polygon       Krasnoyarsk4   Красноярский край      RUS     Krasnoya ⋯\n",
              "  10 │ 2D Polygon       Krasnoyarsk5   Красноярский край      RUS     Krasnoya\n",
              "  11 │ 2D Polygon       Krasnoyarsk6   Красноярский край      RUS     Krasnoya\n",
              "  ⋮  │        ⋮               ⋮                  ⋮              ⋮              ⋱\n",
              "  92 │ 2D Polygon       Udmurt         Удмуртская Республика  RUS     Udmurtiy\n",
              "  93 │ 2D Polygon       Ul'yanovsk     Ульяновская область    RUS     Simbirsk ⋯\n",
              "  94 │ 2D Polygon       Vladimir       Владимирская область   RUS     Vladimir\n",
              "  95 │ 2D Polygon       Volgograd      Волгоградская область  RUS     Stalingr\n",
              "  96 │ 2D Polygon       Vologda        Вологодская область    RUS     Vologods\n",
              "  97 │ 2D Polygon       Voronezh       Воронежская область    RUS     Voronezh ⋯\n",
              "  98 │ 2D MultiPolygon  Yamal-Nenets   Ямало-Ненецкий АОк     RUS     Yamalo-N\n",
              "  99 │ 2D Polygon       Yaroslavl'     Ярославская область    RUS     Yaroslav\n",
              " 100 │ 2D Polygon       Yevrey         Eврейская АОб          RUS     Den jødi\n",
              " 101 │ 2D MultiPolygon  Zabaykal'ye    Забайкальский край     RUS     Zabaykal ⋯\n",
              "\u001b[36m                                                  10 columns and 80 rows omitted"
            ],
            "text/html": [
              "<div><div style = \"float: left;\"><span>101×14 DataFrame</span></div><div style = \"float: right;\"><span style = \"font-style: italic;\">76 rows omitted</span></div><div style = \"clear: both;\"></div></div><div class = \"data-frame\" style = \"overflow-x: scroll;\"><table class = \"data-frame\" style = \"margin-bottom: 6px;\"><thead><tr class = \"header\"><th class = \"rowNumber\" style = \"font-weight: bold; text-align: right;\">Row</th><th style = \"text-align: left;\">geometry</th><th style = \"text-align: left;\">NAME_1</th><th style = \"text-align: left;\">NL_NAME_1</th><th style = \"text-align: left;\">GID_0</th><th style = \"text-align: left;\">VARNAME_1</th><th style = \"text-align: left;\">HASC_1</th><th style = \"text-align: left;\">ISO_1</th><th style = \"text-align: left;\">path</th><th style = \"text-align: left;\">TYPE_1</th><th style = \"text-align: left;\">GID_1</th><th style = \"text-align: left;\">COUNTRY</th><th style = \"text-align: left;\">CC_1</th><th style = \"text-align: left;\">ENGTYPE_1</th><th style = \"text-align: left;\">layer</th></tr><tr class = \"subheader headerLastRow\"><th class = \"rowNumber\" style = \"font-weight: bold; text-align: right;\"></th><th title = \"GeoJSON.AbstractGeometry{2, Float32}\" style = \"text-align: left;\">Abstract…</th><th title = \"String\" style = \"text-align: left;\">String</th><th title = \"String\" style = \"text-align: left;\">String</th><th title = \"String\" style = \"text-align: left;\">String</th><th title = \"String\" style = \"text-align: left;\">String</th><th title = \"String\" style = \"text-align: left;\">String</th><th title = \"String\" style = \"text-align: left;\">String</th><th title = \"String\" style = \"text-align: left;\">String</th><th title = \"String\" style = \"text-align: left;\">String</th><th title = \"String\" style = \"text-align: left;\">String</th><th title = \"String\" style = \"text-align: left;\">String</th><th title = \"String\" style = \"text-align: left;\">String</th><th title = \"String\" style = \"text-align: left;\">String</th><th title = \"String\" style = \"text-align: left;\">String</th></tr></thead><tbody><tr><td class = \"rowNumber\" style = \"font-weight: bold; text-align: right;\">1</td><td style = \"text-align: left;\">2D Polygon</td><td style = \"text-align: left;\">Chukot1</td><td style = \"text-align: left;\">Чукотский АОк</td><td style = \"text-align: left;\">RUS</td><td style = \"text-align: left;\">Chukotka|Chukotskiy Aok</td><td style = \"text-align: left;\">RU.CK</td><td style = \"text-align: left;\">NA</td><td style = \"text-align: left;\">Polygon?crs=EPSG:4326&amp;field=GID_1:string(10,0)&amp;field=GID_0:string(10,0)&amp;field=COUNTRY:string(10,0)&amp;field=NAME_1:string(22,0)&amp;field=VARNAME_1:string(34,0)&amp;field=NL_NAME_1:string(61,0)&amp;field=TYPE_1:string(18,0)&amp;field=ENGTYPE_1:string(19,0)&amp;field=CC_1:strin</td><td style = \"text-align: left;\">Avtonomnyy Okrug</td><td style = \"text-align: left;\">RUS.12_1</td><td style = \"text-align: left;\">Russia</td><td style = \"text-align: left;\">7001</td><td style = \"text-align: left;\">Autonomous Province</td><td style = \"text-align: left;\">Single parts</td></tr><tr><td class = \"rowNumber\" style = \"font-weight: bold; text-align: right;\">2</td><td style = \"text-align: left;\">2D Polygon</td><td style = \"text-align: left;\">Chukot2_cross</td><td style = \"text-align: left;\">Чукотский АОк</td><td style = \"text-align: left;\">RUS</td><td style = \"text-align: left;\">Chukotka|Chukotskiy Aok</td><td style = \"text-align: left;\">RU.CK</td><td style = \"text-align: left;\">NA</td><td style = \"text-align: left;\">Polygon?crs=EPSG:4326&amp;field=GID_1:string(10,0)&amp;field=GID_0:string(10,0)&amp;field=COUNTRY:string(10,0)&amp;field=NAME_1:string(22,0)&amp;field=VARNAME_1:string(34,0)&amp;field=NL_NAME_1:string(61,0)&amp;field=TYPE_1:string(18,0)&amp;field=ENGTYPE_1:string(19,0)&amp;field=CC_1:strin</td><td style = \"text-align: left;\">Avtonomnyy Okrug</td><td style = \"text-align: left;\">RUS.12_1</td><td style = \"text-align: left;\">Russia</td><td style = \"text-align: left;\">7001</td><td style = \"text-align: left;\">Autonomous Province</td><td style = \"text-align: left;\">Single parts</td></tr><tr><td class = \"rowNumber\" style = \"font-weight: bold; text-align: right;\">3</td><td style = \"text-align: left;\">2D Polygon</td><td style = \"text-align: left;\">Chukot3</td><td style = \"text-align: left;\">Чукотский АОк</td><td style = \"text-align: left;\">RUS</td><td style = \"text-align: left;\">Chukotka|Chukotskiy Aok</td><td style = \"text-align: left;\">RU.CK</td><td style = \"text-align: left;\">NA</td><td style = \"text-align: left;\">Polygon?crs=EPSG:4326&amp;field=GID_1:string(10,0)&amp;field=GID_0:string(10,0)&amp;field=COUNTRY:string(10,0)&amp;field=NAME_1:string(22,0)&amp;field=VARNAME_1:string(34,0)&amp;field=NL_NAME_1:string(61,0)&amp;field=TYPE_1:string(18,0)&amp;field=ENGTYPE_1:string(19,0)&amp;field=CC_1:strin</td><td style = \"text-align: left;\">Avtonomnyy Okrug</td><td style = \"text-align: left;\">RUS.12_1</td><td style = \"text-align: left;\">Russia</td><td style = \"text-align: left;\">7001</td><td style = \"text-align: left;\">Autonomous Province</td><td style = \"text-align: left;\">Single parts</td></tr><tr><td class = \"rowNumber\" style = \"font-weight: bold; text-align: right;\">4</td><td style = \"text-align: left;\">2D Polygon</td><td style = \"text-align: left;\">Chukot4</td><td style = \"text-align: left;\">Чукотский АОк</td><td style = \"text-align: left;\">RUS</td><td style = \"text-align: left;\">Chukotka|Chukotskiy Aok</td><td style = \"text-align: left;\">RU.CK</td><td style = \"text-align: left;\">NA</td><td style = \"text-align: left;\">Polygon?crs=EPSG:4326&amp;field=GID_1:string(10,0)&amp;field=GID_0:string(10,0)&amp;field=COUNTRY:string(10,0)&amp;field=NAME_1:string(22,0)&amp;field=VARNAME_1:string(34,0)&amp;field=NL_NAME_1:string(61,0)&amp;field=TYPE_1:string(18,0)&amp;field=ENGTYPE_1:string(19,0)&amp;field=CC_1:strin</td><td style = \"text-align: left;\">Avtonomnyy Okrug</td><td style = \"text-align: left;\">RUS.12_1</td><td style = \"text-align: left;\">Russia</td><td style = \"text-align: left;\">7001</td><td style = \"text-align: left;\">Autonomous Province</td><td style = \"text-align: left;\">Single parts</td></tr><tr><td class = \"rowNumber\" style = \"font-weight: bold; text-align: right;\">5</td><td style = \"text-align: left;\">2D Polygon</td><td style = \"text-align: left;\">Chukot5_cross</td><td style = \"text-align: left;\">Чукотский АОк</td><td style = \"text-align: left;\">RUS</td><td style = \"text-align: left;\">Chukotka|Chukotskiy Aok</td><td style = \"text-align: left;\">RU.CK</td><td style = \"text-align: left;\">NA</td><td style = \"text-align: left;\">Polygon?crs=EPSG:4326&amp;field=GID_1:string(10,0)&amp;field=GID_0:string(10,0)&amp;field=COUNTRY:string(10,0)&amp;field=NAME_1:string(22,0)&amp;field=VARNAME_1:string(34,0)&amp;field=NL_NAME_1:string(61,0)&amp;field=TYPE_1:string(18,0)&amp;field=ENGTYPE_1:string(19,0)&amp;field=CC_1:strin</td><td style = \"text-align: left;\">Avtonomnyy Okrug</td><td style = \"text-align: left;\">RUS.12_1</td><td style = \"text-align: left;\">Russia</td><td style = \"text-align: left;\">7001</td><td style = \"text-align: left;\">Autonomous Province</td><td style = \"text-align: left;\">Single parts</td></tr><tr><td class = \"rowNumber\" style = \"font-weight: bold; text-align: right;\">6</td><td style = \"text-align: left;\">2D Polygon</td><td style = \"text-align: left;\">Krasnoyarsk1</td><td style = \"text-align: left;\">Красноярский край</td><td style = \"text-align: left;\">RUS</td><td style = \"text-align: left;\">Krasnoyarskiy Kray|Yeniseisk|Yen</td><td style = \"text-align: left;\">RU.KX</td><td style = \"text-align: left;\">NA</td><td style = \"text-align: left;\">/Users/ayushpatnaik/REPOSITORIES/nightlights/DATA/MAPS/RUSSIA_BOUNDARY/split_states.shp</td><td style = \"text-align: left;\">Kray</td><td style = \"text-align: left;\">RUS.35_1</td><td style = \"text-align: left;\">Russia</td><td style = \"text-align: left;\">6209</td><td style = \"text-align: left;\">Territory</td><td style = \"text-align: left;\">split_states</td></tr><tr><td class = \"rowNumber\" style = \"font-weight: bold; text-align: right;\">7</td><td style = \"text-align: left;\">2D Polygon</td><td style = \"text-align: left;\">Krasnoyarsk2</td><td style = \"text-align: left;\">Красноярский край</td><td style = \"text-align: left;\">RUS</td><td style = \"text-align: left;\">Krasnoyarskiy Kray|Yeniseisk|Yen</td><td style = \"text-align: left;\">RU.KX</td><td style = \"text-align: left;\">NA</td><td style = \"text-align: left;\">/Users/ayushpatnaik/REPOSITORIES/nightlights/DATA/MAPS/RUSSIA_BOUNDARY/split_states.shp</td><td style = \"text-align: left;\">Kray</td><td style = \"text-align: left;\">RUS.35_1</td><td style = \"text-align: left;\">Russia</td><td style = \"text-align: left;\">6209</td><td style = \"text-align: left;\">Territory</td><td style = \"text-align: left;\">split_states</td></tr><tr><td class = \"rowNumber\" style = \"font-weight: bold; text-align: right;\">8</td><td style = \"text-align: left;\">2D MultiPolygon</td><td style = \"text-align: left;\">Krasnoyarsk3</td><td style = \"text-align: left;\">Красноярский край</td><td style = \"text-align: left;\">RUS</td><td style = \"text-align: left;\">Krasnoyarskiy Kray|Yeniseisk|Yen</td><td style = \"text-align: left;\">RU.KX</td><td style = \"text-align: left;\">NA</td><td style = \"text-align: left;\">/Users/ayushpatnaik/REPOSITORIES/nightlights/DATA/MAPS/RUSSIA_BOUNDARY/split_states.shp</td><td style = \"text-align: left;\">Kray</td><td style = \"text-align: left;\">RUS.35_1</td><td style = \"text-align: left;\">Russia</td><td style = \"text-align: left;\">6209</td><td style = \"text-align: left;\">Territory</td><td style = \"text-align: left;\">split_states</td></tr><tr><td class = \"rowNumber\" style = \"font-weight: bold; text-align: right;\">9</td><td style = \"text-align: left;\">2D Polygon</td><td style = \"text-align: left;\">Krasnoyarsk4</td><td style = \"text-align: left;\">Красноярский край</td><td style = \"text-align: left;\">RUS</td><td style = \"text-align: left;\">Krasnoyarskiy Kray|Yeniseisk|Yen</td><td style = \"text-align: left;\">RU.KX</td><td style = \"text-align: left;\">NA</td><td style = \"text-align: left;\">/Users/ayushpatnaik/REPOSITORIES/nightlights/DATA/MAPS/RUSSIA_BOUNDARY/split_states.shp</td><td style = \"text-align: left;\">Kray</td><td style = \"text-align: left;\">RUS.35_1</td><td style = \"text-align: left;\">Russia</td><td style = \"text-align: left;\">6209</td><td style = \"text-align: left;\">Territory</td><td style = \"text-align: left;\">split_states</td></tr><tr><td class = \"rowNumber\" style = \"font-weight: bold; text-align: right;\">10</td><td style = \"text-align: left;\">2D Polygon</td><td style = \"text-align: left;\">Krasnoyarsk5</td><td style = \"text-align: left;\">Красноярский край</td><td style = \"text-align: left;\">RUS</td><td style = \"text-align: left;\">Krasnoyarskiy Kray|Yeniseisk|Yen</td><td style = \"text-align: left;\">RU.KX</td><td style = \"text-align: left;\">NA</td><td style = \"text-align: left;\">/Users/ayushpatnaik/REPOSITORIES/nightlights/DATA/MAPS/RUSSIA_BOUNDARY/split_states.shp</td><td style = \"text-align: left;\">Kray</td><td style = \"text-align: left;\">RUS.35_1</td><td style = \"text-align: left;\">Russia</td><td style = \"text-align: left;\">6209</td><td style = \"text-align: left;\">Territory</td><td style = \"text-align: left;\">split_states</td></tr><tr><td class = \"rowNumber\" style = \"font-weight: bold; text-align: right;\">11</td><td style = \"text-align: left;\">2D Polygon</td><td style = \"text-align: left;\">Krasnoyarsk6</td><td style = \"text-align: left;\">Красноярский край</td><td style = \"text-align: left;\">RUS</td><td style = \"text-align: left;\">Krasnoyarskiy Kray|Yeniseisk|Yen</td><td style = \"text-align: left;\">RU.KX</td><td style = \"text-align: left;\">NA</td><td style = \"text-align: left;\">/Users/ayushpatnaik/REPOSITORIES/nightlights/DATA/MAPS/RUSSIA_BOUNDARY/split_states.shp</td><td style = \"text-align: left;\">Kray</td><td style = \"text-align: left;\">RUS.35_1</td><td style = \"text-align: left;\">Russia</td><td style = \"text-align: left;\">6209</td><td style = \"text-align: left;\">Territory</td><td style = \"text-align: left;\">split_states</td></tr><tr><td class = \"rowNumber\" style = \"font-weight: bold; text-align: right;\">12</td><td style = \"text-align: left;\">2D Polygon</td><td style = \"text-align: left;\">Krasnoyarsk7</td><td style = \"text-align: left;\">Красноярский край</td><td style = \"text-align: left;\">RUS</td><td style = \"text-align: left;\">Krasnoyarskiy Kray|Yeniseisk|Yen</td><td style = \"text-align: left;\">RU.KX</td><td style = \"text-align: left;\">NA</td><td style = \"text-align: left;\">/Users/ayushpatnaik/REPOSITORIES/nightlights/DATA/MAPS/RUSSIA_BOUNDARY/split_states.shp</td><td style = \"text-align: left;\">Kray</td><td style = \"text-align: left;\">RUS.35_1</td><td style = \"text-align: left;\">Russia</td><td style = \"text-align: left;\">6209</td><td style = \"text-align: left;\">Territory</td><td style = \"text-align: left;\">split_states</td></tr><tr><td class = \"rowNumber\" style = \"font-weight: bold; text-align: right;\">13</td><td style = \"text-align: left;\">2D Polygon</td><td style = \"text-align: left;\">Sakha1</td><td style = \"text-align: left;\">Республика Саха</td><td style = \"text-align: left;\">RUS</td><td style = \"text-align: left;\">Republic of Sakha|Yakutia-Sakha|</td><td style = \"text-align: left;\">RU.SK</td><td style = \"text-align: left;\">NA</td><td style = \"text-align: left;\">/Users/ayushpatnaik/REPOSITORIES/nightlights/DATA/MAPS/RUSSIA_BOUNDARY/split_states.shp</td><td style = \"text-align: left;\">Respublika</td><td style = \"text-align: left;\">RUS.60_1</td><td style = \"text-align: left;\">Russia</td><td style = \"text-align: left;\">NA</td><td style = \"text-align: left;\">Republic</td><td style = \"text-align: left;\">split_states</td></tr><tr><td style = \"text-align: right;\">&vellip;</td><td style = \"text-align: right;\">&vellip;</td><td style = \"text-align: right;\">&vellip;</td><td style = \"text-align: right;\">&vellip;</td><td style = \"text-align: right;\">&vellip;</td><td style = \"text-align: right;\">&vellip;</td><td style = \"text-align: right;\">&vellip;</td><td style = \"text-align: right;\">&vellip;</td><td style = \"text-align: right;\">&vellip;</td><td style = \"text-align: right;\">&vellip;</td><td style = \"text-align: right;\">&vellip;</td><td style = \"text-align: right;\">&vellip;</td><td style = \"text-align: right;\">&vellip;</td><td style = \"text-align: right;\">&vellip;</td><td style = \"text-align: right;\">&vellip;</td></tr><tr><td class = \"rowNumber\" style = \"font-weight: bold; text-align: right;\">90</td><td style = \"text-align: left;\">2D Polygon</td><td style = \"text-align: left;\">Tver&apos;</td><td style = \"text-align: left;\">Тверская область</td><td style = \"text-align: left;\">RUS</td><td style = \"text-align: left;\">Kalinin|Kalininskaya|Tverskaya O</td><td style = \"text-align: left;\">RU.TV</td><td style = \"text-align: left;\">NA</td><td style = \"text-align: left;\">/Users/ayushpatnaik/REPOSITORIES/nightlights/DATA/MAPS/RUSSIA_BOUNDARY/split_states.shp</td><td style = \"text-align: left;\">Oblast</td><td style = \"text-align: left;\">RUS.72_1</td><td style = \"text-align: left;\">Russia</td><td style = \"text-align: left;\">NA</td><td style = \"text-align: left;\">Region</td><td style = \"text-align: left;\">split_states</td></tr><tr><td class = \"rowNumber\" style = \"font-weight: bold; text-align: right;\">91</td><td style = \"text-align: left;\">2D Polygon</td><td style = \"text-align: left;\">Tyumen&apos;</td><td style = \"text-align: left;\">Тюменская область</td><td style = \"text-align: left;\">RUS</td><td style = \"text-align: left;\">Tobol&apos;sk|Tobol&apos;skaya G.|Tyumensk</td><td style = \"text-align: left;\">RU.TY</td><td style = \"text-align: left;\">NA</td><td style = \"text-align: left;\">/Users/ayushpatnaik/REPOSITORIES/nightlights/DATA/MAPS/RUSSIA_BOUNDARY/split_states.shp</td><td style = \"text-align: left;\">Oblast</td><td style = \"text-align: left;\">RUS.73_1</td><td style = \"text-align: left;\">Russia</td><td style = \"text-align: left;\">NA</td><td style = \"text-align: left;\">Region</td><td style = \"text-align: left;\">split_states</td></tr><tr><td class = \"rowNumber\" style = \"font-weight: bold; text-align: right;\">92</td><td style = \"text-align: left;\">2D Polygon</td><td style = \"text-align: left;\">Udmurt</td><td style = \"text-align: left;\">Удмуртская Республика</td><td style = \"text-align: left;\">RUS</td><td style = \"text-align: left;\">Udmurtiya|Udmurt Republic|Udmurt</td><td style = \"text-align: left;\">RU.UD</td><td style = \"text-align: left;\">NA</td><td style = \"text-align: left;\">/Users/ayushpatnaik/REPOSITORIES/nightlights/DATA/MAPS/RUSSIA_BOUNDARY/split_states.shp</td><td style = \"text-align: left;\">Respublika</td><td style = \"text-align: left;\">RUS.74_1</td><td style = \"text-align: left;\">Russia</td><td style = \"text-align: left;\">NA</td><td style = \"text-align: left;\">Republic</td><td style = \"text-align: left;\">split_states</td></tr><tr><td class = \"rowNumber\" style = \"font-weight: bold; text-align: right;\">93</td><td style = \"text-align: left;\">2D Polygon</td><td style = \"text-align: left;\">Ul&apos;yanovsk</td><td style = \"text-align: left;\">Ульяновская область</td><td style = \"text-align: left;\">RUS</td><td style = \"text-align: left;\">Simbirsk|Simbirskaya G.|Ul&apos;yanov</td><td style = \"text-align: left;\">RU.UL</td><td style = \"text-align: left;\">NA</td><td style = \"text-align: left;\">/Users/ayushpatnaik/REPOSITORIES/nightlights/DATA/MAPS/RUSSIA_BOUNDARY/split_states.shp</td><td style = \"text-align: left;\">Oblast</td><td style = \"text-align: left;\">RUS.75_1</td><td style = \"text-align: left;\">Russia</td><td style = \"text-align: left;\">NA</td><td style = \"text-align: left;\">Region</td><td style = \"text-align: left;\">split_states</td></tr><tr><td class = \"rowNumber\" style = \"font-weight: bold; text-align: right;\">94</td><td style = \"text-align: left;\">2D Polygon</td><td style = \"text-align: left;\">Vladimir</td><td style = \"text-align: left;\">Владимирская область</td><td style = \"text-align: left;\">RUS</td><td style = \"text-align: left;\">Vladimirskaya Oblast</td><td style = \"text-align: left;\">RU.VL</td><td style = \"text-align: left;\">NA</td><td style = \"text-align: left;\">/Users/ayushpatnaik/REPOSITORIES/nightlights/DATA/MAPS/RUSSIA_BOUNDARY/split_states.shp</td><td style = \"text-align: left;\">Oblast</td><td style = \"text-align: left;\">RUS.76_1</td><td style = \"text-align: left;\">Russia</td><td style = \"text-align: left;\">NA</td><td style = \"text-align: left;\">Region</td><td style = \"text-align: left;\">split_states</td></tr><tr><td class = \"rowNumber\" style = \"font-weight: bold; text-align: right;\">95</td><td style = \"text-align: left;\">2D Polygon</td><td style = \"text-align: left;\">Volgograd</td><td style = \"text-align: left;\">Волгоградская область</td><td style = \"text-align: left;\">RUS</td><td style = \"text-align: left;\">Stalingrad|Volgogradskaya Oblast</td><td style = \"text-align: left;\">RU.VG</td><td style = \"text-align: left;\">NA</td><td style = \"text-align: left;\">/Users/ayushpatnaik/REPOSITORIES/nightlights/DATA/MAPS/RUSSIA_BOUNDARY/split_states.shp</td><td style = \"text-align: left;\">Oblast</td><td style = \"text-align: left;\">RUS.77_1</td><td style = \"text-align: left;\">Russia</td><td style = \"text-align: left;\">NA</td><td style = \"text-align: left;\">Region</td><td style = \"text-align: left;\">split_states</td></tr><tr><td class = \"rowNumber\" style = \"font-weight: bold; text-align: right;\">96</td><td style = \"text-align: left;\">2D Polygon</td><td style = \"text-align: left;\">Vologda</td><td style = \"text-align: left;\">Вологодская область</td><td style = \"text-align: left;\">RUS</td><td style = \"text-align: left;\">Vologodskaya Oblast</td><td style = \"text-align: left;\">RU.VO</td><td style = \"text-align: left;\">NA</td><td style = \"text-align: left;\">/Users/ayushpatnaik/REPOSITORIES/nightlights/DATA/MAPS/RUSSIA_BOUNDARY/split_states.shp</td><td style = \"text-align: left;\">Oblast</td><td style = \"text-align: left;\">RUS.78_1</td><td style = \"text-align: left;\">Russia</td><td style = \"text-align: left;\">NA</td><td style = \"text-align: left;\">Region</td><td style = \"text-align: left;\">split_states</td></tr><tr><td class = \"rowNumber\" style = \"font-weight: bold; text-align: right;\">97</td><td style = \"text-align: left;\">2D Polygon</td><td style = \"text-align: left;\">Voronezh</td><td style = \"text-align: left;\">Воронежская область</td><td style = \"text-align: left;\">RUS</td><td style = \"text-align: left;\">Voronezhskaya Oblast</td><td style = \"text-align: left;\">RU.VR</td><td style = \"text-align: left;\">NA</td><td style = \"text-align: left;\">/Users/ayushpatnaik/REPOSITORIES/nightlights/DATA/MAPS/RUSSIA_BOUNDARY/split_states.shp</td><td style = \"text-align: left;\">Oblast</td><td style = \"text-align: left;\">RUS.79_1</td><td style = \"text-align: left;\">Russia</td><td style = \"text-align: left;\">NA</td><td style = \"text-align: left;\">Region</td><td style = \"text-align: left;\">split_states</td></tr><tr><td class = \"rowNumber\" style = \"font-weight: bold; text-align: right;\">98</td><td style = \"text-align: left;\">2D MultiPolygon</td><td style = \"text-align: left;\">Yamal-Nenets</td><td style = \"text-align: left;\">Ямало-Ненецкий АОк</td><td style = \"text-align: left;\">RUS</td><td style = \"text-align: left;\">Yamalo-Nenetskiy A. Okrug</td><td style = \"text-align: left;\">RU.YN</td><td style = \"text-align: left;\">NA</td><td style = \"text-align: left;\">/Users/ayushpatnaik/REPOSITORIES/nightlights/DATA/MAPS/RUSSIA_BOUNDARY/split_states.shp</td><td style = \"text-align: left;\">Avtonomnyy Okrug</td><td style = \"text-align: left;\">RUS.80_1</td><td style = \"text-align: left;\">Russia</td><td style = \"text-align: left;\">NA</td><td style = \"text-align: left;\">Autonomous Province</td><td style = \"text-align: left;\">split_states</td></tr><tr><td class = \"rowNumber\" style = \"font-weight: bold; text-align: right;\">99</td><td style = \"text-align: left;\">2D Polygon</td><td style = \"text-align: left;\">Yaroslavl&apos;</td><td style = \"text-align: left;\">Ярославская область</td><td style = \"text-align: left;\">RUS</td><td style = \"text-align: left;\">Yaroslavskaya</td><td style = \"text-align: left;\">RU.YS</td><td style = \"text-align: left;\">NA</td><td style = \"text-align: left;\">/Users/ayushpatnaik/REPOSITORIES/nightlights/DATA/MAPS/RUSSIA_BOUNDARY/split_states.shp</td><td style = \"text-align: left;\">Oblast</td><td style = \"text-align: left;\">RUS.81_1</td><td style = \"text-align: left;\">Russia</td><td style = \"text-align: left;\">NA</td><td style = \"text-align: left;\">Region</td><td style = \"text-align: left;\">split_states</td></tr><tr><td class = \"rowNumber\" style = \"font-weight: bold; text-align: right;\">100</td><td style = \"text-align: left;\">2D Polygon</td><td style = \"text-align: left;\">Yevrey</td><td style = \"text-align: left;\">Eврейская АОб</td><td style = \"text-align: left;\">RUS</td><td style = \"text-align: left;\">Den jødiske autonome oblasten|Ev</td><td style = \"text-align: left;\">RU.YV</td><td style = \"text-align: left;\">NA</td><td style = \"text-align: left;\">/Users/ayushpatnaik/REPOSITORIES/nightlights/DATA/MAPS/RUSSIA_BOUNDARY/split_states.shp</td><td style = \"text-align: left;\">Avtonomnaya Oblast</td><td style = \"text-align: left;\">RUS.82_1</td><td style = \"text-align: left;\">Russia</td><td style = \"text-align: left;\">6701</td><td style = \"text-align: left;\">Autonomous Region</td><td style = \"text-align: left;\">split_states</td></tr><tr><td class = \"rowNumber\" style = \"font-weight: bold; text-align: right;\">101</td><td style = \"text-align: left;\">2D MultiPolygon</td><td style = \"text-align: left;\">Zabaykal&apos;ye</td><td style = \"text-align: left;\">Забайкальский край</td><td style = \"text-align: left;\">RUS</td><td style = \"text-align: left;\">Zabaykalsky</td><td style = \"text-align: left;\">RU.ZB</td><td style = \"text-align: left;\">NA</td><td style = \"text-align: left;\">/Users/ayushpatnaik/REPOSITORIES/nightlights/DATA/MAPS/RUSSIA_BOUNDARY/split_states.shp</td><td style = \"text-align: left;\">Kray</td><td style = \"text-align: left;\">RUS.83_1</td><td style = \"text-align: left;\">Russia</td><td style = \"text-align: left;\">NA</td><td style = \"text-align: left;\">Territory</td><td style = \"text-align: left;\">split_states</td></tr></tbody></table></div>"
            ],
            "text/latex": "\\begin{tabular}{r|cccccc}\n\t& geometry & NAME\\_1 & NL\\_NAME\\_1 & GID\\_0 & VARNAME\\_1 & \\\\\n\t\\hline\n\t& Abstract… & String & String & String & String & \\\\\n\t\\hline\n\t1 & 2D Polygon & Chukot1 & Чукотский АОк & RUS & Chukotka|Chukotskiy Aok & $\\dots$ \\\\\n\t2 & 2D Polygon & Chukot2\\_cross & Чукотский АОк & RUS & Chukotka|Chukotskiy Aok & $\\dots$ \\\\\n\t3 & 2D Polygon & Chukot3 & Чукотский АОк & RUS & Chukotka|Chukotskiy Aok & $\\dots$ \\\\\n\t4 & 2D Polygon & Chukot4 & Чукотский АОк & RUS & Chukotka|Chukotskiy Aok & $\\dots$ \\\\\n\t5 & 2D Polygon & Chukot5\\_cross & Чукотский АОк & RUS & Chukotka|Chukotskiy Aok & $\\dots$ \\\\\n\t6 & 2D Polygon & Krasnoyarsk1 & Красноярский край & RUS & Krasnoyarskiy Kray|Yeniseisk|Yen & $\\dots$ \\\\\n\t7 & 2D Polygon & Krasnoyarsk2 & Красноярский край & RUS & Krasnoyarskiy Kray|Yeniseisk|Yen & $\\dots$ \\\\\n\t8 & 2D MultiPolygon & Krasnoyarsk3 & Красноярский край & RUS & Krasnoyarskiy Kray|Yeniseisk|Yen & $\\dots$ \\\\\n\t9 & 2D Polygon & Krasnoyarsk4 & Красноярский край & RUS & Krasnoyarskiy Kray|Yeniseisk|Yen & $\\dots$ \\\\\n\t10 & 2D Polygon & Krasnoyarsk5 & Красноярский край & RUS & Krasnoyarskiy Kray|Yeniseisk|Yen & $\\dots$ \\\\\n\t11 & 2D Polygon & Krasnoyarsk6 & Красноярский край & RUS & Krasnoyarskiy Kray|Yeniseisk|Yen & $\\dots$ \\\\\n\t12 & 2D Polygon & Krasnoyarsk7 & Красноярский край & RUS & Krasnoyarskiy Kray|Yeniseisk|Yen & $\\dots$ \\\\\n\t13 & 2D Polygon & Sakha1 & Республика Саха & RUS & Republic of Sakha|Yakutia-Sakha| & $\\dots$ \\\\\n\t14 & 2D MultiPolygon & Sakha2 & Республика Саха & RUS & Republic of Sakha|Yakutia-Sakha| & $\\dots$ \\\\\n\t15 & 2D Polygon & Sakha3 & Республика Саха & RUS & Republic of Sakha|Yakutia-Sakha| & $\\dots$ \\\\\n\t16 & 2D Polygon & Sakha4 & Республика Саха & RUS & Republic of Sakha|Yakutia-Sakha| & $\\dots$ \\\\\n\t17 & 2D Polygon & Sakha5 & Республика Саха & RUS & Republic of Sakha|Yakutia-Sakha| & $\\dots$ \\\\\n\t18 & 2D Polygon & Sakha6 & Республика Саха & RUS & Republic of Sakha|Yakutia-Sakha| & $\\dots$ \\\\\n\t19 & 2D Polygon & Sakha7 & Республика Саха & RUS & Republic of Sakha|Yakutia-Sakha| & $\\dots$ \\\\\n\t20 & 2D Polygon & Adygey & Республика Адыгея & RUS & Adygea|Adygeya|Adygheya|Republic & $\\dots$ \\\\\n\t21 & 2D Polygon & Altay & Алтайский край & RUS & Altayskiy Kray & $\\dots$ \\\\\n\t22 & 2D Polygon & Amur & Амурская область & RUS & Amurskaya Oblast & $\\dots$ \\\\\n\t23 & 2D MultiPolygon & Arkhangel'sk & Архангельская область & RUS & Arcangelo|Archangel|Archangelsk| & $\\dots$ \\\\\n\t24 & 2D Polygon & Astrakhan' & Астраханская область & RUS & Astrachan|Astrakhanskaya Oblast & $\\dots$ \\\\\n\t25 & 2D Polygon & Bashkortostan & Республика Башкортостан & RUS & Bashkir|Bashkiriya|Bashkirskaya & $\\dots$ \\\\\n\t26 & 2D Polygon & Belgorod & Белгородская область & RUS & Belgorodskaya Oblast & $\\dots$ \\\\\n\t27 & 2D Polygon & Bryansk & Брянская область & RUS & Bryanskaya Oblast & $\\dots$ \\\\\n\t28 & 2D Polygon & Buryat & Республика Бурятия & RUS & Buryatiya|Buryat-Mongol A.S.S.R. & $\\dots$ \\\\\n\t29 & 2D Polygon & Chechnya & Республика Чечено-Ингушская & RUS & Cecenia|Chechenia|Chechênia|Tche & $\\dots$ \\\\\n\t30 & 2D Polygon & Chelyabinsk & Челябинская область & RUS & Chelyabinskaya Oblast & $\\dots$ \\\\\n\t$\\dots$ & $\\dots$ & $\\dots$ & $\\dots$ & $\\dots$ & $\\dots$ &  \\\\\n\\end{tabular}\n"
          },
          "metadata": {},
          "execution_count": 25
        }
      ]
    },
    {
      "cell_type": "code",
      "source": [
        "function safe_centre_of_mass(slice::AbstractArray, state_name::String)\n",
        "    s = sum(skipmissing(slice))\n",
        "    if ismissing(s) || isnan(s) || s == 0.0f0\n",
        "        return [NaN, NaN]\n",
        "    end\n",
        "    try\n",
        "        return NighttimeLights.centre_of_mass(slice)\n",
        "    catch e\n",
        "        if isa(e, InexactError)\n",
        "            println(\"Warning: CoM calculation failed for '$state_name'. Returning [NaN, NaN].\")\n",
        "            return [NaN, NaN]\n",
        "        else\n",
        "            rethrow(e)\n",
        "        end\n",
        "    end\n",
        "end"
      ],
      "metadata": {
        "id": "a06mEQU2TUrw"
      },
      "execution_count": null,
      "outputs": []
    },
    {
      "cell_type": "code",
      "source": [
        "function process_state(state_row::DataFrameRow)\n",
        "    state_name = state_row.NAME_1\n",
        "    state_geometry = state_row.geometry\n",
        "\n",
        "    radiance, cfobs = readnl(state_geometry, START_DATE, END_DATE;\n",
        "                            rad_path=RAD_PATH,\n",
        "                            cf_path=CF_PATH) #,resample_factor = 2\n",
        "\n",
        "    radiance = clean_complete(radiance, cfobs; bgthreshold=4)\n",
        "    cfobs = nothing # Release memory\n",
        "\n",
        "    radiance = Raster(Float32.(radiance); missingval=missing)\n",
        "    radiance[radiance .> 100.0f0] .= 0.0f0 # Cap high radiance values\n",
        "    radiance = mask(radiance; with=state_geometry)\n",
        "\n",
        "    dates = Date.(dims(radiance, Ti).val)\n",
        "    num_timesteps = length(dates)\n",
        "\n",
        "    if num_timesteps == 0\n",
        "        println(\"Warning: No valid data for '$state_name' after cleaning.\")\n",
        "        return DataFrame()\n",
        "    end\n",
        "\n",
        "    agg_radiance = [sum(skipmissing(view(radiance, Ti(i)))) for i in 1:num_timesteps]\n",
        "    com = [safe_centre_of_mass(view(radiance, Ti(i)), state_name) for i in 1:num_timesteps]\n",
        "\n",
        "    return DataFrame(; dates, aggregate_radiance=agg_radiance, com, state_name)\n",
        "end"
      ],
      "metadata": {
        "id": "ihjD35bGTZrx"
      },
      "execution_count": null,
      "outputs": []
    },
    {
      "cell_type": "code",
      "source": [
        "all_states_df = DataFrame()\n",
        "\n",
        "for i in start_index:nrow(shp)\n",
        "    state_row = shp[i, :]\n",
        "    state_name = state_row.NAME_1\n",
        "\n",
        "    if state_name in IGNORED_STATES\n",
        "        println(\"Skipping state ($i/$(nrow(shp))): $state_name\")\n",
        "        continue\n",
        "    end\n",
        "\n",
        "    println(\"--- Processing state $i/$(nrow(shp)): $state_name ---\")\n",
        "\n",
        "    try\n",
        "        state_df = process_state(state_row)\n",
        "        if !isempty(state_df)\n",
        "            append!(all_states_df, state_df; cols=:union)\n",
        "        end\n",
        "    catch e\n",
        "        println(\"ERROR: Failed to process state '$state_name'. Skipping. Error: $e\")\n",
        "    end\n",
        "    GC.gc()\n",
        "end\n",
        "\n",
        "println(\"--- Processing Complete ---\")\n",
        "\n",
        "# Final aggregation\n",
        "if !isempty(all_states_df)\n",
        "    println(\"Aggregating results...\")\n",
        "    grouped = groupby(all_states_df, :dates)\n",
        "    aggregate_df = DataFrames.combine(grouped, :aggregate_radiance => sum => :AggregateRadiance)\n",
        "    sort!(aggregate_df, :dates)\n",
        "\n",
        "    # only write once if you want\n",
        "    # CSV.write(AGGREGATE_FILE, aggregate_df)\n",
        "    println(\"Aggregation complete, DataFrame in memory.\")\n",
        "else\n",
        "    println(\"No data processed, skipping aggregation.\")\n",
        "end\n",
        "\n",
        "println(\"Script finished.\")\n"
      ],
      "metadata": {
        "id": "u6rQeQLjTwAK"
      },
      "execution_count": null,
      "outputs": []
    }
  ]
}